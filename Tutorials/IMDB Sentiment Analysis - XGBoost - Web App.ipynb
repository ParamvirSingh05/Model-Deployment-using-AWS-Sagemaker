{
 "cells": [
  {
   "cell_type": "markdown",
   "metadata": {},
   "source": [
    "# Sentiment Analysis Web App\n",
    "\n",
    "_Deep Learning Nanodegree Program | Deployment_\n",
    "\n",
    "---\n",
    "\n",
    "In this notebook we will use Amazon's SageMaker service to construct a random tree model to predict the sentiment of a movie review. In addition, we will deploy this model to an endpoint and construct a very simple web app which will interact with our model's deployed endpoint.\n",
    "\n",
    "## General Outline\n",
    "\n",
    "Typically, when using a notebook instance with SageMaker, you will proceed through the following steps. Of course, not every step will need to be done with each project. Also, there is quite a lot of room for variation in many of the steps, as you will see throughout these lessons.\n",
    "\n",
    "1. Download or otherwise retrieve the data.\n",
    "2. Process / Prepare the data.\n",
    "3. Upload the processed data to S3.\n",
    "4. Train a chosen model.\n",
    "5. Test the trained model (typically using a batch transform job).\n",
    "6. Deploy the trained model.\n",
    "7. Use the deployed model.\n",
    "\n",
    "In this notebook we will progress through each of the steps above. We will also see that the final step, using the deployed model, can be quite challenging."
   ]
  },
  {
   "cell_type": "code",
   "execution_count": 1,
   "metadata": {},
   "outputs": [
    {
     "name": "stdout",
     "output_type": "stream",
     "text": [
      "Collecting sagemaker==1.72.0\n",
      "  Downloading sagemaker-1.72.0.tar.gz (297 kB)\n",
      "\u001b[K     |████████████████████████████████| 297 kB 5.3 MB/s eta 0:00:01\n",
      "\u001b[?25hRequirement already satisfied: boto3>=1.14.12 in /home/ec2-user/anaconda3/envs/python3/lib/python3.6/site-packages (from sagemaker==1.72.0) (1.17.99)\n",
      "Requirement already satisfied: numpy>=1.9.0 in /home/ec2-user/anaconda3/envs/python3/lib/python3.6/site-packages (from sagemaker==1.72.0) (1.19.5)\n",
      "Requirement already satisfied: protobuf>=3.1 in /home/ec2-user/anaconda3/envs/python3/lib/python3.6/site-packages (from sagemaker==1.72.0) (3.15.2)\n",
      "Requirement already satisfied: scipy>=0.19.0 in /home/ec2-user/anaconda3/envs/python3/lib/python3.6/site-packages (from sagemaker==1.72.0) (1.5.3)\n",
      "Requirement already satisfied: protobuf3-to-dict>=0.1.5 in /home/ec2-user/anaconda3/envs/python3/lib/python3.6/site-packages (from sagemaker==1.72.0) (0.1.5)\n",
      "Collecting smdebug-rulesconfig==0.1.4\n",
      "  Downloading smdebug_rulesconfig-0.1.4-py2.py3-none-any.whl (10 kB)\n",
      "Requirement already satisfied: importlib-metadata>=1.4.0 in /home/ec2-user/anaconda3/envs/python3/lib/python3.6/site-packages (from sagemaker==1.72.0) (3.7.0)\n",
      "Requirement already satisfied: packaging>=20.0 in /home/ec2-user/anaconda3/envs/python3/lib/python3.6/site-packages (from sagemaker==1.72.0) (20.9)\n",
      "Requirement already satisfied: s3transfer<0.5.0,>=0.4.0 in /home/ec2-user/anaconda3/envs/python3/lib/python3.6/site-packages (from boto3>=1.14.12->sagemaker==1.72.0) (0.4.2)\n",
      "Requirement already satisfied: botocore<1.21.0,>=1.20.99 in /home/ec2-user/anaconda3/envs/python3/lib/python3.6/site-packages (from boto3>=1.14.12->sagemaker==1.72.0) (1.20.99)\n",
      "Requirement already satisfied: jmespath<1.0.0,>=0.7.1 in /home/ec2-user/anaconda3/envs/python3/lib/python3.6/site-packages (from boto3>=1.14.12->sagemaker==1.72.0) (0.10.0)\n",
      "Requirement already satisfied: python-dateutil<3.0.0,>=2.1 in /home/ec2-user/anaconda3/envs/python3/lib/python3.6/site-packages (from botocore<1.21.0,>=1.20.99->boto3>=1.14.12->sagemaker==1.72.0) (2.8.1)\n",
      "Requirement already satisfied: urllib3<1.27,>=1.25.4 in /home/ec2-user/anaconda3/envs/python3/lib/python3.6/site-packages (from botocore<1.21.0,>=1.20.99->boto3>=1.14.12->sagemaker==1.72.0) (1.26.5)\n",
      "Requirement already satisfied: zipp>=0.5 in /home/ec2-user/anaconda3/envs/python3/lib/python3.6/site-packages (from importlib-metadata>=1.4.0->sagemaker==1.72.0) (3.4.0)\n",
      "Requirement already satisfied: typing-extensions>=3.6.4 in /home/ec2-user/anaconda3/envs/python3/lib/python3.6/site-packages (from importlib-metadata>=1.4.0->sagemaker==1.72.0) (3.7.4.3)\n",
      "Requirement already satisfied: pyparsing>=2.0.2 in /home/ec2-user/anaconda3/envs/python3/lib/python3.6/site-packages (from packaging>=20.0->sagemaker==1.72.0) (2.4.7)\n",
      "Requirement already satisfied: six>=1.9 in /home/ec2-user/anaconda3/envs/python3/lib/python3.6/site-packages (from protobuf>=3.1->sagemaker==1.72.0) (1.15.0)\n",
      "Building wheels for collected packages: sagemaker\n",
      "  Building wheel for sagemaker (setup.py) ... \u001b[?25ldone\n",
      "\u001b[?25h  Created wheel for sagemaker: filename=sagemaker-1.72.0-py2.py3-none-any.whl size=386358 sha256=36e54488d691421a9ec868c2a2cd751c8a39cab90d5890a3090e42f93f259543\n",
      "  Stored in directory: /home/ec2-user/.cache/pip/wheels/c3/58/70/85faf4437568bfaa4c419937569ba1fe54d44c5db42406bbd7\n",
      "Successfully built sagemaker\n",
      "Installing collected packages: smdebug-rulesconfig, sagemaker\n",
      "  Attempting uninstall: smdebug-rulesconfig\n",
      "    Found existing installation: smdebug-rulesconfig 1.0.1\n",
      "    Uninstalling smdebug-rulesconfig-1.0.1:\n",
      "      Successfully uninstalled smdebug-rulesconfig-1.0.1\n",
      "  Attempting uninstall: sagemaker\n",
      "    Found existing installation: sagemaker 2.45.0\n",
      "    Uninstalling sagemaker-2.45.0:\n",
      "      Successfully uninstalled sagemaker-2.45.0\n",
      "Successfully installed sagemaker-1.72.0 smdebug-rulesconfig-0.1.4\n",
      "\u001b[33mWARNING: You are using pip version 21.1.2; however, version 21.1.3 is available.\n",
      "You should consider upgrading via the '/home/ec2-user/anaconda3/envs/python3/bin/python -m pip install --upgrade pip' command.\u001b[0m\n"
     ]
    }
   ],
   "source": [
    "# Make sure that we use SageMaker 1.x\n",
    "!pip install sagemaker==1.72.0"
   ]
  },
  {
   "cell_type": "markdown",
   "metadata": {},
   "source": [
    "## Step 1: Downloading the data\n",
    "\n",
    "The dataset we are going to use is very popular among researchers in Natural Language Processing, usually referred to as the [IMDb dataset](http://ai.stanford.edu/~amaas/data/sentiment/). It consists of movie reviews from the website [imdb.com](http://www.imdb.com/), each labeled as either '**pos**itive', if the reviewer enjoyed the film, or '**neg**ative' otherwise.\n",
    "\n",
    "> Maas, Andrew L., et al. [Learning Word Vectors for Sentiment Analysis](http://ai.stanford.edu/~amaas/data/sentiment/). In _Proceedings of the 49th Annual Meeting of the Association for Computational Linguistics: Human Language Technologies_. Association for Computational Linguistics, 2011.\n",
    "\n",
    "We begin by using some Jupyter Notebook magic to download and extract the dataset."
   ]
  },
  {
   "cell_type": "code",
   "execution_count": 2,
   "metadata": {},
   "outputs": [
    {
     "name": "stdout",
     "output_type": "stream",
     "text": [
      "mkdir: cannot create directory ‘../data’: File exists\n",
      "--2021-07-12 14:58:33--  http://ai.stanford.edu/~amaas/data/sentiment/aclImdb_v1.tar.gz\n",
      "Resolving ai.stanford.edu (ai.stanford.edu)... 171.64.68.10\n",
      "Connecting to ai.stanford.edu (ai.stanford.edu)|171.64.68.10|:80... connected.\n",
      "HTTP request sent, awaiting response... 200 OK\n",
      "Length: 84125825 (80M) [application/x-gzip]\n",
      "Saving to: ‘../data/aclImdb_v1.tar.gz’\n",
      "\n",
      "../data/aclImdb_v1. 100%[===================>]  80.23M  23.7MB/s    in 5.3s    \n",
      "\n",
      "2021-07-12 14:58:39 (15.0 MB/s) - ‘../data/aclImdb_v1.tar.gz’ saved [84125825/84125825]\n",
      "\n"
     ]
    }
   ],
   "source": [
    "%mkdir ../data\n",
    "!wget -O ../data/aclImdb_v1.tar.gz http://ai.stanford.edu/~amaas/data/sentiment/aclImdb_v1.tar.gz\n",
    "!tar -zxf ../data/aclImdb_v1.tar.gz -C ../data"
   ]
  },
  {
   "cell_type": "markdown",
   "metadata": {},
   "source": [
    "## Step 2: Preparing and Processing the data\n",
    "\n",
    "The data we have downloaded is split into various files, each of which contains a single review. It will be much easier going forward if we combine these individual files into two large files, one for training and one for testing."
   ]
  },
  {
   "cell_type": "code",
   "execution_count": 4,
   "metadata": {},
   "outputs": [],
   "source": [
    "import os\n",
    "import glob\n",
    "\n",
    "def read_imdb_data(data_dir='../data/aclImdb'):\n",
    "    data = {}\n",
    "    labels = {}\n",
    "    \n",
    "    for data_type in ['train', 'test']:\n",
    "        data[data_type] = {}\n",
    "        labels[data_type] = {}\n",
    "        \n",
    "        for sentiment in ['pos', 'neg']:\n",
    "            data[data_type][sentiment] = []\n",
    "            labels[data_type][sentiment] = []\n",
    "            \n",
    "            path = os.path.join(data_dir, data_type, sentiment, '*.txt')\n",
    "            files = glob.glob(path)\n",
    "            \n",
    "            for f in files:\n",
    "                with open(f) as review:\n",
    "                    data[data_type][sentiment].append(review.read())\n",
    "                    # Here we represent a positive review by '1' and a negative review by '0'\n",
    "                    labels[data_type][sentiment].append(1 if sentiment == 'pos' else 0)\n",
    "                    \n",
    "            assert len(data[data_type][sentiment]) == len(labels[data_type][sentiment]), \\\n",
    "                    \"{}/{} data size does not match labels size\".format(data_type, sentiment)\n",
    "                \n",
    "    return data, labels"
   ]
  },
  {
   "cell_type": "code",
   "execution_count": 5,
   "metadata": {},
   "outputs": [
    {
     "name": "stdout",
     "output_type": "stream",
     "text": [
      "IMDB reviews: train = 12500 pos / 12500 neg, test = 12500 pos / 12500 neg\n"
     ]
    }
   ],
   "source": [
    "data, labels = read_imdb_data()\n",
    "print(\"IMDB reviews: train = {} pos / {} neg, test = {} pos / {} neg\".format(\n",
    "            len(data['train']['pos']), len(data['train']['neg']),\n",
    "            len(data['test']['pos']), len(data['test']['neg'])))"
   ]
  },
  {
   "cell_type": "code",
   "execution_count": 6,
   "metadata": {},
   "outputs": [],
   "source": [
    "from sklearn.utils import shuffle\n",
    "\n",
    "def prepare_imdb_data(data, labels):\n",
    "    \"\"\"Prepare training and test sets from IMDb movie reviews.\"\"\"\n",
    "    \n",
    "    #Combine positive and negative reviews and labels\n",
    "    data_train = data['train']['pos'] + data['train']['neg']\n",
    "    data_test = data['test']['pos'] + data['test']['neg']\n",
    "    labels_train = labels['train']['pos'] + labels['train']['neg']\n",
    "    labels_test = labels['test']['pos'] + labels['test']['neg']\n",
    "    \n",
    "    #Shuffle reviews and corresponding labels within training and test sets\n",
    "    data_train, labels_train = shuffle(data_train, labels_train)\n",
    "    data_test, labels_test = shuffle(data_test, labels_test)\n",
    "    \n",
    "    # Return a unified training data, test data, training labels, test labets\n",
    "    return data_train, data_test, labels_train, labels_test"
   ]
  },
  {
   "cell_type": "code",
   "execution_count": 7,
   "metadata": {},
   "outputs": [
    {
     "name": "stdout",
     "output_type": "stream",
     "text": [
      "IMDb reviews (combined): train = 25000, test = 25000\n"
     ]
    }
   ],
   "source": [
    "train_X, test_X, train_y, test_y = prepare_imdb_data(data, labels)\n",
    "print(\"IMDb reviews (combined): train = {}, test = {}\".format(len(train_X), len(test_X)))"
   ]
  },
  {
   "cell_type": "code",
   "execution_count": 8,
   "metadata": {},
   "outputs": [
    {
     "data": {
      "text/plain": [
       "\"Having seen Charley Boorman in Long Way Round with Ewan McGregor, I was very interested to see how Charley would be in his own show. I thought Charley came across as a lovely guy who is very grounded and down to earth. Its nice to see that celebrities struggle with their weight and fitness, it just show's their human too! I don't know a lot about bikes, but this show gripped me right from the start. The preparation and organising for this event seems immense. The event itself seems very dangerous and I'm fascinated to see why Charley and everyone else is doing it and how far he gets. I love the pace of the show and the fast upbeat music. I can't believe he broke his collar bone, I really hope its not the end, I cant wait to see the next episode...\""
      ]
     },
     "execution_count": 8,
     "metadata": {},
     "output_type": "execute_result"
    }
   ],
   "source": [
    "train_X[100]"
   ]
  },
  {
   "cell_type": "markdown",
   "metadata": {},
   "source": [
    "## Processing the data\n",
    "\n",
    "Now that we have our training and testing datasets merged and ready to use, we need to start processing the raw data into something that will be useable by our machine learning algorithm. To begin with, we remove any html formatting and any non-alpha numeric characters that may appear in the reviews. We will do this in a very simplistic way using Python's regular expression module. We will discuss the reason for this rather simplistic pre-processing later on."
   ]
  },
  {
   "cell_type": "code",
   "execution_count": 9,
   "metadata": {},
   "outputs": [],
   "source": [
    "import re\n",
    "\n",
    "REPLACE_NO_SPACE = re.compile(\"(\\.)|(\\;)|(\\:)|(\\!)|(\\')|(\\?)|(\\,)|(\\\")|(\\()|(\\))|(\\[)|(\\])\")\n",
    "REPLACE_WITH_SPACE = re.compile(\"(<br\\s*/><br\\s*/>)|(\\-)|(\\/)\")\n",
    "\n",
    "def review_to_words(review):\n",
    "    words = REPLACE_NO_SPACE.sub(\"\", review.lower())\n",
    "    words = REPLACE_WITH_SPACE.sub(\" \", words)\n",
    "    return words"
   ]
  },
  {
   "cell_type": "code",
   "execution_count": 10,
   "metadata": {},
   "outputs": [
    {
     "data": {
      "text/plain": [
       "'having seen charley boorman in long way round with ewan mcgregor i was very interested to see how charley would be in his own show i thought charley came across as a lovely guy who is very grounded and down to earth its nice to see that celebrities struggle with their weight and fitness it just shows their human too i dont know a lot about bikes but this show gripped me right from the start the preparation and organising for this event seems immense the event itself seems very dangerous and im fascinated to see why charley and everyone else is doing it and how far he gets i love the pace of the show and the fast upbeat music i cant believe he broke his collar bone i really hope its not the end i cant wait to see the next episode'"
      ]
     },
     "execution_count": 10,
     "metadata": {},
     "output_type": "execute_result"
    }
   ],
   "source": [
    "review_to_words(train_X[100])"
   ]
  },
  {
   "cell_type": "code",
   "execution_count": 11,
   "metadata": {},
   "outputs": [],
   "source": [
    "import pickle\n",
    "\n",
    "cache_dir = os.path.join(\"../cache\", \"sentiment_web_app\")  # where to store cache files\n",
    "os.makedirs(cache_dir, exist_ok=True)  # ensure cache directory exists\n",
    "\n",
    "def preprocess_data(data_train, data_test, labels_train, labels_test,\n",
    "                    cache_dir=cache_dir, cache_file=\"preprocessed_data.pkl\"):\n",
    "    \"\"\"Convert each review to words; read from cache if available.\"\"\"\n",
    "\n",
    "    # If cache_file is not None, try to read from it first\n",
    "    cache_data = None\n",
    "    if cache_file is not None:\n",
    "        try:\n",
    "            with open(os.path.join(cache_dir, cache_file), \"rb\") as f:\n",
    "                cache_data = pickle.load(f)\n",
    "            print(\"Read preprocessed data from cache file:\", cache_file)\n",
    "        except:\n",
    "            pass  # unable to read from cache, but that's okay\n",
    "    \n",
    "    # If cache is missing, then do the heavy lifting\n",
    "    if cache_data is None:\n",
    "        # Preprocess training and test data to obtain words for each review\n",
    "        #words_train = list(map(review_to_words, data_train))\n",
    "        #words_test = list(map(review_to_words, data_test))\n",
    "        words_train = [review_to_words(review) for review in data_train]\n",
    "        words_test = [review_to_words(review) for review in data_test]\n",
    "        \n",
    "        # Write to cache file for future runs\n",
    "        if cache_file is not None:\n",
    "            cache_data = dict(words_train=words_train, words_test=words_test,\n",
    "                              labels_train=labels_train, labels_test=labels_test)\n",
    "            with open(os.path.join(cache_dir, cache_file), \"wb\") as f:\n",
    "                pickle.dump(cache_data, f)\n",
    "            print(\"Wrote preprocessed data to cache file:\", cache_file)\n",
    "    else:\n",
    "        # Unpack data loaded from cache file\n",
    "        words_train, words_test, labels_train, labels_test = (cache_data['words_train'],\n",
    "                cache_data['words_test'], cache_data['labels_train'], cache_data['labels_test'])\n",
    "    \n",
    "    return words_train, words_test, labels_train, labels_test"
   ]
  },
  {
   "cell_type": "code",
   "execution_count": 12,
   "metadata": {},
   "outputs": [
    {
     "name": "stdout",
     "output_type": "stream",
     "text": [
      "Read preprocessed data from cache file: preprocessed_data.pkl\n"
     ]
    }
   ],
   "source": [
    "# Preprocess data\n",
    "train_X, test_X, train_y, test_y = preprocess_data(train_X, test_X, train_y, test_y)"
   ]
  },
  {
   "cell_type": "markdown",
   "metadata": {},
   "source": [
    "### Extract Bag-of-Words features\n",
    "\n",
    "For the model we will be implementing, rather than using the reviews directly, we are going to transform each review into a Bag-of-Words feature representation. Keep in mind that 'in the wild' we will only have access to the training set so our transformer can only use the training set to construct a representation."
   ]
  },
  {
   "cell_type": "code",
   "execution_count": 13,
   "metadata": {},
   "outputs": [],
   "source": [
    "import numpy as np\n",
    "from sklearn.feature_extraction.text import CountVectorizer\n",
    "\n",
    "# sklearn.externals.joblib is deprecated in 0.21 and will be removed in 0.23. \n",
    "# from sklearn.externals import joblib\n",
    "\n",
    "# Import joblib package directly\n",
    "import joblib\n",
    "# joblib is an enhanced version of pickle that is more efficient for storing NumPy arrays\n",
    "\n",
    "def extract_BoW_features(words_train, words_test, vocabulary_size=5000,\n",
    "                         cache_dir=cache_dir, cache_file=\"bow_features.pkl\"):\n",
    "    \"\"\"Extract Bag-of-Words for a given set of documents, already preprocessed into words.\"\"\"\n",
    "    \n",
    "    # If cache_file is not None, try to read from it first\n",
    "    cache_data = None\n",
    "    if cache_file is not None:\n",
    "        try:\n",
    "            with open(os.path.join(cache_dir, cache_file), \"rb\") as f:\n",
    "                cache_data = joblib.load(f)\n",
    "            print(\"Read features from cache file:\", cache_file)\n",
    "        except:\n",
    "            pass  # unable to read from cache, but that's okay\n",
    "    \n",
    "    # If cache is missing, then do the heavy lifting\n",
    "    if cache_data is None:\n",
    "        # Fit a vectorizer to training documents and use it to transform them\n",
    "        # NOTE: Training documents have already been preprocessed and tokenized into words;\n",
    "        #       pass in dummy functions to skip those steps, e.g. preprocessor=lambda x: x\n",
    "        vectorizer = CountVectorizer(max_features=vocabulary_size)\n",
    "        features_train = vectorizer.fit_transform(words_train).toarray()\n",
    "\n",
    "        # Apply the same vectorizer to transform the test documents (ignore unknown words)\n",
    "        features_test = vectorizer.transform(words_test).toarray()\n",
    "        \n",
    "        # NOTE: Remember to convert the features using .toarray() for a compact representation\n",
    "        \n",
    "        # Write to cache file for future runs (store vocabulary as well)\n",
    "        if cache_file is not None:\n",
    "            vocabulary = vectorizer.vocabulary_\n",
    "            cache_data = dict(features_train=features_train, features_test=features_test,\n",
    "                             vocabulary=vocabulary)\n",
    "            with open(os.path.join(cache_dir, cache_file), \"wb\") as f:\n",
    "                joblib.dump(cache_data, f)\n",
    "            print(\"Wrote features to cache file:\", cache_file)\n",
    "    else:\n",
    "        # Unpack data loaded from cache file\n",
    "        features_train, features_test, vocabulary = (cache_data['features_train'],\n",
    "                cache_data['features_test'], cache_data['vocabulary'])\n",
    "    \n",
    "    # Return both the extracted features as well as the vocabulary\n",
    "    return features_train, features_test, vocabulary"
   ]
  },
  {
   "cell_type": "code",
   "execution_count": 14,
   "metadata": {},
   "outputs": [
    {
     "name": "stdout",
     "output_type": "stream",
     "text": [
      "Read features from cache file: bow_features.pkl\n"
     ]
    }
   ],
   "source": [
    "# Extract Bag of Words features for both training and test datasets\n",
    "train_X, test_X, vocabulary = extract_BoW_features(train_X, test_X)"
   ]
  },
  {
   "cell_type": "code",
   "execution_count": 15,
   "metadata": {},
   "outputs": [
    {
     "data": {
      "text/plain": [
       "5000"
      ]
     },
     "execution_count": 15,
     "metadata": {},
     "output_type": "execute_result"
    }
   ],
   "source": [
    "len(train_X[100])"
   ]
  },
  {
   "cell_type": "markdown",
   "metadata": {},
   "source": [
    "## Step 3: Upload data to S3\n",
    "\n",
    "Now that we have created the feature representation of our training (and testing) data, it is time to start setting up and using the XGBoost classifier provided by SageMaker.\n",
    "\n",
    "### Writing the datasets\n",
    "\n",
    "The XGBoost classifier that we will be using requires the dataset to be written to a file and stored using Amazon S3. To do this, we will start by splitting the training dataset into two parts, the data we will train the model with and a validation set. Then, we will write those datasets to a file locally and then upload the files to S3. In addition, we will write the test set to a file and upload that file to S3. This is so that we can use SageMakers Batch Transform functionality to test our model once we've fit it."
   ]
  },
  {
   "cell_type": "code",
   "execution_count": 16,
   "metadata": {},
   "outputs": [],
   "source": [
    "import pandas as pd\n",
    "\n",
    "# Earlier we shuffled the training dataset so to make things simple we can just assign\n",
    "# the first 10 000 reviews to the validation set and use the remaining reviews for training.\n",
    "val_X = pd.DataFrame(train_X[:10000])\n",
    "train_X = pd.DataFrame(train_X[10000:])\n",
    "\n",
    "val_y = pd.DataFrame(train_y[:10000])\n",
    "train_y = pd.DataFrame(train_y[10000:])"
   ]
  },
  {
   "cell_type": "markdown",
   "metadata": {},
   "source": [
    "The documentation for the XGBoost algorithm in SageMaker requires that the training and validation datasets should contain no headers or index and that the label should occur first for each sample.\n",
    "\n",
    "For more information about this and other algorithms, the SageMaker developer documentation can be found on __[Amazon's website.](https://docs.aws.amazon.com/sagemaker/latest/dg/)__"
   ]
  },
  {
   "cell_type": "code",
   "execution_count": 17,
   "metadata": {},
   "outputs": [],
   "source": [
    "# First we make sure that the local directory in which we'd like to store the training and validation csv files exists.\n",
    "data_dir = '../data/sentiment_web_app'\n",
    "if not os.path.exists(data_dir):\n",
    "    os.makedirs(data_dir)"
   ]
  },
  {
   "cell_type": "code",
   "execution_count": 18,
   "metadata": {},
   "outputs": [],
   "source": [
    "pd.DataFrame(test_X).to_csv(os.path.join(data_dir, 'test.csv'), header=False, index=False)\n",
    "\n",
    "pd.concat([val_y, val_X], axis=1).to_csv(os.path.join(data_dir, 'validation.csv'), header=False, index=False)\n",
    "pd.concat([train_y, train_X], axis=1).to_csv(os.path.join(data_dir, 'train.csv'), header=False, index=False)"
   ]
  },
  {
   "cell_type": "code",
   "execution_count": 19,
   "metadata": {},
   "outputs": [],
   "source": [
    "# To save a bit of memory we can set text_X, train_X, val_X, train_y and val_y to None.\n",
    "\n",
    "test_X = train_X = val_X = train_y = val_y = None"
   ]
  },
  {
   "cell_type": "markdown",
   "metadata": {},
   "source": [
    "### Uploading Training / Validation files to S3\n",
    "\n",
    "Amazon's S3 service allows us to store files that can be accessed by both the built-in training models such as the XGBoost model we will be using as well as custom models such as the one we will see a little later.\n",
    "\n",
    "For this and most other tasks we will be doing using SageMaker, there are two methods we could use. The first is to use the low level functionality of SageMaker which requires knowing each of the objects involved in the SageMaker environment. The second is to use the high level functionality in which certain choices have been made on the user's behalf. The low level approach benefits from allowing the user a great deal of flexibility while the high level approach makes development much quicker. For our purposes we will opt to use the high level approach although using the low-level approach is certainly an option.\n",
    "\n",
    "Recall the method `upload_data()` which is a member of the object representing our current SageMaker session. What this method does is upload the data to the default bucket (which is created if it does not exist) into the path described by the key_prefix variable. To see this for yourself, once you have uploaded the data files, go to the S3 console and look to see where the files have been uploaded.\n",
    "\n",
    "For additional resources, see the __[SageMaker API documentation](http://sagemaker.readthedocs.io/en/latest/)__ and in addition the __[SageMaker Developer Guide.](https://docs.aws.amazon.com/sagemaker/latest/dg/)__"
   ]
  },
  {
   "cell_type": "code",
   "execution_count": 20,
   "metadata": {},
   "outputs": [],
   "source": [
    "import sagemaker\n",
    "\n",
    "session = sagemaker.Session() # Store the current SageMaker session\n",
    "\n",
    "# S3 prefix (which folder will we use)\n",
    "prefix = 'sentiment-web-app'\n",
    "\n",
    "test_location = session.upload_data(os.path.join(data_dir, 'test.csv'), key_prefix=prefix)\n",
    "val_location = session.upload_data(os.path.join(data_dir, 'validation.csv'), key_prefix=prefix)\n",
    "train_location = session.upload_data(os.path.join(data_dir, 'train.csv'), key_prefix=prefix)"
   ]
  },
  {
   "cell_type": "markdown",
   "metadata": {},
   "source": [
    "## Step 4: Creating the XGBoost model\n",
    "\n",
    "Now that the data has been uploaded it is time to create the XGBoost model. To begin with, we need to do some setup. At this point it is worth discussing what a model is in SageMaker. It is easiest to think of a model of comprising three different objects in the SageMaker ecosystem, which interact with one another.\n",
    "\n",
    "- Model Artifacts\n",
    "- Training Code (Container)\n",
    "- Inference Code (Container)\n",
    "\n",
    "The Model Artifacts are what you might think of as the actual model itself. For example, if you were building a neural network, the model artifacts would be the weights of the various layers. In our case, for an XGBoost model, the artifacts are the actual trees that are created during training.\n",
    "\n",
    "The other two objects, the training code and the inference code are then used to manipulate the training artifacts. More precisely, the training code uses the training data that is provided and creates the model artifacts, while the inference code uses the model artifacts to make predictions on new data.\n",
    "\n",
    "The way that SageMaker runs the training and inference code is by making use of Docker containers. For now, think of a container as being a way of packaging code up so that dependencies aren't an issue."
   ]
  },
  {
   "cell_type": "code",
   "execution_count": 21,
   "metadata": {},
   "outputs": [],
   "source": [
    "from sagemaker import get_execution_role\n",
    "\n",
    "# Our current execution role is required when creating the model as the training\n",
    "# and inference code will need to access the model artifacts.\n",
    "role = get_execution_role()"
   ]
  },
  {
   "cell_type": "code",
   "execution_count": 22,
   "metadata": {},
   "outputs": [
    {
     "name": "stderr",
     "output_type": "stream",
     "text": [
      "'get_image_uri' method will be deprecated in favor of 'ImageURIProvider' class in SageMaker Python SDK v2.\n",
      "There is a more up to date SageMaker XGBoost image. To use the newer image, please set 'repo_version'='1.0-1'. For example:\n",
      "\tget_image_uri(region, 'xgboost', '1.0-1').\n"
     ]
    }
   ],
   "source": [
    "# We need to retrieve the location of the container which is provided by Amazon for using XGBoost.\n",
    "# As a matter of convenience, the training and inference code both use the same container.\n",
    "from sagemaker.amazon.amazon_estimator import get_image_uri\n",
    "\n",
    "container = get_image_uri(session.boto_region_name, 'xgboost')"
   ]
  },
  {
   "cell_type": "code",
   "execution_count": 23,
   "metadata": {},
   "outputs": [
    {
     "name": "stderr",
     "output_type": "stream",
     "text": [
      "Parameter image_name will be renamed to image_uri in SageMaker Python SDK v2.\n"
     ]
    }
   ],
   "source": [
    "# First we create a SageMaker estimator object for our model.\n",
    "xgb = sagemaker.estimator.Estimator(container, # The location of the container we wish to use\n",
    "                                    role,                                    # What is our current IAM Role\n",
    "                                    train_instance_count=1,                  # How many compute instances\n",
    "                                    train_instance_type='ml.m4.xlarge',      # What kind of compute instances\n",
    "                                    output_path='s3://{}/{}/output'.format(session.default_bucket(), prefix),\n",
    "                                    sagemaker_session=session)\n",
    "\n",
    "# And then set the algorithm specific parameters.\n",
    "xgb.set_hyperparameters(max_depth=5,\n",
    "                        eta=0.2,\n",
    "                        gamma=4,\n",
    "                        min_child_weight=6,\n",
    "                        subsample=0.8,\n",
    "                        silent=0,\n",
    "                        objective='binary:logistic',\n",
    "                        early_stopping_rounds=10,\n",
    "                        num_round=500)"
   ]
  },
  {
   "cell_type": "markdown",
   "metadata": {},
   "source": [
    "### Fit the XGBoost model\n",
    "\n",
    "Now that our model has been set up we simply need to attach the training and validation datasets and then ask SageMaker to set up the computation."
   ]
  },
  {
   "cell_type": "code",
   "execution_count": 24,
   "metadata": {},
   "outputs": [
    {
     "name": "stderr",
     "output_type": "stream",
     "text": [
      "'s3_input' class will be renamed to 'TrainingInput' in SageMaker Python SDK v2.\n",
      "'s3_input' class will be renamed to 'TrainingInput' in SageMaker Python SDK v2.\n"
     ]
    }
   ],
   "source": [
    "s3_input_train = sagemaker.s3_input(s3_data=train_location, content_type='csv')\n",
    "s3_input_validation = sagemaker.s3_input(s3_data=val_location, content_type='csv')"
   ]
  },
  {
   "cell_type": "code",
   "execution_count": 25,
   "metadata": {},
   "outputs": [
    {
     "name": "stdout",
     "output_type": "stream",
     "text": [
      "2021-07-12 15:00:23 Starting - Starting the training job...\n",
      "2021-07-12 15:00:25 Starting - Launching requested ML instances...\n",
      "2021-07-12 15:01:14 Starting - Preparing the instances for training.........\n",
      "2021-07-12 15:02:43 Downloading - Downloading input data...\n",
      "2021-07-12 15:03:14 Training - Downloading the training image..\u001b[34mArguments: train\u001b[0m\n",
      "\u001b[34m[2021-07-12:15:03:36:INFO] Running standalone xgboost training.\u001b[0m\n",
      "\u001b[34m[2021-07-12:15:03:36:INFO] File size need to be processed in the node: 238.5mb. Available memory size in the node: 8395.27mb\u001b[0m\n",
      "\u001b[34m[2021-07-12:15:03:36:INFO] Determined delimiter of CSV input is ','\u001b[0m\n",
      "\u001b[34m[15:03:36] S3DistributionType set as FullyReplicated\u001b[0m\n",
      "\u001b[34m[15:03:38] 15000x5000 matrix with 75000000 entries loaded from /opt/ml/input/data/train?format=csv&label_column=0&delimiter=,\u001b[0m\n",
      "\u001b[34m[2021-07-12:15:03:38:INFO] Determined delimiter of CSV input is ','\u001b[0m\n",
      "\u001b[34m[15:03:38] S3DistributionType set as FullyReplicated\u001b[0m\n",
      "\u001b[34m[15:03:39] 10000x5000 matrix with 50000000 entries loaded from /opt/ml/input/data/validation?format=csv&label_column=0&delimiter=,\u001b[0m\n",
      "\n",
      "2021-07-12 15:03:35 Training - Training image download completed. Training in progress.\u001b[34m[15:03:43] src/tree/updater_prune.cc:74: tree pruning end, 1 roots, 46 extra nodes, 2 pruned nodes, max_depth=5\u001b[0m\n",
      "\u001b[34m[0]#011train-error:0.3076#011validation-error:0.304\u001b[0m\n",
      "\u001b[34mMultiple eval metrics have been passed: 'validation-error' will be used for early stopping.\n",
      "\u001b[0m\n",
      "\u001b[34mWill train until validation-error hasn't improved in 10 rounds.\u001b[0m\n",
      "\u001b[34m[15:03:44] src/tree/updater_prune.cc:74: tree pruning end, 1 roots, 40 extra nodes, 6 pruned nodes, max_depth=5\u001b[0m\n",
      "\u001b[34m[1]#011train-error:0.291933#011validation-error:0.2897\u001b[0m\n",
      "\u001b[34m[15:03:46] src/tree/updater_prune.cc:74: tree pruning end, 1 roots, 44 extra nodes, 8 pruned nodes, max_depth=5\u001b[0m\n",
      "\u001b[34m[2]#011train-error:0.281667#011validation-error:0.2801\u001b[0m\n",
      "\u001b[34m[15:03:47] src/tree/updater_prune.cc:74: tree pruning end, 1 roots, 38 extra nodes, 8 pruned nodes, max_depth=5\u001b[0m\n",
      "\u001b[34m[3]#011train-error:0.277867#011validation-error:0.2757\u001b[0m\n",
      "\u001b[34m[15:03:49] src/tree/updater_prune.cc:74: tree pruning end, 1 roots, 46 extra nodes, 2 pruned nodes, max_depth=5\u001b[0m\n",
      "\u001b[34m[4]#011train-error:0.269#011validation-error:0.2712\u001b[0m\n",
      "\u001b[34m[15:03:50] src/tree/updater_prune.cc:74: tree pruning end, 1 roots, 34 extra nodes, 2 pruned nodes, max_depth=5\u001b[0m\n",
      "\u001b[34m[5]#011train-error:0.257667#011validation-error:0.2631\u001b[0m\n",
      "\u001b[34m[15:03:51] src/tree/updater_prune.cc:74: tree pruning end, 1 roots, 36 extra nodes, 8 pruned nodes, max_depth=5\u001b[0m\n",
      "\u001b[34m[6]#011train-error:0.254#011validation-error:0.2576\u001b[0m\n",
      "\u001b[34m[15:03:53] src/tree/updater_prune.cc:74: tree pruning end, 1 roots, 38 extra nodes, 6 pruned nodes, max_depth=5\u001b[0m\n",
      "\u001b[34m[7]#011train-error:0.245067#011validation-error:0.25\u001b[0m\n",
      "\u001b[34m[15:03:54] src/tree/updater_prune.cc:74: tree pruning end, 1 roots, 28 extra nodes, 6 pruned nodes, max_depth=5\u001b[0m\n",
      "\u001b[34m[8]#011train-error:0.2396#011validation-error:0.2448\u001b[0m\n",
      "\u001b[34m[15:03:56] src/tree/updater_prune.cc:74: tree pruning end, 1 roots, 44 extra nodes, 2 pruned nodes, max_depth=5\u001b[0m\n",
      "\u001b[34m[9]#011train-error:0.232733#011validation-error:0.2381\u001b[0m\n",
      "\u001b[34m[15:03:57] src/tree/updater_prune.cc:74: tree pruning end, 1 roots, 30 extra nodes, 6 pruned nodes, max_depth=5\u001b[0m\n",
      "\u001b[34m[10]#011train-error:0.2284#011validation-error:0.2318\u001b[0m\n",
      "\u001b[34m[15:03:58] src/tree/updater_prune.cc:74: tree pruning end, 1 roots, 36 extra nodes, 6 pruned nodes, max_depth=5\u001b[0m\n",
      "\u001b[34m[11]#011train-error:0.221733#011validation-error:0.2261\u001b[0m\n",
      "\u001b[34m[15:04:00] src/tree/updater_prune.cc:74: tree pruning end, 1 roots, 46 extra nodes, 0 pruned nodes, max_depth=5\u001b[0m\n",
      "\u001b[34m[12]#011train-error:0.215667#011validation-error:0.2232\u001b[0m\n",
      "\u001b[34m[15:04:01] src/tree/updater_prune.cc:74: tree pruning end, 1 roots, 22 extra nodes, 8 pruned nodes, max_depth=5\u001b[0m\n",
      "\u001b[34m[13]#011train-error:0.211467#011validation-error:0.2211\u001b[0m\n",
      "\u001b[34m[15:04:03] src/tree/updater_prune.cc:74: tree pruning end, 1 roots, 28 extra nodes, 8 pruned nodes, max_depth=5\u001b[0m\n",
      "\u001b[34m[14]#011train-error:0.2078#011validation-error:0.2144\u001b[0m\n",
      "\u001b[34m[15:04:04] src/tree/updater_prune.cc:74: tree pruning end, 1 roots, 24 extra nodes, 12 pruned nodes, max_depth=5\u001b[0m\n",
      "\u001b[34m[15]#011train-error:0.203867#011validation-error:0.2116\u001b[0m\n",
      "\u001b[34m[15:04:06] src/tree/updater_prune.cc:74: tree pruning end, 1 roots, 18 extra nodes, 12 pruned nodes, max_depth=5\u001b[0m\n",
      "\u001b[34m[16]#011train-error:0.199933#011validation-error:0.2101\u001b[0m\n",
      "\u001b[34m[15:04:08] src/tree/updater_prune.cc:74: tree pruning end, 1 roots, 28 extra nodes, 8 pruned nodes, max_depth=5\u001b[0m\n",
      "\u001b[34m[17]#011train-error:0.197267#011validation-error:0.2095\u001b[0m\n",
      "\u001b[34m[15:04:09] src/tree/updater_prune.cc:74: tree pruning end, 1 roots, 36 extra nodes, 8 pruned nodes, max_depth=5\u001b[0m\n",
      "\u001b[34m[18]#011train-error:0.1942#011validation-error:0.2058\u001b[0m\n",
      "\u001b[34m[15:04:10] src/tree/updater_prune.cc:74: tree pruning end, 1 roots, 40 extra nodes, 4 pruned nodes, max_depth=5\u001b[0m\n",
      "\u001b[34m[19]#011train-error:0.190733#011validation-error:0.2066\u001b[0m\n",
      "\u001b[34m[15:04:12] src/tree/updater_prune.cc:74: tree pruning end, 1 roots, 22 extra nodes, 12 pruned nodes, max_depth=5\u001b[0m\n",
      "\u001b[34m[20]#011train-error:0.187733#011validation-error:0.2054\u001b[0m\n",
      "\u001b[34m[15:04:13] src/tree/updater_prune.cc:74: tree pruning end, 1 roots, 24 extra nodes, 8 pruned nodes, max_depth=5\u001b[0m\n",
      "\u001b[34m[21]#011train-error:0.185333#011validation-error:0.2054\u001b[0m\n",
      "\u001b[34m[15:04:14] src/tree/updater_prune.cc:74: tree pruning end, 1 roots, 40 extra nodes, 6 pruned nodes, max_depth=5\u001b[0m\n",
      "\u001b[34m[22]#011train-error:0.180667#011validation-error:0.2024\u001b[0m\n",
      "\u001b[34m[15:04:16] src/tree/updater_prune.cc:74: tree pruning end, 1 roots, 30 extra nodes, 8 pruned nodes, max_depth=5\u001b[0m\n",
      "\u001b[34m[23]#011train-error:0.177067#011validation-error:0.2004\u001b[0m\n",
      "\u001b[34m[15:04:17] src/tree/updater_prune.cc:74: tree pruning end, 1 roots, 36 extra nodes, 4 pruned nodes, max_depth=5\u001b[0m\n",
      "\u001b[34m[24]#011train-error:0.173933#011validation-error:0.1997\u001b[0m\n",
      "\u001b[34m[15:04:19] src/tree/updater_prune.cc:74: tree pruning end, 1 roots, 30 extra nodes, 4 pruned nodes, max_depth=5\u001b[0m\n",
      "\u001b[34m[25]#011train-error:0.173533#011validation-error:0.1974\u001b[0m\n",
      "\u001b[34m[15:04:20] src/tree/updater_prune.cc:74: tree pruning end, 1 roots, 32 extra nodes, 8 pruned nodes, max_depth=5\u001b[0m\n",
      "\u001b[34m[26]#011train-error:0.169533#011validation-error:0.1966\u001b[0m\n",
      "\u001b[34m[15:04:21] src/tree/updater_prune.cc:74: tree pruning end, 1 roots, 22 extra nodes, 10 pruned nodes, max_depth=5\u001b[0m\n",
      "\u001b[34m[27]#011train-error:0.168533#011validation-error:0.1932\u001b[0m\n",
      "\u001b[34m[15:04:23] src/tree/updater_prune.cc:74: tree pruning end, 1 roots, 28 extra nodes, 6 pruned nodes, max_depth=5\u001b[0m\n",
      "\u001b[34m[28]#011train-error:0.166467#011validation-error:0.1927\u001b[0m\n",
      "\u001b[34m[15:04:24] src/tree/updater_prune.cc:74: tree pruning end, 1 roots, 24 extra nodes, 6 pruned nodes, max_depth=5\u001b[0m\n",
      "\u001b[34m[29]#011train-error:0.164#011validation-error:0.1904\u001b[0m\n",
      "\u001b[34m[15:04:25] src/tree/updater_prune.cc:74: tree pruning end, 1 roots, 28 extra nodes, 6 pruned nodes, max_depth=5\u001b[0m\n",
      "\u001b[34m[30]#011train-error:0.162133#011validation-error:0.1894\u001b[0m\n",
      "\u001b[34m[15:04:27] src/tree/updater_prune.cc:74: tree pruning end, 1 roots, 20 extra nodes, 12 pruned nodes, max_depth=5\u001b[0m\n",
      "\u001b[34m[31]#011train-error:0.160733#011validation-error:0.1885\u001b[0m\n",
      "\u001b[34m[15:04:28] src/tree/updater_prune.cc:74: tree pruning end, 1 roots, 26 extra nodes, 4 pruned nodes, max_depth=5\u001b[0m\n",
      "\u001b[34m[32]#011train-error:0.159067#011validation-error:0.188\u001b[0m\n",
      "\u001b[34m[15:04:29] src/tree/updater_prune.cc:74: tree pruning end, 1 roots, 22 extra nodes, 10 pruned nodes, max_depth=5\u001b[0m\n",
      "\u001b[34m[33]#011train-error:0.158467#011validation-error:0.1881\u001b[0m\n",
      "\u001b[34m[15:04:31] src/tree/updater_prune.cc:74: tree pruning end, 1 roots, 22 extra nodes, 8 pruned nodes, max_depth=5\u001b[0m\n",
      "\u001b[34m[34]#011train-error:0.1576#011validation-error:0.1876\u001b[0m\n",
      "\u001b[34m[15:04:32] src/tree/updater_prune.cc:74: tree pruning end, 1 roots, 26 extra nodes, 12 pruned nodes, max_depth=5\u001b[0m\n",
      "\u001b[34m[35]#011train-error:0.156733#011validation-error:0.1879\u001b[0m\n",
      "\u001b[34m[15:04:33] src/tree/updater_prune.cc:74: tree pruning end, 1 roots, 20 extra nodes, 14 pruned nodes, max_depth=5\u001b[0m\n",
      "\u001b[34m[36]#011train-error:0.155867#011validation-error:0.1862\u001b[0m\n",
      "\u001b[34m[15:04:35] src/tree/updater_prune.cc:74: tree pruning end, 1 roots, 28 extra nodes, 10 pruned nodes, max_depth=5\u001b[0m\n",
      "\u001b[34m[37]#011train-error:0.1544#011validation-error:0.1857\u001b[0m\n",
      "\u001b[34m[15:04:36] src/tree/updater_prune.cc:74: tree pruning end, 1 roots, 20 extra nodes, 8 pruned nodes, max_depth=5\u001b[0m\n",
      "\u001b[34m[38]#011train-error:0.153467#011validation-error:0.185\u001b[0m\n",
      "\u001b[34m[15:04:38] src/tree/updater_prune.cc:74: tree pruning end, 1 roots, 26 extra nodes, 4 pruned nodes, max_depth=5\u001b[0m\n",
      "\u001b[34m[39]#011train-error:0.1526#011validation-error:0.1829\u001b[0m\n",
      "\u001b[34m[15:04:39] src/tree/updater_prune.cc:74: tree pruning end, 1 roots, 16 extra nodes, 8 pruned nodes, max_depth=5\u001b[0m\n",
      "\u001b[34m[40]#011train-error:0.152267#011validation-error:0.1819\u001b[0m\n",
      "\u001b[34m[15:04:40] src/tree/updater_prune.cc:74: tree pruning end, 1 roots, 18 extra nodes, 6 pruned nodes, max_depth=5\u001b[0m\n",
      "\u001b[34m[41]#011train-error:0.151933#011validation-error:0.1804\u001b[0m\n",
      "\u001b[34m[15:04:42] src/tree/updater_prune.cc:74: tree pruning end, 1 roots, 20 extra nodes, 6 pruned nodes, max_depth=5\u001b[0m\n",
      "\u001b[34m[42]#011train-error:0.1504#011validation-error:0.1804\u001b[0m\n",
      "\u001b[34m[15:04:43] src/tree/updater_prune.cc:74: tree pruning end, 1 roots, 22 extra nodes, 6 pruned nodes, max_depth=5\u001b[0m\n",
      "\u001b[34m[43]#011train-error:0.149533#011validation-error:0.1785\u001b[0m\n",
      "\u001b[34m[15:04:44] src/tree/updater_prune.cc:74: tree pruning end, 1 roots, 16 extra nodes, 10 pruned nodes, max_depth=5\u001b[0m\n",
      "\u001b[34m[44]#011train-error:0.148067#011validation-error:0.1767\u001b[0m\n",
      "\u001b[34m[15:04:46] src/tree/updater_prune.cc:74: tree pruning end, 1 roots, 20 extra nodes, 8 pruned nodes, max_depth=5\u001b[0m\n",
      "\u001b[34m[45]#011train-error:0.147733#011validation-error:0.1755\u001b[0m\n",
      "\u001b[34m[15:04:47] src/tree/updater_prune.cc:74: tree pruning end, 1 roots, 28 extra nodes, 6 pruned nodes, max_depth=5\u001b[0m\n",
      "\u001b[34m[46]#011train-error:0.146333#011validation-error:0.1759\u001b[0m\n",
      "\u001b[34m[15:04:49] src/tree/updater_prune.cc:74: tree pruning end, 1 roots, 24 extra nodes, 2 pruned nodes, max_depth=5\u001b[0m\n",
      "\u001b[34m[47]#011train-error:0.145733#011validation-error:0.1748\u001b[0m\n",
      "\u001b[34m[15:04:50] src/tree/updater_prune.cc:74: tree pruning end, 1 roots, 20 extra nodes, 6 pruned nodes, max_depth=5\u001b[0m\n",
      "\u001b[34m[48]#011train-error:0.1446#011validation-error:0.1737\u001b[0m\n",
      "\u001b[34m[15:04:51] src/tree/updater_prune.cc:74: tree pruning end, 1 roots, 32 extra nodes, 8 pruned nodes, max_depth=5\u001b[0m\n",
      "\u001b[34m[49]#011train-error:0.142733#011validation-error:0.1728\u001b[0m\n",
      "\u001b[34m[15:04:53] src/tree/updater_prune.cc:74: tree pruning end, 1 roots, 22 extra nodes, 6 pruned nodes, max_depth=5\u001b[0m\n",
      "\u001b[34m[50]#011train-error:0.142667#011validation-error:0.1713\u001b[0m\n",
      "\u001b[34m[15:04:54] src/tree/updater_prune.cc:74: tree pruning end, 1 roots, 20 extra nodes, 10 pruned nodes, max_depth=5\u001b[0m\n",
      "\u001b[34m[51]#011train-error:0.140133#011validation-error:0.1695\u001b[0m\n",
      "\u001b[34m[15:04:55] src/tree/updater_prune.cc:74: tree pruning end, 1 roots, 24 extra nodes, 12 pruned nodes, max_depth=5\u001b[0m\n",
      "\u001b[34m[52]#011train-error:0.139267#011validation-error:0.1684\u001b[0m\n",
      "\u001b[34m[15:04:57] src/tree/updater_prune.cc:74: tree pruning end, 1 roots, 24 extra nodes, 6 pruned nodes, max_depth=5\u001b[0m\n",
      "\u001b[34m[53]#011train-error:0.138333#011validation-error:0.1682\u001b[0m\n",
      "\u001b[34m[15:04:58] src/tree/updater_prune.cc:74: tree pruning end, 1 roots, 28 extra nodes, 2 pruned nodes, max_depth=5\u001b[0m\n",
      "\u001b[34m[54]#011train-error:0.137267#011validation-error:0.1679\u001b[0m\n",
      "\u001b[34m[15:04:59] src/tree/updater_prune.cc:74: tree pruning end, 1 roots, 26 extra nodes, 4 pruned nodes, max_depth=5\u001b[0m\n",
      "\u001b[34m[55]#011train-error:0.137#011validation-error:0.1677\u001b[0m\n",
      "\u001b[34m[15:05:01] src/tree/updater_prune.cc:74: tree pruning end, 1 roots, 26 extra nodes, 4 pruned nodes, max_depth=5\u001b[0m\n",
      "\u001b[34m[56]#011train-error:0.135933#011validation-error:0.1679\u001b[0m\n",
      "\u001b[34m[15:05:02] src/tree/updater_prune.cc:74: tree pruning end, 1 roots, 18 extra nodes, 6 pruned nodes, max_depth=5\u001b[0m\n",
      "\u001b[34m[57]#011train-error:0.134733#011validation-error:0.1656\u001b[0m\n",
      "\u001b[34m[15:05:04] src/tree/updater_prune.cc:74: tree pruning end, 1 roots, 16 extra nodes, 10 pruned nodes, max_depth=5\u001b[0m\n",
      "\u001b[34m[58]#011train-error:0.134267#011validation-error:0.1653\u001b[0m\n",
      "\u001b[34m[15:05:05] src/tree/updater_prune.cc:74: tree pruning end, 1 roots, 18 extra nodes, 4 pruned nodes, max_depth=5\u001b[0m\n",
      "\u001b[34m[59]#011train-error:0.133933#011validation-error:0.1654\u001b[0m\n",
      "\u001b[34m[15:05:07] src/tree/updater_prune.cc:74: tree pruning end, 1 roots, 20 extra nodes, 6 pruned nodes, max_depth=5\u001b[0m\n",
      "\u001b[34m[60]#011train-error:0.132867#011validation-error:0.1645\u001b[0m\n",
      "\u001b[34m[15:05:09] src/tree/updater_prune.cc:74: tree pruning end, 1 roots, 20 extra nodes, 6 pruned nodes, max_depth=5\u001b[0m\n",
      "\u001b[34m[61]#011train-error:0.1326#011validation-error:0.1643\u001b[0m\n",
      "\u001b[34m[15:05:10] src/tree/updater_prune.cc:74: tree pruning end, 1 roots, 32 extra nodes, 16 pruned nodes, max_depth=5\u001b[0m\n",
      "\u001b[34m[62]#011train-error:0.131733#011validation-error:0.165\u001b[0m\n",
      "\u001b[34m[15:05:11] src/tree/updater_prune.cc:74: tree pruning end, 1 roots, 20 extra nodes, 6 pruned nodes, max_depth=5\u001b[0m\n",
      "\u001b[34m[63]#011train-error:0.130333#011validation-error:0.1646\u001b[0m\n",
      "\u001b[34m[15:05:13] src/tree/updater_prune.cc:74: tree pruning end, 1 roots, 24 extra nodes, 10 pruned nodes, max_depth=5\u001b[0m\n",
      "\u001b[34m[64]#011train-error:0.129467#011validation-error:0.1628\u001b[0m\n",
      "\u001b[34m[15:05:14] src/tree/updater_prune.cc:74: tree pruning end, 1 roots, 16 extra nodes, 4 pruned nodes, max_depth=5\u001b[0m\n",
      "\u001b[34m[65]#011train-error:0.128333#011validation-error:0.1628\u001b[0m\n",
      "\u001b[34m[15:05:15] src/tree/updater_prune.cc:74: tree pruning end, 1 roots, 24 extra nodes, 14 pruned nodes, max_depth=5\u001b[0m\n",
      "\u001b[34m[66]#011train-error:0.128267#011validation-error:0.1623\u001b[0m\n",
      "\u001b[34m[15:05:17] src/tree/updater_prune.cc:74: tree pruning end, 1 roots, 26 extra nodes, 10 pruned nodes, max_depth=5\u001b[0m\n",
      "\u001b[34m[67]#011train-error:0.126333#011validation-error:0.162\u001b[0m\n",
      "\u001b[34m[15:05:18] src/tree/updater_prune.cc:74: tree pruning end, 1 roots, 28 extra nodes, 10 pruned nodes, max_depth=5\u001b[0m\n",
      "\u001b[34m[68]#011train-error:0.126133#011validation-error:0.1615\u001b[0m\n",
      "\u001b[34m[15:05:19] src/tree/updater_prune.cc:74: tree pruning end, 1 roots, 18 extra nodes, 6 pruned nodes, max_depth=5\u001b[0m\n",
      "\u001b[34m[69]#011train-error:0.125333#011validation-error:0.1604\u001b[0m\n",
      "\u001b[34m[15:05:21] src/tree/updater_prune.cc:74: tree pruning end, 1 roots, 18 extra nodes, 2 pruned nodes, max_depth=5\u001b[0m\n",
      "\u001b[34m[70]#011train-error:0.124867#011validation-error:0.1595\u001b[0m\n",
      "\u001b[34m[15:05:22] src/tree/updater_prune.cc:74: tree pruning end, 1 roots, 16 extra nodes, 12 pruned nodes, max_depth=5\u001b[0m\n",
      "\u001b[34m[71]#011train-error:0.123933#011validation-error:0.159\u001b[0m\n",
      "\u001b[34m[15:05:23] src/tree/updater_prune.cc:74: tree pruning end, 1 roots, 24 extra nodes, 6 pruned nodes, max_depth=5\u001b[0m\n",
      "\u001b[34m[72]#011train-error:0.122933#011validation-error:0.1585\u001b[0m\n",
      "\u001b[34m[15:05:25] src/tree/updater_prune.cc:74: tree pruning end, 1 roots, 14 extra nodes, 10 pruned nodes, max_depth=5\u001b[0m\n",
      "\u001b[34m[73]#011train-error:0.122267#011validation-error:0.1583\u001b[0m\n",
      "\u001b[34m[15:05:26] src/tree/updater_prune.cc:74: tree pruning end, 1 roots, 14 extra nodes, 8 pruned nodes, max_depth=5\u001b[0m\n",
      "\u001b[34m[74]#011train-error:0.121867#011validation-error:0.1581\u001b[0m\n",
      "\u001b[34m[15:05:28] src/tree/updater_prune.cc:74: tree pruning end, 1 roots, 14 extra nodes, 14 pruned nodes, max_depth=5\u001b[0m\n",
      "\u001b[34m[75]#011train-error:0.120867#011validation-error:0.1581\u001b[0m\n",
      "\u001b[34m[15:05:29] src/tree/updater_prune.cc:74: tree pruning end, 1 roots, 34 extra nodes, 10 pruned nodes, max_depth=5\u001b[0m\n",
      "\u001b[34m[76]#011train-error:0.1182#011validation-error:0.1568\u001b[0m\n",
      "\u001b[34m[15:05:30] src/tree/updater_prune.cc:74: tree pruning end, 1 roots, 14 extra nodes, 18 pruned nodes, max_depth=5\u001b[0m\n",
      "\u001b[34m[77]#011train-error:0.117867#011validation-error:0.1557\u001b[0m\n",
      "\u001b[34m[15:05:32] src/tree/updater_prune.cc:74: tree pruning end, 1 roots, 20 extra nodes, 4 pruned nodes, max_depth=5\u001b[0m\n",
      "\u001b[34m[78]#011train-error:0.117933#011validation-error:0.1553\u001b[0m\n",
      "\u001b[34m[15:05:33] src/tree/updater_prune.cc:74: tree pruning end, 1 roots, 18 extra nodes, 10 pruned nodes, max_depth=5\u001b[0m\n",
      "\u001b[34m[79]#011train-error:0.117067#011validation-error:0.1554\u001b[0m\n",
      "\u001b[34m[15:05:34] src/tree/updater_prune.cc:74: tree pruning end, 1 roots, 12 extra nodes, 12 pruned nodes, max_depth=5\u001b[0m\n",
      "\u001b[34m[80]#011train-error:0.116933#011validation-error:0.1549\u001b[0m\n",
      "\u001b[34m[15:05:36] src/tree/updater_prune.cc:74: tree pruning end, 1 roots, 22 extra nodes, 12 pruned nodes, max_depth=5\u001b[0m\n",
      "\u001b[34m[81]#011train-error:0.115667#011validation-error:0.1538\u001b[0m\n",
      "\u001b[34m[15:05:37] src/tree/updater_prune.cc:74: tree pruning end, 1 roots, 10 extra nodes, 6 pruned nodes, max_depth=5\u001b[0m\n",
      "\u001b[34m[82]#011train-error:0.115467#011validation-error:0.1533\u001b[0m\n",
      "\u001b[34m[15:05:39] src/tree/updater_prune.cc:74: tree pruning end, 1 roots, 14 extra nodes, 12 pruned nodes, max_depth=5\u001b[0m\n",
      "\u001b[34m[83]#011train-error:0.114533#011validation-error:0.1521\u001b[0m\n",
      "\u001b[34m[15:05:40] src/tree/updater_prune.cc:74: tree pruning end, 1 roots, 16 extra nodes, 8 pruned nodes, max_depth=5\u001b[0m\n",
      "\u001b[34m[84]#011train-error:0.114067#011validation-error:0.1515\u001b[0m\n",
      "\u001b[34m[15:05:41] src/tree/updater_prune.cc:74: tree pruning end, 1 roots, 22 extra nodes, 6 pruned nodes, max_depth=5\u001b[0m\n",
      "\u001b[34m[85]#011train-error:0.113533#011validation-error:0.1526\u001b[0m\n",
      "\u001b[34m[15:05:43] src/tree/updater_prune.cc:74: tree pruning end, 1 roots, 12 extra nodes, 8 pruned nodes, max_depth=5\u001b[0m\n",
      "\u001b[34m[86]#011train-error:0.113067#011validation-error:0.1526\u001b[0m\n",
      "\u001b[34m[15:05:44] src/tree/updater_prune.cc:74: tree pruning end, 1 roots, 18 extra nodes, 18 pruned nodes, max_depth=5\u001b[0m\n",
      "\u001b[34m[87]#011train-error:0.1128#011validation-error:0.1538\u001b[0m\n",
      "\u001b[34m[15:05:45] src/tree/updater_prune.cc:74: tree pruning end, 1 roots, 30 extra nodes, 10 pruned nodes, max_depth=5\u001b[0m\n",
      "\u001b[34m[88]#011train-error:0.1112#011validation-error:0.1522\u001b[0m\n",
      "\u001b[34m[15:05:47] src/tree/updater_prune.cc:74: tree pruning end, 1 roots, 20 extra nodes, 8 pruned nodes, max_depth=5\u001b[0m\n",
      "\u001b[34m[89]#011train-error:0.110133#011validation-error:0.1515\u001b[0m\n",
      "\u001b[34m[15:05:48] src/tree/updater_prune.cc:74: tree pruning end, 1 roots, 30 extra nodes, 10 pruned nodes, max_depth=5\u001b[0m\n",
      "\u001b[34m[90]#011train-error:0.108533#011validation-error:0.1515\u001b[0m\n",
      "\u001b[34m[15:05:49] src/tree/updater_prune.cc:74: tree pruning end, 1 roots, 22 extra nodes, 2 pruned nodes, max_depth=5\u001b[0m\n",
      "\u001b[34m[91]#011train-error:0.108067#011validation-error:0.1512\u001b[0m\n",
      "\u001b[34m[15:05:51] src/tree/updater_prune.cc:74: tree pruning end, 1 roots, 18 extra nodes, 8 pruned nodes, max_depth=5\u001b[0m\n",
      "\u001b[34m[92]#011train-error:0.108#011validation-error:0.1508\u001b[0m\n",
      "\u001b[34m[15:05:52] src/tree/updater_prune.cc:74: tree pruning end, 1 roots, 14 extra nodes, 4 pruned nodes, max_depth=5\u001b[0m\n",
      "\u001b[34m[93]#011train-error:0.1078#011validation-error:0.1504\u001b[0m\n",
      "\u001b[34m[15:05:53] src/tree/updater_prune.cc:74: tree pruning end, 1 roots, 20 extra nodes, 4 pruned nodes, max_depth=5\u001b[0m\n",
      "\u001b[34m[94]#011train-error:0.1066#011validation-error:0.149\u001b[0m\n",
      "\u001b[34m[15:05:55] src/tree/updater_prune.cc:74: tree pruning end, 1 roots, 18 extra nodes, 6 pruned nodes, max_depth=5\u001b[0m\n",
      "\u001b[34m[95]#011train-error:0.1062#011validation-error:0.1491\u001b[0m\n",
      "\u001b[34m[15:05:56] src/tree/updater_prune.cc:74: tree pruning end, 1 roots, 10 extra nodes, 8 pruned nodes, max_depth=5\u001b[0m\n",
      "\u001b[34m[96]#011train-error:0.105933#011validation-error:0.1488\u001b[0m\n",
      "\u001b[34m[15:05:58] src/tree/updater_prune.cc:74: tree pruning end, 1 roots, 16 extra nodes, 4 pruned nodes, max_depth=5\u001b[0m\n",
      "\u001b[34m[97]#011train-error:0.1058#011validation-error:0.1486\u001b[0m\n",
      "\u001b[34m[15:05:59] src/tree/updater_prune.cc:74: tree pruning end, 1 roots, 14 extra nodes, 8 pruned nodes, max_depth=5\u001b[0m\n",
      "\u001b[34m[98]#011train-error:0.105933#011validation-error:0.148\u001b[0m\n",
      "\u001b[34m[15:06:00] src/tree/updater_prune.cc:74: tree pruning end, 1 roots, 14 extra nodes, 18 pruned nodes, max_depth=5\u001b[0m\n",
      "\u001b[34m[99]#011train-error:0.1054#011validation-error:0.1481\u001b[0m\n",
      "\u001b[34m[15:06:02] src/tree/updater_prune.cc:74: tree pruning end, 1 roots, 16 extra nodes, 14 pruned nodes, max_depth=5\u001b[0m\n",
      "\u001b[34m[100]#011train-error:0.104667#011validation-error:0.1474\u001b[0m\n",
      "\u001b[34m[15:06:03] src/tree/updater_prune.cc:74: tree pruning end, 1 roots, 20 extra nodes, 12 pruned nodes, max_depth=5\u001b[0m\n",
      "\u001b[34m[101]#011train-error:0.104133#011validation-error:0.1478\u001b[0m\n",
      "\u001b[34m[15:06:05] src/tree/updater_prune.cc:74: tree pruning end, 1 roots, 16 extra nodes, 6 pruned nodes, max_depth=5\u001b[0m\n",
      "\u001b[34m[102]#011train-error:0.1038#011validation-error:0.1468\u001b[0m\n",
      "\u001b[34m[15:06:06] src/tree/updater_prune.cc:74: tree pruning end, 1 roots, 12 extra nodes, 16 pruned nodes, max_depth=5\u001b[0m\n",
      "\u001b[34m[103]#011train-error:0.103267#011validation-error:0.1466\u001b[0m\n",
      "\u001b[34m[15:06:08] src/tree/updater_prune.cc:74: tree pruning end, 1 roots, 16 extra nodes, 12 pruned nodes, max_depth=5\u001b[0m\n",
      "\u001b[34m[104]#011train-error:0.103467#011validation-error:0.1474\u001b[0m\n",
      "\u001b[34m[15:06:09] src/tree/updater_prune.cc:74: tree pruning end, 1 roots, 16 extra nodes, 2 pruned nodes, max_depth=5\u001b[0m\n",
      "\u001b[34m[105]#011train-error:0.102267#011validation-error:0.1471\u001b[0m\n",
      "\u001b[34m[15:06:11] src/tree/updater_prune.cc:74: tree pruning end, 1 roots, 18 extra nodes, 10 pruned nodes, max_depth=5\u001b[0m\n",
      "\u001b[34m[106]#011train-error:0.101867#011validation-error:0.1471\u001b[0m\n",
      "\u001b[34m[15:06:12] src/tree/updater_prune.cc:74: tree pruning end, 1 roots, 16 extra nodes, 6 pruned nodes, max_depth=5\u001b[0m\n",
      "\u001b[34m[107]#011train-error:0.101667#011validation-error:0.1463\u001b[0m\n",
      "\u001b[34m[15:06:14] src/tree/updater_prune.cc:74: tree pruning end, 1 roots, 18 extra nodes, 6 pruned nodes, max_depth=5\u001b[0m\n",
      "\u001b[34m[108]#011train-error:0.101533#011validation-error:0.1464\u001b[0m\n",
      "\u001b[34m[15:06:15] src/tree/updater_prune.cc:74: tree pruning end, 1 roots, 22 extra nodes, 14 pruned nodes, max_depth=5\u001b[0m\n",
      "\u001b[34m[109]#011train-error:0.100933#011validation-error:0.1464\u001b[0m\n",
      "\u001b[34m[15:06:16] src/tree/updater_prune.cc:74: tree pruning end, 1 roots, 14 extra nodes, 12 pruned nodes, max_depth=5\u001b[0m\n",
      "\u001b[34m[110]#011train-error:0.100267#011validation-error:0.1454\u001b[0m\n",
      "\u001b[34m[15:06:18] src/tree/updater_prune.cc:74: tree pruning end, 1 roots, 18 extra nodes, 6 pruned nodes, max_depth=5\u001b[0m\n",
      "\u001b[34m[111]#011train-error:0.099133#011validation-error:0.1452\u001b[0m\n",
      "\u001b[34m[15:06:19] src/tree/updater_prune.cc:74: tree pruning end, 1 roots, 22 extra nodes, 12 pruned nodes, max_depth=5\u001b[0m\n",
      "\u001b[34m[112]#011train-error:0.098733#011validation-error:0.145\u001b[0m\n",
      "\u001b[34m[15:06:21] src/tree/updater_prune.cc:74: tree pruning end, 1 roots, 12 extra nodes, 4 pruned nodes, max_depth=5\u001b[0m\n",
      "\u001b[34m[113]#011train-error:0.098933#011validation-error:0.1449\u001b[0m\n",
      "\u001b[34m[15:06:22] src/tree/updater_prune.cc:74: tree pruning end, 1 roots, 20 extra nodes, 6 pruned nodes, max_depth=5\u001b[0m\n",
      "\u001b[34m[114]#011train-error:0.098#011validation-error:0.1447\u001b[0m\n",
      "\u001b[34m[15:06:23] src/tree/updater_prune.cc:74: tree pruning end, 1 roots, 16 extra nodes, 8 pruned nodes, max_depth=5\u001b[0m\n",
      "\u001b[34m[115]#011train-error:0.097733#011validation-error:0.1444\u001b[0m\n",
      "\u001b[34m[15:06:25] src/tree/updater_prune.cc:74: tree pruning end, 1 roots, 16 extra nodes, 10 pruned nodes, max_depth=5\u001b[0m\n",
      "\u001b[34m[116]#011train-error:0.096867#011validation-error:0.1439\u001b[0m\n",
      "\u001b[34m[15:06:26] src/tree/updater_prune.cc:74: tree pruning end, 1 roots, 16 extra nodes, 12 pruned nodes, max_depth=5\u001b[0m\n",
      "\u001b[34m[117]#011train-error:0.096067#011validation-error:0.1434\u001b[0m\n",
      "\u001b[34m[15:06:27] src/tree/updater_prune.cc:74: tree pruning end, 1 roots, 16 extra nodes, 14 pruned nodes, max_depth=5\u001b[0m\n",
      "\u001b[34m[118]#011train-error:0.096267#011validation-error:0.1443\u001b[0m\n",
      "\u001b[34m[15:06:29] src/tree/updater_prune.cc:74: tree pruning end, 1 roots, 20 extra nodes, 14 pruned nodes, max_depth=5\u001b[0m\n",
      "\u001b[34m[119]#011train-error:0.095733#011validation-error:0.1439\u001b[0m\n",
      "\u001b[34m[15:06:30] src/tree/updater_prune.cc:74: tree pruning end, 1 roots, 20 extra nodes, 20 pruned nodes, max_depth=5\u001b[0m\n",
      "\u001b[34m[120]#011train-error:0.095867#011validation-error:0.1436\u001b[0m\n",
      "\u001b[34m[15:06:32] src/tree/updater_prune.cc:74: tree pruning end, 1 roots, 12 extra nodes, 14 pruned nodes, max_depth=5\u001b[0m\n",
      "\u001b[34m[121]#011train-error:0.095733#011validation-error:0.1436\u001b[0m\n",
      "\u001b[34m[15:06:33] src/tree/updater_prune.cc:74: tree pruning end, 1 roots, 18 extra nodes, 8 pruned nodes, max_depth=5\u001b[0m\n",
      "\u001b[34m[122]#011train-error:0.095067#011validation-error:0.1446\u001b[0m\n",
      "\u001b[34m[15:06:34] src/tree/updater_prune.cc:74: tree pruning end, 1 roots, 18 extra nodes, 6 pruned nodes, max_depth=5\u001b[0m\n",
      "\u001b[34m[123]#011train-error:0.0944#011validation-error:0.1441\u001b[0m\n",
      "\u001b[34m[15:06:36] src/tree/updater_prune.cc:74: tree pruning end, 1 roots, 18 extra nodes, 4 pruned nodes, max_depth=5\u001b[0m\n",
      "\u001b[34m[124]#011train-error:0.093667#011validation-error:0.1431\u001b[0m\n",
      "\u001b[34m[15:06:37] src/tree/updater_prune.cc:74: tree pruning end, 1 roots, 22 extra nodes, 10 pruned nodes, max_depth=5\u001b[0m\n",
      "\u001b[34m[125]#011train-error:0.092333#011validation-error:0.1421\u001b[0m\n",
      "\u001b[34m[15:06:38] src/tree/updater_prune.cc:74: tree pruning end, 1 roots, 10 extra nodes, 6 pruned nodes, max_depth=5\u001b[0m\n",
      "\u001b[34m[126]#011train-error:0.092133#011validation-error:0.1422\u001b[0m\n",
      "\u001b[34m[15:06:40] src/tree/updater_prune.cc:74: tree pruning end, 1 roots, 12 extra nodes, 8 pruned nodes, max_depth=5\u001b[0m\n",
      "\u001b[34m[127]#011train-error:0.091733#011validation-error:0.1425\u001b[0m\n",
      "\u001b[34m[15:06:41] src/tree/updater_prune.cc:74: tree pruning end, 1 roots, 16 extra nodes, 6 pruned nodes, max_depth=5\u001b[0m\n",
      "\u001b[34m[128]#011train-error:0.0924#011validation-error:0.1412\u001b[0m\n",
      "\u001b[34m[15:06:43] src/tree/updater_prune.cc:74: tree pruning end, 1 roots, 18 extra nodes, 8 pruned nodes, max_depth=5\u001b[0m\n",
      "\u001b[34m[129]#011train-error:0.091267#011validation-error:0.1413\u001b[0m\n",
      "\u001b[34m[15:06:44] src/tree/updater_prune.cc:74: tree pruning end, 1 roots, 10 extra nodes, 8 pruned nodes, max_depth=5\u001b[0m\n",
      "\u001b[34m[130]#011train-error:0.091733#011validation-error:0.1416\u001b[0m\n",
      "\u001b[34m[15:06:45] src/tree/updater_prune.cc:74: tree pruning end, 1 roots, 14 extra nodes, 10 pruned nodes, max_depth=5\u001b[0m\n",
      "\u001b[34m[131]#011train-error:0.091933#011validation-error:0.1416\u001b[0m\n",
      "\u001b[34m[15:06:47] src/tree/updater_prune.cc:74: tree pruning end, 1 roots, 16 extra nodes, 6 pruned nodes, max_depth=5\u001b[0m\n",
      "\u001b[34m[132]#011train-error:0.091467#011validation-error:0.1409\u001b[0m\n",
      "\u001b[34m[15:06:48] src/tree/updater_prune.cc:74: tree pruning end, 1 roots, 22 extra nodes, 6 pruned nodes, max_depth=5\u001b[0m\n",
      "\u001b[34m[133]#011train-error:0.091067#011validation-error:0.1405\u001b[0m\n",
      "\u001b[34m[15:06:49] src/tree/updater_prune.cc:74: tree pruning end, 1 roots, 18 extra nodes, 8 pruned nodes, max_depth=5\u001b[0m\n",
      "\u001b[34m[134]#011train-error:0.091067#011validation-error:0.1403\u001b[0m\n",
      "\u001b[34m[15:06:51] src/tree/updater_prune.cc:74: tree pruning end, 1 roots, 24 extra nodes, 8 pruned nodes, max_depth=5\u001b[0m\n",
      "\u001b[34m[135]#011train-error:0.0902#011validation-error:0.1412\u001b[0m\n",
      "\u001b[34m[15:06:52] src/tree/updater_prune.cc:74: tree pruning end, 1 roots, 32 extra nodes, 14 pruned nodes, max_depth=5\u001b[0m\n",
      "\u001b[34m[136]#011train-error:0.0898#011validation-error:0.1399\u001b[0m\n",
      "\u001b[34m[15:06:54] src/tree/updater_prune.cc:74: tree pruning end, 1 roots, 10 extra nodes, 12 pruned nodes, max_depth=5\u001b[0m\n",
      "\u001b[34m[137]#011train-error:0.0898#011validation-error:0.1409\u001b[0m\n",
      "\u001b[34m[15:06:55] src/tree/updater_prune.cc:74: tree pruning end, 1 roots, 18 extra nodes, 14 pruned nodes, max_depth=5\u001b[0m\n",
      "\u001b[34m[138]#011train-error:0.089333#011validation-error:0.1417\u001b[0m\n",
      "\u001b[34m[15:06:56] src/tree/updater_prune.cc:74: tree pruning end, 1 roots, 10 extra nodes, 10 pruned nodes, max_depth=5\u001b[0m\n",
      "\u001b[34m[139]#011train-error:0.0896#011validation-error:0.1415\u001b[0m\n",
      "\u001b[34m[15:06:58] src/tree/updater_prune.cc:74: tree pruning end, 1 roots, 10 extra nodes, 12 pruned nodes, max_depth=5\u001b[0m\n",
      "\u001b[34m[140]#011train-error:0.0888#011validation-error:0.1411\u001b[0m\n",
      "\u001b[34m[15:06:59] src/tree/updater_prune.cc:74: tree pruning end, 1 roots, 12 extra nodes, 8 pruned nodes, max_depth=5\u001b[0m\n",
      "\u001b[34m[141]#011train-error:0.088667#011validation-error:0.1414\u001b[0m\n",
      "\u001b[34m[15:07:00] src/tree/updater_prune.cc:74: tree pruning end, 1 roots, 12 extra nodes, 10 pruned nodes, max_depth=5\u001b[0m\n",
      "\u001b[34m[142]#011train-error:0.088733#011validation-error:0.1414\u001b[0m\n",
      "\u001b[34m[15:07:02] src/tree/updater_prune.cc:74: tree pruning end, 1 roots, 16 extra nodes, 4 pruned nodes, max_depth=5\u001b[0m\n",
      "\u001b[34m[143]#011train-error:0.088667#011validation-error:0.1418\u001b[0m\n",
      "\u001b[34m[15:07:03] src/tree/updater_prune.cc:74: tree pruning end, 1 roots, 28 extra nodes, 2 pruned nodes, max_depth=5\u001b[0m\n",
      "\u001b[34m[144]#011train-error:0.0872#011validation-error:0.1424\u001b[0m\n",
      "\u001b[34m[15:07:05] src/tree/updater_prune.cc:74: tree pruning end, 1 roots, 10 extra nodes, 0 pruned nodes, max_depth=5\u001b[0m\n",
      "\u001b[34m[145]#011train-error:0.086733#011validation-error:0.1418\u001b[0m\n",
      "\u001b[34m[15:07:06] src/tree/updater_prune.cc:74: tree pruning end, 1 roots, 18 extra nodes, 10 pruned nodes, max_depth=5\u001b[0m\n",
      "\u001b[34m[146]#011train-error:0.0864#011validation-error:0.1407\u001b[0m\n",
      "\u001b[34mStopping. Best iteration:\u001b[0m\n",
      "\u001b[34m[136]#011train-error:0.0898#011validation-error:0.1399\n",
      "\u001b[0m\n",
      "\n",
      "2021-07-12 15:07:17 Uploading - Uploading generated training model\n",
      "2021-07-12 15:07:17 Completed - Training job completed\n",
      "Training seconds: 274\n",
      "Billable seconds: 274\n"
     ]
    }
   ],
   "source": [
    "xgb.fit({'train': s3_input_train, 'validation': s3_input_validation})"
   ]
  },
  {
   "cell_type": "markdown",
   "metadata": {},
   "source": [
    "## Step 5: Testing the model\n",
    "\n",
    "Now that we've fit our XGBoost model, it's time to see how well it performs. To do this we will use SageMakers Batch Transform functionality. Batch Transform is a convenient way to perform inference on a large dataset in a way that is not realtime. That is, we don't necessarily need to use our model's results immediately and instead we can perform inference on a large number of samples. An example of this in industry might be performing an end of month report. This method of inference can also be useful to us as it means that we can perform inference on our entire test set. \n",
    "\n",
    "To perform a Batch Transformation we need to first create a transformer objects from our trained estimator object."
   ]
  },
  {
   "cell_type": "code",
   "execution_count": 26,
   "metadata": {},
   "outputs": [
    {
     "name": "stderr",
     "output_type": "stream",
     "text": [
      "Parameter image will be renamed to image_uri in SageMaker Python SDK v2.\n"
     ]
    }
   ],
   "source": [
    "xgb_transformer = xgb.transformer(instance_count = 1, instance_type = 'ml.m4.xlarge')"
   ]
  },
  {
   "cell_type": "markdown",
   "metadata": {},
   "source": [
    "Next we actually perform the transform job. When doing so we need to make sure to specify the type of data we are sending so that it is serialized correctly in the background. In our case we are providing our model with csv data so we specify `text/csv`. Also, if the test data that we have provided is too large to process all at once then we need to specify how the data file should be split up. Since each line is a single entry in our data set we tell SageMaker that it can split the input on each line."
   ]
  },
  {
   "cell_type": "code",
   "execution_count": 27,
   "metadata": {},
   "outputs": [],
   "source": [
    "xgb_transformer.transform(test_location, content_type='text/csv', split_type='Line')"
   ]
  },
  {
   "cell_type": "markdown",
   "metadata": {},
   "source": [
    "Currently the transform job is running but it is doing so in the background. Since we wish to wait until the transform job is done and we would like a bit of feedback we can run the `wait()` method."
   ]
  },
  {
   "cell_type": "code",
   "execution_count": 28,
   "metadata": {},
   "outputs": [
    {
     "name": "stdout",
     "output_type": "stream",
     "text": [
      ".............................\u001b[34mArguments: serve\u001b[0m\n",
      "\u001b[34m[2021-07-12 15:12:24 +0000] [1] [INFO] Starting gunicorn 19.9.0\u001b[0m\n",
      "\u001b[34m[2021-07-12 15:12:24 +0000] [1] [INFO] Listening at: http://0.0.0.0:8080 (1)\u001b[0m\n",
      "\u001b[34m[2021-07-12 15:12:24 +0000] [1] [INFO] Using worker: gevent\u001b[0m\n",
      "\u001b[34m[2021-07-12 15:12:24 +0000] [20] [INFO] Booting worker with pid: 20\u001b[0m\n",
      "\u001b[34m[2021-07-12 15:12:24 +0000] [21] [INFO] Booting worker with pid: 21\u001b[0m\n",
      "\u001b[34m[2021-07-12 15:12:24 +0000] [22] [INFO] Booting worker with pid: 22\u001b[0m\n",
      "\u001b[34m/opt/amazon/lib/python3.7/site-packages/gunicorn/workers/ggevent.py:65: MonkeyPatchWarning: Monkey-patching ssl after ssl has already been imported may lead to errors, including RecursionError on Python 3.6. It may also silently lead to incorrect behaviour on Python 3.7. Please monkey-patch earlier. See https://github.com/gevent/gevent/issues/1016. Modules that had direct imports (NOT patched): ['urllib3.util (/opt/amazon/lib/python3.7/site-packages/urllib3/util/__init__.py)', 'urllib3.util.ssl_ (/opt/amazon/lib/python3.7/site-packages/urllib3/util/ssl_.py)']. \n",
      "  monkey.patch_all(subprocess=True)\u001b[0m\n",
      "\u001b[34m[2021-07-12:15:12:24:INFO] Model loaded successfully for worker : 20\u001b[0m\n",
      "\u001b[34m/opt/amazon/lib/python3.7/site-packages/gunicorn/workers/ggevent.py:65: MonkeyPatchWarning: Monkey-patching ssl after ssl has already been imported may lead to errors, including RecursionError on Python 3.6. It may also silently lead to incorrect behaviour on Python 3.7. Please monkey-patch earlier. See https://github.com/gevent/gevent/issues/1016. Modules that had direct imports (NOT patched): ['urllib3.util (/opt/amazon/lib/python3.7/site-packages/urllib3/util/__init__.py)', 'urllib3.util.ssl_ (/opt/amazon/lib/python3.7/site-packages/urllib3/util/ssl_.py)']. \n",
      "  monkey.patch_all(subprocess=True)\u001b[0m\n",
      "\u001b[34m[2021-07-12:15:12:24:INFO] Model loaded successfully for worker : 21\u001b[0m\n",
      "\u001b[34m/opt/amazon/lib/python3.7/site-packages/gunicorn/workers/ggevent.py:65: MonkeyPatchWarning: Monkey-patching ssl after ssl has already been imported may lead to errors, including RecursionError on Python 3.6. It may also silently lead to incorrect behaviour on Python 3.7. Please monkey-patch earlier. See https://github.com/gevent/gevent/issues/1016. Modules that had direct imports (NOT patched): ['urllib3.util (/opt/amazon/lib/python3.7/site-packages/urllib3/util/__init__.py)', 'urllib3.util.ssl_ (/opt/amazon/lib/python3.7/site-packages/urllib3/util/ssl_.py)']. \n",
      "  monkey.patch_all(subprocess=True)\u001b[0m\n",
      "\u001b[34m[2021-07-12:15:12:24:INFO] Model loaded successfully for worker : 22\u001b[0m\n",
      "\u001b[34m[2021-07-12 15:12:24 +0000] [23] [INFO] Booting worker with pid: 23\u001b[0m\n",
      "\u001b[34m/opt/amazon/lib/python3.7/site-packages/gunicorn/workers/ggevent.py:65: MonkeyPatchWarning: Monkey-patching ssl after ssl has already been imported may lead to errors, including RecursionError on Python 3.6. It may also silently lead to incorrect behaviour on Python 3.7. Please monkey-patch earlier. See https://github.com/gevent/gevent/issues/1016. Modules that had direct imports (NOT patched): ['urllib3.util (/opt/amazon/lib/python3.7/site-packages/urllib3/util/__init__.py)', 'urllib3.util.ssl_ (/opt/amazon/lib/python3.7/site-packages/urllib3/util/ssl_.py)']. \n",
      "  monkey.patch_all(subprocess=True)\u001b[0m\n",
      "\u001b[34m[2021-07-12:15:12:24:INFO] Model loaded successfully for worker : 23\u001b[0m\n",
      "\u001b[32m2021-07-12T15:12:28.543:[sagemaker logs]: MaxConcurrentTransforms=4, MaxPayloadInMB=6, BatchStrategy=MULTI_RECORD\u001b[0m\n",
      "\u001b[34m[2021-07-12:15:12:31:INFO] Sniff delimiter as ','\u001b[0m\n",
      "\u001b[34m[2021-07-12:15:12:31:INFO] Determined delimiter of CSV input is ','\u001b[0m\n",
      "\u001b[34m[2021-07-12:15:12:31:INFO] Sniff delimiter as ','\u001b[0m\n",
      "\u001b[34m[2021-07-12:15:12:31:INFO] Determined delimiter of CSV input is ','\u001b[0m\n",
      "\u001b[35m[2021-07-12:15:12:31:INFO] Sniff delimiter as ','\u001b[0m\n",
      "\u001b[35m[2021-07-12:15:12:31:INFO] Determined delimiter of CSV input is ','\u001b[0m\n",
      "\u001b[35m[2021-07-12:15:12:31:INFO] Sniff delimiter as ','\u001b[0m\n",
      "\u001b[35m[2021-07-12:15:12:31:INFO] Determined delimiter of CSV input is ','\u001b[0m\n",
      "\u001b[34m[2021-07-12:15:12:31:INFO] Sniff delimiter as ','\u001b[0m\n",
      "\u001b[34m[2021-07-12:15:12:31:INFO] Determined delimiter of CSV input is ','\u001b[0m\n",
      "\u001b[35m[2021-07-12:15:12:31:INFO] Sniff delimiter as ','\u001b[0m\n",
      "\u001b[35m[2021-07-12:15:12:31:INFO] Determined delimiter of CSV input is ','\u001b[0m\n",
      "\u001b[34m[2021-07-12:15:12:33:INFO] Sniff delimiter as ','\u001b[0m\n",
      "\u001b[34m[2021-07-12:15:12:33:INFO] Determined delimiter of CSV input is ','\u001b[0m\n",
      "\u001b[35m[2021-07-12:15:12:33:INFO] Sniff delimiter as ','\u001b[0m\n",
      "\u001b[35m[2021-07-12:15:12:33:INFO] Determined delimiter of CSV input is ','\u001b[0m\n",
      "\u001b[34m[2021-07-12:15:12:35:INFO] Sniff delimiter as ','\u001b[0m\n",
      "\u001b[34m[2021-07-12:15:12:35:INFO] Determined delimiter of CSV input is ','\u001b[0m\n",
      "\u001b[34m[2021-07-12:15:12:35:INFO] Sniff delimiter as ','\u001b[0m\n",
      "\u001b[34m[2021-07-12:15:12:35:INFO] Determined delimiter of CSV input is ','\u001b[0m\n",
      "\u001b[34m[2021-07-12:15:12:35:INFO] Sniff delimiter as ','\u001b[0m\n",
      "\u001b[34m[2021-07-12:15:12:35:INFO] Determined delimiter of CSV input is ','\u001b[0m\n",
      "\u001b[35m[2021-07-12:15:12:35:INFO] Sniff delimiter as ','\u001b[0m\n",
      "\u001b[35m[2021-07-12:15:12:35:INFO] Determined delimiter of CSV input is ','\u001b[0m\n",
      "\u001b[35m[2021-07-12:15:12:35:INFO] Sniff delimiter as ','\u001b[0m\n",
      "\u001b[35m[2021-07-12:15:12:35:INFO] Determined delimiter of CSV input is ','\u001b[0m\n",
      "\u001b[35m[2021-07-12:15:12:35:INFO] Sniff delimiter as ','\u001b[0m\n",
      "\u001b[35m[2021-07-12:15:12:35:INFO] Determined delimiter of CSV input is ','\u001b[0m\n",
      "\u001b[34m[2021-07-12:15:12:41:INFO] Sniff delimiter as ','\u001b[0m\n",
      "\u001b[34m[2021-07-12:15:12:41:INFO] Determined delimiter of CSV input is ','\u001b[0m\n",
      "\u001b[34m[2021-07-12:15:12:41:INFO] Sniff delimiter as ','\u001b[0m\n",
      "\u001b[34m[2021-07-12:15:12:41:INFO] Determined delimiter of CSV input is ','\u001b[0m\n",
      "\u001b[34m[2021-07-12:15:12:41:INFO] Sniff delimiter as ','\u001b[0m\n",
      "\u001b[34m[2021-07-12:15:12:41:INFO] Determined delimiter of CSV input is ','\u001b[0m\n",
      "\u001b[35m[2021-07-12:15:12:41:INFO] Sniff delimiter as ','\u001b[0m\n",
      "\u001b[35m[2021-07-12:15:12:41:INFO] Determined delimiter of CSV input is ','\u001b[0m\n",
      "\u001b[35m[2021-07-12:15:12:41:INFO] Sniff delimiter as ','\u001b[0m\n",
      "\u001b[35m[2021-07-12:15:12:41:INFO] Determined delimiter of CSV input is ','\u001b[0m\n",
      "\u001b[35m[2021-07-12:15:12:41:INFO] Sniff delimiter as ','\u001b[0m\n",
      "\u001b[35m[2021-07-12:15:12:41:INFO] Determined delimiter of CSV input is ','\u001b[0m\n",
      "\u001b[34m[2021-07-12:15:12:44:INFO] Sniff delimiter as ','\u001b[0m\n",
      "\u001b[34m[2021-07-12:15:12:44:INFO] Determined delimiter of CSV input is ','\u001b[0m\n",
      "\u001b[35m[2021-07-12:15:12:44:INFO] Sniff delimiter as ','\u001b[0m\n",
      "\u001b[35m[2021-07-12:15:12:44:INFO] Determined delimiter of CSV input is ','\u001b[0m\n",
      "\u001b[34m[2021-07-12:15:12:45:INFO] Sniff delimiter as ','\u001b[0m\n",
      "\u001b[34m[2021-07-12:15:12:45:INFO] Determined delimiter of CSV input is ','\u001b[0m\n",
      "\u001b[34m[2021-07-12:15:12:45:INFO] Sniff delimiter as ','\u001b[0m\n",
      "\u001b[34m[2021-07-12:15:12:45:INFO] Determined delimiter of CSV input is ','\u001b[0m\n",
      "\u001b[34m[2021-07-12:15:12:45:INFO] Sniff delimiter as ','\u001b[0m\n",
      "\u001b[34m[2021-07-12:15:12:45:INFO] Determined delimiter of CSV input is ','\u001b[0m\n",
      "\u001b[35m[2021-07-12:15:12:45:INFO] Sniff delimiter as ','\u001b[0m\n",
      "\u001b[35m[2021-07-12:15:12:45:INFO] Determined delimiter of CSV input is ','\u001b[0m\n",
      "\u001b[35m[2021-07-12:15:12:45:INFO] Sniff delimiter as ','\u001b[0m\n",
      "\u001b[35m[2021-07-12:15:12:45:INFO] Determined delimiter of CSV input is ','\u001b[0m\n",
      "\u001b[35m[2021-07-12:15:12:45:INFO] Sniff delimiter as ','\u001b[0m\n",
      "\u001b[35m[2021-07-12:15:12:45:INFO] Determined delimiter of CSV input is ','\u001b[0m\n",
      "\u001b[34m[2021-07-12:15:12:48:INFO] Sniff delimiter as ','\u001b[0m\n",
      "\u001b[34m[2021-07-12:15:12:48:INFO] Determined delimiter of CSV input is ','\u001b[0m\n",
      "\u001b[34m[2021-07-12:15:12:48:INFO] Sniff delimiter as ','\u001b[0m\n",
      "\u001b[34m[2021-07-12:15:12:48:INFO] Determined delimiter of CSV input is ','\u001b[0m\n",
      "\u001b[34m[2021-07-12:15:12:49:INFO] Sniff delimiter as ','\u001b[0m\n",
      "\u001b[34m[2021-07-12:15:12:49:INFO] Determined delimiter of CSV input is ','\u001b[0m\n",
      "\u001b[35m[2021-07-12:15:12:48:INFO] Sniff delimiter as ','\u001b[0m\n",
      "\u001b[35m[2021-07-12:15:12:48:INFO] Determined delimiter of CSV input is ','\u001b[0m\n",
      "\u001b[35m[2021-07-12:15:12:48:INFO] Sniff delimiter as ','\u001b[0m\n",
      "\u001b[35m[2021-07-12:15:12:48:INFO] Determined delimiter of CSV input is ','\u001b[0m\n",
      "\u001b[35m[2021-07-12:15:12:49:INFO] Sniff delimiter as ','\u001b[0m\n",
      "\u001b[35m[2021-07-12:15:12:49:INFO] Determined delimiter of CSV input is ','\u001b[0m\n",
      "\u001b[34m[2021-07-12:15:12:52:INFO] Sniff delimiter as ','\u001b[0m\n",
      "\u001b[34m[2021-07-12:15:12:52:INFO] Determined delimiter of CSV input is ','\u001b[0m\n",
      "\u001b[35m[2021-07-12:15:12:52:INFO] Sniff delimiter as ','\u001b[0m\n",
      "\u001b[35m[2021-07-12:15:12:52:INFO] Determined delimiter of CSV input is ','\u001b[0m\n",
      "\u001b[34m[2021-07-12:15:12:53:INFO] Sniff delimiter as ','\u001b[0m\n",
      "\u001b[34m[2021-07-12:15:12:53:INFO] Determined delimiter of CSV input is ','\u001b[0m\n",
      "\u001b[35m[2021-07-12:15:12:53:INFO] Sniff delimiter as ','\u001b[0m\n",
      "\u001b[35m[2021-07-12:15:12:53:INFO] Determined delimiter of CSV input is ','\u001b[0m\n",
      "\u001b[34m[2021-07-12:15:12:56:INFO] Sniff delimiter as ','\u001b[0m\n",
      "\u001b[34m[2021-07-12:15:12:56:INFO] Determined delimiter of CSV input is ','\u001b[0m\n",
      "\u001b[34m[2021-07-12:15:12:56:INFO] Sniff delimiter as ','\u001b[0m\n",
      "\u001b[34m[2021-07-12:15:12:56:INFO] Determined delimiter of CSV input is ','\u001b[0m\n",
      "\u001b[34m[2021-07-12:15:12:56:INFO] Sniff delimiter as ','\u001b[0m\n",
      "\u001b[34m[2021-07-12:15:12:56:INFO] Determined delimiter of CSV input is ','\u001b[0m\n",
      "\u001b[34m[2021-07-12:15:12:57:INFO] Sniff delimiter as ','\u001b[0m\n",
      "\u001b[34m[2021-07-12:15:12:57:INFO] Determined delimiter of CSV input is ','\u001b[0m\n",
      "\u001b[35m[2021-07-12:15:12:56:INFO] Sniff delimiter as ','\u001b[0m\n",
      "\u001b[35m[2021-07-12:15:12:56:INFO] Determined delimiter of CSV input is ','\u001b[0m\n",
      "\u001b[35m[2021-07-12:15:12:56:INFO] Sniff delimiter as ','\u001b[0m\n",
      "\u001b[35m[2021-07-12:15:12:56:INFO] Determined delimiter of CSV input is ','\u001b[0m\n",
      "\u001b[35m[2021-07-12:15:12:56:INFO] Sniff delimiter as ','\u001b[0m\n",
      "\u001b[35m[2021-07-12:15:12:56:INFO] Determined delimiter of CSV input is ','\u001b[0m\n",
      "\u001b[35m[2021-07-12:15:12:57:INFO] Sniff delimiter as ','\u001b[0m\n",
      "\u001b[35m[2021-07-12:15:12:57:INFO] Determined delimiter of CSV input is ','\u001b[0m\n",
      "\u001b[34m[2021-07-12:15:13:00:INFO] Sniff delimiter as ','\u001b[0m\n",
      "\u001b[34m[2021-07-12:15:13:00:INFO] Determined delimiter of CSV input is ','\u001b[0m\n",
      "\u001b[34m[2021-07-12:15:13:00:INFO] Sniff delimiter as ','\u001b[0m\n",
      "\u001b[34m[2021-07-12:15:13:00:INFO] Determined delimiter of CSV input is ','\u001b[0m\n",
      "\u001b[34m[2021-07-12:15:13:00:INFO] Sniff delimiter as ','\u001b[0m\n",
      "\u001b[34m[2021-07-12:15:13:00:INFO] Determined delimiter of CSV input is ','\u001b[0m\n",
      "\u001b[34m[2021-07-12:15:13:00:INFO] Sniff delimiter as ','\u001b[0m\n",
      "\u001b[34m[2021-07-12:15:13:00:INFO] Determined delimiter of CSV input is ','\u001b[0m\n",
      "\u001b[35m[2021-07-12:15:13:00:INFO] Sniff delimiter as ','\u001b[0m\n",
      "\u001b[35m[2021-07-12:15:13:00:INFO] Determined delimiter of CSV input is ','\u001b[0m\n",
      "\u001b[35m[2021-07-12:15:13:00:INFO] Sniff delimiter as ','\u001b[0m\n",
      "\u001b[35m[2021-07-12:15:13:00:INFO] Determined delimiter of CSV input is ','\u001b[0m\n",
      "\u001b[35m[2021-07-12:15:13:00:INFO] Sniff delimiter as ','\u001b[0m\n",
      "\u001b[35m[2021-07-12:15:13:00:INFO] Determined delimiter of CSV input is ','\u001b[0m\n",
      "\u001b[35m[2021-07-12:15:13:00:INFO] Sniff delimiter as ','\u001b[0m\n",
      "\u001b[35m[2021-07-12:15:13:00:INFO] Determined delimiter of CSV input is ','\u001b[0m\n",
      "\n",
      "\u001b[34m[2021-07-12:15:13:07:INFO] Sniff delimiter as ','\u001b[0m\n",
      "\u001b[34m[2021-07-12:15:13:07:INFO] Determined delimiter of CSV input is ','\u001b[0m\n",
      "\u001b[34m[2021-07-12:15:13:08:INFO] Sniff delimiter as ','\u001b[0m\n",
      "\u001b[34m[2021-07-12:15:13:08:INFO] Determined delimiter of CSV input is ','\u001b[0m\n",
      "\u001b[35m[2021-07-12:15:13:07:INFO] Sniff delimiter as ','\u001b[0m\n",
      "\u001b[35m[2021-07-12:15:13:07:INFO] Determined delimiter of CSV input is ','\u001b[0m\n",
      "\u001b[35m[2021-07-12:15:13:08:INFO] Sniff delimiter as ','\u001b[0m\n",
      "\u001b[35m[2021-07-12:15:13:08:INFO] Determined delimiter of CSV input is ','\u001b[0m\n"
     ]
    }
   ],
   "source": [
    "xgb_transformer.wait()"
   ]
  },
  {
   "cell_type": "markdown",
   "metadata": {},
   "source": [
    "Now the transform job has executed and the result, the estimated sentiment of each review, has been saved on S3. Since we would rather work on this file locally we can perform a bit of notebook magic to copy the file to the `data_dir`."
   ]
  },
  {
   "cell_type": "code",
   "execution_count": 29,
   "metadata": {},
   "outputs": [
    {
     "name": "stdout",
     "output_type": "stream",
     "text": [
      "download: s3://sagemaker-us-east-2-300223538730/xgboost-2021-07-12-15-07-40-229/test.csv.out to ../data/sentiment_web_app/test.csv.out\r\n"
     ]
    }
   ],
   "source": [
    "!aws s3 cp --recursive $xgb_transformer.output_path $data_dir"
   ]
  },
  {
   "cell_type": "markdown",
   "metadata": {},
   "source": [
    "The last step is now to read in the output from our model, convert the output to something a little more usable, in this case we want the sentiment to be either `1` (positive) or `0` (negative), and then compare to the ground truth labels."
   ]
  },
  {
   "cell_type": "code",
   "execution_count": 30,
   "metadata": {},
   "outputs": [],
   "source": [
    "predictions = pd.read_csv(os.path.join(data_dir, 'test.csv.out'), header=None)\n",
    "predictions = [round(num) for num in predictions.squeeze().values]"
   ]
  },
  {
   "cell_type": "code",
   "execution_count": 31,
   "metadata": {},
   "outputs": [
    {
     "data": {
      "text/plain": [
       "0.85712"
      ]
     },
     "execution_count": 31,
     "metadata": {},
     "output_type": "execute_result"
    }
   ],
   "source": [
    "from sklearn.metrics import accuracy_score\n",
    "accuracy_score(test_y, predictions)"
   ]
  },
  {
   "cell_type": "markdown",
   "metadata": {},
   "source": [
    "## Step 6: Deploying the model\n",
    "\n",
    "Once we construct and fit our model, SageMaker stores the resulting model artifacts and we can use those to deploy an endpoint (inference code). To see this, look in the SageMaker console and you should see that a model has been created along with a link to the S3 location where the model artifacts have been stored.\n",
    "\n",
    "Deploying an endpoint is a lot like training the model with a few important differences. The first is that a deployed model doesn't change the model artifacts, so as you send it various testing instances the model won't change. Another difference is that since we aren't performing a fixed computation, as we were in the training step or while performing a batch transform, the compute instance that gets started stays running until we tell it to stop. This is important to note as if we forget and leave it running we will be charged the entire time.\n",
    "\n",
    "In other words **If you are no longer using a deployed endpoint, shut it down!**"
   ]
  },
  {
   "cell_type": "code",
   "execution_count": 32,
   "metadata": {},
   "outputs": [
    {
     "name": "stderr",
     "output_type": "stream",
     "text": [
      "Parameter image will be renamed to image_uri in SageMaker Python SDK v2.\n",
      "Using already existing model: xgboost-2021-07-12-15-00-23-612\n"
     ]
    },
    {
     "name": "stdout",
     "output_type": "stream",
     "text": [
      "-------------!"
     ]
    }
   ],
   "source": [
    "xgb_predictor = xgb.deploy(initial_instance_count = 1, instance_type = 'ml.m4.xlarge')"
   ]
  },
  {
   "cell_type": "markdown",
   "metadata": {},
   "source": [
    "### Testing the model (again)\n",
    "\n",
    "Now that we have deployed our endpoint, we can send the testing data to it and get back the inference results. We already did this earlier using the batch transform functionality of SageMaker, however, we will test our model again using the newly deployed endpoint so that we can make sure that it works properly and to get a bit of a feel for how the endpoint works.\n",
    "\n",
    "When using the created endpoint it is important to know that we are limited in the amount of information we can send in each call so we need to break the testing data up into chunks and then send each chunk. Also, we need to serialize our data before we send it to the endpoint to ensure that our data is transmitted properly. Fortunately, SageMaker can do the serialization part for us provided we tell it the format of our data."
   ]
  },
  {
   "cell_type": "code",
   "execution_count": 33,
   "metadata": {},
   "outputs": [],
   "source": [
    "from sagemaker.predictor import csv_serializer\n",
    "\n",
    "# We need to tell the endpoint what format the data we are sending is in so that SageMaker can perform the serialization.\n",
    "xgb_predictor.content_type = 'text/csv'\n",
    "xgb_predictor.serializer = csv_serializer"
   ]
  },
  {
   "cell_type": "code",
   "execution_count": 34,
   "metadata": {},
   "outputs": [],
   "source": [
    "# We split the data into chunks and send each chunk seperately, accumulating the results.\n",
    "\n",
    "def predict(data, rows=512):\n",
    "    split_array = np.array_split(data, int(data.shape[0] / float(rows) + 1))\n",
    "    predictions = ''\n",
    "    for array in split_array:\n",
    "        predictions = ','.join([predictions, xgb_predictor.predict(array).decode('utf-8')])\n",
    "    \n",
    "    return np.fromstring(predictions[1:], sep=',')"
   ]
  },
  {
   "cell_type": "code",
   "execution_count": 35,
   "metadata": {},
   "outputs": [],
   "source": [
    "test_X = pd.read_csv(os.path.join(data_dir, 'test.csv'), header=None).values\n",
    "\n",
    "predictions = predict(test_X)\n",
    "predictions = [round(num) for num in predictions]"
   ]
  },
  {
   "cell_type": "markdown",
   "metadata": {},
   "source": [
    "Lastly, we check to see what the accuracy of our model is."
   ]
  },
  {
   "cell_type": "code",
   "execution_count": 36,
   "metadata": {},
   "outputs": [
    {
     "data": {
      "text/plain": [
       "0.85712"
      ]
     },
     "execution_count": 36,
     "metadata": {},
     "output_type": "execute_result"
    }
   ],
   "source": [
    "from sklearn.metrics import accuracy_score\n",
    "accuracy_score(test_y, predictions)"
   ]
  },
  {
   "cell_type": "markdown",
   "metadata": {},
   "source": [
    "And the results here should agree with the model testing that we did earlier using the batch transform job.\n",
    "\n",
    "### Cleaning up\n",
    "\n",
    "Now that we've determined that deploying our model works as expected, we are going to shut it down. Remember that the longer the endpoint is left running, the greater the cost and since we have a bit more work to do before we are able to use our endpoint with our simple web app, we should shut everything down."
   ]
  },
  {
   "cell_type": "code",
   "execution_count": 37,
   "metadata": {},
   "outputs": [],
   "source": [
    "xgb_predictor.delete_endpoint()"
   ]
  },
  {
   "cell_type": "markdown",
   "metadata": {},
   "source": [
    "## Step 7: Putting our model to work\n",
    "\n",
    "As we've mentioned a few times now, our goal is to have our model deployed and then access it using a very simple web app. The intent is for this web app to take some user submitted data (a review), send it off to our endpoint (the model) and then display the result.\n",
    "\n",
    "However, there is a small catch. Currently the only way we can access the endpoint to send it data is using the SageMaker API. We can, if we wish, expose the actual URL that our model's endpoint is receiving data from, however, if we just send it data ourselves we will not get anything in return. This is because the endpoint created by SageMaker requires the entity accessing it have the correct permissions. So, we would need to somehow authenticate our web app with AWS.\n",
    "\n",
    "Having a website that authenticates to AWS seems a bit beyond the scope of this lesson so we will opt for an alternative approach. Namely, we will create a new endpoint which does not require authentication and which acts as a proxy for the SageMaker endpoint.\n",
    "\n",
    "As an additional constraint, we will try to avoid doing any data processing in the web app itself. Remember that when we constructed and tested our model we started with a movie review, then we simplified it by removing any html formatting and punctuation, then we constructed a bag of words embedding and the resulting vector is what we sent to our model. All of this needs to be done to our user input as well.\n",
    "\n",
    "Fortunately we can do all of this data processing in the backend, using Amazon's Lambda service.\n",
    "\n",
    "<img src=\"Web App Diagram.svg\">\n",
    "\n",
    "The diagram above gives an overview of how the various services will work together. On the far right is the model which we trained above and which will be deployed using SageMaker. On the far left is our web app that collects a user's movie review, sends it off and expects a positive or negative sentiment in return.\n",
    "\n",
    "In the middle is where some of the magic happens. We will construct a Lambda function, which you can think of as a straightforward Python function that can be executed whenever a specified event occurs. This Python function will do the data processing we need to perform on a user submitted review. In addition, we will give this function permission to send and recieve data from a SageMaker endpoint.\n",
    "\n",
    "Lastly, the method we will use to execute the Lambda function is a new endpoint that we will create using API Gateway. This endpoint will be a url that listens for data to be sent to it. Once it gets some data it will pass that data on to the Lambda function and then return whatever the Lambda function returns. Essentially it will act as an interface that lets our web app communicate with the Lambda function.\n",
    "\n",
    "### Processing a single review\n",
    "\n",
    "For now, suppose we are given a movie review by our user in the form of a string, like so:"
   ]
  },
  {
   "cell_type": "code",
   "execution_count": 38,
   "metadata": {},
   "outputs": [],
   "source": [
    "test_review = \"Nothing but a disgusting materialistic pageant of glistening abed remote control greed zombies, totally devoid of any heart or heat. A romantic comedy that has zero romantic chemestry and zero laughs!\""
   ]
  },
  {
   "cell_type": "markdown",
   "metadata": {},
   "source": [
    "How do we go from this string to the bag of words feature vector that is expected by our model?\n",
    "\n",
    "If we recall at the beginning of this notebook, the first step is to remove any unnecessary characters using the `review_to_words` method. Remember that we intentionally did this in a very simplistic way. This is because we are going to have to copy this method to our (eventual) Lambda function (we will go into more detail later) and this means it needs to be rather simplistic."
   ]
  },
  {
   "cell_type": "code",
   "execution_count": 39,
   "metadata": {},
   "outputs": [
    {
     "name": "stdout",
     "output_type": "stream",
     "text": [
      "nothing but a disgusting materialistic pageant of glistening abed remote control greed zombies totally devoid of any heart or heat a romantic comedy that has zero romantic chemestry and zero laughs\n"
     ]
    }
   ],
   "source": [
    "test_words = review_to_words(test_review)\n",
    "print(test_words)"
   ]
  },
  {
   "cell_type": "markdown",
   "metadata": {},
   "source": [
    "Next, we need to construct a bag of words embedding of the `test_words` string. To do this, remember that a bag of words embedding uses a `vocabulary` consisting of the most frequently appearing words in a set of documents. Then, for each word in the vocabulary we record the number of times that word appears in `test_words`. We constructed the `vocabulary` earlier using the training set for our problem so encoding `test_words` is relatively straightforward."
   ]
  },
  {
   "cell_type": "code",
   "execution_count": 40,
   "metadata": {},
   "outputs": [],
   "source": [
    "def bow_encoding(words, vocabulary):\n",
    "    bow = [0] * len(vocabulary) # Start by setting the count for each word in the vocabulary to zero.\n",
    "    for word in words.split():  # For each word in the string\n",
    "        if word in vocabulary:  # If the word is one that occurs in the vocabulary, increase its count.\n",
    "            bow[vocabulary[word]] += 1\n",
    "    return bow"
   ]
  },
  {
   "cell_type": "code",
   "execution_count": 41,
   "metadata": {},
   "outputs": [
    {
     "name": "stdout",
     "output_type": "stream",
     "text": [
      "[0, 0, 0, 0, 0, 0, 0, 0, 0, 0, 0, 0, 0, 0, 0, 0, 0, 0, 0, 0, 0, 0, 0, 0, 0, 0, 0, 0, 0, 0, 0, 0, 0, 0, 0, 0, 0, 0, 0, 0, 0, 0, 0, 0, 0, 0, 0, 0, 0, 0, 0, 0, 0, 0, 0, 0, 0, 0, 0, 0, 0, 0, 0, 0, 0, 0, 0, 0, 0, 0, 0, 0, 0, 0, 0, 0, 0, 0, 0, 0, 0, 0, 0, 0, 0, 0, 0, 0, 0, 0, 0, 0, 0, 0, 0, 0, 0, 0, 0, 0, 0, 0, 0, 0, 0, 0, 0, 0, 0, 0, 0, 0, 0, 0, 0, 0, 0, 0, 0, 0, 0, 0, 0, 0, 0, 0, 0, 0, 0, 0, 0, 0, 0, 0, 0, 0, 0, 0, 0, 0, 0, 0, 0, 0, 0, 0, 0, 0, 0, 0, 0, 0, 0, 0, 0, 0, 0, 0, 0, 0, 0, 0, 0, 0, 0, 0, 0, 0, 0, 0, 0, 0, 0, 0, 0, 0, 0, 0, 0, 0, 0, 0, 0, 0, 0, 0, 0, 0, 0, 0, 0, 0, 0, 0, 0, 0, 0, 0, 0, 0, 0, 0, 0, 0, 0, 0, 0, 0, 0, 0, 0, 0, 0, 0, 0, 0, 0, 0, 0, 0, 0, 0, 0, 0, 0, 0, 1, 0, 0, 0, 0, 0, 0, 0, 0, 0, 0, 0, 0, 0, 0, 0, 0, 0, 0, 0, 0, 0, 0, 0, 0, 0, 0, 0, 0, 0, 1, 0, 0, 0, 0, 0, 0, 0, 0, 0, 0, 0, 0, 0, 0, 0, 0, 0, 0, 0, 0, 0, 0, 0, 0, 0, 0, 0, 0, 0, 0, 0, 0, 0, 0, 0, 0, 0, 0, 0, 0, 0, 0, 0, 0, 0, 0, 0, 0, 0, 0, 0, 0, 0, 0, 0, 0, 0, 0, 0, 0, 0, 0, 0, 0, 0, 0, 0, 0, 0, 0, 0, 0, 0, 0, 0, 0, 0, 0, 0, 0, 0, 0, 0, 0, 0, 0, 0, 0, 0, 0, 0, 0, 0, 0, 0, 0, 0, 0, 0, 0, 0, 0, 0, 0, 0, 0, 0, 0, 0, 0, 0, 0, 0, 0, 0, 0, 0, 0, 0, 0, 0, 0, 0, 0, 0, 0, 0, 0, 0, 0, 0, 0, 0, 0, 0, 0, 0, 0, 0, 0, 0, 0, 0, 0, 0, 0, 0, 0, 0, 0, 0, 0, 0, 0, 0, 0, 0, 0, 0, 0, 0, 0, 0, 0, 0, 0, 0, 0, 0, 0, 0, 0, 0, 0, 0, 0, 0, 0, 0, 0, 0, 0, 0, 0, 0, 0, 0, 0, 0, 0, 0, 0, 0, 0, 0, 0, 0, 0, 0, 0, 0, 0, 0, 0, 0, 0, 0, 0, 0, 0, 0, 0, 0, 0, 0, 0, 0, 0, 0, 0, 0, 0, 0, 0, 0, 0, 0, 0, 0, 0, 0, 0, 0, 0, 0, 0, 0, 0, 0, 0, 0, 0, 0, 0, 0, 0, 0, 0, 0, 0, 0, 0, 0, 0, 0, 0, 0, 0, 0, 0, 0, 0, 0, 0, 0, 0, 0, 0, 0, 0, 0, 0, 0, 0, 0, 0, 0, 0, 0, 0, 0, 0, 0, 0, 0, 0, 0, 0, 0, 0, 0, 0, 0, 0, 0, 0, 0, 0, 0, 0, 0, 0, 0, 0, 0, 0, 0, 0, 0, 0, 0, 0, 0, 0, 0, 0, 0, 0, 0, 0, 0, 0, 0, 0, 0, 0, 0, 0, 0, 0, 0, 0, 0, 0, 0, 0, 0, 0, 0, 0, 0, 0, 0, 0, 0, 0, 0, 0, 0, 0, 0, 0, 0, 0, 0, 0, 0, 0, 0, 0, 0, 0, 0, 0, 0, 0, 0, 0, 0, 0, 0, 0, 0, 0, 0, 0, 0, 0, 0, 1, 0, 0, 0, 0, 0, 0, 0, 0, 0, 0, 0, 0, 0, 0, 0, 0, 0, 0, 0, 0, 0, 0, 0, 0, 0, 0, 0, 0, 0, 0, 0, 0, 0, 0, 0, 0, 0, 0, 0, 0, 0, 0, 0, 0, 0, 0, 0, 0, 0, 0, 0, 0, 0, 0, 0, 0, 0, 0, 0, 0, 0, 0, 0, 0, 0, 0, 0, 0, 0, 0, 0, 0, 0, 0, 0, 0, 0, 0, 0, 0, 0, 0, 0, 0, 0, 0, 0, 0, 0, 0, 0, 0, 0, 0, 0, 0, 0, 0, 0, 0, 0, 0, 0, 0, 0, 0, 0, 0, 0, 0, 0, 0, 0, 0, 0, 0, 0, 0, 0, 0, 0, 0, 0, 0, 0, 0, 0, 0, 0, 0, 0, 0, 0, 0, 0, 0, 0, 0, 0, 0, 0, 0, 0, 0, 0, 0, 0, 0, 0, 0, 0, 0, 0, 0, 0, 0, 0, 0, 0, 0, 0, 0, 0, 0, 0, 0, 0, 0, 0, 0, 0, 0, 0, 0, 0, 0, 0, 0, 0, 0, 0, 0, 0, 0, 0, 0, 0, 0, 0, 0, 0, 0, 0, 0, 0, 0, 0, 0, 0, 0, 0, 0, 0, 0, 0, 0, 0, 0, 0, 0, 0, 0, 0, 0, 0, 0, 0, 0, 0, 0, 0, 0, 0, 0, 0, 0, 0, 0, 0, 0, 0, 0, 0, 0, 0, 0, 0, 0, 0, 0, 0, 0, 0, 0, 0, 0, 0, 0, 0, 0, 0, 0, 0, 1, 0, 0, 0, 0, 0, 0, 0, 0, 0, 0, 0, 0, 0, 0, 0, 0, 0, 0, 0, 0, 0, 0, 0, 0, 0, 0, 0, 0, 0, 0, 0, 0, 0, 0, 0, 0, 0, 0, 0, 0, 0, 0, 0, 0, 0, 0, 0, 0, 0, 0, 0, 0, 0, 0, 0, 0, 0, 0, 0, 0, 0, 0, 0, 0, 0, 0, 0, 0, 0, 0, 0, 0, 0, 0, 0, 0, 0, 0, 0, 0, 0, 0, 0, 0, 0, 0, 1, 0, 0, 0, 0, 0, 0, 0, 0, 0, 0, 0, 0, 0, 0, 0, 0, 0, 0, 0, 0, 0, 0, 0, 0, 0, 0, 0, 0, 0, 0, 0, 0, 0, 0, 0, 0, 0, 0, 0, 0, 0, 0, 0, 0, 0, 0, 0, 0, 0, 0, 0, 0, 0, 0, 0, 0, 0, 0, 0, 0, 0, 0, 0, 0, 0, 0, 0, 0, 0, 0, 0, 0, 0, 0, 0, 0, 0, 0, 0, 0, 0, 0, 0, 0, 0, 0, 0, 0, 0, 0, 0, 0, 0, 0, 0, 0, 0, 0, 0, 0, 0, 0, 0, 0, 0, 0, 0, 0, 0, 0, 0, 0, 0, 0, 0, 0, 0, 0, 0, 0, 0, 0, 0, 0, 0, 0, 0, 0, 0, 0, 0, 0, 0, 0, 0, 0, 0, 0, 0, 0, 0, 0, 0, 0, 0, 0, 0, 0, 0, 0, 0, 0, 0, 0, 0, 0, 0, 0, 0, 0, 0, 0, 0, 0, 0, 0, 0, 0, 0, 0, 0, 0, 0, 0, 0, 0, 0, 0, 0, 0, 0, 0, 0, 0, 0, 0, 0, 0, 0, 0, 0, 0, 0, 0, 0, 0, 0, 0, 0, 0, 0, 0, 0, 0, 0, 0, 0, 0, 0, 0, 0, 0, 0, 0, 0, 0, 0, 0, 0, 0, 0, 0, 0, 0, 0, 0, 0, 0, 0, 0, 0, 0, 0, 0, 0, 0, 0, 0, 0, 0, 0, 0, 0, 0, 0, 0, 0, 0, 0, 0, 0, 0, 1, 0, 0, 0, 0, 0, 0, 0, 0, 0, 0, 0, 0, 0, 0, 0, 0, 0, 0, 0, 0, 0, 0, 0, 0, 0, 0, 0, 0, 0, 0, 0, 0, 0, 0, 0, 0, 0, 0, 0, 0, 0, 0, 0, 0, 0, 0, 0, 0, 0, 0, 0, 0, 0, 0, 0, 1, 0, 0, 0, 0, 0, 0, 0, 0, 0, 0, 0, 0, 0, 0, 0, 0, 0, 0, 0, 0, 0, 0, 0, 0, 0, 0, 0, 0, 0, 0, 0, 0, 0, 0, 0, 0, 0, 0, 0, 0, 0, 0, 0, 0, 0, 0, 0, 0, 0, 0, 0, 0, 0, 0, 0, 0, 0, 0, 0, 0, 0, 0, 0, 0, 0, 0, 0, 0, 0, 0, 0, 0, 0, 0, 0, 0, 0, 0, 0, 0, 0, 0, 0, 0, 0, 0, 0, 0, 0, 0, 0, 0, 0, 0, 0, 0, 0, 0, 0, 0, 0, 0, 0, 0, 0, 0, 0, 0, 0, 0, 0, 0, 0, 0, 0, 0, 0, 0, 0, 0, 0, 0, 0, 0, 0, 0, 0, 0, 0, 0, 0, 0, 0, 0, 0, 0, 0, 0, 0, 0, 0, 0, 0, 0, 0, 0, 0, 0, 0, 0, 0, 0, 0, 0, 0, 0, 0, 0, 0, 0, 0, 0, 0, 0, 0, 0, 0, 0, 0, 0, 0, 0, 0, 0, 0, 0, 0, 0, 0, 0, 0, 0, 0, 0, 0, 0, 0, 0, 0, 0, 0, 0, 0, 0, 0, 0, 0, 0, 0, 0, 0, 0, 0, 0, 0, 0, 0, 0, 0, 0, 0, 0, 0, 0, 0, 0, 0, 0, 0, 0, 0, 0, 0, 0, 0, 0, 0, 0, 0, 0, 0, 0, 0, 0, 0, 0, 0, 0, 0, 0, 0, 0, 0, 0, 0, 0, 0, 0, 0, 0, 0, 0, 0, 0, 0, 0, 0, 0, 0, 0, 0, 0, 0, 0, 0, 0, 0, 0, 0, 0, 0, 0, 0, 0, 0, 0, 0, 0, 0, 0, 0, 0, 0, 0, 0, 0, 0, 0, 0, 0, 0, 0, 0, 0, 0, 0, 0, 0, 0, 0, 0, 0, 0, 0, 0, 0, 0, 0, 0, 0, 0, 0, 0, 0, 0, 0, 0, 0, 0, 0, 0, 0, 0, 0, 0, 0, 0, 0, 0, 0, 0, 0, 0, 0, 0, 0, 0, 0, 0, 0, 0, 0, 0, 0, 0, 0, 0, 0, 0, 0, 0, 0, 0, 0, 0, 0, 0, 0, 0, 0, 0, 0, 0, 0, 0, 0, 0, 0, 0, 0, 0, 0, 0, 0, 0, 0, 0, 0, 0, 0, 0, 0, 0, 0, 0, 0, 0, 0, 0, 0, 0, 0, 0, 0, 0, 0, 0, 0, 0, 0, 0, 0, 0, 0, 0, 0, 0, 0, 0, 0, 0, 0, 0, 0, 0, 0, 0, 0, 0, 0, 0, 0, 0, 0, 0, 0, 0, 0, 0, 0, 0, 0, 0, 0, 0, 0, 0, 0, 0, 0, 0, 0, 0, 0, 0, 0, 0, 0, 0, 0, 0, 0, 0, 0, 0, 0, 0, 0, 0, 0, 0, 0, 0, 0, 0, 0, 0, 0, 0, 0, 0, 0, 0, 0, 0, 0, 0, 0, 0, 0, 0, 0, 0, 0, 0, 0, 0, 0, 0, 0, 0, 0, 0, 0, 0, 0, 0, 0, 0, 0, 0, 0, 0, 0, 0, 0, 0, 0, 0, 0, 0, 0, 0, 0, 0, 0, 0, 0, 0, 0, 0, 0, 0, 0, 0, 0, 0, 0, 0, 0, 0, 0, 0, 0, 0, 0, 0, 0, 0, 0, 0, 0, 0, 0, 0, 0, 0, 0, 0, 0, 0, 0, 0, 0, 0, 0, 0, 0, 0, 0, 0, 0, 0, 0, 0, 0, 0, 0, 0, 0, 0, 0, 0, 0, 0, 0, 0, 0, 0, 0, 0, 0, 0, 0, 0, 0, 0, 0, 0, 0, 0, 0, 0, 0, 0, 0, 0, 0, 0, 0, 0, 0, 0, 0, 0, 0, 0, 0, 0, 0, 0, 0, 0, 0, 0, 0, 0, 0, 0, 0, 0, 0, 0, 0, 0, 0, 0, 0, 0, 0, 0, 0, 0, 0, 0, 0, 0, 0, 0, 0, 0, 0, 0, 0, 0, 0, 0, 0, 0, 0, 0, 0, 0, 0, 0, 0, 0, 0, 0, 0, 0, 0, 0, 0, 0, 0, 0, 0, 0, 0, 0, 0, 0, 0, 0, 0, 0, 0, 0, 0, 0, 1, 0, 0, 0, 0, 0, 0, 0, 0, 0, 0, 0, 0, 0, 0, 0, 0, 0, 0, 0, 0, 0, 0, 0, 0, 0, 0, 0, 0, 0, 0, 0, 0, 0, 0, 0, 0, 0, 0, 0, 0, 0, 0, 0, 0, 0, 0, 0, 0, 0, 0, 0, 0, 0, 0, 0, 0, 0, 0, 0, 0, 0, 0, 0, 0, 0, 0, 0, 0, 0, 0, 0, 0, 0, 0, 1, 0, 0, 0, 0, 0, 0, 0, 0, 0, 0, 0, 0, 0, 0, 0, 0, 0, 0, 0, 0, 1, 0, 0, 1, 0, 0, 0, 0, 0, 0, 0, 0, 0, 0, 0, 0, 0, 0, 0, 0, 0, 0, 0, 0, 0, 0, 0, 0, 0, 0, 0, 0, 0, 0, 0, 0, 0, 0, 0, 0, 0, 0, 0, 0, 0, 0, 0, 0, 0, 0, 0, 0, 0, 0, 0, 0, 0, 0, 0, 0, 0, 0, 0, 0, 0, 0, 0, 0, 0, 0, 0, 0, 0, 0, 0, 0, 0, 0, 0, 0, 0, 0, 0, 0, 0, 0, 0, 0, 0, 0, 0, 0, 0, 0, 0, 0, 0, 0, 0, 0, 0, 0, 0, 0, 0, 0, 0, 0, 0, 0, 0, 0, 0, 0, 0, 0, 0, 0, 0, 0, 0, 0, 0, 0, 0, 0, 0, 0, 0, 0, 0, 0, 0, 0, 0, 0, 0, 0, 0, 0, 0, 0, 0, 0, 0, 0, 0, 0, 0, 0, 0, 0, 0, 0, 0, 0, 0, 0, 0, 0, 0, 0, 0, 0, 0, 0, 0, 0, 0, 0, 0, 0, 0, 0, 0, 0, 0, 0, 0, 0, 0, 0, 0, 0, 0, 0, 0, 0, 0, 0, 0, 0, 0, 0, 0, 0, 0, 0, 0, 0, 0, 0, 0, 0, 0, 0, 0, 0, 0, 0, 0, 0, 0, 0, 0, 0, 0, 0, 0, 0, 0, 0, 0, 0, 0, 0, 0, 0, 0, 0, 0, 0, 0, 0, 0, 0, 0, 0, 0, 0, 0, 0, 0, 0, 0, 0, 0, 0, 0, 0, 0, 0, 0, 0, 0, 0, 0, 0, 0, 0, 0, 0, 0, 0, 0, 0, 0, 0, 0, 0, 0, 0, 0, 0, 0, 0, 0, 0, 0, 0, 0, 0, 0, 0, 0, 0, 0, 0, 0, 0, 0, 0, 0, 0, 0, 0, 0, 0, 0, 0, 0, 0, 0, 0, 0, 0, 0, 0, 0, 0, 0, 0, 0, 0, 0, 0, 0, 0, 0, 0, 0, 0, 0, 0, 0, 0, 0, 0, 0, 0, 0, 0, 0, 0, 0, 0, 0, 0, 0, 0, 0, 0, 0, 0, 0, 0, 0, 0, 0, 0, 0, 0, 0, 0, 0, 0, 0, 0, 0, 0, 0, 0, 0, 0, 0, 0, 0, 0, 0, 0, 0, 0, 0, 0, 0, 0, 0, 0, 0, 0, 0, 0, 0, 0, 0, 0, 0, 0, 0, 0, 0, 0, 0, 0, 0, 0, 0, 0, 0, 0, 0, 0, 0, 0, 0, 0, 0, 0, 0, 0, 0, 0, 0, 0, 0, 0, 0, 0, 0, 0, 0, 0, 0, 0, 0, 0, 0, 0, 0, 0, 0, 0, 0, 0, 0, 0, 0, 0, 0, 0, 0, 0, 0, 0, 0, 0, 0, 0, 0, 0, 0, 0, 0, 0, 0, 0, 0, 0, 0, 0, 0, 0, 0, 0, 0, 0, 0, 0, 0, 0, 1, 0, 0, 0, 0, 0, 0, 0, 0, 0, 0, 0, 0, 0, 0, 0, 0, 0, 0, 0, 0, 0, 0, 0, 0, 0, 0, 0, 0, 0, 0, 0, 0, 0, 0, 0, 0, 0, 0, 0, 0, 0, 0, 0, 0, 0, 0, 0, 0, 0, 0, 0, 0, 0, 0, 0, 0, 0, 0, 0, 0, 0, 0, 0, 0, 0, 0, 0, 0, 0, 0, 0, 0, 0, 0, 0, 0, 0, 0, 0, 0, 0, 0, 0, 0, 0, 0, 0, 0, 0, 0, 0, 0, 0, 0, 0, 0, 0, 0, 0, 0, 0, 0, 0, 0, 0, 0, 0, 0, 0, 0, 0, 0, 0, 0, 0, 0, 0, 0, 0, 0, 0, 0, 0, 0, 0, 0, 0, 0, 0, 0, 0, 0, 0, 0, 0, 0, 0, 0, 0, 0, 0, 0, 0, 0, 0, 0, 0, 0, 0, 0, 0, 0, 0, 0, 0, 0, 0, 0, 0, 0, 0, 0, 0, 0, 0, 0, 0, 0, 0, 0, 0, 0, 0, 0, 0, 0, 0, 0, 0, 0, 0, 0, 0, 0, 0, 0, 0, 0, 0, 0, 0, 0, 0, 0, 0, 0, 0, 0, 0, 0, 0, 0, 0, 0, 0, 0, 0, 0, 0, 0, 0, 0, 0, 0, 0, 0, 0, 0, 0, 0, 0, 0, 0, 0, 0, 0, 0, 0, 0, 0, 0, 0, 0, 0, 0, 0, 0, 0, 0, 0, 0, 0, 0, 0, 0, 0, 0, 0, 0, 0, 0, 0, 0, 0, 0, 0, 0, 0, 0, 0, 0, 0, 0, 0, 0, 0, 0, 0, 0, 0, 0, 0, 0, 0, 0, 0, 0, 0, 0, 0, 0, 0, 0, 0, 0, 0, 0, 0, 0, 0, 0, 0, 0, 0, 0, 0, 0, 0, 0, 0, 0, 0, 0, 0, 0, 0, 0, 0, 0, 0, 0, 0, 0, 0, 0, 0, 0, 0, 0, 0, 0, 0, 0, 0, 0, 0, 0, 0, 0, 0, 0, 0, 0, 0, 0, 0, 0, 0, 0, 0, 0, 0, 0, 0, 0, 0, 0, 0, 0, 0, 0, 0, 0, 0, 0, 0, 0, 0, 0, 0, 0, 0, 0, 0, 0, 0, 0, 0, 0, 0, 0, 0, 0, 0, 0, 0, 0, 0, 0, 0, 0, 0, 0, 0, 0, 0, 0, 0, 0, 0, 0, 0, 0, 0, 0, 0, 0, 0, 0, 0, 0, 0, 0, 0, 0, 0, 0, 0, 0, 0, 0, 0, 0, 0, 0, 0, 0, 0, 0, 0, 0, 0, 0, 0, 0, 0, 0, 0, 0, 0, 0, 0, 0, 0, 0, 0, 0, 0, 0, 0, 0, 0, 0, 0, 0, 0, 0, 0, 0, 0, 0, 0, 0, 0, 0, 0, 0, 0, 0, 0, 0, 0, 0, 0, 0, 0, 0, 0, 0, 0, 0, 0, 0, 0, 0, 0, 0, 0, 0, 0, 0, 0, 0, 0, 0, 0, 0, 0, 0, 0, 0, 0, 0, 0, 0, 0, 0, 0, 0, 0, 0, 0, 0, 0, 0, 0, 0, 0, 0, 0, 0, 0, 1, 0, 0, 0, 0, 0, 0, 0, 0, 0, 0, 0, 0, 0, 0, 0, 0, 0, 0, 0, 0, 0, 0, 0, 0, 0, 0, 0, 0, 0, 0, 0, 0, 0, 0, 0, 2, 0, 0, 0, 0, 0, 0, 0, 0, 0, 0, 0, 0, 0, 0, 0, 0, 0, 0, 0, 0, 0, 0, 0, 0, 0, 0, 0, 0, 0, 0, 0, 0, 0, 0, 0, 0, 0, 0, 0, 0, 1, 0, 0, 0, 0, 0, 0, 0, 0, 0, 0, 0, 0, 0, 0, 0, 0, 0, 0, 0, 0, 0, 0, 0, 0, 0, 0, 0, 0, 0, 0, 0, 0, 0, 0, 0, 0, 0, 0, 0, 0, 0, 0, 0, 0, 0, 0, 0, 0, 0, 0, 0, 0, 0, 0, 0, 0, 0, 0, 0, 0, 0, 0, 0, 0, 0, 0, 0, 0, 0, 0, 0, 0, 0, 0, 0, 0, 0, 0, 0, 0, 0, 0, 0, 0, 0, 0, 0, 0, 0, 0, 0, 0, 0, 0, 0, 0, 0, 0, 0, 0, 0, 0, 0, 0, 0, 0, 0, 0, 0, 0, 0, 0, 0, 0, 0, 0, 0, 0, 0, 0, 0, 0, 0, 0, 0, 0, 0, 0, 0, 0, 0, 0, 0, 0, 0, 0, 0, 0, 0, 0, 0, 0, 0, 0, 0, 0, 0, 0, 0, 0, 0, 0, 0, 0, 0, 0, 0, 0, 0, 0, 0, 0, 0, 0, 0, 0, 0, 0, 0, 0, 0, 0, 0, 0, 0, 0, 0, 0, 0, 0, 0, 0, 0, 0, 0, 0, 0, 0, 0, 0, 0, 0, 0, 0, 0, 0, 0, 0, 0, 0, 0, 0, 0, 0, 0, 0, 0, 0, 0, 0, 0, 0, 0, 0, 0, 0, 0, 0, 0, 0, 0, 0, 0, 0, 0, 0, 0, 0, 0, 0, 0, 0, 0, 0, 0, 0, 0, 0, 0, 0, 0, 0, 0, 0, 0, 0, 0, 0, 0, 0, 0, 0, 0, 0, 0, 0, 0, 0, 0, 0, 0, 0, 0, 0, 0, 0, 0, 0, 0, 0, 0, 0, 0, 0, 0, 0, 0, 0, 0, 0, 0, 0, 0, 0, 0, 0, 0, 0, 0, 0, 0, 0, 0, 0, 0, 0, 0, 0, 0, 0, 0, 0, 0, 0, 0, 0, 0, 0, 0, 0, 0, 0, 0, 0, 0, 0, 0, 0, 0, 0, 0, 0, 0, 0, 0, 0, 0, 0, 0, 0, 0, 0, 0, 0, 0, 0, 0, 0, 0, 0, 0, 0, 0, 0, 0, 0, 0, 0, 0, 0, 0, 0, 0, 0, 0, 0, 0, 0, 0, 0, 0, 0, 0, 0, 0, 0, 0, 0, 0, 0, 0, 0, 0, 0, 0, 0, 0, 0, 0, 0, 0, 0, 0, 0, 0, 0, 0, 0, 0, 0, 0, 0, 0, 0, 0, 0, 0, 0, 0, 0, 0, 0, 0, 0, 0, 0, 0, 0, 0, 0, 0, 0, 0, 0, 0, 0, 0, 0, 0, 0, 0, 0, 0, 0, 0, 0, 0, 0, 0, 0, 0, 0, 0, 0, 0, 0, 0, 0, 0, 0, 0, 0, 0, 0, 0, 0, 0, 0, 0, 0, 0, 0, 0, 0, 0, 0, 0, 0, 0, 0, 0, 0, 0, 0, 0, 0, 0, 0, 0, 0, 0, 0, 0, 0, 0, 0, 0, 0, 0, 0, 0, 0, 0, 0, 0, 0, 0, 0, 0, 0, 0, 0, 0, 0, 0, 0, 0, 1, 0, 0, 0, 0, 0, 0, 0, 0, 0, 0, 0, 0, 0, 0, 0, 0, 0, 0, 0, 0, 0, 0, 0, 0, 0, 0, 0, 0, 0, 0, 0, 0, 0, 0, 0, 0, 0, 0, 0, 0, 0, 0, 0, 0, 0, 0, 0, 0, 0, 0, 0, 0, 0, 0, 0, 0, 0, 0, 0, 0, 0, 0, 0, 0, 0, 0, 0, 0, 0, 0, 0, 0, 0, 0, 0, 0, 0, 0, 0, 0, 0, 0, 0, 0, 0, 0, 0, 0, 0, 0, 0, 0, 0, 0, 0, 0, 0, 0, 0, 0, 0, 0, 0, 0, 0, 0, 0, 0, 0, 0, 2, 0, 0, 0, 0, 0, 0, 0, 0, 0, 0, 0, 0, 0, 0, 0, 0, 0, 0, 0, 0, 0, 0, 0, 0, 0, 0, 0, 0, 0, 0, 0, 0, 0, 0, 0, 0, 0, 0, 0, 0, 0, 0, 0, 0, 0, 0, 0, 0, 0, 0, 0, 0, 0, 0, 0, 0, 0, 0, 0, 0, 0, 0, 0, 0, 0, 0, 0, 0, 0, 0, 0, 0, 0, 0, 0, 0, 0, 0, 0, 0, 0, 0, 0, 0, 0, 0, 0, 0, 0, 0, 0, 0, 0, 0, 0, 0, 0, 0, 0, 0, 0, 0, 0, 0, 0, 0, 0, 0, 0, 0, 0, 0, 0, 0, 0, 0, 0, 0, 0, 0, 0, 0, 0, 0, 0, 0, 0, 0, 0, 0, 0, 0, 0, 0, 0, 0, 0, 0, 0, 0, 0, 0, 0, 0, 0, 0, 0, 0, 0, 0, 0, 0, 0, 0, 0, 0, 0, 0, 0, 0, 0, 0, 0, 0, 0, 0, 0, 0, 0, 0, 0, 0, 0, 0, 0, 0, 0, 0, 0, 0, 0, 0, 0, 0, 0, 0, 0, 0, 0, 0, 0, 0, 0, 0, 0, 0, 0, 0, 0, 0, 0, 0, 0, 0, 0, 0, 0, 0, 0, 0, 0, 0, 0, 0, 0, 0, 0, 0, 0, 0, 0, 0, 0, 0, 0, 0, 0, 0, 0, 0, 0, 0, 0, 0, 0, 0, 0, 0, 0, 0, 0, 0, 0, 0, 0, 0, 0, 0, 0, 0, 0, 0, 0, 0, 0, 0, 0, 0, 0, 0, 0, 0, 0, 0, 0, 0, 0, 0, 0, 0, 0, 0, 0, 0, 0, 0, 0, 0, 0, 0, 0, 0, 0, 0, 0, 0, 0, 0, 0, 0, 0, 0, 0, 0, 0, 0, 0, 0, 0, 0, 0, 0, 0, 0, 0, 0, 0, 0, 0, 0, 0, 0, 0, 0, 0, 0, 0, 0, 0, 0, 0, 0, 0, 0, 0, 0, 0, 0, 0, 0, 0, 0, 0, 0, 0, 0, 0, 0, 0, 0, 0, 0, 0, 0, 0, 0, 0, 0, 0, 0, 0, 0, 0, 0, 0, 0, 0, 0, 0, 0, 0, 0, 0, 0, 0, 0, 0, 0, 0, 0, 0, 0, 0, 0, 0, 0, 0, 0, 0, 0, 0, 0, 0, 0, 0, 0, 0, 0, 0, 0, 0, 0, 0, 0, 0, 0, 0, 0, 0, 0, 0, 0, 0, 0, 0, 0, 0, 0, 0, 0, 0, 0, 0, 0, 0, 0, 0, 0, 0, 0, 0, 0, 0, 0, 0, 0, 0, 0, 0, 0, 0, 0, 0, 0, 0, 0, 0, 0, 0, 0, 0, 0, 0, 0, 0, 0, 0, 0, 0, 0, 0, 0, 0, 0, 0, 0, 0, 0, 0, 0, 0, 0, 0, 0, 0, 0, 0, 0, 0, 0, 0, 0, 0, 0, 0, 0, 0, 0, 0, 0, 0, 0, 0, 0, 0, 0, 0, 0, 0, 0, 0, 0, 0, 0, 0, 0, 0, 0, 0, 0, 0, 0, 0, 0, 0, 0, 0, 0, 0, 0, 0, 0, 0, 0, 0, 0, 0, 0, 0, 0, 0, 0, 0, 0, 0, 0, 0, 0, 0, 0, 0, 0, 0, 0, 0, 0, 0, 0, 0, 0, 0, 0, 0, 0, 0, 0, 0, 0, 0, 0, 0, 0, 0, 0, 0, 0, 0, 0, 0, 0, 0, 0, 0, 0, 0, 0, 0, 0, 0, 0, 0, 0, 0, 0, 0, 0, 0, 0, 0, 0, 0, 0, 0, 0, 0, 0, 0, 0, 0, 0, 0, 0, 0, 0, 0, 0, 0, 0, 0, 0, 0, 0, 0, 0, 0, 0, 0, 0, 0, 0, 0, 0, 0, 0, 0, 0, 0, 0, 0, 0, 0, 0, 0, 0, 0, 0, 0, 0, 0, 0, 0, 0, 0, 0, 0, 0, 0, 0, 0, 0, 0, 0, 0, 0, 0, 0, 0, 0, 0, 0, 0, 0, 0, 0, 0, 0, 0, 0, 0, 0, 0, 0, 0, 0, 0, 0, 0, 0, 0, 0, 0, 0, 0, 0, 0, 0, 0, 0, 0, 0, 0, 0, 0, 0, 0, 0, 0, 0, 0, 0, 1, 0, 0, 0, 0, 0, 0, 0, 0, 0, 0, 0, 0, 0, 0, 0, 0, 0, 0, 0, 0, 0, 0, 0, 0, 0, 0, 0, 0, 0, 0, 0, 0, 0, 0, 0, 0, 0, 0, 0, 0, 0, 0, 0, 0, 0, 0, 0, 0, 0, 0, 0, 0, 0, 0, 0, 0, 0, 0, 0, 0, 0, 0, 0, 0, 0, 0, 0, 0, 0, 0, 0, 0, 0, 0, 0, 0, 0, 0, 0, 0, 0, 0, 0, 0, 0, 0, 0, 0, 0, 0, 0, 0, 0, 0, 0, 0, 0, 0, 0, 0, 0, 0, 0, 0, 0, 0, 0, 1, 0, 0, 0, 0, 0, 0, 0, 0, 0, 0, 0, 0, 0, 0, 0, 0, 0, 0, 0, 0, 0, 0, 0, 0, 0, 0, 0, 0, 0, 0, 0, 0, 0, 0, 0, 0, 0, 0, 0, 0, 0, 0, 0, 0, 0, 0, 0, 0, 0, 0, 0, 0, 0, 0, 0, 0, 0, 0, 0, 0, 0, 0, 0, 0, 0, 0, 0, 0, 0, 0, 0, 0, 0, 0, 0, 0, 0, 0, 0, 0, 0, 0, 0, 0, 0, 0, 0, 0, 0, 0, 0, 0, 0, 0, 0, 0, 0, 0, 0, 0, 0, 0, 0, 0, 0, 0, 0, 0, 0, 0, 0, 0, 0, 0, 0, 0, 0, 0, 0, 0, 0, 0, 0, 0, 0, 0, 0, 0, 0, 0, 0, 0, 0, 0, 0, 0, 0, 0, 0, 0, 0, 0, 0, 0, 0, 0, 0, 0, 0, 0, 0, 0, 0, 0, 0, 0, 0, 0, 0, 0, 0, 0, 0, 0, 0, 0, 0, 0, 0, 0, 0, 0, 0, 0, 0, 0, 0, 0, 0, 0, 0, 0, 0, 0, 0, 0, 0, 0, 0, 0, 0, 0, 0, 0, 0, 0, 0, 0, 0, 0, 0, 0, 0, 0, 0, 0, 0, 0, 0, 0, 0, 0, 0, 0, 0, 0, 0, 0, 0, 0, 0, 0, 0, 0, 0, 0, 0, 0, 0, 0, 0, 0, 0, 0, 0, 0, 0, 0, 0, 0, 0, 0, 0, 0, 0, 0, 0, 0, 0, 0, 0, 0, 0, 0, 0, 0, 0, 0, 0, 0, 0, 0, 0, 0, 0, 0, 0, 0, 0, 0, 0, 0, 0, 0, 0, 0, 0, 0, 0, 0, 0, 0, 0, 0, 0, 0, 0, 0, 0, 0, 0, 0, 0, 0, 0, 0, 0, 0, 0, 0, 0, 0, 0, 0, 0, 0, 0, 0, 0, 0, 0, 0, 0, 0, 0, 0, 0, 0, 0, 0, 0, 0, 0, 0, 0, 0, 0, 0, 0, 0, 0, 0, 0, 0, 0, 0, 0, 0, 0, 0, 0, 0, 0, 0, 0, 0, 0, 0, 0, 0, 0, 0, 0, 0, 0, 0, 0, 0, 0, 0, 0, 0, 0, 0, 0, 0, 0, 0, 0, 0, 0, 0, 0, 0, 0, 0, 0, 0, 0, 0, 0, 0, 0, 0, 0, 0, 0, 0, 0, 0, 0, 0, 0, 0, 0, 0, 0, 0, 0, 0, 0, 0, 0, 0, 0, 0, 0, 0, 0, 0, 0, 0, 0, 0, 0, 0, 0, 0, 0, 0, 0, 0, 0, 0, 0, 0, 0, 0, 0, 0, 0, 0, 0, 0, 0, 0, 0, 0, 0, 0, 0, 0, 0, 0, 0, 0, 0, 0, 0, 0, 0, 0, 0, 0, 0, 0, 0, 0, 0, 0, 0, 0, 0, 2, 0, 1, 0]\n"
     ]
    }
   ],
   "source": [
    "test_bow = bow_encoding(test_words, vocabulary)\n",
    "print(test_bow)"
   ]
  },
  {
   "cell_type": "code",
   "execution_count": 42,
   "metadata": {},
   "outputs": [
    {
     "data": {
      "text/plain": [
       "5000"
      ]
     },
     "execution_count": 42,
     "metadata": {},
     "output_type": "execute_result"
    }
   ],
   "source": [
    "len(test_bow)"
   ]
  },
  {
   "cell_type": "markdown",
   "metadata": {},
   "source": [
    "So now we know how to construct a bag of words encoding of a user provided review, how do we send it to our endpoint? First, we need to start the endpoint back up."
   ]
  },
  {
   "cell_type": "code",
   "execution_count": 44,
   "metadata": {},
   "outputs": [
    {
     "name": "stderr",
     "output_type": "stream",
     "text": [
      "Parameter image will be renamed to image_uri in SageMaker Python SDK v2.\n",
      "Using already existing model: xgboost-2021-07-12-15-00-23-612\n"
     ]
    },
    {
     "name": "stdout",
     "output_type": "stream",
     "text": [
      "-------------!"
     ]
    }
   ],
   "source": [
    "xgb_predictor = xgb.deploy(initial_instance_count = 1, instance_type = 'ml.m4.xlarge')"
   ]
  },
  {
   "cell_type": "markdown",
   "metadata": {},
   "source": [
    "At this point we could just do the same thing that we did earlier when we tested our deployed model and send `test_bow` to our endpoint using the `xgb_predictor` object. However, when we eventually construct our Lambda function we won't have access to this object, so how do we call a SageMaker endpoint?\n",
    "\n",
    "It turns out that Python functions that are used in Lambda have access to another Amazon library called `boto3`. This library provides an API for working with Amazon services, including SageMaker. To start with, we need to get a handle to the SageMaker runtime."
   ]
  },
  {
   "cell_type": "code",
   "execution_count": 45,
   "metadata": {},
   "outputs": [],
   "source": [
    "import boto3\n",
    "\n",
    "runtime = boto3.Session().client('sagemaker-runtime')"
   ]
  },
  {
   "cell_type": "markdown",
   "metadata": {},
   "source": [
    "And now that we have access to the SageMaker runtime, we can ask it to make use of (invoke) an endpoint that has already been created. However, we need to provide SageMaker with the name of the deployed endpoint. To find this out we can print it out using the `xgb_predictor` object."
   ]
  },
  {
   "cell_type": "code",
   "execution_count": 46,
   "metadata": {},
   "outputs": [
    {
     "data": {
      "text/plain": [
       "'xgboost-2021-07-12-15-00-23-612'"
      ]
     },
     "execution_count": 46,
     "metadata": {},
     "output_type": "execute_result"
    }
   ],
   "source": [
    "xgb_predictor.endpoint"
   ]
  },
  {
   "cell_type": "markdown",
   "metadata": {},
   "source": [
    "Using the SageMaker runtime and the name of our endpoint, we can invoke the endpoint and send it the `test_bow` data."
   ]
  },
  {
   "cell_type": "code",
   "execution_count": 47,
   "metadata": {},
   "outputs": [
    {
     "ename": "ParamValidationError",
     "evalue": "Parameter validation failed:\nInvalid type for parameter Body, value: [0, 0, 0, 0, 0, 0, 0, 0, 0, 0, 0, 0, 0, 0, 0, 0, 0, 0, 0, 0, 0, 0, 0, 0, 0, 0, 0, 0, 0, 0, 0, 0, 0, 0, 0, 0, 0, 0, 0, 0, 0, 0, 0, 0, 0, 0, 0, 0, 0, 0, 0, 0, 0, 0, 0, 0, 0, 0, 0, 0, 0, 0, 0, 0, 0, 0, 0, 0, 0, 0, 0, 0, 0, 0, 0, 0, 0, 0, 0, 0, 0, 0, 0, 0, 0, 0, 0, 0, 0, 0, 0, 0, 0, 0, 0, 0, 0, 0, 0, 0, 0, 0, 0, 0, 0, 0, 0, 0, 0, 0, 0, 0, 0, 0, 0, 0, 0, 0, 0, 0, 0, 0, 0, 0, 0, 0, 0, 0, 0, 0, 0, 0, 0, 0, 0, 0, 0, 0, 0, 0, 0, 0, 0, 0, 0, 0, 0, 0, 0, 0, 0, 0, 0, 0, 0, 0, 0, 0, 0, 0, 0, 0, 0, 0, 0, 0, 0, 0, 0, 0, 0, 0, 0, 0, 0, 0, 0, 0, 0, 0, 0, 0, 0, 0, 0, 0, 0, 0, 0, 0, 0, 0, 0, 0, 0, 0, 0, 0, 0, 0, 0, 0, 0, 0, 0, 0, 0, 0, 0, 0, 0, 0, 0, 0, 0, 0, 0, 0, 0, 0, 0, 0, 0, 0, 0, 0, 1, 0, 0, 0, 0, 0, 0, 0, 0, 0, 0, 0, 0, 0, 0, 0, 0, 0, 0, 0, 0, 0, 0, 0, 0, 0, 0, 0, 0, 0, 1, 0, 0, 0, 0, 0, 0, 0, 0, 0, 0, 0, 0, 0, 0, 0, 0, 0, 0, 0, 0, 0, 0, 0, 0, 0, 0, 0, 0, 0, 0, 0, 0, 0, 0, 0, 0, 0, 0, 0, 0, 0, 0, 0, 0, 0, 0, 0, 0, 0, 0, 0, 0, 0, 0, 0, 0, 0, 0, 0, 0, 0, 0, 0, 0, 0, 0, 0, 0, 0, 0, 0, 0, 0, 0, 0, 0, 0, 0, 0, 0, 0, 0, 0, 0, 0, 0, 0, 0, 0, 0, 0, 0, 0, 0, 0, 0, 0, 0, 0, 0, 0, 0, 0, 0, 0, 0, 0, 0, 0, 0, 0, 0, 0, 0, 0, 0, 0, 0, 0, 0, 0, 0, 0, 0, 0, 0, 0, 0, 0, 0, 0, 0, 0, 0, 0, 0, 0, 0, 0, 0, 0, 0, 0, 0, 0, 0, 0, 0, 0, 0, 0, 0, 0, 0, 0, 0, 0, 0, 0, 0, 0, 0, 0, 0, 0, 0, 0, 0, 0, 0, 0, 0, 0, 0, 0, 0, 0, 0, 0, 0, 0, 0, 0, 0, 0, 0, 0, 0, 0, 0, 0, 0, 0, 0, 0, 0, 0, 0, 0, 0, 0, 0, 0, 0, 0, 0, 0, 0, 0, 0, 0, 0, 0, 0, 0, 0, 0, 0, 0, 0, 0, 0, 0, 0, 0, 0, 0, 0, 0, 0, 0, 0, 0, 0, 0, 0, 0, 0, 0, 0, 0, 0, 0, 0, 0, 0, 0, 0, 0, 0, 0, 0, 0, 0, 0, 0, 0, 0, 0, 0, 0, 0, 0, 0, 0, 0, 0, 0, 0, 0, 0, 0, 0, 0, 0, 0, 0, 0, 0, 0, 0, 0, 0, 0, 0, 0, 0, 0, 0, 0, 0, 0, 0, 0, 0, 0, 0, 0, 0, 0, 0, 0, 0, 0, 0, 0, 0, 0, 0, 0, 0, 0, 0, 0, 0, 0, 0, 0, 0, 0, 0, 0, 0, 0, 0, 0, 0, 0, 0, 0, 0, 0, 0, 0, 0, 0, 0, 0, 0, 0, 0, 0, 0, 0, 0, 0, 0, 0, 0, 0, 0, 0, 0, 0, 0, 0, 0, 0, 0, 0, 0, 0, 0, 0, 0, 0, 0, 0, 0, 0, 0, 0, 0, 0, 0, 0, 0, 0, 0, 1, 0, 0, 0, 0, 0, 0, 0, 0, 0, 0, 0, 0, 0, 0, 0, 0, 0, 0, 0, 0, 0, 0, 0, 0, 0, 0, 0, 0, 0, 0, 0, 0, 0, 0, 0, 0, 0, 0, 0, 0, 0, 0, 0, 0, 0, 0, 0, 0, 0, 0, 0, 0, 0, 0, 0, 0, 0, 0, 0, 0, 0, 0, 0, 0, 0, 0, 0, 0, 0, 0, 0, 0, 0, 0, 0, 0, 0, 0, 0, 0, 0, 0, 0, 0, 0, 0, 0, 0, 0, 0, 0, 0, 0, 0, 0, 0, 0, 0, 0, 0, 0, 0, 0, 0, 0, 0, 0, 0, 0, 0, 0, 0, 0, 0, 0, 0, 0, 0, 0, 0, 0, 0, 0, 0, 0, 0, 0, 0, 0, 0, 0, 0, 0, 0, 0, 0, 0, 0, 0, 0, 0, 0, 0, 0, 0, 0, 0, 0, 0, 0, 0, 0, 0, 0, 0, 0, 0, 0, 0, 0, 0, 0, 0, 0, 0, 0, 0, 0, 0, 0, 0, 0, 0, 0, 0, 0, 0, 0, 0, 0, 0, 0, 0, 0, 0, 0, 0, 0, 0, 0, 0, 0, 0, 0, 0, 0, 0, 0, 0, 0, 0, 0, 0, 0, 0, 0, 0, 0, 0, 0, 0, 0, 0, 0, 0, 0, 0, 0, 0, 0, 0, 0, 0, 0, 0, 0, 0, 0, 0, 0, 0, 0, 0, 0, 0, 0, 0, 0, 0, 0, 0, 0, 0, 0, 0, 0, 0, 0, 0, 0, 0, 0, 0, 1, 0, 0, 0, 0, 0, 0, 0, 0, 0, 0, 0, 0, 0, 0, 0, 0, 0, 0, 0, 0, 0, 0, 0, 0, 0, 0, 0, 0, 0, 0, 0, 0, 0, 0, 0, 0, 0, 0, 0, 0, 0, 0, 0, 0, 0, 0, 0, 0, 0, 0, 0, 0, 0, 0, 0, 0, 0, 0, 0, 0, 0, 0, 0, 0, 0, 0, 0, 0, 0, 0, 0, 0, 0, 0, 0, 0, 0, 0, 0, 0, 0, 0, 0, 0, 0, 0, 1, 0, 0, 0, 0, 0, 0, 0, 0, 0, 0, 0, 0, 0, 0, 0, 0, 0, 0, 0, 0, 0, 0, 0, 0, 0, 0, 0, 0, 0, 0, 0, 0, 0, 0, 0, 0, 0, 0, 0, 0, 0, 0, 0, 0, 0, 0, 0, 0, 0, 0, 0, 0, 0, 0, 0, 0, 0, 0, 0, 0, 0, 0, 0, 0, 0, 0, 0, 0, 0, 0, 0, 0, 0, 0, 0, 0, 0, 0, 0, 0, 0, 0, 0, 0, 0, 0, 0, 0, 0, 0, 0, 0, 0, 0, 0, 0, 0, 0, 0, 0, 0, 0, 0, 0, 0, 0, 0, 0, 0, 0, 0, 0, 0, 0, 0, 0, 0, 0, 0, 0, 0, 0, 0, 0, 0, 0, 0, 0, 0, 0, 0, 0, 0, 0, 0, 0, 0, 0, 0, 0, 0, 0, 0, 0, 0, 0, 0, 0, 0, 0, 0, 0, 0, 0, 0, 0, 0, 0, 0, 0, 0, 0, 0, 0, 0, 0, 0, 0, 0, 0, 0, 0, 0, 0, 0, 0, 0, 0, 0, 0, 0, 0, 0, 0, 0, 0, 0, 0, 0, 0, 0, 0, 0, 0, 0, 0, 0, 0, 0, 0, 0, 0, 0, 0, 0, 0, 0, 0, 0, 0, 0, 0, 0, 0, 0, 0, 0, 0, 0, 0, 0, 0, 0, 0, 0, 0, 0, 0, 0, 0, 0, 0, 0, 0, 0, 0, 0, 0, 0, 0, 0, 0, 0, 0, 0, 0, 0, 0, 0, 0, 0, 0, 1, 0, 0, 0, 0, 0, 0, 0, 0, 0, 0, 0, 0, 0, 0, 0, 0, 0, 0, 0, 0, 0, 0, 0, 0, 0, 0, 0, 0, 0, 0, 0, 0, 0, 0, 0, 0, 0, 0, 0, 0, 0, 0, 0, 0, 0, 0, 0, 0, 0, 0, 0, 0, 0, 0, 0, 1, 0, 0, 0, 0, 0, 0, 0, 0, 0, 0, 0, 0, 0, 0, 0, 0, 0, 0, 0, 0, 0, 0, 0, 0, 0, 0, 0, 0, 0, 0, 0, 0, 0, 0, 0, 0, 0, 0, 0, 0, 0, 0, 0, 0, 0, 0, 0, 0, 0, 0, 0, 0, 0, 0, 0, 0, 0, 0, 0, 0, 0, 0, 0, 0, 0, 0, 0, 0, 0, 0, 0, 0, 0, 0, 0, 0, 0, 0, 0, 0, 0, 0, 0, 0, 0, 0, 0, 0, 0, 0, 0, 0, 0, 0, 0, 0, 0, 0, 0, 0, 0, 0, 0, 0, 0, 0, 0, 0, 0, 0, 0, 0, 0, 0, 0, 0, 0, 0, 0, 0, 0, 0, 0, 0, 0, 0, 0, 0, 0, 0, 0, 0, 0, 0, 0, 0, 0, 0, 0, 0, 0, 0, 0, 0, 0, 0, 0, 0, 0, 0, 0, 0, 0, 0, 0, 0, 0, 0, 0, 0, 0, 0, 0, 0, 0, 0, 0, 0, 0, 0, 0, 0, 0, 0, 0, 0, 0, 0, 0, 0, 0, 0, 0, 0, 0, 0, 0, 0, 0, 0, 0, 0, 0, 0, 0, 0, 0, 0, 0, 0, 0, 0, 0, 0, 0, 0, 0, 0, 0, 0, 0, 0, 0, 0, 0, 0, 0, 0, 0, 0, 0, 0, 0, 0, 0, 0, 0, 0, 0, 0, 0, 0, 0, 0, 0, 0, 0, 0, 0, 0, 0, 0, 0, 0, 0, 0, 0, 0, 0, 0, 0, 0, 0, 0, 0, 0, 0, 0, 0, 0, 0, 0, 0, 0, 0, 0, 0, 0, 0, 0, 0, 0, 0, 0, 0, 0, 0, 0, 0, 0, 0, 0, 0, 0, 0, 0, 0, 0, 0, 0, 0, 0, 0, 0, 0, 0, 0, 0, 0, 0, 0, 0, 0, 0, 0, 0, 0, 0, 0, 0, 0, 0, 0, 0, 0, 0, 0, 0, 0, 0, 0, 0, 0, 0, 0, 0, 0, 0, 0, 0, 0, 0, 0, 0, 0, 0, 0, 0, 0, 0, 0, 0, 0, 0, 0, 0, 0, 0, 0, 0, 0, 0, 0, 0, 0, 0, 0, 0, 0, 0, 0, 0, 0, 0, 0, 0, 0, 0, 0, 0, 0, 0, 0, 0, 0, 0, 0, 0, 0, 0, 0, 0, 0, 0, 0, 0, 0, 0, 0, 0, 0, 0, 0, 0, 0, 0, 0, 0, 0, 0, 0, 0, 0, 0, 0, 0, 0, 0, 0, 0, 0, 0, 0, 0, 0, 0, 0, 0, 0, 0, 0, 0, 0, 0, 0, 0, 0, 0, 0, 0, 0, 0, 0, 0, 0, 0, 0, 0, 0, 0, 0, 0, 0, 0, 0, 0, 0, 0, 0, 0, 0, 0, 0, 0, 0, 0, 0, 0, 0, 0, 0, 0, 0, 0, 0, 0, 0, 0, 0, 0, 0, 0, 0, 0, 0, 0, 0, 0, 0, 0, 0, 0, 0, 0, 0, 0, 0, 0, 0, 0, 0, 0, 0, 0, 0, 0, 0, 0, 0, 0, 0, 0, 0, 0, 0, 0, 0, 0, 0, 0, 0, 0, 0, 0, 0, 0, 0, 0, 0, 0, 0, 0, 0, 0, 0, 0, 0, 0, 0, 0, 0, 0, 0, 0, 0, 0, 0, 0, 0, 0, 0, 0, 0, 0, 0, 0, 0, 0, 0, 0, 0, 0, 0, 0, 0, 0, 0, 0, 0, 0, 0, 0, 0, 0, 0, 0, 0, 0, 0, 0, 0, 0, 0, 0, 0, 0, 0, 0, 0, 0, 0, 0, 0, 0, 0, 0, 0, 0, 0, 0, 0, 0, 0, 0, 0, 0, 0, 0, 0, 0, 0, 0, 0, 0, 0, 0, 0, 0, 0, 0, 0, 0, 0, 0, 0, 0, 0, 0, 0, 0, 0, 0, 0, 0, 0, 0, 0, 0, 0, 0, 0, 0, 0, 0, 0, 0, 0, 0, 0, 0, 0, 0, 0, 0, 0, 0, 0, 0, 0, 0, 0, 0, 0, 0, 0, 0, 0, 0, 0, 0, 0, 0, 0, 0, 0, 0, 0, 0, 0, 0, 0, 0, 0, 0, 0, 0, 0, 0, 0, 0, 0, 1, 0, 0, 0, 0, 0, 0, 0, 0, 0, 0, 0, 0, 0, 0, 0, 0, 0, 0, 0, 0, 0, 0, 0, 0, 0, 0, 0, 0, 0, 0, 0, 0, 0, 0, 0, 0, 0, 0, 0, 0, 0, 0, 0, 0, 0, 0, 0, 0, 0, 0, 0, 0, 0, 0, 0, 0, 0, 0, 0, 0, 0, 0, 0, 0, 0, 0, 0, 0, 0, 0, 0, 0, 0, 0, 1, 0, 0, 0, 0, 0, 0, 0, 0, 0, 0, 0, 0, 0, 0, 0, 0, 0, 0, 0, 0, 1, 0, 0, 1, 0, 0, 0, 0, 0, 0, 0, 0, 0, 0, 0, 0, 0, 0, 0, 0, 0, 0, 0, 0, 0, 0, 0, 0, 0, 0, 0, 0, 0, 0, 0, 0, 0, 0, 0, 0, 0, 0, 0, 0, 0, 0, 0, 0, 0, 0, 0, 0, 0, 0, 0, 0, 0, 0, 0, 0, 0, 0, 0, 0, 0, 0, 0, 0, 0, 0, 0, 0, 0, 0, 0, 0, 0, 0, 0, 0, 0, 0, 0, 0, 0, 0, 0, 0, 0, 0, 0, 0, 0, 0, 0, 0, 0, 0, 0, 0, 0, 0, 0, 0, 0, 0, 0, 0, 0, 0, 0, 0, 0, 0, 0, 0, 0, 0, 0, 0, 0, 0, 0, 0, 0, 0, 0, 0, 0, 0, 0, 0, 0, 0, 0, 0, 0, 0, 0, 0, 0, 0, 0, 0, 0, 0, 0, 0, 0, 0, 0, 0, 0, 0, 0, 0, 0, 0, 0, 0, 0, 0, 0, 0, 0, 0, 0, 0, 0, 0, 0, 0, 0, 0, 0, 0, 0, 0, 0, 0, 0, 0, 0, 0, 0, 0, 0, 0, 0, 0, 0, 0, 0, 0, 0, 0, 0, 0, 0, 0, 0, 0, 0, 0, 0, 0, 0, 0, 0, 0, 0, 0, 0, 0, 0, 0, 0, 0, 0, 0, 0, 0, 0, 0, 0, 0, 0, 0, 0, 0, 0, 0, 0, 0, 0, 0, 0, 0, 0, 0, 0, 0, 0, 0, 0, 0, 0, 0, 0, 0, 0, 0, 0, 0, 0, 0, 0, 0, 0, 0, 0, 0, 0, 0, 0, 0, 0, 0, 0, 0, 0, 0, 0, 0, 0, 0, 0, 0, 0, 0, 0, 0, 0, 0, 0, 0, 0, 0, 0, 0, 0, 0, 0, 0, 0, 0, 0, 0, 0, 0, 0, 0, 0, 0, 0, 0, 0, 0, 0, 0, 0, 0, 0, 0, 0, 0, 0, 0, 0, 0, 0, 0, 0, 0, 0, 0, 0, 0, 0, 0, 0, 0, 0, 0, 0, 0, 0, 0, 0, 0, 0, 0, 0, 0, 0, 0, 0, 0, 0, 0, 0, 0, 0, 0, 0, 0, 0, 0, 0, 0, 0, 0, 0, 0, 0, 0, 0, 0, 0, 0, 0, 0, 0, 0, 0, 0, 0, 0, 0, 0, 0, 0, 0, 0, 0, 0, 0, 0, 0, 0, 0, 0, 0, 0, 0, 0, 0, 0, 0, 0, 0, 0, 0, 0, 0, 0, 0, 0, 0, 0, 0, 0, 0, 0, 0, 0, 0, 0, 0, 0, 0, 0, 0, 0, 0, 0, 0, 0, 0, 0, 0, 0, 0, 0, 0, 0, 0, 0, 0, 0, 0, 0, 0, 0, 0, 0, 0, 0, 0, 0, 0, 0, 0, 0, 0, 0, 0, 0, 0, 0, 0, 0, 0, 0, 0, 0, 0, 0, 0, 0, 1, 0, 0, 0, 0, 0, 0, 0, 0, 0, 0, 0, 0, 0, 0, 0, 0, 0, 0, 0, 0, 0, 0, 0, 0, 0, 0, 0, 0, 0, 0, 0, 0, 0, 0, 0, 0, 0, 0, 0, 0, 0, 0, 0, 0, 0, 0, 0, 0, 0, 0, 0, 0, 0, 0, 0, 0, 0, 0, 0, 0, 0, 0, 0, 0, 0, 0, 0, 0, 0, 0, 0, 0, 0, 0, 0, 0, 0, 0, 0, 0, 0, 0, 0, 0, 0, 0, 0, 0, 0, 0, 0, 0, 0, 0, 0, 0, 0, 0, 0, 0, 0, 0, 0, 0, 0, 0, 0, 0, 0, 0, 0, 0, 0, 0, 0, 0, 0, 0, 0, 0, 0, 0, 0, 0, 0, 0, 0, 0, 0, 0, 0, 0, 0, 0, 0, 0, 0, 0, 0, 0, 0, 0, 0, 0, 0, 0, 0, 0, 0, 0, 0, 0, 0, 0, 0, 0, 0, 0, 0, 0, 0, 0, 0, 0, 0, 0, 0, 0, 0, 0, 0, 0, 0, 0, 0, 0, 0, 0, 0, 0, 0, 0, 0, 0, 0, 0, 0, 0, 0, 0, 0, 0, 0, 0, 0, 0, 0, 0, 0, 0, 0, 0, 0, 0, 0, 0, 0, 0, 0, 0, 0, 0, 0, 0, 0, 0, 0, 0, 0, 0, 0, 0, 0, 0, 0, 0, 0, 0, 0, 0, 0, 0, 0, 0, 0, 0, 0, 0, 0, 0, 0, 0, 0, 0, 0, 0, 0, 0, 0, 0, 0, 0, 0, 0, 0, 0, 0, 0, 0, 0, 0, 0, 0, 0, 0, 0, 0, 0, 0, 0, 0, 0, 0, 0, 0, 0, 0, 0, 0, 0, 0, 0, 0, 0, 0, 0, 0, 0, 0, 0, 0, 0, 0, 0, 0, 0, 0, 0, 0, 0, 0, 0, 0, 0, 0, 0, 0, 0, 0, 0, 0, 0, 0, 0, 0, 0, 0, 0, 0, 0, 0, 0, 0, 0, 0, 0, 0, 0, 0, 0, 0, 0, 0, 0, 0, 0, 0, 0, 0, 0, 0, 0, 0, 0, 0, 0, 0, 0, 0, 0, 0, 0, 0, 0, 0, 0, 0, 0, 0, 0, 0, 0, 0, 0, 0, 0, 0, 0, 0, 0, 0, 0, 0, 0, 0, 0, 0, 0, 0, 0, 0, 0, 0, 0, 0, 0, 0, 0, 0, 0, 0, 0, 0, 0, 0, 0, 0, 0, 0, 0, 0, 0, 0, 0, 0, 0, 0, 0, 0, 0, 0, 0, 0, 0, 0, 0, 0, 0, 0, 0, 0, 0, 0, 0, 0, 0, 0, 0, 0, 0, 0, 0, 0, 0, 0, 0, 0, 0, 0, 0, 0, 0, 0, 0, 0, 0, 0, 0, 0, 0, 0, 0, 0, 0, 0, 0, 0, 0, 0, 0, 0, 0, 0, 0, 0, 0, 0, 0, 0, 0, 0, 0, 0, 0, 0, 0, 0, 0, 0, 0, 0, 0, 0, 0, 0, 0, 0, 0, 0, 0, 0, 0, 0, 0, 0, 0, 0, 0, 0, 0, 0, 0, 0, 0, 0, 0, 0, 0, 0, 0, 0, 0, 1, 0, 0, 0, 0, 0, 0, 0, 0, 0, 0, 0, 0, 0, 0, 0, 0, 0, 0, 0, 0, 0, 0, 0, 0, 0, 0, 0, 0, 0, 0, 0, 0, 0, 0, 0, 2, 0, 0, 0, 0, 0, 0, 0, 0, 0, 0, 0, 0, 0, 0, 0, 0, 0, 0, 0, 0, 0, 0, 0, 0, 0, 0, 0, 0, 0, 0, 0, 0, 0, 0, 0, 0, 0, 0, 0, 0, 1, 0, 0, 0, 0, 0, 0, 0, 0, 0, 0, 0, 0, 0, 0, 0, 0, 0, 0, 0, 0, 0, 0, 0, 0, 0, 0, 0, 0, 0, 0, 0, 0, 0, 0, 0, 0, 0, 0, 0, 0, 0, 0, 0, 0, 0, 0, 0, 0, 0, 0, 0, 0, 0, 0, 0, 0, 0, 0, 0, 0, 0, 0, 0, 0, 0, 0, 0, 0, 0, 0, 0, 0, 0, 0, 0, 0, 0, 0, 0, 0, 0, 0, 0, 0, 0, 0, 0, 0, 0, 0, 0, 0, 0, 0, 0, 0, 0, 0, 0, 0, 0, 0, 0, 0, 0, 0, 0, 0, 0, 0, 0, 0, 0, 0, 0, 0, 0, 0, 0, 0, 0, 0, 0, 0, 0, 0, 0, 0, 0, 0, 0, 0, 0, 0, 0, 0, 0, 0, 0, 0, 0, 0, 0, 0, 0, 0, 0, 0, 0, 0, 0, 0, 0, 0, 0, 0, 0, 0, 0, 0, 0, 0, 0, 0, 0, 0, 0, 0, 0, 0, 0, 0, 0, 0, 0, 0, 0, 0, 0, 0, 0, 0, 0, 0, 0, 0, 0, 0, 0, 0, 0, 0, 0, 0, 0, 0, 0, 0, 0, 0, 0, 0, 0, 0, 0, 0, 0, 0, 0, 0, 0, 0, 0, 0, 0, 0, 0, 0, 0, 0, 0, 0, 0, 0, 0, 0, 0, 0, 0, 0, 0, 0, 0, 0, 0, 0, 0, 0, 0, 0, 0, 0, 0, 0, 0, 0, 0, 0, 0, 0, 0, 0, 0, 0, 0, 0, 0, 0, 0, 0, 0, 0, 0, 0, 0, 0, 0, 0, 0, 0, 0, 0, 0, 0, 0, 0, 0, 0, 0, 0, 0, 0, 0, 0, 0, 0, 0, 0, 0, 0, 0, 0, 0, 0, 0, 0, 0, 0, 0, 0, 0, 0, 0, 0, 0, 0, 0, 0, 0, 0, 0, 0, 0, 0, 0, 0, 0, 0, 0, 0, 0, 0, 0, 0, 0, 0, 0, 0, 0, 0, 0, 0, 0, 0, 0, 0, 0, 0, 0, 0, 0, 0, 0, 0, 0, 0, 0, 0, 0, 0, 0, 0, 0, 0, 0, 0, 0, 0, 0, 0, 0, 0, 0, 0, 0, 0, 0, 0, 0, 0, 0, 0, 0, 0, 0, 0, 0, 0, 0, 0, 0, 0, 0, 0, 0, 0, 0, 0, 0, 0, 0, 0, 0, 0, 0, 0, 0, 0, 0, 0, 0, 0, 0, 0, 0, 0, 0, 0, 0, 0, 0, 0, 0, 0, 0, 0, 0, 0, 0, 0, 0, 0, 0, 0, 0, 0, 0, 0, 0, 0, 0, 0, 0, 0, 0, 0, 0, 0, 0, 0, 0, 0, 0, 0, 0, 0, 0, 0, 0, 0, 0, 0, 0, 0, 0, 0, 0, 0, 0, 0, 0, 0, 0, 0, 0, 0, 0, 0, 0, 0, 0, 0, 0, 0, 0, 0, 0, 0, 0, 0, 0, 0, 0, 0, 0, 0, 0, 0, 0, 0, 0, 0, 0, 0, 0, 0, 0, 1, 0, 0, 0, 0, 0, 0, 0, 0, 0, 0, 0, 0, 0, 0, 0, 0, 0, 0, 0, 0, 0, 0, 0, 0, 0, 0, 0, 0, 0, 0, 0, 0, 0, 0, 0, 0, 0, 0, 0, 0, 0, 0, 0, 0, 0, 0, 0, 0, 0, 0, 0, 0, 0, 0, 0, 0, 0, 0, 0, 0, 0, 0, 0, 0, 0, 0, 0, 0, 0, 0, 0, 0, 0, 0, 0, 0, 0, 0, 0, 0, 0, 0, 0, 0, 0, 0, 0, 0, 0, 0, 0, 0, 0, 0, 0, 0, 0, 0, 0, 0, 0, 0, 0, 0, 0, 0, 0, 0, 0, 0, 2, 0, 0, 0, 0, 0, 0, 0, 0, 0, 0, 0, 0, 0, 0, 0, 0, 0, 0, 0, 0, 0, 0, 0, 0, 0, 0, 0, 0, 0, 0, 0, 0, 0, 0, 0, 0, 0, 0, 0, 0, 0, 0, 0, 0, 0, 0, 0, 0, 0, 0, 0, 0, 0, 0, 0, 0, 0, 0, 0, 0, 0, 0, 0, 0, 0, 0, 0, 0, 0, 0, 0, 0, 0, 0, 0, 0, 0, 0, 0, 0, 0, 0, 0, 0, 0, 0, 0, 0, 0, 0, 0, 0, 0, 0, 0, 0, 0, 0, 0, 0, 0, 0, 0, 0, 0, 0, 0, 0, 0, 0, 0, 0, 0, 0, 0, 0, 0, 0, 0, 0, 0, 0, 0, 0, 0, 0, 0, 0, 0, 0, 0, 0, 0, 0, 0, 0, 0, 0, 0, 0, 0, 0, 0, 0, 0, 0, 0, 0, 0, 0, 0, 0, 0, 0, 0, 0, 0, 0, 0, 0, 0, 0, 0, 0, 0, 0, 0, 0, 0, 0, 0, 0, 0, 0, 0, 0, 0, 0, 0, 0, 0, 0, 0, 0, 0, 0, 0, 0, 0, 0, 0, 0, 0, 0, 0, 0, 0, 0, 0, 0, 0, 0, 0, 0, 0, 0, 0, 0, 0, 0, 0, 0, 0, 0, 0, 0, 0, 0, 0, 0, 0, 0, 0, 0, 0, 0, 0, 0, 0, 0, 0, 0, 0, 0, 0, 0, 0, 0, 0, 0, 0, 0, 0, 0, 0, 0, 0, 0, 0, 0, 0, 0, 0, 0, 0, 0, 0, 0, 0, 0, 0, 0, 0, 0, 0, 0, 0, 0, 0, 0, 0, 0, 0, 0, 0, 0, 0, 0, 0, 0, 0, 0, 0, 0, 0, 0, 0, 0, 0, 0, 0, 0, 0, 0, 0, 0, 0, 0, 0, 0, 0, 0, 0, 0, 0, 0, 0, 0, 0, 0, 0, 0, 0, 0, 0, 0, 0, 0, 0, 0, 0, 0, 0, 0, 0, 0, 0, 0, 0, 0, 0, 0, 0, 0, 0, 0, 0, 0, 0, 0, 0, 0, 0, 0, 0, 0, 0, 0, 0, 0, 0, 0, 0, 0, 0, 0, 0, 0, 0, 0, 0, 0, 0, 0, 0, 0, 0, 0, 0, 0, 0, 0, 0, 0, 0, 0, 0, 0, 0, 0, 0, 0, 0, 0, 0, 0, 0, 0, 0, 0, 0, 0, 0, 0, 0, 0, 0, 0, 0, 0, 0, 0, 0, 0, 0, 0, 0, 0, 0, 0, 0, 0, 0, 0, 0, 0, 0, 0, 0, 0, 0, 0, 0, 0, 0, 0, 0, 0, 0, 0, 0, 0, 0, 0, 0, 0, 0, 0, 0, 0, 0, 0, 0, 0, 0, 0, 0, 0, 0, 0, 0, 0, 0, 0, 0, 0, 0, 0, 0, 0, 0, 0, 0, 0, 0, 0, 0, 0, 0, 0, 0, 0, 0, 0, 0, 0, 0, 0, 0, 0, 0, 0, 0, 0, 0, 0, 0, 0, 0, 0, 0, 0, 0, 0, 0, 0, 0, 0, 0, 0, 0, 0, 0, 0, 0, 0, 0, 0, 0, 0, 0, 0, 0, 0, 0, 0, 0, 0, 0, 0, 0, 0, 0, 0, 0, 0, 0, 0, 0, 0, 0, 0, 0, 0, 0, 0, 0, 0, 0, 0, 0, 0, 0, 0, 0, 0, 0, 0, 0, 0, 0, 0, 0, 0, 0, 0, 0, 0, 0, 0, 0, 0, 0, 0, 0, 0, 0, 0, 0, 0, 0, 0, 0, 0, 0, 0, 0, 0, 0, 0, 0, 0, 0, 0, 0, 0, 0, 0, 0, 0, 0, 0, 0, 0, 0, 0, 0, 0, 0, 0, 0, 0, 0, 0, 0, 0, 0, 0, 0, 0, 0, 0, 0, 0, 0, 0, 0, 0, 0, 0, 0, 0, 0, 0, 0, 0, 0, 0, 0, 0, 0, 0, 0, 0, 0, 0, 0, 0, 0, 0, 0, 0, 0, 0, 0, 0, 0, 0, 0, 0, 0, 0, 0, 0, 0, 0, 0, 0, 0, 0, 0, 0, 0, 0, 0, 0, 0, 0, 0, 0, 0, 0, 0, 0, 0, 0, 0, 0, 0, 0, 0, 0, 0, 0, 0, 0, 0, 0, 0, 0, 1, 0, 0, 0, 0, 0, 0, 0, 0, 0, 0, 0, 0, 0, 0, 0, 0, 0, 0, 0, 0, 0, 0, 0, 0, 0, 0, 0, 0, 0, 0, 0, 0, 0, 0, 0, 0, 0, 0, 0, 0, 0, 0, 0, 0, 0, 0, 0, 0, 0, 0, 0, 0, 0, 0, 0, 0, 0, 0, 0, 0, 0, 0, 0, 0, 0, 0, 0, 0, 0, 0, 0, 0, 0, 0, 0, 0, 0, 0, 0, 0, 0, 0, 0, 0, 0, 0, 0, 0, 0, 0, 0, 0, 0, 0, 0, 0, 0, 0, 0, 0, 0, 0, 0, 0, 0, 0, 0, 1, 0, 0, 0, 0, 0, 0, 0, 0, 0, 0, 0, 0, 0, 0, 0, 0, 0, 0, 0, 0, 0, 0, 0, 0, 0, 0, 0, 0, 0, 0, 0, 0, 0, 0, 0, 0, 0, 0, 0, 0, 0, 0, 0, 0, 0, 0, 0, 0, 0, 0, 0, 0, 0, 0, 0, 0, 0, 0, 0, 0, 0, 0, 0, 0, 0, 0, 0, 0, 0, 0, 0, 0, 0, 0, 0, 0, 0, 0, 0, 0, 0, 0, 0, 0, 0, 0, 0, 0, 0, 0, 0, 0, 0, 0, 0, 0, 0, 0, 0, 0, 0, 0, 0, 0, 0, 0, 0, 0, 0, 0, 0, 0, 0, 0, 0, 0, 0, 0, 0, 0, 0, 0, 0, 0, 0, 0, 0, 0, 0, 0, 0, 0, 0, 0, 0, 0, 0, 0, 0, 0, 0, 0, 0, 0, 0, 0, 0, 0, 0, 0, 0, 0, 0, 0, 0, 0, 0, 0, 0, 0, 0, 0, 0, 0, 0, 0, 0, 0, 0, 0, 0, 0, 0, 0, 0, 0, 0, 0, 0, 0, 0, 0, 0, 0, 0, 0, 0, 0, 0, 0, 0, 0, 0, 0, 0, 0, 0, 0, 0, 0, 0, 0, 0, 0, 0, 0, 0, 0, 0, 0, 0, 0, 0, 0, 0, 0, 0, 0, 0, 0, 0, 0, 0, 0, 0, 0, 0, 0, 0, 0, 0, 0, 0, 0, 0, 0, 0, 0, 0, 0, 0, 0, 0, 0, 0, 0, 0, 0, 0, 0, 0, 0, 0, 0, 0, 0, 0, 0, 0, 0, 0, 0, 0, 0, 0, 0, 0, 0, 0, 0, 0, 0, 0, 0, 0, 0, 0, 0, 0, 0, 0, 0, 0, 0, 0, 0, 0, 0, 0, 0, 0, 0, 0, 0, 0, 0, 0, 0, 0, 0, 0, 0, 0, 0, 0, 0, 0, 0, 0, 0, 0, 0, 0, 0, 0, 0, 0, 0, 0, 0, 0, 0, 0, 0, 0, 0, 0, 0, 0, 0, 0, 0, 0, 0, 0, 0, 0, 0, 0, 0, 0, 0, 0, 0, 0, 0, 0, 0, 0, 0, 0, 0, 0, 0, 0, 0, 0, 0, 0, 0, 0, 0, 0, 0, 0, 0, 0, 0, 0, 0, 0, 0, 0, 0, 0, 0, 0, 0, 0, 0, 0, 0, 0, 0, 0, 0, 0, 0, 0, 0, 0, 0, 0, 0, 0, 0, 0, 0, 0, 0, 0, 0, 0, 0, 0, 0, 0, 0, 0, 0, 0, 0, 0, 0, 0, 0, 0, 0, 0, 0, 0, 0, 0, 0, 0, 0, 0, 0, 0, 0, 0, 0, 0, 0, 0, 0, 0, 0, 0, 0, 0, 0, 0, 0, 0, 0, 0, 0, 0, 0, 0, 0, 0, 0, 0, 0, 0, 0, 0, 0, 0, 0, 0, 2, 0, 1, 0], type: <class 'list'>, valid types: <class 'bytes'>, <class 'bytearray'>, file-like object",
     "output_type": "error",
     "traceback": [
      "\u001b[0;31m---------------------------------------------------------------------------\u001b[0m",
      "\u001b[0;31mParamValidationError\u001b[0m                      Traceback (most recent call last)",
      "\u001b[0;32m<ipython-input-47-c9ab54ae3a48>\u001b[0m in \u001b[0;36m<module>\u001b[0;34m\u001b[0m\n\u001b[1;32m      1\u001b[0m response = runtime.invoke_endpoint(EndpointName = xgb_predictor.endpoint, # The name of the endpoint we created\n\u001b[1;32m      2\u001b[0m                                        \u001b[0mContentType\u001b[0m \u001b[0;34m=\u001b[0m \u001b[0;34m'text/csv'\u001b[0m\u001b[0;34m,\u001b[0m                     \u001b[0;31m# The data format that is expected\u001b[0m\u001b[0;34m\u001b[0m\u001b[0;34m\u001b[0m\u001b[0m\n\u001b[0;32m----> 3\u001b[0;31m                                        Body = test_bow)\n\u001b[0m",
      "\u001b[0;32m~/anaconda3/envs/python3/lib/python3.6/site-packages/botocore/client.py\u001b[0m in \u001b[0;36m_api_call\u001b[0;34m(self, *args, **kwargs)\u001b[0m\n\u001b[1;32m    384\u001b[0m                     \"%s() only accepts keyword arguments.\" % py_operation_name)\n\u001b[1;32m    385\u001b[0m             \u001b[0;31m# The \"self\" in this scope is referring to the BaseClient.\u001b[0m\u001b[0;34m\u001b[0m\u001b[0;34m\u001b[0m\u001b[0;34m\u001b[0m\u001b[0m\n\u001b[0;32m--> 386\u001b[0;31m             \u001b[0;32mreturn\u001b[0m \u001b[0mself\u001b[0m\u001b[0;34m.\u001b[0m\u001b[0m_make_api_call\u001b[0m\u001b[0;34m(\u001b[0m\u001b[0moperation_name\u001b[0m\u001b[0;34m,\u001b[0m \u001b[0mkwargs\u001b[0m\u001b[0;34m)\u001b[0m\u001b[0;34m\u001b[0m\u001b[0;34m\u001b[0m\u001b[0m\n\u001b[0m\u001b[1;32m    387\u001b[0m \u001b[0;34m\u001b[0m\u001b[0m\n\u001b[1;32m    388\u001b[0m         \u001b[0m_api_call\u001b[0m\u001b[0;34m.\u001b[0m\u001b[0m__name__\u001b[0m \u001b[0;34m=\u001b[0m \u001b[0mstr\u001b[0m\u001b[0;34m(\u001b[0m\u001b[0mpy_operation_name\u001b[0m\u001b[0;34m)\u001b[0m\u001b[0;34m\u001b[0m\u001b[0;34m\u001b[0m\u001b[0m\n",
      "\u001b[0;32m~/anaconda3/envs/python3/lib/python3.6/site-packages/botocore/client.py\u001b[0m in \u001b[0;36m_make_api_call\u001b[0;34m(self, operation_name, api_params)\u001b[0m\n\u001b[1;32m    676\u001b[0m         }\n\u001b[1;32m    677\u001b[0m         request_dict = self._convert_to_request_dict(\n\u001b[0;32m--> 678\u001b[0;31m             api_params, operation_model, context=request_context)\n\u001b[0m\u001b[1;32m    679\u001b[0m \u001b[0;34m\u001b[0m\u001b[0m\n\u001b[1;32m    680\u001b[0m         \u001b[0mservice_id\u001b[0m \u001b[0;34m=\u001b[0m \u001b[0mself\u001b[0m\u001b[0;34m.\u001b[0m\u001b[0m_service_model\u001b[0m\u001b[0;34m.\u001b[0m\u001b[0mservice_id\u001b[0m\u001b[0;34m.\u001b[0m\u001b[0mhyphenize\u001b[0m\u001b[0;34m(\u001b[0m\u001b[0;34m)\u001b[0m\u001b[0;34m\u001b[0m\u001b[0;34m\u001b[0m\u001b[0m\n",
      "\u001b[0;32m~/anaconda3/envs/python3/lib/python3.6/site-packages/botocore/client.py\u001b[0m in \u001b[0;36m_convert_to_request_dict\u001b[0;34m(self, api_params, operation_model, context)\u001b[0m\n\u001b[1;32m    724\u001b[0m             api_params, operation_model, context)\n\u001b[1;32m    725\u001b[0m         request_dict = self._serializer.serialize_to_request(\n\u001b[0;32m--> 726\u001b[0;31m             api_params, operation_model)\n\u001b[0m\u001b[1;32m    727\u001b[0m         \u001b[0;32mif\u001b[0m \u001b[0;32mnot\u001b[0m \u001b[0mself\u001b[0m\u001b[0;34m.\u001b[0m\u001b[0m_client_config\u001b[0m\u001b[0;34m.\u001b[0m\u001b[0minject_host_prefix\u001b[0m\u001b[0;34m:\u001b[0m\u001b[0;34m\u001b[0m\u001b[0;34m\u001b[0m\u001b[0m\n\u001b[1;32m    728\u001b[0m             \u001b[0mrequest_dict\u001b[0m\u001b[0;34m.\u001b[0m\u001b[0mpop\u001b[0m\u001b[0;34m(\u001b[0m\u001b[0;34m'host_prefix'\u001b[0m\u001b[0;34m,\u001b[0m \u001b[0;32mNone\u001b[0m\u001b[0;34m)\u001b[0m\u001b[0;34m\u001b[0m\u001b[0;34m\u001b[0m\u001b[0m\n",
      "\u001b[0;32m~/anaconda3/envs/python3/lib/python3.6/site-packages/botocore/validate.py\u001b[0m in \u001b[0;36mserialize_to_request\u001b[0;34m(self, parameters, operation_model)\u001b[0m\n\u001b[1;32m    317\u001b[0m                                                     operation_model.input_shape)\n\u001b[1;32m    318\u001b[0m             \u001b[0;32mif\u001b[0m \u001b[0mreport\u001b[0m\u001b[0;34m.\u001b[0m\u001b[0mhas_errors\u001b[0m\u001b[0;34m(\u001b[0m\u001b[0;34m)\u001b[0m\u001b[0;34m:\u001b[0m\u001b[0;34m\u001b[0m\u001b[0;34m\u001b[0m\u001b[0m\n\u001b[0;32m--> 319\u001b[0;31m                 \u001b[0;32mraise\u001b[0m \u001b[0mParamValidationError\u001b[0m\u001b[0;34m(\u001b[0m\u001b[0mreport\u001b[0m\u001b[0;34m=\u001b[0m\u001b[0mreport\u001b[0m\u001b[0;34m.\u001b[0m\u001b[0mgenerate_report\u001b[0m\u001b[0;34m(\u001b[0m\u001b[0;34m)\u001b[0m\u001b[0;34m)\u001b[0m\u001b[0;34m\u001b[0m\u001b[0;34m\u001b[0m\u001b[0m\n\u001b[0m\u001b[1;32m    320\u001b[0m         return self._serializer.serialize_to_request(parameters,\n\u001b[1;32m    321\u001b[0m                                                      operation_model)\n",
      "\u001b[0;31mParamValidationError\u001b[0m: Parameter validation failed:\nInvalid type for parameter Body, value: [0, 0, 0, 0, 0, 0, 0, 0, 0, 0, 0, 0, 0, 0, 0, 0, 0, 0, 0, 0, 0, 0, 0, 0, 0, 0, 0, 0, 0, 0, 0, 0, 0, 0, 0, 0, 0, 0, 0, 0, 0, 0, 0, 0, 0, 0, 0, 0, 0, 0, 0, 0, 0, 0, 0, 0, 0, 0, 0, 0, 0, 0, 0, 0, 0, 0, 0, 0, 0, 0, 0, 0, 0, 0, 0, 0, 0, 0, 0, 0, 0, 0, 0, 0, 0, 0, 0, 0, 0, 0, 0, 0, 0, 0, 0, 0, 0, 0, 0, 0, 0, 0, 0, 0, 0, 0, 0, 0, 0, 0, 0, 0, 0, 0, 0, 0, 0, 0, 0, 0, 0, 0, 0, 0, 0, 0, 0, 0, 0, 0, 0, 0, 0, 0, 0, 0, 0, 0, 0, 0, 0, 0, 0, 0, 0, 0, 0, 0, 0, 0, 0, 0, 0, 0, 0, 0, 0, 0, 0, 0, 0, 0, 0, 0, 0, 0, 0, 0, 0, 0, 0, 0, 0, 0, 0, 0, 0, 0, 0, 0, 0, 0, 0, 0, 0, 0, 0, 0, 0, 0, 0, 0, 0, 0, 0, 0, 0, 0, 0, 0, 0, 0, 0, 0, 0, 0, 0, 0, 0, 0, 0, 0, 0, 0, 0, 0, 0, 0, 0, 0, 0, 0, 0, 0, 0, 0, 1, 0, 0, 0, 0, 0, 0, 0, 0, 0, 0, 0, 0, 0, 0, 0, 0, 0, 0, 0, 0, 0, 0, 0, 0, 0, 0, 0, 0, 0, 1, 0, 0, 0, 0, 0, 0, 0, 0, 0, 0, 0, 0, 0, 0, 0, 0, 0, 0, 0, 0, 0, 0, 0, 0, 0, 0, 0, 0, 0, 0, 0, 0, 0, 0, 0, 0, 0, 0, 0, 0, 0, 0, 0, 0, 0, 0, 0, 0, 0, 0, 0, 0, 0, 0, 0, 0, 0, 0, 0, 0, 0, 0, 0, 0, 0, 0, 0, 0, 0, 0, 0, 0, 0, 0, 0, 0, 0, 0, 0, 0, 0, 0, 0, 0, 0, 0, 0, 0, 0, 0, 0, 0, 0, 0, 0, 0, 0, 0, 0, 0, 0, 0, 0, 0, 0, 0, 0, 0, 0, 0, 0, 0, 0, 0, 0, 0, 0, 0, 0, 0, 0, 0, 0, 0, 0, 0, 0, 0, 0, 0, 0, 0, 0, 0, 0, 0, 0, 0, 0, 0, 0, 0, 0, 0, 0, 0, 0, 0, 0, 0, 0, 0, 0, 0, 0, 0, 0, 0, 0, 0, 0, 0, 0, 0, 0, 0, 0, 0, 0, 0, 0, 0, 0, 0, 0, 0, 0, 0, 0, 0, 0, 0, 0, 0, 0, 0, 0, 0, 0, 0, 0, 0, 0, 0, 0, 0, 0, 0, 0, 0, 0, 0, 0, 0, 0, 0, 0, 0, 0, 0, 0, 0, 0, 0, 0, 0, 0, 0, 0, 0, 0, 0, 0, 0, 0, 0, 0, 0, 0, 0, 0, 0, 0, 0, 0, 0, 0, 0, 0, 0, 0, 0, 0, 0, 0, 0, 0, 0, 0, 0, 0, 0, 0, 0, 0, 0, 0, 0, 0, 0, 0, 0, 0, 0, 0, 0, 0, 0, 0, 0, 0, 0, 0, 0, 0, 0, 0, 0, 0, 0, 0, 0, 0, 0, 0, 0, 0, 0, 0, 0, 0, 0, 0, 0, 0, 0, 0, 0, 0, 0, 0, 0, 0, 0, 0, 0, 0, 0, 0, 0, 0, 0, 0, 0, 0, 0, 0, 0, 0, 0, 0, 0, 0, 0, 0, 0, 0, 0, 0, 0, 0, 0, 0, 0, 0, 0, 0, 0, 0, 0, 0, 0, 0, 0, 0, 0, 0, 0, 0, 0, 0, 0, 0, 0, 0, 0, 0, 0, 0, 0, 0, 0, 0, 0, 0, 0, 0, 0, 0, 0, 0, 0, 0, 0, 0, 0, 0, 0, 0, 1, 0, 0, 0, 0, 0, 0, 0, 0, 0, 0, 0, 0, 0, 0, 0, 0, 0, 0, 0, 0, 0, 0, 0, 0, 0, 0, 0, 0, 0, 0, 0, 0, 0, 0, 0, 0, 0, 0, 0, 0, 0, 0, 0, 0, 0, 0, 0, 0, 0, 0, 0, 0, 0, 0, 0, 0, 0, 0, 0, 0, 0, 0, 0, 0, 0, 0, 0, 0, 0, 0, 0, 0, 0, 0, 0, 0, 0, 0, 0, 0, 0, 0, 0, 0, 0, 0, 0, 0, 0, 0, 0, 0, 0, 0, 0, 0, 0, 0, 0, 0, 0, 0, 0, 0, 0, 0, 0, 0, 0, 0, 0, 0, 0, 0, 0, 0, 0, 0, 0, 0, 0, 0, 0, 0, 0, 0, 0, 0, 0, 0, 0, 0, 0, 0, 0, 0, 0, 0, 0, 0, 0, 0, 0, 0, 0, 0, 0, 0, 0, 0, 0, 0, 0, 0, 0, 0, 0, 0, 0, 0, 0, 0, 0, 0, 0, 0, 0, 0, 0, 0, 0, 0, 0, 0, 0, 0, 0, 0, 0, 0, 0, 0, 0, 0, 0, 0, 0, 0, 0, 0, 0, 0, 0, 0, 0, 0, 0, 0, 0, 0, 0, 0, 0, 0, 0, 0, 0, 0, 0, 0, 0, 0, 0, 0, 0, 0, 0, 0, 0, 0, 0, 0, 0, 0, 0, 0, 0, 0, 0, 0, 0, 0, 0, 0, 0, 0, 0, 0, 0, 0, 0, 0, 0, 0, 0, 0, 0, 0, 0, 0, 0, 0, 0, 1, 0, 0, 0, 0, 0, 0, 0, 0, 0, 0, 0, 0, 0, 0, 0, 0, 0, 0, 0, 0, 0, 0, 0, 0, 0, 0, 0, 0, 0, 0, 0, 0, 0, 0, 0, 0, 0, 0, 0, 0, 0, 0, 0, 0, 0, 0, 0, 0, 0, 0, 0, 0, 0, 0, 0, 0, 0, 0, 0, 0, 0, 0, 0, 0, 0, 0, 0, 0, 0, 0, 0, 0, 0, 0, 0, 0, 0, 0, 0, 0, 0, 0, 0, 0, 0, 0, 1, 0, 0, 0, 0, 0, 0, 0, 0, 0, 0, 0, 0, 0, 0, 0, 0, 0, 0, 0, 0, 0, 0, 0, 0, 0, 0, 0, 0, 0, 0, 0, 0, 0, 0, 0, 0, 0, 0, 0, 0, 0, 0, 0, 0, 0, 0, 0, 0, 0, 0, 0, 0, 0, 0, 0, 0, 0, 0, 0, 0, 0, 0, 0, 0, 0, 0, 0, 0, 0, 0, 0, 0, 0, 0, 0, 0, 0, 0, 0, 0, 0, 0, 0, 0, 0, 0, 0, 0, 0, 0, 0, 0, 0, 0, 0, 0, 0, 0, 0, 0, 0, 0, 0, 0, 0, 0, 0, 0, 0, 0, 0, 0, 0, 0, 0, 0, 0, 0, 0, 0, 0, 0, 0, 0, 0, 0, 0, 0, 0, 0, 0, 0, 0, 0, 0, 0, 0, 0, 0, 0, 0, 0, 0, 0, 0, 0, 0, 0, 0, 0, 0, 0, 0, 0, 0, 0, 0, 0, 0, 0, 0, 0, 0, 0, 0, 0, 0, 0, 0, 0, 0, 0, 0, 0, 0, 0, 0, 0, 0, 0, 0, 0, 0, 0, 0, 0, 0, 0, 0, 0, 0, 0, 0, 0, 0, 0, 0, 0, 0, 0, 0, 0, 0, 0, 0, 0, 0, 0, 0, 0, 0, 0, 0, 0, 0, 0, 0, 0, 0, 0, 0, 0, 0, 0, 0, 0, 0, 0, 0, 0, 0, 0, 0, 0, 0, 0, 0, 0, 0, 0, 0, 0, 0, 0, 0, 0, 0, 0, 0, 0, 0, 0, 1, 0, 0, 0, 0, 0, 0, 0, 0, 0, 0, 0, 0, 0, 0, 0, 0, 0, 0, 0, 0, 0, 0, 0, 0, 0, 0, 0, 0, 0, 0, 0, 0, 0, 0, 0, 0, 0, 0, 0, 0, 0, 0, 0, 0, 0, 0, 0, 0, 0, 0, 0, 0, 0, 0, 0, 1, 0, 0, 0, 0, 0, 0, 0, 0, 0, 0, 0, 0, 0, 0, 0, 0, 0, 0, 0, 0, 0, 0, 0, 0, 0, 0, 0, 0, 0, 0, 0, 0, 0, 0, 0, 0, 0, 0, 0, 0, 0, 0, 0, 0, 0, 0, 0, 0, 0, 0, 0, 0, 0, 0, 0, 0, 0, 0, 0, 0, 0, 0, 0, 0, 0, 0, 0, 0, 0, 0, 0, 0, 0, 0, 0, 0, 0, 0, 0, 0, 0, 0, 0, 0, 0, 0, 0, 0, 0, 0, 0, 0, 0, 0, 0, 0, 0, 0, 0, 0, 0, 0, 0, 0, 0, 0, 0, 0, 0, 0, 0, 0, 0, 0, 0, 0, 0, 0, 0, 0, 0, 0, 0, 0, 0, 0, 0, 0, 0, 0, 0, 0, 0, 0, 0, 0, 0, 0, 0, 0, 0, 0, 0, 0, 0, 0, 0, 0, 0, 0, 0, 0, 0, 0, 0, 0, 0, 0, 0, 0, 0, 0, 0, 0, 0, 0, 0, 0, 0, 0, 0, 0, 0, 0, 0, 0, 0, 0, 0, 0, 0, 0, 0, 0, 0, 0, 0, 0, 0, 0, 0, 0, 0, 0, 0, 0, 0, 0, 0, 0, 0, 0, 0, 0, 0, 0, 0, 0, 0, 0, 0, 0, 0, 0, 0, 0, 0, 0, 0, 0, 0, 0, 0, 0, 0, 0, 0, 0, 0, 0, 0, 0, 0, 0, 0, 0, 0, 0, 0, 0, 0, 0, 0, 0, 0, 0, 0, 0, 0, 0, 0, 0, 0, 0, 0, 0, 0, 0, 0, 0, 0, 0, 0, 0, 0, 0, 0, 0, 0, 0, 0, 0, 0, 0, 0, 0, 0, 0, 0, 0, 0, 0, 0, 0, 0, 0, 0, 0, 0, 0, 0, 0, 0, 0, 0, 0, 0, 0, 0, 0, 0, 0, 0, 0, 0, 0, 0, 0, 0, 0, 0, 0, 0, 0, 0, 0, 0, 0, 0, 0, 0, 0, 0, 0, 0, 0, 0, 0, 0, 0, 0, 0, 0, 0, 0, 0, 0, 0, 0, 0, 0, 0, 0, 0, 0, 0, 0, 0, 0, 0, 0, 0, 0, 0, 0, 0, 0, 0, 0, 0, 0, 0, 0, 0, 0, 0, 0, 0, 0, 0, 0, 0, 0, 0, 0, 0, 0, 0, 0, 0, 0, 0, 0, 0, 0, 0, 0, 0, 0, 0, 0, 0, 0, 0, 0, 0, 0, 0, 0, 0, 0, 0, 0, 0, 0, 0, 0, 0, 0, 0, 0, 0, 0, 0, 0, 0, 0, 0, 0, 0, 0, 0, 0, 0, 0, 0, 0, 0, 0, 0, 0, 0, 0, 0, 0, 0, 0, 0, 0, 0, 0, 0, 0, 0, 0, 0, 0, 0, 0, 0, 0, 0, 0, 0, 0, 0, 0, 0, 0, 0, 0, 0, 0, 0, 0, 0, 0, 0, 0, 0, 0, 0, 0, 0, 0, 0, 0, 0, 0, 0, 0, 0, 0, 0, 0, 0, 0, 0, 0, 0, 0, 0, 0, 0, 0, 0, 0, 0, 0, 0, 0, 0, 0, 0, 0, 0, 0, 0, 0, 0, 0, 0, 0, 0, 0, 0, 0, 0, 0, 0, 0, 0, 0, 0, 0, 0, 0, 0, 0, 0, 0, 0, 0, 0, 0, 0, 0, 0, 0, 0, 0, 0, 0, 0, 0, 0, 0, 0, 0, 0, 0, 0, 0, 0, 0, 0, 0, 0, 0, 0, 0, 0, 0, 0, 0, 0, 0, 0, 0, 0, 0, 0, 0, 0, 0, 0, 0, 0, 0, 0, 0, 0, 0, 0, 0, 0, 0, 0, 0, 0, 0, 0, 0, 0, 0, 0, 0, 0, 0, 0, 0, 0, 0, 0, 0, 0, 0, 0, 0, 0, 0, 0, 0, 0, 0, 0, 0, 0, 0, 0, 0, 0, 0, 0, 0, 0, 0, 0, 0, 0, 0, 0, 0, 0, 0, 0, 0, 0, 0, 0, 0, 0, 0, 0, 0, 0, 0, 0, 0, 0, 0, 0, 0, 0, 0, 0, 0, 0, 0, 0, 0, 0, 0, 0, 0, 0, 0, 0, 0, 0, 0, 0, 0, 0, 0, 0, 0, 0, 0, 0, 0, 1, 0, 0, 0, 0, 0, 0, 0, 0, 0, 0, 0, 0, 0, 0, 0, 0, 0, 0, 0, 0, 0, 0, 0, 0, 0, 0, 0, 0, 0, 0, 0, 0, 0, 0, 0, 0, 0, 0, 0, 0, 0, 0, 0, 0, 0, 0, 0, 0, 0, 0, 0, 0, 0, 0, 0, 0, 0, 0, 0, 0, 0, 0, 0, 0, 0, 0, 0, 0, 0, 0, 0, 0, 0, 0, 1, 0, 0, 0, 0, 0, 0, 0, 0, 0, 0, 0, 0, 0, 0, 0, 0, 0, 0, 0, 0, 1, 0, 0, 1, 0, 0, 0, 0, 0, 0, 0, 0, 0, 0, 0, 0, 0, 0, 0, 0, 0, 0, 0, 0, 0, 0, 0, 0, 0, 0, 0, 0, 0, 0, 0, 0, 0, 0, 0, 0, 0, 0, 0, 0, 0, 0, 0, 0, 0, 0, 0, 0, 0, 0, 0, 0, 0, 0, 0, 0, 0, 0, 0, 0, 0, 0, 0, 0, 0, 0, 0, 0, 0, 0, 0, 0, 0, 0, 0, 0, 0, 0, 0, 0, 0, 0, 0, 0, 0, 0, 0, 0, 0, 0, 0, 0, 0, 0, 0, 0, 0, 0, 0, 0, 0, 0, 0, 0, 0, 0, 0, 0, 0, 0, 0, 0, 0, 0, 0, 0, 0, 0, 0, 0, 0, 0, 0, 0, 0, 0, 0, 0, 0, 0, 0, 0, 0, 0, 0, 0, 0, 0, 0, 0, 0, 0, 0, 0, 0, 0, 0, 0, 0, 0, 0, 0, 0, 0, 0, 0, 0, 0, 0, 0, 0, 0, 0, 0, 0, 0, 0, 0, 0, 0, 0, 0, 0, 0, 0, 0, 0, 0, 0, 0, 0, 0, 0, 0, 0, 0, 0, 0, 0, 0, 0, 0, 0, 0, 0, 0, 0, 0, 0, 0, 0, 0, 0, 0, 0, 0, 0, 0, 0, 0, 0, 0, 0, 0, 0, 0, 0, 0, 0, 0, 0, 0, 0, 0, 0, 0, 0, 0, 0, 0, 0, 0, 0, 0, 0, 0, 0, 0, 0, 0, 0, 0, 0, 0, 0, 0, 0, 0, 0, 0, 0, 0, 0, 0, 0, 0, 0, 0, 0, 0, 0, 0, 0, 0, 0, 0, 0, 0, 0, 0, 0, 0, 0, 0, 0, 0, 0, 0, 0, 0, 0, 0, 0, 0, 0, 0, 0, 0, 0, 0, 0, 0, 0, 0, 0, 0, 0, 0, 0, 0, 0, 0, 0, 0, 0, 0, 0, 0, 0, 0, 0, 0, 0, 0, 0, 0, 0, 0, 0, 0, 0, 0, 0, 0, 0, 0, 0, 0, 0, 0, 0, 0, 0, 0, 0, 0, 0, 0, 0, 0, 0, 0, 0, 0, 0, 0, 0, 0, 0, 0, 0, 0, 0, 0, 0, 0, 0, 0, 0, 0, 0, 0, 0, 0, 0, 0, 0, 0, 0, 0, 0, 0, 0, 0, 0, 0, 0, 0, 0, 0, 0, 0, 0, 0, 0, 0, 0, 0, 0, 0, 0, 0, 0, 0, 0, 0, 0, 0, 0, 0, 0, 0, 0, 0, 0, 0, 0, 0, 0, 0, 0, 0, 0, 0, 0, 0, 0, 0, 0, 0, 0, 0, 0, 0, 0, 0, 0, 0, 0, 0, 0, 0, 0, 0, 0, 0, 0, 0, 0, 0, 0, 0, 0, 0, 0, 0, 0, 0, 0, 0, 0, 0, 0, 0, 0, 0, 0, 0, 0, 0, 0, 0, 0, 0, 0, 0, 1, 0, 0, 0, 0, 0, 0, 0, 0, 0, 0, 0, 0, 0, 0, 0, 0, 0, 0, 0, 0, 0, 0, 0, 0, 0, 0, 0, 0, 0, 0, 0, 0, 0, 0, 0, 0, 0, 0, 0, 0, 0, 0, 0, 0, 0, 0, 0, 0, 0, 0, 0, 0, 0, 0, 0, 0, 0, 0, 0, 0, 0, 0, 0, 0, 0, 0, 0, 0, 0, 0, 0, 0, 0, 0, 0, 0, 0, 0, 0, 0, 0, 0, 0, 0, 0, 0, 0, 0, 0, 0, 0, 0, 0, 0, 0, 0, 0, 0, 0, 0, 0, 0, 0, 0, 0, 0, 0, 0, 0, 0, 0, 0, 0, 0, 0, 0, 0, 0, 0, 0, 0, 0, 0, 0, 0, 0, 0, 0, 0, 0, 0, 0, 0, 0, 0, 0, 0, 0, 0, 0, 0, 0, 0, 0, 0, 0, 0, 0, 0, 0, 0, 0, 0, 0, 0, 0, 0, 0, 0, 0, 0, 0, 0, 0, 0, 0, 0, 0, 0, 0, 0, 0, 0, 0, 0, 0, 0, 0, 0, 0, 0, 0, 0, 0, 0, 0, 0, 0, 0, 0, 0, 0, 0, 0, 0, 0, 0, 0, 0, 0, 0, 0, 0, 0, 0, 0, 0, 0, 0, 0, 0, 0, 0, 0, 0, 0, 0, 0, 0, 0, 0, 0, 0, 0, 0, 0, 0, 0, 0, 0, 0, 0, 0, 0, 0, 0, 0, 0, 0, 0, 0, 0, 0, 0, 0, 0, 0, 0, 0, 0, 0, 0, 0, 0, 0, 0, 0, 0, 0, 0, 0, 0, 0, 0, 0, 0, 0, 0, 0, 0, 0, 0, 0, 0, 0, 0, 0, 0, 0, 0, 0, 0, 0, 0, 0, 0, 0, 0, 0, 0, 0, 0, 0, 0, 0, 0, 0, 0, 0, 0, 0, 0, 0, 0, 0, 0, 0, 0, 0, 0, 0, 0, 0, 0, 0, 0, 0, 0, 0, 0, 0, 0, 0, 0, 0, 0, 0, 0, 0, 0, 0, 0, 0, 0, 0, 0, 0, 0, 0, 0, 0, 0, 0, 0, 0, 0, 0, 0, 0, 0, 0, 0, 0, 0, 0, 0, 0, 0, 0, 0, 0, 0, 0, 0, 0, 0, 0, 0, 0, 0, 0, 0, 0, 0, 0, 0, 0, 0, 0, 0, 0, 0, 0, 0, 0, 0, 0, 0, 0, 0, 0, 0, 0, 0, 0, 0, 0, 0, 0, 0, 0, 0, 0, 0, 0, 0, 0, 0, 0, 0, 0, 0, 0, 0, 0, 0, 0, 0, 0, 0, 0, 0, 0, 0, 0, 0, 0, 0, 0, 0, 0, 0, 0, 0, 0, 0, 0, 0, 0, 0, 0, 0, 0, 0, 0, 0, 0, 0, 0, 0, 0, 0, 0, 0, 0, 0, 0, 0, 0, 0, 0, 0, 0, 0, 0, 0, 0, 0, 0, 0, 0, 0, 0, 0, 0, 0, 0, 0, 0, 0, 0, 0, 0, 0, 0, 0, 0, 0, 0, 0, 0, 0, 0, 0, 0, 0, 0, 0, 0, 0, 0, 0, 0, 0, 0, 0, 0, 0, 0, 0, 0, 0, 1, 0, 0, 0, 0, 0, 0, 0, 0, 0, 0, 0, 0, 0, 0, 0, 0, 0, 0, 0, 0, 0, 0, 0, 0, 0, 0, 0, 0, 0, 0, 0, 0, 0, 0, 0, 2, 0, 0, 0, 0, 0, 0, 0, 0, 0, 0, 0, 0, 0, 0, 0, 0, 0, 0, 0, 0, 0, 0, 0, 0, 0, 0, 0, 0, 0, 0, 0, 0, 0, 0, 0, 0, 0, 0, 0, 0, 1, 0, 0, 0, 0, 0, 0, 0, 0, 0, 0, 0, 0, 0, 0, 0, 0, 0, 0, 0, 0, 0, 0, 0, 0, 0, 0, 0, 0, 0, 0, 0, 0, 0, 0, 0, 0, 0, 0, 0, 0, 0, 0, 0, 0, 0, 0, 0, 0, 0, 0, 0, 0, 0, 0, 0, 0, 0, 0, 0, 0, 0, 0, 0, 0, 0, 0, 0, 0, 0, 0, 0, 0, 0, 0, 0, 0, 0, 0, 0, 0, 0, 0, 0, 0, 0, 0, 0, 0, 0, 0, 0, 0, 0, 0, 0, 0, 0, 0, 0, 0, 0, 0, 0, 0, 0, 0, 0, 0, 0, 0, 0, 0, 0, 0, 0, 0, 0, 0, 0, 0, 0, 0, 0, 0, 0, 0, 0, 0, 0, 0, 0, 0, 0, 0, 0, 0, 0, 0, 0, 0, 0, 0, 0, 0, 0, 0, 0, 0, 0, 0, 0, 0, 0, 0, 0, 0, 0, 0, 0, 0, 0, 0, 0, 0, 0, 0, 0, 0, 0, 0, 0, 0, 0, 0, 0, 0, 0, 0, 0, 0, 0, 0, 0, 0, 0, 0, 0, 0, 0, 0, 0, 0, 0, 0, 0, 0, 0, 0, 0, 0, 0, 0, 0, 0, 0, 0, 0, 0, 0, 0, 0, 0, 0, 0, 0, 0, 0, 0, 0, 0, 0, 0, 0, 0, 0, 0, 0, 0, 0, 0, 0, 0, 0, 0, 0, 0, 0, 0, 0, 0, 0, 0, 0, 0, 0, 0, 0, 0, 0, 0, 0, 0, 0, 0, 0, 0, 0, 0, 0, 0, 0, 0, 0, 0, 0, 0, 0, 0, 0, 0, 0, 0, 0, 0, 0, 0, 0, 0, 0, 0, 0, 0, 0, 0, 0, 0, 0, 0, 0, 0, 0, 0, 0, 0, 0, 0, 0, 0, 0, 0, 0, 0, 0, 0, 0, 0, 0, 0, 0, 0, 0, 0, 0, 0, 0, 0, 0, 0, 0, 0, 0, 0, 0, 0, 0, 0, 0, 0, 0, 0, 0, 0, 0, 0, 0, 0, 0, 0, 0, 0, 0, 0, 0, 0, 0, 0, 0, 0, 0, 0, 0, 0, 0, 0, 0, 0, 0, 0, 0, 0, 0, 0, 0, 0, 0, 0, 0, 0, 0, 0, 0, 0, 0, 0, 0, 0, 0, 0, 0, 0, 0, 0, 0, 0, 0, 0, 0, 0, 0, 0, 0, 0, 0, 0, 0, 0, 0, 0, 0, 0, 0, 0, 0, 0, 0, 0, 0, 0, 0, 0, 0, 0, 0, 0, 0, 0, 0, 0, 0, 0, 0, 0, 0, 0, 0, 0, 0, 0, 0, 0, 0, 0, 0, 0, 0, 0, 0, 0, 0, 0, 0, 0, 0, 0, 0, 0, 0, 0, 0, 0, 0, 0, 0, 0, 0, 0, 0, 0, 0, 0, 0, 0, 0, 0, 0, 0, 0, 0, 0, 0, 0, 0, 0, 0, 0, 0, 0, 0, 0, 0, 0, 0, 0, 0, 0, 0, 0, 0, 0, 0, 0, 0, 0, 0, 0, 0, 0, 1, 0, 0, 0, 0, 0, 0, 0, 0, 0, 0, 0, 0, 0, 0, 0, 0, 0, 0, 0, 0, 0, 0, 0, 0, 0, 0, 0, 0, 0, 0, 0, 0, 0, 0, 0, 0, 0, 0, 0, 0, 0, 0, 0, 0, 0, 0, 0, 0, 0, 0, 0, 0, 0, 0, 0, 0, 0, 0, 0, 0, 0, 0, 0, 0, 0, 0, 0, 0, 0, 0, 0, 0, 0, 0, 0, 0, 0, 0, 0, 0, 0, 0, 0, 0, 0, 0, 0, 0, 0, 0, 0, 0, 0, 0, 0, 0, 0, 0, 0, 0, 0, 0, 0, 0, 0, 0, 0, 0, 0, 0, 2, 0, 0, 0, 0, 0, 0, 0, 0, 0, 0, 0, 0, 0, 0, 0, 0, 0, 0, 0, 0, 0, 0, 0, 0, 0, 0, 0, 0, 0, 0, 0, 0, 0, 0, 0, 0, 0, 0, 0, 0, 0, 0, 0, 0, 0, 0, 0, 0, 0, 0, 0, 0, 0, 0, 0, 0, 0, 0, 0, 0, 0, 0, 0, 0, 0, 0, 0, 0, 0, 0, 0, 0, 0, 0, 0, 0, 0, 0, 0, 0, 0, 0, 0, 0, 0, 0, 0, 0, 0, 0, 0, 0, 0, 0, 0, 0, 0, 0, 0, 0, 0, 0, 0, 0, 0, 0, 0, 0, 0, 0, 0, 0, 0, 0, 0, 0, 0, 0, 0, 0, 0, 0, 0, 0, 0, 0, 0, 0, 0, 0, 0, 0, 0, 0, 0, 0, 0, 0, 0, 0, 0, 0, 0, 0, 0, 0, 0, 0, 0, 0, 0, 0, 0, 0, 0, 0, 0, 0, 0, 0, 0, 0, 0, 0, 0, 0, 0, 0, 0, 0, 0, 0, 0, 0, 0, 0, 0, 0, 0, 0, 0, 0, 0, 0, 0, 0, 0, 0, 0, 0, 0, 0, 0, 0, 0, 0, 0, 0, 0, 0, 0, 0, 0, 0, 0, 0, 0, 0, 0, 0, 0, 0, 0, 0, 0, 0, 0, 0, 0, 0, 0, 0, 0, 0, 0, 0, 0, 0, 0, 0, 0, 0, 0, 0, 0, 0, 0, 0, 0, 0, 0, 0, 0, 0, 0, 0, 0, 0, 0, 0, 0, 0, 0, 0, 0, 0, 0, 0, 0, 0, 0, 0, 0, 0, 0, 0, 0, 0, 0, 0, 0, 0, 0, 0, 0, 0, 0, 0, 0, 0, 0, 0, 0, 0, 0, 0, 0, 0, 0, 0, 0, 0, 0, 0, 0, 0, 0, 0, 0, 0, 0, 0, 0, 0, 0, 0, 0, 0, 0, 0, 0, 0, 0, 0, 0, 0, 0, 0, 0, 0, 0, 0, 0, 0, 0, 0, 0, 0, 0, 0, 0, 0, 0, 0, 0, 0, 0, 0, 0, 0, 0, 0, 0, 0, 0, 0, 0, 0, 0, 0, 0, 0, 0, 0, 0, 0, 0, 0, 0, 0, 0, 0, 0, 0, 0, 0, 0, 0, 0, 0, 0, 0, 0, 0, 0, 0, 0, 0, 0, 0, 0, 0, 0, 0, 0, 0, 0, 0, 0, 0, 0, 0, 0, 0, 0, 0, 0, 0, 0, 0, 0, 0, 0, 0, 0, 0, 0, 0, 0, 0, 0, 0, 0, 0, 0, 0, 0, 0, 0, 0, 0, 0, 0, 0, 0, 0, 0, 0, 0, 0, 0, 0, 0, 0, 0, 0, 0, 0, 0, 0, 0, 0, 0, 0, 0, 0, 0, 0, 0, 0, 0, 0, 0, 0, 0, 0, 0, 0, 0, 0, 0, 0, 0, 0, 0, 0, 0, 0, 0, 0, 0, 0, 0, 0, 0, 0, 0, 0, 0, 0, 0, 0, 0, 0, 0, 0, 0, 0, 0, 0, 0, 0, 0, 0, 0, 0, 0, 0, 0, 0, 0, 0, 0, 0, 0, 0, 0, 0, 0, 0, 0, 0, 0, 0, 0, 0, 0, 0, 0, 0, 0, 0, 0, 0, 0, 0, 0, 0, 0, 0, 0, 0, 0, 0, 0, 0, 0, 0, 0, 0, 0, 0, 0, 0, 0, 0, 0, 0, 0, 0, 0, 0, 0, 0, 0, 0, 0, 0, 0, 0, 0, 0, 0, 0, 0, 0, 0, 0, 0, 0, 0, 0, 0, 0, 0, 0, 0, 0, 0, 0, 0, 0, 0, 0, 0, 0, 0, 0, 0, 0, 0, 0, 0, 0, 0, 0, 0, 0, 0, 0, 0, 0, 0, 0, 0, 0, 0, 0, 0, 0, 0, 0, 0, 0, 0, 0, 0, 0, 0, 0, 0, 0, 0, 0, 0, 0, 0, 0, 0, 0, 0, 0, 0, 0, 0, 0, 0, 0, 0, 0, 0, 0, 0, 0, 0, 0, 0, 0, 0, 0, 0, 0, 0, 0, 0, 0, 0, 0, 0, 0, 0, 0, 0, 0, 0, 0, 0, 0, 0, 0, 0, 0, 0, 0, 0, 0, 0, 0, 0, 0, 0, 0, 0, 0, 0, 0, 0, 0, 0, 0, 1, 0, 0, 0, 0, 0, 0, 0, 0, 0, 0, 0, 0, 0, 0, 0, 0, 0, 0, 0, 0, 0, 0, 0, 0, 0, 0, 0, 0, 0, 0, 0, 0, 0, 0, 0, 0, 0, 0, 0, 0, 0, 0, 0, 0, 0, 0, 0, 0, 0, 0, 0, 0, 0, 0, 0, 0, 0, 0, 0, 0, 0, 0, 0, 0, 0, 0, 0, 0, 0, 0, 0, 0, 0, 0, 0, 0, 0, 0, 0, 0, 0, 0, 0, 0, 0, 0, 0, 0, 0, 0, 0, 0, 0, 0, 0, 0, 0, 0, 0, 0, 0, 0, 0, 0, 0, 0, 0, 1, 0, 0, 0, 0, 0, 0, 0, 0, 0, 0, 0, 0, 0, 0, 0, 0, 0, 0, 0, 0, 0, 0, 0, 0, 0, 0, 0, 0, 0, 0, 0, 0, 0, 0, 0, 0, 0, 0, 0, 0, 0, 0, 0, 0, 0, 0, 0, 0, 0, 0, 0, 0, 0, 0, 0, 0, 0, 0, 0, 0, 0, 0, 0, 0, 0, 0, 0, 0, 0, 0, 0, 0, 0, 0, 0, 0, 0, 0, 0, 0, 0, 0, 0, 0, 0, 0, 0, 0, 0, 0, 0, 0, 0, 0, 0, 0, 0, 0, 0, 0, 0, 0, 0, 0, 0, 0, 0, 0, 0, 0, 0, 0, 0, 0, 0, 0, 0, 0, 0, 0, 0, 0, 0, 0, 0, 0, 0, 0, 0, 0, 0, 0, 0, 0, 0, 0, 0, 0, 0, 0, 0, 0, 0, 0, 0, 0, 0, 0, 0, 0, 0, 0, 0, 0, 0, 0, 0, 0, 0, 0, 0, 0, 0, 0, 0, 0, 0, 0, 0, 0, 0, 0, 0, 0, 0, 0, 0, 0, 0, 0, 0, 0, 0, 0, 0, 0, 0, 0, 0, 0, 0, 0, 0, 0, 0, 0, 0, 0, 0, 0, 0, 0, 0, 0, 0, 0, 0, 0, 0, 0, 0, 0, 0, 0, 0, 0, 0, 0, 0, 0, 0, 0, 0, 0, 0, 0, 0, 0, 0, 0, 0, 0, 0, 0, 0, 0, 0, 0, 0, 0, 0, 0, 0, 0, 0, 0, 0, 0, 0, 0, 0, 0, 0, 0, 0, 0, 0, 0, 0, 0, 0, 0, 0, 0, 0, 0, 0, 0, 0, 0, 0, 0, 0, 0, 0, 0, 0, 0, 0, 0, 0, 0, 0, 0, 0, 0, 0, 0, 0, 0, 0, 0, 0, 0, 0, 0, 0, 0, 0, 0, 0, 0, 0, 0, 0, 0, 0, 0, 0, 0, 0, 0, 0, 0, 0, 0, 0, 0, 0, 0, 0, 0, 0, 0, 0, 0, 0, 0, 0, 0, 0, 0, 0, 0, 0, 0, 0, 0, 0, 0, 0, 0, 0, 0, 0, 0, 0, 0, 0, 0, 0, 0, 0, 0, 0, 0, 0, 0, 0, 0, 0, 0, 0, 0, 0, 0, 0, 0, 0, 0, 0, 0, 0, 0, 0, 0, 0, 0, 0, 0, 0, 0, 0, 0, 0, 0, 0, 0, 0, 0, 0, 0, 0, 0, 0, 0, 0, 0, 0, 0, 0, 0, 0, 0, 0, 0, 0, 0, 0, 0, 0, 0, 0, 0, 0, 0, 0, 0, 0, 0, 0, 0, 0, 0, 0, 0, 0, 0, 0, 0, 0, 0, 0, 0, 0, 0, 0, 0, 0, 0, 0, 0, 0, 0, 0, 0, 0, 0, 0, 0, 0, 0, 0, 0, 0, 0, 0, 0, 0, 0, 0, 0, 0, 2, 0, 1, 0], type: <class 'list'>, valid types: <class 'bytes'>, <class 'bytearray'>, file-like object"
     ]
    }
   ],
   "source": [
    "response = runtime.invoke_endpoint(EndpointName = xgb_predictor.endpoint, # The name of the endpoint we created\n",
    "                                       ContentType = 'text/csv',                     # The data format that is expected\n",
    "                                       Body = test_bow)"
   ]
  },
  {
   "cell_type": "markdown",
   "metadata": {},
   "source": [
    "So why did we get an error?\n",
    "\n",
    "Because we tried to send the endpoint a list of integers but it expected us to send data of type `text/csv`. So, we need to convert it."
   ]
  },
  {
   "cell_type": "code",
   "execution_count": 48,
   "metadata": {},
   "outputs": [],
   "source": [
    "response = runtime.invoke_endpoint(EndpointName = xgb_predictor.endpoint, # The name of the endpoint we created\n",
    "                                       ContentType = 'text/csv',                     # The data format that is expected\n",
    "                                       Body = ','.join([str(val) for val in test_bow]).encode('utf-8'))"
   ]
  },
  {
   "cell_type": "code",
   "execution_count": 49,
   "metadata": {},
   "outputs": [
    {
     "name": "stdout",
     "output_type": "stream",
     "text": [
      "{'ResponseMetadata': {'RequestId': 'd65b9eb1-dee8-4e19-bdd2-ae824a1af210', 'HTTPStatusCode': 200, 'HTTPHeaders': {'x-amzn-requestid': 'd65b9eb1-dee8-4e19-bdd2-ae824a1af210', 'x-amzn-invoked-production-variant': 'AllTraffic', 'date': 'Mon, 12 Jul 2021 15:32:22 GMT', 'content-type': 'text/csv; charset=utf-8', 'content-length': '18'}, 'RetryAttempts': 0}, 'ContentType': 'text/csv; charset=utf-8', 'InvokedProductionVariant': 'AllTraffic', 'Body': <botocore.response.StreamingBody object at 0x7f7b14cc6940>}\n"
     ]
    }
   ],
   "source": [
    "print(response)"
   ]
  },
  {
   "cell_type": "markdown",
   "metadata": {},
   "source": [
    "As we can see, the response from our model is a somewhat complicated looking dict that contains a bunch of information. The bit that we are most interested in is `'Body'` object which is a streaming object that we need to `read` in order to make use of."
   ]
  },
  {
   "cell_type": "code",
   "execution_count": 50,
   "metadata": {},
   "outputs": [
    {
     "name": "stdout",
     "output_type": "stream",
     "text": [
      "0.3980620205402374\n"
     ]
    }
   ],
   "source": [
    "response = response['Body'].read().decode('utf-8')\n",
    "print(response)"
   ]
  },
  {
   "cell_type": "markdown",
   "metadata": {},
   "source": [
    "Now that we know how to process the incoming user data we can start setting up the infrastructure to make our simple web app work. To do this we will make use of two different services. Amazon's Lambda and API Gateway services.\n",
    "\n",
    "Lambda is a service which allows someone to write some relatively simple code and have it executed whenever a chosen trigger occurs. For example, you may want to update a database whenever new data is uploaded to a folder stored on S3.\n",
    "\n",
    "API Gateway is a service that allows you to create HTTP endpoints (url addresses) which are connected to other AWS services. One of the benefits to this is that you get to decide what credentials, if any, are required to access these endpoints.\n",
    "\n",
    "In our case we are going to set up an HTTP endpoint through API Gateway which is open to the public. Then, whenever anyone sends data to our public endpoint we will trigger a Lambda function which will send the input (in our case a review) to our model's endpoint and then return the result."
   ]
  },
  {
   "cell_type": "markdown",
   "metadata": {},
   "source": [
    "### Setting up a Lambda function\n",
    "\n",
    "The first thing we are going to do is set up a Lambda function. This Lambda function will be executed whenever our public API has data sent to it. When it is executed it will receive the data, perform any sort of processing that is required, send the data (the review) to the SageMaker endpoint we've created and then return the result.\n",
    "\n",
    "#### Part A: Create an IAM Role for the Lambda function\n",
    "\n",
    "Since we want the Lambda function to call a SageMaker endpoint, we need to make sure that it has permission to do so. To do this, we will construct a role that we can later give the Lambda function.\n",
    "\n",
    "Using the AWS Console, navigate to the **IAM** page and click on **Roles**. Then, click on **Create role**. Make sure that the **AWS service** is the type of trusted entity selected and choose **Lambda** as the service that will use this role, then click **Next: Permissions**.\n",
    "\n",
    "In the search box type `sagemaker` and select the check box next to the **AmazonSageMakerFullAccess** policy. Then, click on **Next: Review**.\n",
    "\n",
    "Lastly, give this role a name. Make sure you use a name that you will remember later on, for example `LambdaSageMakerRole`. Then, click on **Create role**."
   ]
  },
  {
   "cell_type": "markdown",
   "metadata": {},
   "source": [
    "#### Part B: Create a Lambda function\n",
    "\n",
    "Now it is time to actually create the Lambda function. Remember from earlier that in order to process the user provided input and send it to our endpoint we need to gather two pieces of information:\n",
    "\n",
    " - The name of the endpoint, and\n",
    " - the vocabulary object.\n",
    "\n",
    "We will copy these pieces of information to our Lambda function after we create it.\n",
    "\n",
    "To start, using the AWS Console, navigate to the AWS Lambda page and click on **Create a function**. When you get to the next page, make sure that **Author from scratch** is selected. Now, name your Lambda function, using a name that you will remember later on, for example `sentiment_analysis_xgboost_func`. Make sure that the **Python 3.6** runtime is selected and then choose the role that you created in the previous part. Then, click on **Create Function**.\n",
    "\n",
    "On the next page you will see some information about the Lambda function you've just created. If you scroll down you should see an editor in which you can write the code that will be executed when your Lambda function is triggered. Collecting the code we wrote above to process a single review and adding it to the provided example `lambda_handler` we arrive at the following.\n",
    "\n",
    "```python\n",
    "# We need to use the low-level library to interact with SageMaker since the SageMaker API\n",
    "# is not available natively through Lambda.\n",
    "import boto3\n",
    "\n",
    "# And we need the regular expression library to do some of the data processing\n",
    "import re\n",
    "\n",
    "REPLACE_NO_SPACE = re.compile(\"(\\.)|(\\;)|(\\:)|(\\!)|(\\')|(\\?)|(\\,)|(\\\")|(\\()|(\\))|(\\[)|(\\])\")\n",
    "REPLACE_WITH_SPACE = re.compile(\"(<br\\s*/><br\\s*/>)|(\\-)|(\\/)\")\n",
    "\n",
    "def review_to_words(review):\n",
    "    words = REPLACE_NO_SPACE.sub(\"\", review.lower())\n",
    "    words = REPLACE_WITH_SPACE.sub(\" \", words)\n",
    "    return words\n",
    "    \n",
    "def bow_encoding(words, vocabulary):\n",
    "    bow = [0] * len(vocabulary) # Start by setting the count for each word in the vocabulary to zero.\n",
    "    for word in words.split():  # For each word in the string\n",
    "        if word in vocabulary:  # If the word is one that occurs in the vocabulary, increase its count.\n",
    "            bow[vocabulary[word]] += 1\n",
    "    return bow\n",
    "\n",
    "\n",
    "def lambda_handler(event, context):\n",
    "    \n",
    "    vocab = \"*** ACTUAL VOCABULARY GOES HERE ***\"\n",
    "    \n",
    "    words = review_to_words(event['body'])\n",
    "    bow = bow_encoding(words, vocab)\n",
    "\n",
    "    # The SageMaker runtime is what allows us to invoke the endpoint that we've created.\n",
    "    runtime = boto3.Session().client('sagemaker-runtime')\n",
    "\n",
    "    # Now we use the SageMaker runtime to invoke our endpoint, sending the review we were given\n",
    "    response = runtime.invoke_endpoint(EndpointName = '***ENDPOINT NAME HERE***',# The name of the endpoint we created\n",
    "                                       ContentType = 'text/csv',                 # The data format that is expected\n",
    "                                       Body = ','.join([str(val) for val in bow]).encode('utf-8')) # The actual review\n",
    "\n",
    "    # The response is an HTTP response whose body contains the result of our inference\n",
    "    result = response['Body'].read().decode('utf-8')\n",
    "    \n",
    "    # Round the result so that our web app only gets '1' or '0' as a response.\n",
    "    result = round(float(result))\n",
    "\n",
    "    return {\n",
    "        'statusCode' : 200,\n",
    "        'headers' : { 'Content-Type' : 'text/plain', 'Access-Control-Allow-Origin' : '*' },\n",
    "        'body' : str(result)\n",
    "    }\n",
    "```"
   ]
  },
  {
   "cell_type": "markdown",
   "metadata": {},
   "source": [
    "Once you have copy and pasted the code above into the Lambda code editor, replace the `**ENDPOINT NAME HERE**` portion with the name of the endpoint that we deployed earlier. You can determine the name of the endpoint using the code cell below."
   ]
  },
  {
   "cell_type": "code",
   "execution_count": 51,
   "metadata": {},
   "outputs": [
    {
     "data": {
      "text/plain": [
       "'xgboost-2021-07-12-15-00-23-612'"
      ]
     },
     "execution_count": 51,
     "metadata": {},
     "output_type": "execute_result"
    }
   ],
   "source": [
    "xgb_predictor.endpoint"
   ]
  },
  {
   "cell_type": "markdown",
   "metadata": {},
   "source": [
    "In addition, you will need to copy the vocabulary dict to the appropriate place in the code at the beginning of the `lambda_handler` method. The cell below prints out the vocabulary dict in a way that is easy to copy and paste."
   ]
  },
  {
   "cell_type": "code",
   "execution_count": 52,
   "metadata": {},
   "outputs": [
    {
     "name": "stdout",
     "output_type": "stream",
     "text": [
      "{'im': 2232, 'not': 3040, 'at': 331, 'all': 187, 'about': 67, 'horror': 2168, 'movies': 2927, 'and': 226, 'willing': 4889, 'to': 4507, 'watch': 4811, 'pretty': 3384, 'much': 2934, 'any': 256, 'of': 3083, 'them': 4432, 'that': 4424, 'doesnt': 1309, 'mean': 2779, 're': 3535, 'many': 2732, 'or': 3124, 'wont': 4932, 'have': 2052, 'criticism': 1063, 'for': 1784, 'this': 4457, 'movie': 2926, 'is': 2360, 'creepy': 1052, 'very': 4723, 'well': 4843, 'done': 1322, 'in': 2257, 'fact': 1621, 'think': 4452, 'would': 4957, 'make': 2713, 'an': 223, 'excellent': 1555, 'double': 1331, 'bill': 481, 'with': 4911, 'should': 3951, 'before': 440, 'get': 1899, 'my': 2951, 'comments': 901, 'watched': 4813, 'alone': 194, 'started': 4157, 'watching': 4815, 'it': 2366, 'going': 1931, 'bed': 436, 'got': 1944, '15': 7, 'minutes': 2859, 'realized': 3553, 'was': 4805, 'too': 4522, 'effective': 1429, 'so': 4046, 'saved': 3795, 'the': 4426, 'rest': 3657, 'morning': 2906, 'even': 1533, 'while': 4868, 'broad': 590, 'still': 4188, 'however': 2183, 'cant': 671, 'how': 2181, 'be': 418, 'when': 4862, 'larger': 2519, 'group': 1980, 'after': 143, 'death': 1141, 'their': 4431, 'daughter': 1121, 'couple': 1016, 'move': 2921, 'remote': 3622, 'cabin': 643, 'as': 311, 'means': 2783, 'trying': 4601, 'come': 886, 'terms': 4406, 'let': 2579, 'me': 2778, 'note': 3044, 'one': 3107, 'rare': 3523, 'shy': 3962, 'away': 369, 'from': 1840, 'child': 789, 'more': 2904, 'important': 2247, 'both': 547, 'sets': 3899, 'tone': 4517, 'explains': 1589, 'acting': 99, 'doing': 1312, 'wife': 4884, 'has': 2043, 'herself': 2092, 'relationship': 3597, 'husband': 2204, 'what': 4858, 'he': 2056, 'can': 665, 'try': 4600, 'bring': 585, 'her': 2085, 'back': 378, 'some': 4061, 'they': 4442, 'act': 97, 'like': 2599, 'father': 1666, 'than': 4420, 'thats': 4425, 'hes': 2093, 'give': 1912, 'direction': 1261, 'its': 2370, 'role': 3726, 'men': 2805, 'sometimes': 4067, 'take': 4349, 'on': 3105, 'there': 4438, 'are': 285, 'variety': 4714, 'scares': 3806, 'film': 1716, 'most': 2909, 'fairly': 1631, 'non': 3027, 'violent': 4748, 'though': 4461, 'ways': 4822, 'story': 4207, 'itself': 2371, 'feels': 1687, 'takes': 4351, 'odd': 3080, 'turn': 4605, 'near': 2979, 'end': 1468, 'absurd': 73, 'certainly': 738, 'you': 4986, 'expected': 1577, 'way': 4820, 'things': 4451, 'had': 2003, 'been': 438, 'moody': 2899, 'atmospheric': 334, 'something': 4066, 'appears': 278, 'shot': 3949, 'video': 4733, 'since': 3990, 'literature': 2623, 'people': 3221, 'fascinated': 1657, 'easily': 1406, 'touched': 4534, 'by': 642, 'unhappy': 4656, 'love': 2669, 'fascinating': 1658, 'always': 203, 'tales': 4357, 'impossible': 2249, 'cannot': 670, 'filmmaker': 1719, 'fox': 1814, 'latest': 2526, 'then': 4436, 'also': 199, 'title': 4504, 'set': 3898, 'against': 147, 'background': 380, 'political': 3324, 'capital': 673, 'city': 825, 'common': 906, 'west': 4852, 'bank': 394, 'which': 4867, 'features': 1680, 'tense': 4403, 'atmosphere': 333, 'actually': 109, 'seem': 3861, 'anything': 260, 'surrounding': 4319, 'allows': 192, 'lifestyle': 2593, 'isnt': 2362, 'different': 1248, 'may': 2775, 'expect': 1575, 'western': 4853, 'teenage': 4389, 'girls': 1911, 'looking': 2648, 'magazine': 2701, 'editor': 1423, 'sexy': 3911, 'cover': 1022, 'his': 2118, 'next': 3007, 'issue': 2364, 'sitting': 4007, 'over': 3148, 'other': 3135, 'similarly': 3980, 'those': 4460, 'home': 2142, 'local': 2634, 'edition': 1422, 'pop': 3330, 'potential': 3355, 'ones': 3108, 'mind': 2849, 'into': 2332, 'false': 1641, 'sense': 3877, 'reality': 3551, 'around': 297, 'lives': 2628, 'three': 4469, 'young': 4989, 'who': 4871, 'share': 3920, 'flat': 1748, 'part': 3193, 'stay': 4166, 'out': 3141, 'politics': 3326, 'camp': 662, 'owner': 3159, 'manager': 2724, 'hip': 2114, 'rarely': 3524, 'leaves': 2556, 'crap': 1031, 'soft': 4051, 'slightly': 4029, 'record': 3573, 'store': 4204, 'seems': 3864, 'equally': 1510, 'engage': 1479, 'long': 2644, 'only': 3110, 'female': 1693, 'lot': 2661, 'contrary': 974, 'left': 2561, 'although': 201, 'activities': 102, 'naturally': 2974, 'dont': 1324, 'object': 3066, 'these': 4441, 'friends': 1837, 'put': 3480, 'up': 4683, 'hand': 2015, 'advertising': 132, 'main': 2707, 'concern': 931, 'never': 3001, 'actual': 108, 'police': 3322, 'might': 2835, 'spoil': 4121, 'fun': 1848, 'again': 146, 'closest': 857, 'friendly': 1836, 'prevent': 3385, 'words': 4938, 'predictable': 3367, 'opening': 3114, 'scenes': 3811, 'us': 4690, 'road': 3709, 'where': 4864, 'we': 4823, 'find': 1726, 'duty': 1390, 'being': 448, 'thoroughly': 4459, 'among': 217, 'pregnant': 3369, 'woman': 4921, 'suddenly': 4273, 'goes': 1930, 'gives': 1914, 'birth': 486, 'despite': 1211, 'best': 469, 'efforts': 1433, 'doctor': 1304, 'eventually': 1537, 'arrives': 302, 'man': 2721, 'later': 2525, 'turns': 4609, 'id': 2212, 'latter': 2528, 'obviously': 3072, 'dropped': 1370, 'during': 1387, 'border': 539, 'name': 2960, 'gay': 1876, 'hasnt': 2044, 'just': 2437, 'see': 3855, 'without': 4913, 'live': 2625, 'initial': 2290, 'stays': 4169, 'soon': 4074, 'gets': 1900, 'jewish': 2401, 'job': 2405, 'having': 2054, 'grown': 1984, 'accent': 78, 'makes': 2716, 'possible': 3350, 'him': 2110, 'newly': 3004, 'found': 1811, 'identity': 2217, 'sky': 4017, 'light': 2595, 'blue': 518, 'air': 164, 'sweet': 4336, 'but': 636, 'last': 2521, 'become': 433, 'meant': 2784, 'point': 3316, 'play': 3296, 'called': 652, 'two': 4620, 'prisoners': 3403, 'nazi': 2977, 'physical': 3262, 'visible': 4753, 'together': 4511, 'another': 250, 'level': 2584, 'no': 3020, 'else': 1448, 'access': 83, 'our': 3139, 'couldnt': 1008, 'todays': 4509, 'statement': 4162, 'beautiful': 428, 'awkward': 374, 'involving': 2349, 'world': 4946, 'such': 4268, 'black': 493, 'white': 4870, 'exist': 1569, 'straight': 4210, 'strange': 4211, 'shown': 3959, 'through': 4477, 'eyes': 1613, 'really': 3556, 'care': 684, 'films': 1721, 'premise': 3370, 'flaws': 1752, 'fatal': 1664, 'chain': 741, 'events': 1536, 'somewhat': 4068, 'strong': 4229, 'message': 2819, 'emotional': 1459, 'impact': 2244, 'will': 4886, 'leave': 2555, 'exactly': 1551, 'good': 1937, 'said': 3774, 'mentioned': 2811, 'previous': 3387, 'reviewer': 3677, 'bo': 521, 'extraordinary': 1607, 'poetry': 3314, 'inspiring': 2302, 'beauty': 430, 'she': 3923, 'shots': 3950, 'catherine': 719, 'jones': 2418, 'run': 3755, 'money': 2888, 'high': 2100, 'indeed': 2271, 'nudity': 3059, 'brief': 579, 'face': 1616, 'enough': 1491, 'greek': 1970, 'island': 2361, 'setting': 3900, 'sun': 4292, 'clear': 839, 'waters': 4817, 'dialogue': 1234, 'abysmal': 76, 'times': 4497, 'unintentionally': 4659, 'funny': 1852, 'youre': 4992, 'peter': 3247, 'character': 758, 'jerk': 2395, 'work': 4940, 'bad': 382, 'blame': 499, 'actors': 104, 'kept': 2456, 'saying': 3800, 'almost': 193, 'every': 1539, 'sentence': 3881, 'major': 2711, 'oh': 3096, 'hardly': 2036, 'word': 4937, 'heard': 2062, 'apparently': 270, 'everyone': 1542, 'kids': 2467, 'old': 3100, 'speaks': 4096, 'english': 1483, 'whole': 4873, 'time': 4495, 'probably': 3407, 'show': 3953, '90s': 61, 'sad': 3767, 'hbo': 2055, 'if': 2222, 'tv': 4610, 'everything': 1544, 'throughout': 4478, 'brilliant': 583, 'cast': 710, 'tony': 4521, 'james': 2378, 'great': 1964, 'actor': 103, 'played': 3297, 'others': 3136, 'each': 1395, 'made': 2697, 'real': 3547, 'allowed': 190, 'viewers': 4739, 'connect': 944, 'reason': 3557, 'lasted': 2522, 'episode': 1507, 'sure': 4308, 'ending': 1471, 'didnt': 1242, 'die': 1243, 'walked': 4776, 'sat': 3786, 'down': 1335, 'suspense': 4330, 'go': 1924, 'trial': 4580, 'deal': 1135, 'hopefully': 2157, 'dead': 1132, 'feel': 1684, 'lake': 2509, 'afternoon': 144, 'usa': 4691, 'considering': 952, 'interesting': 2325, 'sequel': 3885, 'tune': 4602, 'evening': 1534, 'extremely': 1610, 'disappointed': 1273, 'knew': 2486, 'wouldnt': 4958, 'expecting': 1578, 'use': 4692, 'digital': 1251, 'wasnt': 4807, 'seemed': 3862, 'nowhere': 3056, 'plot': 3309, 'line': 2610, 'tied': 4489, 'logical': 2639, 'explanation': 1590, 'warning': 4800, 'following': 1774, 'maybe': 2776, 'spoiler': 4123, 'open': 3112, 'acceptable': 81, 'ridiculous': 3693, 'return': 3665, 'able': 66, 'nothing': 3047, 'ok': 3098, 'am': 204, 'free': 1827, 'now': 3054, 'cinemas': 817, 'remember': 3616, 'pit': 3278, 'single': 3996, 'screen': 3829, 'side': 3965, '40': 48, 'england': 1482, 'released': 3603, 'dog': 1310, 'total': 4531, 'waste': 4808, 'celluloid': 731, '10': 0, 'painfully': 3172, 'boring': 543, 'sci': 3815, 'fi': 1701, 'especially': 1520, 'because': 432, 'were': 4848, 'action': 100, 'packed': 3166, 'full': 1846, 'follow': 1772, 'bunch': 623, 'nervous': 2999, 'security': 3854, 'officers': 3093, 'hired': 2117, 'hit': 2122, 'chase': 769, 'escaped': 1518, 'mysterious': 2955, 'top': 4525, 'secret': 3849, 'reveal': 3670, 'supposedly': 4307, 'horrible': 2163, 'place': 3282, 'lab': 2501, 'executed': 1565, 'figures': 1713, 'forth': 1804, 'between': 475, 'locations': 2636, 'aforementioned': 139, 'rural': 3758, 'mansion': 2731, 'corrupt': 1001, 'quickly': 3491, 'becomes': 434, 'experiments': 1584, 'complete': 921, 'opposite': 3123, 'disturbing': 1300, 'dull': 1384, 'pointless': 3318, 'vague': 4705, 'scientists': 3819, 'four': 1812, 'random': 3514, 'persons': 3244, 'living': 2629, 'relatives': 3601, 'speak': 4094, 'truth': 4599, 'giant': 1905, 'machine': 2693, 'reads': 3545, 'content': 966, 'minds': 2852, 'anyway': 261, 'hide': 2097, 'dark': 1115, 'secrets': 3852, 'suffer': 4275, 'revealed': 3671, 'yet': 4984, 'fail': 1625, 'could': 1007, 'ever': 1538, 'result': 3660, 'humanity': 2189, 'threatening': 4468, 'device': 1227, 'perhaps': 3235, 'missed': 2867, 'doubt': 1332, 'patients': 3212, 'doctors': 1305, 'less': 2575, 'none': 3028, 'personalities': 3241, 'basically': 407, 'brain': 562, 'lame': 2510, 'awfully': 373, 'room': 3735, 'half': 2007, 'hour': 2176, 'werent': 4849, 'thousand': 4465, 'buildings': 616, 'vice': 4727, 'five': 1743, 'second': 3846, 'places': 3284, 'either': 1438, 'makers': 2715, 'needed': 2988, 'assumed': 329, 'unable': 4631, 'notice': 3048, 'change': 749, 'location': 2635, 'themselves': 4435, 'staring': 4152, 'pool': 3327, 'quite': 3495, 'annoying': 249, 'performance': 3228, 'mental': 2808, 'issues': 2365, 'rather': 3528, 'decent': 1147, 'definitely': 1162, 'save': 3794, 'thing': 4450, 'absolute': 71, 'avoid': 363, 'obvious': 3071, 'instead': 2307, 'shall': 3916, 'look': 2646, 'positive': 3346, 'aspects': 322, 'overrated': 3156, 'managed': 2723, 'above': 68, 'amazingly': 210, 'generous': 1886, 'lucky': 2683, 'fabulous': 1615, 'body': 527, 'breasts': 572, 'male': 2719, 'audience': 352, 'highlights': 2104, 'cinematic': 818, 'del': 1165, 'barely': 399, 'scene': 3809, 'stereotypical': 4180, 'country': 1014, 'music': 2946, 'tried': 4584, 'americas': 215, 'deep': 1154, 'south': 4087, 'advantage': 129, 'ask': 316, 'finally': 1724, 'ends': 1474, 'your': 4991, 'tired': 4501, 'ear': 1397, 'start': 4156, 'pure': 3471, 'joy': 2422, 'women': 4923, 'hope': 2155, 'day': 1129, 'younger': 4990, 'boyfriend': 558, 'realize': 3552, 'technically': 4382, 'win': 4892, 'miss': 2866, 'chicago': 785, 'provided': 3449, 'won': 4925, 'huh': 2187, 'check': 777, 'laughs': 2534, 'sight': 3969, 'original': 3129, 'natural': 2973, 'glory': 1922, 'stunning': 4244, 'thriller': 4472, 'bit': 488, 'exciting': 1563, 'stomach': 4196, 'frightening': 1839, 'terrifying': 4410, 'classic': 835, 'thought': 4462, 'normal': 3033, 'red': 3576, 'enjoying': 1487, 'adventure': 130, 'weekend': 4838, 'miles': 2843, 'form': 1798, 'captured': 677, 'surely': 4309, 'worst': 4952, 'nightmare': 3014, 'worlds': 4947, 'population': 3335, 'easy': 1410, 'exploitation': 1592, 'territory': 4411, 'john': 2409, 'cleverly': 842, 'avoided': 364, 'questions': 3489, 'meaning': 2780, 'wishing': 4907, 'heaven': 2068, 'step': 4175, 'shoes': 3941, 'performing': 3233, 'heroic': 2090, 'saving': 3797, 'getting': 1901, 'girl': 1909, 'god': 1926, 'youll': 4988, 'experience': 1580, 'protagonists': 3442, 'guys': 2001, 'ed': 1415, 'jon': 2416, 'voight': 4764, 'lewis': 2586, 'burt': 629, 'reynolds': 3684, 'drew': 1360, 'cox': 1026, 'bobby': 525, 'ned': 2986, 'beatty': 427, 'head': 2057, 'spend': 4105, 'few': 1700, 'days': 1130, 'river': 3707, 'riding': 3695, 'little': 2624, 'far': 1653, 'ahead': 159, 'pull': 3461, 'here': 2086, 'fall': 1637, 'foul': 1810, 'tie': 4488, 'tree': 4576, 'pig': 3274, 'arrive': 300, 'unseen': 4678, 'fair': 1630, 'kills': 2474, 'beats': 426, 'forest': 1791, 'under': 4639, 'stress': 4220, 'decide': 1148, 'event': 1535, 'area': 286, 'increasingly': 2268, 'dangerous': 1110, 'journey': 2421, 'risk': 3704, 'surviving': 4323, 'returns': 3668, 'rocky': 3723, 'powerful': 3360, 'survival': 4320, 'tale': 4353, 'study': 4242, 'attitudes': 347, 'torn': 4528, 'apart': 264, 'performances': 3229, 'remarkable': 3613, 'must': 2950, 'particular': 3194, 'wouldve': 4959, 'turned': 4606, 'similar': 3978, 'dogs': 1311, 'sexual': 3908, 'violence': 4747, 'isolated': 2363, 'revenge': 3675, 'victim': 4729, 'does': 1308, 'backdrop': 379, 'countryside': 1015, 'adds': 119, 'tension': 4404, 'landscape': 2513, 'nobody': 3022, 'truly': 4597, 'suspenseful': 4331, 'making': 2718, 'finest': 1730, 'wow': 4962, 'seen': 3865, 'low': 2676, 'budget': 610, 'lately': 2524, 'realistic': 3550, 'portrayal': 3341, 'life': 2592, 'east': 1407, 'german': 1896, 'contrast': 975, 'crime': 1055, 'series': 3890, 'loved': 2670, 'actress': 105, 'cliché': 844, 'entertaining': 1499, 'drama': 1346, 'same': 3778, 'perfect': 3224, 'looks': 2649, '50': 51, 'tell': 4395, 'first': 1736, 'frame': 1815, 'continuity': 972, 'happy': 2032, 'zombie': 4997, 'shows': 3960, 'lazy': 2543, 'maker': 2714, 'loves': 2674, 'given': 1913, 'endless': 1473, 'poorly': 3329, 'gore': 1941, 'produced': 3414, 'metal': 2823, 'plays': 3301, 'happens': 2029, 'combine': 884, 'hopes': 2159, 'big': 478, 'dreams': 1355, 'hard': 2033, 'idiot': 2218, 'behind': 447, 'camera': 659, 'joan': 2404, 'stars': 4155, 'villain': 4744, 'era': 1513, 'convincingly': 986, 'married': 2744, 'lover': 2672, 'wealthy': 4827, 'mr': 2929, 'acted': 98, 'perfection': 3225, 'innocent': 2294, 'charming': 768, 'talent': 4354, 'off': 3084, 'looked': 2647, 'absolutely': 72, 'gorgeous': 1942, 'elegant': 1441, 'costumes': 1006, 'mother': 2911, 'lady': 2507, 'highly': 2105, 'recommend': 3571, 'believe': 454, 'recently': 3567, '1984': 23, 'laughable': 2530, 'mention': 2810, 'plots': 3310, 'fat': 1663, 'texas': 4418, 'sheriff': 3929, 'joe': 2407, 'don': 1320, 'baker': 385, 'italian': 2367, 'arrested': 298, 'mexico': 2827, 'italy': 2368, 'tells': 4397, 'generic': 1885, 'wannabe': 4787, 'cop': 991, 'glad': 1916, 'saw': 3798, 'mst3k': 2932, 'mike': 2838, 'leads': 2548, 'resemblance': 3645, 'stop': 4201, 'weight': 4840, 'worse': 4951, 'mitchell': 2875, 'reputation': 3640, 'comes': 891, 'beginning': 443, 'tom': 4514, 'says': 3801, 'wish': 4904, 'read': 3543, 'working': 4944, 'industry': 2280, 'insane': 2296, 'artist': 307, 'completely': 922, 'understand': 4643, 'guess': 1989, 'lowest': 2678, 'society': 4050, 'dirty': 1268, 'disturbed': 1299, 'weird': 4841, 'afford': 138, 'cars': 702, 'houses': 2180, 'theyre': 4445, 'human': 2188, 'fine': 1729, 'piece': 3272, 'art': 304, 'know': 2489, 'characters': 760, 'creating': 1039, 'own': 3158, 'rules': 3754, 'cave': 727, 'social': 4049, 'system': 4345, 'within': 4912, 'park': 3190, 'standing': 4146, 'street': 4216, 'corner': 996, 'meet': 2793, 'em': 1452, 'bar': 396, 'visit': 4755, 'house': 2178, 'hate': 2046, 'knowing': 2490, 'why': 4878, 'bright': 581, 'countries': 1013, 'ugly': 4625, 'destroying': 1215, 'folk': 1770, 'built': 618, 'number': 3060, 'age': 148, 'difference': 1246, 'stewart': 4184, '25': 40, 'matter': 2769, 'romantic': 3733, 'comedy': 890, 'attracted': 349, 'works': 4945, 'fantasy': 1652, 'across': 96, 'cats': 721, 'painted': 3174, 'sounds': 4084, 'cat': 713, 'true': 4596, 'magic': 2703, 'therefore': 4439, 'building': 615, 'reaches': 3538, 'hair': 2005, 'stops': 4203, 'motion': 2913, 'say': 3799, 'yeah': 4977, 'scare': 3803, 'heck': 2071, 'jim': 2402, 'carrey': 696, 'grinch': 1975, 'havent': 2053, 'already': 197, 'waiting': 4772, 'missing': 2869, 'stage': 4139, 'company': 910, 'finds': 1728, 'bizarre': 492, 'killer': 2470, 'known': 2492, 'pair': 3176, 'clumsy': 866, 'photographer': 3259, 'trio': 4587, 'heroes': 2089, 'case': 707, 'thrown': 4481, 'twist': 4617, 'wondering': 4930, 'according': 88, 'dvd': 1391, 'synopsis': 4344, 'taking': 4352, 'hollywood': 2137, 'producer': 3415, 'sam': 3777, 'lack': 2502, 'studio': 4240, 'settings': 3901, 'helps': 2082, 'toward': 4539, '1930s': 11, 'improved': 2255, 'upon': 4684, 'example': 1553, 'angle': 236, 'fight': 1707, 'slight': 4027, 'circumstances': 822, 'silent': 3975, 'perform': 3227, 'robert': 3713, 'hill': 2108, 'lloyd': 2630, 'june': 2433, 'al': 170, 'st': 4137, 'success': 4265, 'goal': 1925, 'thousands': 4466, 'fails': 1628, 'laugh': 2529, 'subject': 4253, 'travel': 4567, 'forget': 1793, 'future': 1856, 'france': 1816, 'middle': 2833, 'nearly': 2981, 'pride': 3391, 'thanks': 4423, 'ancient': 225, 'uses': 4697, 'disgusting': 1286, 'keeps': 2451, 'honor': 2150, 'tremendous': 4579, 'expert': 1585, 'general': 1880, 'begins': 444, 'immediately': 2242, 'tries': 4585, 'justify': 2439, 'stolen': 4195, 'nice': 3008, 'expensive': 1579, 'car': 680, 'bought': 552, '1st': 28, 'do': 1302, 'selling': 3873, 'holes': 2133, 'lets': 2580, 'regarding': 3589, 'decided': 1149, 'stuck': 4237, 'robin': 3715, 'felt': 1692, 'pain': 3170, 'travels': 4569, 'effects': 1431, 'theres': 4440, 'mail': 2706, 'write': 4967, 'interest': 2323, 'landscapes': 2514, '13': 4, 'years': 4979, 'excuse': 1564, 'paint': 3173, 'dry': 1377, 'recall': 3562, 'walking': 4779, 'script': 3834, 'badly': 383, 'stuff': 4243, 'special': 4097, 'older': 3101, 'superficial': 4298, '20': 29, 'sort': 4077, 'wrong': 4973, 'feeling': 1685, 'review': 3676, 'base': 402, 'gotten': 1947, 'better': 472, 'darker': 1116, 'went': 4847, 'asks': 319, 'whats': 4860, 'motivation': 2914, 'viewing': 4740, 'farce': 1654, 'viewer': 4738, 'wonders': 4931, 'inept': 2281, 'mile': 2842, 'opportunity': 3121, 'explore': 1594, 'shallow': 3917, 'redeeming': 3577, 'portrayed': 3342, 'incompetent': 2266, 'failed': 1626, 'offer': 3087, 'court': 1020, 'treat': 4572, 'did': 1241, 'begin': 442, 'grade': 1951, 'student': 4238, 'affair': 135, 'returned': 3666, 'class': 833, 'boys': 559, 'simple': 3983, 'answer': 251, 'overwhelming': 3157, 'plus': 3311, 'greed': 1968, 'gave': 1875, 'hint': 2112, 'victims': 4730, 'sold': 4052, 'interview': 2329, 'rights': 3697, 'print': 3399, 'television': 4394, 'son': 4070, 'today': 4508, 'mary': 2751, 'lawyer': 2541, 'appealing': 272, 'benefit': 465, 'highest': 2102, 'explained': 1587, 'former': 1800, 'right': 3696, 'wing': 4896, '1972': 18, 'american': 213, 'independent': 2272, 'president': 3378, '1983': 22, 'career': 686, 'ended': 1470, 'children': 792, 'community': 908, 'college': 875, 'exposed': 1598, 'mistress': 2874, 'sexually': 3910, 'dad': 1095, 'removed': 3624, 'liberal': 2588, 'catholic': 720, 'schools': 3814, 'fighting': 1709, 'keep': 2449, 'sex': 3907, 'education': 1424, 'month': 2896, 'release': 3602, '14': 6, 'year': 4978, 'kay': 2447, 'received': 3564, 'prison': 3401, 'numerous': 3062, 'appeared': 276, 'hours': 2177, 'led': 2558, 'jail': 2376, 'until': 4680, 'casting': 711, '18': 10, 'months': 2897, 'filming': 1718, 'travesty': 4570, 'ago': 154, 'cable': 644, 'fantastic': 1651, 'william': 4887, 'macy': 2695, 'favorite': 1671, 'amazing': 209, 'clearly': 840, 'campbell': 663, 'wild': 4885, 'wise': 4903, 'beyond': 476, 'donald': 1321, 'sutherland': 4333, 'plain': 3286, 'ritter': 3705, 'happening': 2028, 'theater': 4427, 'view': 4736, 'shame': 3918, 'hell': 2077, 'new': 3003, 'coming': 896, 'noir': 3023, 'aka': 168, 'okay': 3099, 'folks': 1771, 'behavior': 446, 'amusing': 221, 'exercise': 1568, 'designed': 1203, 'shock': 3938, 'expression': 1602, 'personal': 3240, 'moment': 2886, 'abandoned': 62, 'idea': 2213, 'anti': 254, 'hero': 2088, 'spending': 4106, 'chasing': 772, 'aged': 149, 'buddy': 609, 'spent': 4108, 'soul': 4079, 'trouble': 4592, 'king': 2479, 'kong': 2494, 'vs': 4767, 'godzilla': 1929, 'rated': 3527, 'bomb': 531, 'introduction': 2339, 'cult': 1077, 'director': 1264, 'necessarily': 2983, 'ive': 2372, 'learned': 2551, 'towards': 4540, 'fare': 1655, 'price': 3389, 'ape': 266, 'robot': 3717, 'creature': 1045, 'monsters': 2893, 'humans': 2190, 'falls': 1640, 'blonde': 511, 'bland': 500, 'heroine': 2091, 'intriguing': 2335, 'mad': 2696, 'genius': 1887, 'dr': 1340, 'usually': 4700, 'associated': 327, 'vampire': 4711, 'order': 3126, 'element': 1442, 'north': 3036, 'mechanical': 2788, 'co': 867, 'operation': 3117, 'captures': 678, 'agent': 150, 'heart': 2064, 'whom': 4875, 'typically': 4624, 'killed': 2469, 'escapes': 1519, 'final': 1722, 'showdown': 3955, 'sub': 4252, 'enjoyed': 1486, 'post': 3352, 'modern': 2882, 'empty': 1465, 'girlfriend': 1910, 'fell': 1690, 'asleep': 320, 'bits': 490, 'scary': 3807, 'monster': 2892, 'superb': 4296, 'aliens': 184, 'sympathetic': 4342, 'believable': 453, 'star': 4150, 'trek': 4578, 'fashion': 1659, 'large': 2517, 'scale': 3802, 'philosophical': 3253, 'themes': 4434, 'faith': 1633, 'etc': 1527, 'minute': 2858, 'fame': 1642, 'america': 212, 'supposed': 4306, 'powers': 3361, 'plastic': 3294, 'magical': 2704, 'super': 4295, 'specifically': 4100, 'shes': 3930, 'wearing': 4831, 'mask': 2752, 'writing': 4971, 'execution': 1566, 'desired': 1206, 'strip': 4228, 'upset': 4687, 'business': 633, 'including': 2264, 'ruin': 3750, 'course': 1019, 'fights': 1710, 'wonder': 4926, 'type': 4621, 'spin': 4112, 'outfit': 3144, 'lose': 2654, 'balance': 387, 'due': 1382, 'excessive': 1560, 'force': 1786, 'jokes': 2415, 'fly': 1763, 'inane': 2258, 'theme': 4433, 'song': 4071, 'playing': 3300, 'twisted': 4618, '70s': 56, 'adult': 125, 'pg': 3250, 'covered': 1023, 'morgan': 2905, 'wonderful': 4928, 'comparison': 914, 'appearance': 274, 'stupid': 4247, 'buying': 641, 'bob': 524, 'reached': 3537, 'thirty': 4456, 'pictures': 3270, 'credits': 1050, 'affected': 137, 'peoples': 3222, 'parents': 3188, 'afterwards': 145, 'history': 2121, 'marks': 2742, 'public': 3460, 'sir': 4000, 'voice': 4761, 'delivery': 1173, 'timeless': 4496, 'lived': 2626, 'version': 4720, 'war': 4792, 'imagine': 2238, 'bored': 541, 'cold': 872, 'difficult': 1249, 'buy': 640, 'recent': 3566, 'school': 3813, 'reaching': 3539, 'heights': 2073, 'wedding': 4836, 'proves': 3447, 'hilarious': 2106, 'imdb': 2240, 'commented': 900, 'derek': 1192, 'guy': 2000, 'wed': 4835, 'wanted': 4789, 'balls': 390, 'tongue': 4518, 'cheek': 779, 'manner': 2729, 'resolution': 3649, 'relationships': 3598, 'player': 3298, 'messed': 2821, 'town': 4541, 'position': 3345, 'disappointing': 1274, 'family': 1645, 'bitter': 491, 'paying': 3217, 'cinema': 816, 'particularly': 3195, 'appalling': 268, 'honestly': 2147, 'hands': 2020, 'copies': 992, 'myself': 2953, 'ticket': 4487, 'superior': 4300, 'filmmakers': 1720, 'learn': 2550, 'reflect': 3584, 'meaningful': 2781, 'comedic': 888, 'average': 362, 'warn': 4797, 'certain': 737, 'key': 2458, 'elements': 1443, 'parts': 3199, 'sequels': 3886, 'utterly': 4702, 'approach': 282, 'copy': 994, 'tedious': 4387, 'divorce': 1301, 'attention': 345, 'superman': 4301, 'description': 1197, 'early': 1400, 'childhood': 790, 'along': 195, 'lines': 2612, 'stories': 4205, 'possessed': 3347, 'depiction': 1185, 'profound': 3423, 'feelings': 1686, 'otherwise': 3137, 'adults': 126, 'reminded': 3619, 'degree': 1164, 'struck': 4232, 'experiences': 1582, 'touching': 4536, 'moments': 2887, 'occasionally': 3075, 'formula': 1802, 'driven': 1365, 'gratuitous': 1961, 'sexuality': 3909, 'comic': 893, 'book': 535, 'fans': 1650, 'exposure': 1599, 'develop': 1222, 'angel': 231, 'likes': 2602, 'concerned': 932, 'space': 4090, 'reading': 3544, 'books': 536, 'explaining': 1588, 'freak': 1824, 'nation': 2969, 'twice': 4613, 'teenagers': 4391, 'ought': 3138, 'dress': 1357, 'deeply': 1156, 'cool': 989, 'prince': 3396, 'cinderella': 815, 'turner': 4607, 'shines': 3932, '1950s': 14, 'typical': 4623, 'fairy': 1632, 'princess': 3397, 'glass': 1917, 'loses': 2657, 'nonetheless': 3029, 'complaint': 920, 'blockbuster': 509, 'wit': 4908, 'pace': 3161, 'numbers': 3061, '30s': 44, 'musical': 2947, 'jimmy': 2403, 'cagney': 646, 'picture': 3269, 'production': 3419, 'code': 869, 'strictly': 4223, 'involve': 2345, 'albert': 174, 'brooks': 596, 'shirt': 3937, 'gag': 1861, 'ball': 388, 'seeing': 3857, 'romance': 3732, 'handle': 2018, 'desperation': 1210, 'winter': 4900, 'close': 853, 'essentially': 1523, 'obsessed': 3069, 'styles': 4250, 'basic': 406, 'rule': 3753, 'sucks': 4271, 'least': 2554, 'horrific': 2166, 'burn': 625, 'pleasant': 3302, '80s': 59, 'shocking': 3940, 'sorry': 4076, 'someone': 4064, 'hey': 2095, 'poor': 3328, 'naked': 2959, 'pulling': 3463, 'teeth': 4393, 'hadnt': 2004, 'forever': 1792, 'genre': 1888, 'project': 3427, 'need': 2987, 'audiences': 353, 'unpleasant': 4674, 'worked': 4941, 'shouldnt': 3952, 'fashioned': 1660, 'rubbish': 3748, 'figure': 1711, 'heston': 2094, 'roles': 3727, 'retired': 3664, 'hunt': 2198, 'barbara': 397, 'kidnapped': 2466, 'dies': 1245, 'displayed': 1292, 'detail': 1217, 'mouth': 2920, 'emphasis': 1463, 'productions': 3420, 'include': 2261, 'past': 3207, 'once': 3106, 'reaction': 3541, 'episodes': 1508, 'catch': 714, 'entire': 1502, 'became': 431, 'fault': 1668, 'happiness': 2031, 'yes': 4982, 'style': 4249, 'everybody': 1540, 'dated': 1119, 'value': 4709, 'eyed': 1612, 'females': 1694, 'lead': 2545, 'et': 1526, 'wars': 4804, 'master': 2757, 'qualities': 3483, 'garbage': 1870, 'writer': 4968, 'written': 4972, 'date': 1118, 'presence': 3373, 'sons': 4073, 'smart': 4035, 'took': 4523, 'mans': 2730, 'slapstick': 4019, 'dumb': 1385, 'appeal': 271, 'fully': 1847, 'awful': 372, 'luke': 2687, 'wilson': 4891, 'material': 2766, 'jessica': 2398, 'simpson': 3987, 'cook': 988, 'anne': 246, 'miller': 2846, 'supporting': 4304, 'silly': 3976, 'various': 4715, 'party': 3200, 'chaos': 755, 'suggests': 4282, 'enjoyable': 1485, 'seriously': 3892, 'likely': 2601, 'frustrated': 1842, 'roll': 3728, 'oscar': 3133, 'chance': 747, 'leaving': 2557, 'glimpse': 1919, 'happened': 2027, 'culture': 1079, '1980s': 21, 'arnold': 296, 'ben': 463, 'richards': 3687, 'offered': 3088, 'freedom': 1828, 'game': 1864, 'richard': 3686, 'dawson': 1128, 'damon': 1101, 'host': 2173, 'using': 4698, 'guns': 1998, 'jesse': 2397, 'captain': 674, 'professor': 3422, 'kill': 2468, 'running': 3756, 'dancers': 1105, 'screams': 3828, 'determined': 1221, 'prove': 3445, 'innocence': 2293, 'agrees': 157, 'told': 4513, 'buddies': 608, 'join': 2412, 'maria': 2736, 'standard': 4144, 'properly': 3437, 'judge': 2424, '1990s': 25, 'cheesy': 781, 'fetched': 1698, 'thinking': 4453, 'fast': 1661, 'listed': 2618, 'guide': 1993, 'assume': 328, 'pushing': 3479, 'government': 1948, 'media': 2789, 'national': 2970, 'downright': 1337, 'chilling': 794, 'brilliantly': 584, 'remaining': 3610, 'accept': 80, 'cliff': 847, 'iii': 2227, 'replaced': 3634, 'tracks': 4545, '2006': 36, 'tragic': 4552, 'academy': 77, 'screenplay': 3831, 'recognition': 3568, 'deserved': 1200, 'serious': 3891, 'pretentious': 3383, 'want': 4788, 'throw': 4479, 'oscars': 3134, 'feature': 1678, 'dean': 1139, 'promise': 3430, 'concept': 930, 'underground': 4640, 'creates': 1038, 'fire': 1734, 'dragon': 1344, 'giving': 1915, 'meets': 2795, 'possibilities': 3348, 'cgi': 740, 'horribly': 2164, 'lay': 2542, 'producers': 3416, 'unfortunately': 4654, 'biggest': 480, 'joke': 2414, 'bother': 548, 'taste': 4369, 'fan': 1648, 'monkeys': 2891, 'brother': 598, 'pay': 3216, 'ten': 4399, 'portrait': 3339, 'cringe': 1059, 'zombies': 4998, 'six': 4010, 'attack': 337, 'talk': 4358, 'beings': 449, 'la': 2500, 'nowadays': 3055, 'incredibly': 2270, 'short': 3946, 'eg': 1434, 'demented': 1176, 'cute': 1090, 'likable': 2598, 'bang': 393, 'finish': 1732, 'brothers': 599, 'turning': 4608, 'capable': 672, 'accidentally': 85, 'heads': 2059, 'consistently': 954, 'caught': 722, 'airport': 167, 'signs': 3973, 'nick': 3012, 'bag': 384, 'thomas': 4458, 'photography': 3260, 'worth': 4953, 'situations': 4009, 'storyline': 4208, 'cousin': 1021, 'smoke': 4039, 'club': 863, 'someones': 4065, 'germany': 1898, 'small': 4033, 'ambitious': 211, 'erotic': 1515, 'discussion': 1284, 'came': 656, 'theatre': 4429, 'search': 3841, 'night': 3013, 'eye': 1611, 'cause': 723, 'rachel': 3500, 'lisa': 2616, 'murphy': 2944, 'jackson': 2375, 'overall': 3150, 'enjoy': 1484, 'cry': 1073, 'wolf': 4920, 'admit': 122, 'mystery': 2956, 'science': 3816, '3000': 43, 'huge': 2185, 'rating': 3529, 'writers': 4969, 'site': 4005, 'cinematography': 820, 'pathetic': 3210, 'pacing': 3163, 'wait': 4770, 'literally': 2622, 'happen': 2026, 'sound': 4081, 'amount': 219, 'create': 1036, 'mood': 2898, 'disbelief': 1277, 'falling': 1639, 'plenty': 3307, 'screaming': 3827, 'possibly': 3351, 'interested': 2324, 'thus': 4486, 'seven': 3903, 'rolled': 3729, 'attempt': 340, 'slick': 4026, 'extra': 1606, 'filmed': 1717, 'cheap': 774, 'trust': 4598, 'cross': 1066, '1970s': 17, 'ill': 2228, 'lighting': 2596, 'semi': 3874, 'darkness': 1117, 'stands': 4147, 'personality': 3242, 'plans': 3292, 'control': 977, 'problems': 3409, 'consists': 955, 'ray': 3533, 'gun': 1996, 'effect': 1428, 'curious': 1083, 'weapon': 4828, 'team': 4378, 'ladies': 2506, 'teachers': 4376, 'advance': 127, 'murderous': 2942, 'alien': 183, 'animation': 242, 'simply': 3986, 'sign': 3970, 'whos': 4876, 'complex': 923, 'saturday': 3792, 'cartoon': 704, 'characterization': 759, 'chick': 786, 'putting': 3482, 'flesh': 1753, 'songs': 4072, 'moves': 2925, 'whatever': 4859, 'voices': 4763, 'moving': 2928, 'author': 359, 'der': 1191, 'masterpiece': 2759, 'centered': 733, 'letter': 2581, 'week': 4837, 'suicide': 4283, 'touch': 4533, 'musicals': 2948, 'remotely': 3623, 'focused': 1767, 'banned': 395, 'native': 2972, 'appearing': 277, 'meaningless': 2782, 'depression': 1189, 'reasons': 3560, 'generally': 1881, 'exception': 1557, 'featuring': 1681, 'crew': 1053, 'method': 2824, 'shoot': 3942, 'central': 735, 'slowly': 4032, 'circle': 821, 'person': 3238, 'apartment': 265, 'corruption': 1002, 'state': 4160, 'third': 4455, 'seemingly': 3863, 'names': 2963, 'ages': 152, 'committed': 905, 'vaguely': 4706, 'connected': 945, 'focus': 1766, 'consequences': 947, 'partly': 3197, 'power': 3359, 'jaw': 2384, 'dropping': 1371, 'immensely': 2243, 'depicting': 1184, 'manage': 2722, 'status': 4165, 'awe': 370, 'depressing': 1188, 'dozens': 1339, 'showing': 3958, 'festival': 1697, 'impression': 2252, 'strongly': 4231, 'anyone': 259, 'recommended': 3572, 'whether': 4866, 'confusion': 943, 'arent': 288, 'opinion': 3118, 'achievement': 94, 'indie': 2276, 'limited': 2606, 'classical': 836, 'soundtrack': 4085, 'cd': 728, 'quirky': 3493, 'essential': 1522, 'hear': 2061, 'powell': 3358, 'dealing': 1136, 'murder': 2939, 'ex': 1549, 'mrs': 2930, 'starring': 4154, 'jean': 2389, 'arthur': 305, 'eric': 1514, 'chemistry': 782, 'thin': 4449, 'ginger': 1908, 'rogers': 3725, 'somehow': 4063, 'witty': 4917, 'professional': 3421, 'served': 3894, 'help': 2079, 'solve': 4060, 'dragged': 1343, 'intended': 2315, 'constantly': 958, 'bringing': 586, 'cases': 708, 'horse': 2170, 'raise': 3507, 'solution': 4059, 'kind': 2476, 'humor': 2192, 'suspect': 4327, 'wacky': 4769, 'arrived': 301, 'ah': 158, 'sean': 3840, 'bond': 532, 'techniques': 4384, 'considered': 951, 'advanced': 128, 'computer': 927, 'equipment': 1511, 'inventive': 2341, 'often': 3095, 'implausible': 2245, 'types': 4622, 'figured': 1712, 'convoluted': 987, 'steal': 4170, 'spends': 4107, 'millions': 2848, 'providing': 3451, 'rats': 3531, 'sullivan': 4288, 'spy': 4135, 'complicated': 925, 'dude': 1381, 'carefully': 689, 'introduce': 2336, 'reminiscent': 3621, 'sadly': 3769, 'underrated': 4642, 'gem': 1877, 'seconds': 3848, 'rock': 3720, 'hudson': 2184, 'deals': 1137, 'pieces': 3273, '60s': 54, 'loads': 2633, 'rooms': 3736, 'eerie': 1427, 'notably': 3042, 'results': 3662, 'section': 3853, 'drags': 1345, 'mainly': 2708, 'multiple': 2936, 'twists': 4619, 'hoped': 2156, 'grim': 1974, 'distant': 1295, 'jeremy': 2394, 'perfectly': 3226, 'adorable': 124, 'lucy': 2684, 'regular': 3592, 'directors': 1266, 'choice': 797, 'david': 1124, 'memorable': 2802, 'eccentric': 1414, 'entertainment': 1500, 'adaptation': 113, 'trap': 4563, 'list': 2617, 'caine': 647, 'normally': 3034, 'michael': 2829, 'battle': 414, 'equivalent': 1512, 'pointed': 3317, 'deserve': 1199, 'examples': 1554, 'choose': 799, 'matters': 2770, 'eight': 1436, 'nine': 3017, 'dozen': 1338, 'timing': 4498, 'ride': 3692, 'hearted': 2065, 'hitchcock': 2123, 'renting': 3629, 'flick': 1754, 'porn': 3336, 'cameos': 658, 'jr': 2423, 'dynamic': 1394, 'paid': 3169, 'attempted': 341, 'critics': 1064, 'impressed': 2251, 'actresses': 106, 'careers': 687, 'becoming': 435, 'listening': 2620, 'jazz': 2387, 'survived': 4322, 'round': 3742, 'parties': 3196, 'rich': 3685, 'suffered': 4276, 'alright': 198, 'starts': 4159, 'spectacular': 4101, 'boat': 523, 'popular': 3333, 'swimming': 4338, 'stock': 4193, 'market': 2740, 'realise': 3548, 'johnny': 2410, 'brown': 601, 'offers': 3090, 'marry': 2745, 'wants': 4791, 'newspaper': 3006, 'inside': 2297, 'mob': 2879, 'surprises': 4314, 'news': 3005, 'mixed': 2877, 'jake': 2377, 'clark': 832, 'witnesses': 4916, 'mass': 2753, 'shooting': 3943, 'sees': 3866, 'drinking': 1362, 'forced': 1787, 'hiding': 2099, 'paper': 3183, 'pulls': 3464, 'effort': 1432, 'sends': 3876, 'dancer': 1104, 'lively': 2627, 'dance': 1103, 'lies': 2591, 'dying': 1393, 'famous': 1647, 'stylish': 4251, 'teenager': 4390, 'douglas': 1334, 'mid': 2832, 'weak': 4824, 'gentle': 1890, 'occurs': 3078, 'irony': 2357, 'till': 4493, 'sudden': 4272, 'changes': 751, 'directed': 1259, 'louis': 2665, 'usual': 4699, 'pearl': 3220, 'sneak': 4043, 'boy': 557, 'involved': 2346, 'miscast': 2862, 'incredible': 2269, 'liked': 2600, 'brian': 576, 'de': 1131, 'score': 3822, 'awesome': 371, 'psycho': 3457, 'unpredictable': 4675, 'finale': 1723, 'thrillers': 4473, 'hospital': 2172, 'shocked': 3939, 'creep': 1051, 'sequences': 3888, 'nancy': 2964, 'allen': 188, 'gordon': 1940, 'angles': 237, 'colors': 879, 'keeping': 2450, 'blood': 512, 'bloody': 513, 'department': 1182, 'kid': 2464, 'dennis': 1179, 'detective': 1220, 'drop': 1369, 'wasted': 4809, '80': 58, 'turkey': 4604, 'award': 366, 'problem': 3408, 'unbelievable': 4634, 'frankly': 1823, 'lost': 2660, 'describe': 1194, 'utter': 4701, 'originality': 3130, 'serial': 3889, 'dire': 1257, 'elsewhere': 1449, 'cops': 993, 'gangsters': 1869, 'scenery': 3810, 'shortly': 3947, 'dialogues': 1235, 'beautifully': 429, 'outer': 3143, 'scientist': 3818, 'filled': 1715, 'unknown': 4668, 'earth': 1403, 'potentially': 3356, 'race': 3499, 'contact': 961, 'cut': 1089, 'handsome': 2021, 'dollars': 1315, 'technology': 4385, 'stick': 4185, 'popcorn': 3331, 'intelligence': 2313, 'count': 1010, 'clichés': 846, 'delivers': 1172, 'kurt': 2499, 'brings': 587, 'depth': 1190, 'youve': 4995, 'satire': 3788, 'humour': 2194, 'offended': 3085, 'superhero': 4299, 'walk': 4775, 'delightful': 1168, 'cliche': 843, 'occasional': 3074, 'junior': 2435, 'stiller': 4189, 'hank': 2024, 'smaller': 4034, 'rush': 3759, 'louise': 2666, 'laughed': 2532, 'based': 404, 'denzel': 1181, 'washington': 4806, 'decade': 1144, 'soldier': 4053, 'civil': 826, 'training': 4558, 'african': 142, 'receive': 3563, 'chose': 804, 'direct': 1258, 'fisher': 1739, 'silver': 3977, 'guest': 1992, 'appearances': 275, 'directing': 1260, 'undoubtedly': 4648, 'believed': 455, 'navy': 2976, 'sent': 3880, 'psychiatrist': 3455, 'named': 2961, 'troubled': 4593, 'finding': 1727, 'overly': 3155, 'melodramatic': 2798, 'hunting': 2201, 'dramatic': 1348, 'affect': 136, 'carrying': 701, 'closing': 859, 'born': 544, 'response': 3654, 'appreciate': 279, 'deliver': 1169, 'complain': 919, 'ludicrous': 2685, 'davis': 1126, 'elaborate': 1439, 'kate': 2446, 'steven': 4182, 'remake': 3612, 'doomed': 1327, 'craft': 1028, 'planet': 3289, 'george': 1893, 'drawn': 1351, 'tears': 4380, 'tear': 4379, 'sadness': 3770, 'definite': 1161, 'used': 4693, 'leading': 2547, 'directorial': 1265, 'debut': 1143, 'talented': 4355, 'critical': 1062, 'popularity': 3334, 'lawrence': 2539, 'fish': 1738, 'steals': 4172, 'outrageous': 3145, 'kevin': 2457, 'bumbling': 622, 'paris': 3189, 'climax': 849, 'clever': 841, 'animals': 240, 'prior': 3400, 'reviewers': 3678, 'except': 1556, 'stale': 4141, 'program': 3424, 'desperate': 1208, 'self': 3869, 'satisfied': 3789, 'present': 3374, 'narration': 2965, 'quick': 3490, 'forward': 1808, 'passing': 3204, 'ii': 2226, 'rambo': 3511, 'changed': 750, 'allow': 189, 'test': 4416, 'nevertheless': 3002, 'eighties': 1437, 'fourth': 1813, 'official': 3094, 'presumably': 3380, 'crimes': 1056, 'explicit': 1591, 'officer': 3092, 'colonel': 876, 'mission': 2870, 'vietnam': 4735, 'investigate': 2342, 'held': 2074, 'communist': 907, 'rescue': 3643, 'enemy': 1477, 'brave': 567, 'military': 2844, 'improve': 2254, 'easier': 1405, 'discovers': 1281, 'americans': 214, 'prisoner': 3402, 'fate': 1665, 'evil': 1548, 'soldiers': 4054, 'russian': 3762, 'surprised': 4313, 'army': 295, 'criminal': 1057, 'responsibility': 3655, 'severe': 3906, 'earlier': 1399, 'pan': 3180, 'propaganda': 3435, 'pro': 3406, 'laughably': 2531, 'faults': 1669, 'movement': 2923, 'faced': 1617, 'controversial': 978, 'roots': 3738, 'please': 3304, 'handed': 2016, 'wins': 4899, 'charlie': 765, '2000': 30, 'loving': 2675, 'dislike': 1288, 'subtlety': 4261, 'moronic': 2907, 'taken': 4350, 'compared': 912, 'green': 1971, 'analysis': 224, 'spoilers': 4124, 'hatred': 2049, '11': 2, 'gang': 1867, 'escape': 1517, 'process': 3412, 'killing': 2472, 'susan': 4326, 'fellow': 1691, 'vast': 4716, 'desert': 1198, 'promising': 3433, 'gold': 1932, 'buried': 624, 'exact': 1550, 'vengeance': 4719, 'witness': 4914, 'brutally': 604, 'raped': 3522, 'rabbit': 3498, 'season': 3843, 'brutal': 603, 'wayne': 4821, 'searching': 3842, 'indian': 2274, 'guilt': 1994, 'ridden': 3691, 'responsible': 3656, 'aging': 153, 'charles': 764, 'knows': 2493, 'breaking': 570, 'hal': 2006, 'chris': 806, 'criminals': 1058, 'lacks': 2505, 'unbelievably': 4635, 'sit': 4003, 'slow': 4031, 'bullets': 621, 'mindless': 2851, 'shelf': 3926, 'redemption': 3578, 'terrible': 4407, 'harvey': 2042, 'fonda': 1777, 'ashley': 313, 'necessary': 2984, 'flow': 1762, '90': 60, 'hoping': 2160, 'scared': 3805, 'mostly': 2910, 'laughing': 2533, 'fake': 1635, 'cg': 739, 'ridiculously': 3694, 'sucked': 4270, 'hated': 2047, 'guessing': 1991, 'kinda': 2477, 'ass': 323, 'dan': 1102, 'williams': 4888, 'brought': 600, 'several': 3905, 'adam': 111, 'genuinely': 1892, 'weakest': 4825, 'bound': 553, 'conflict': 939, 'featured': 1679, 'attraction': 350, 'alive': 186, 'westerns': 4854, 'seek': 3858, 'stand': 4143, 'moved': 2922, 'adams': 112, 'stayed': 4167, 'heavy': 2070, 'absence': 70, 'candy': 668, 'member': 2800, 'jamie': 2379, 'forgettable': 1794, 'adding': 117, 'alcohol': 176, '1960s': 15, 'counter': 1011, 'source': 4086, 'law': 2538, 'fbi': 1675, 'jump': 2429, 'causing': 726, 'addition': 118, 'chances': 748, 'contrived': 976, 'died': 1244, 'killers': 2471, 'wrapped': 4964, 'quality': 3484, 'nail': 2957, 'hundred': 2195, 'friend': 1835, 'surfing': 4311, 'korean': 2495, 'surprise': 4312, 'hong': 2149, 'hence': 2083, 'fresh': 1833, 'tricks': 4583, 'enemies': 1476, 'gradually': 1952, 'differences': 1247, 'caring': 691, 'realizing': 3555, 'reminds': 3620, 'gone': 1935, 'genuine': 1891, 'distinct': 1296, 'faster': 1662, 'pass': 3201, 'dances': 1106, 'realizes': 3554, 'cares': 690, '2nd': 41, 'development': 1225, 'accompanied': 86, 'boss': 546, 'comment': 898, 'embarrassed': 1453, 'front': 1841, 'san': 3780, 'british': 589, 'overcome': 3151, 'california': 650, 'late': 2523, 'accurate': 90, 'killings': 2473, 'bay': 416, '1968': 16, 'dave': 1123, 'mouse': 2919, 'disease': 1285, 'totally': 4532, 'losing': 2658, 'blown': 516, 'alcoholic': 177, 'disappointment': 1275, 'bore': 540, 'lots': 2662, 'anywhere': 263, 'suppose': 4305, 'nonsense': 3030, 'entertained': 1498, 'finger': 1731, 'mess': 2818, 'dorothy': 1330, 'caused': 724, 'purchase': 3469, 'subplots': 4256, 'stiff': 4187, 'confusing': 942, 'available': 361, 'plan': 3287, 'frequently': 1832, 'invisible': 2344, 'performer': 3231, 'raw': 3532, 'witch': 4909, 'everyday': 1541, 'hart': 2041, 'troubles': 4594, 'relate': 3593, 'fit': 1740, 'intelligent': 2314, 'crazy': 1035, 'agree': 155, 'anyways': 262, 'henry': 2084, 'fool': 1779, 'entertain': 1497, 'fay': 1674, 'continues': 971, 'provides': 3450, 'solid': 4057, 'watches': 4814, 'aware': 368, 'jeff': 2390, 'convincing': 985, 'delight': 1167, 'portrays': 3344, 'pleasure': 3306, 'pleased': 3305, 'discover': 1279, 'loser': 2655, 'further': 1853, 'lovely': 2671, 'trilogy': 4586, 'himself': 2111, 'facts': 1624, 'concerning': 933, 'needs': 2990, 'sorts': 4078, 'flicks': 1755, 'decides': 1150, 'menace': 2806, 'beloved': 461, 'deserves': 1201, 'idiotic': 2219, 'belief': 451, 'manages': 2725, 'foot': 1781, 'corpse': 999, 'seat': 3845, 'driving': 1368, 'mediocre': 2791, 'personally': 3243, 'helping': 2081, 'build': 614, 'trees': 4577, 'ripped': 3701, 'disaster': 1276, 'wave': 4818, 'mainstream': 2709, 'australian': 357, 'asked': 317, 'accused': 91, 'involves': 2348, 'familiar': 1643, 'anymore': 258, 'ninja': 3018, 'enter': 1494, 'shell': 3927, 'dialog': 1232, 'asian': 314, 'stunt': 4245, 'existent': 1572, 'costs': 1004, 'surprisingly': 4316, 'watchable': 4812, 'levels': 2585, 'relation': 3595, 'category': 718, '12': 3, 'unique': 4662, 'paul': 3214, 'whose': 4877, 'water': 4816, '100': 1, 'horrid': 2165, 'bela': 450, 'lugosi': 2686, 'starred': 4153, 'welles': 4844, 'returning': 3667, 'relative': 3599, 'citizen': 824, 'kane': 2442, 'paranoia': 3186, 'tall': 4362, 'cuts': 1091, 'sinister': 3998, 'chinese': 796, 'inspiration': 2300, 'roman': 3731, 'obsession': 3070, 'technical': 4381, 'hurts': 2203, 'incomprehensible': 2267, 'combined': 885, 'glenn': 1918, 'laughter': 2535, 'orson': 3132, 'irish': 2353, 'honest': 2146, 'breaks': 571, 'husbands': 2205, 'partner': 3198, 'rocket': 3721, 'repeated': 3631, 'bbc': 417, 'period': 3236, 'memories': 2803, 'stunts': 4246, 'ingredients': 2289, 'ralph': 3510, 'remembered': 3617, 'inevitable': 2282, 'flashback': 1746, 'suffers': 4278, 'door': 1328, 'entry': 1504, 'whatsoever': 4861, 'spare': 4093, 'european': 1530, 'devil': 1228, 'square': 4136, 'butler': 637, 'mistaken': 2872, 'soap': 4047, 'opera': 3116, 'blind': 506, 'lessons': 2578, 'board': 522, 'theaters': 4428, 'alternate': 200, 'added': 116, 'priest': 3392, 'vhs': 4725, 'extras': 1608, 'mario': 2738, 'ideas': 2215, 'practice': 3363, 'ya': 4976, 'baby': 376, 'wrote': 4974, 'daily': 1097, 'delivering': 1171, 'runs': 3757, 'blank': 501, 'term': 4405, 'loosely': 2651, 'heavily': 2069, 'contains': 964, 'larry': 2520, 'sisters': 4002, 'learns': 2553, 'fortune': 1806, 'widely': 4881, 'footage': 1782, '17': 9, 'onto': 3111, 'reel': 3581, 'comedies': 889, 'influenced': 2287, 'decision': 1151, 'stooges': 4200, 'weeks': 4839, 'bottom': 551, 'ranks': 3519, 'service': 3896, 'ham': 2011, 'johnson': 2411, 'viewed': 4737, 'motives': 2916, 'inspired': 2301, 'york': 4985, 'broken': 594, 'neighbors': 2994, 'edward': 1426, 'pet': 3246, 'meat': 2787, 'taylor': 4372, 'haunting': 2051, 'significant': 3972, 'bush': 632, 'lousy': 2667, 'holy': 2140, 'rent': 3626, 'punishment': 3467, 'extent': 1605, 'anime': 243, 'symbolism': 4341, 'breathtaking': 574, 'text': 4419, 'hello': 2078, 'acid': 95, 'justice': 2438, 'epic': 1506, 'whoever': 4872, 'tunes': 4603, 'cartoons': 705, 'afraid': 140, 'bugs': 613, 'planned': 3290, 'mars': 2746, 'aint': 163, 'hurt': 2202, 'finished': 1733, 'historical': 2119, 'attached': 336, 'compelling': 916, 'dancing': 1107, 'bare': 398, 'telling': 4396, 'spanish': 4092, 'combination': 883, 'wooden': 4934, 'foreign': 1790, 'nominated': 3025, 'beat': 423, 'bette': 471, 'united': 4664, 'states': 4163, 'train': 4556, 'nazis': 2978, 'yourself': 4993, 'sunday': 4293, 'grant': 1956, 'respect': 3652, 'hills': 2109, 'somewhere': 4069, 'french': 1830, 'masterpieces': 2760, 'proof': 3434, 'impress': 2250, 'wide': 4880, 'stephen': 4176, 'masters': 2761, 'retarded': 3663, 'practically': 3362, 'spooky': 4128, 'rank': 3518, 'century': 736, 'dawn': 1127, 'medical': 2790, 'rat': 3525, 'succeeded': 4263, 'dinner': 1254, 'eat': 1411, 'opposed': 3122, 'lee': 2559, 'unfortunate': 4653, 'accident': 84, 'cage': 645, 'developed': 1223, 'meanwhile': 2785, 'wendy': 4846, 'leslie': 2574, 'alex': 179, 'victor': 4731, 'crash': 1033, 'grave': 1962, 'ruby': 3749, 'ann': 244, 'pleasantly': 3303, 'stretch': 4221, 'imagination': 2236, 'reasonable': 3558, 'tend': 4400, 'drag': 1342, 'settle': 3902, 'mix': 2876, 'gain': 1863, 'deaf': 1134, 'kicking': 2462, 'daughters': 1122, 'sequence': 3887, 'talking': 4360, 'cell': 730, 'worry': 4950, 'loud': 2664, 'smiling': 4037, 'occasion': 3073, 'credit': 1049, 'exaggerated': 1552, 'facial': 1619, 'movements': 2924, 'overacting': 3149, 'birds': 485, 'clothes': 860, 'odds': 3082, 'dick': 1239, 'tracy': 4546, 'warren': 4801, 'pacino': 3164, 'singer': 3993, 'madonna': 2699, 'collection': 874, 'colorful': 878, 'creative': 1041, 'ensemble': 1492, 'includes': 2263, 'hoffman': 2128, 'tommy': 4516, 'chosen': 805, 'struggles': 4235, 'expressed': 1601, 'dvds': 1392, 'rental': 3627, 'suck': 4269, 'wanna': 4786, 'throat': 4476, 'buffs': 612, 'break': 569, 'crappy': 1032, 'channel': 753, 'hearing': 2063, 'humorous': 2193, 'consider': 949, 'block': 508, 'shake': 3914, 'drive': 1363, 'drink': 1361, 'worthwhile': 4955, 'unfunny': 4655, 'pilot': 3276, 'skills': 4014, 'track': 4544, 'clue': 864, 'sheer': 3925, 'lou': 2663, 'signed': 3971, 'iron': 2354, 'steve': 4181, 'amazed': 208, 'skill': 4013, 'assigned': 325, 'plane': 3288, 'ice': 2210, 'zero': 4996, 'landing': 2512, 'land': 2511, 'jason': 2383, 'julia': 2427, 'lit': 2621, 'wrap': 4963, 'flawless': 1751, 'design': 1202, 'conclusion': 936, 'thrills': 4475, 'kick': 2460, 'sitcom': 4004, 'league': 2549, 'follows': 1775, 'fictional': 1703, 'village': 4743, 'shop': 3945, 'whenever': 4863, 'enters': 1496, 'hates': 2048, 'loose': 2650, 'ready': 3546, 'taxi': 4371, 'driver': 1366, 'furthermore': 1854, 'farm': 1656, 'outside': 3146, 'sick': 3963, 'animal': 239, 'opens': 3115, 'holding': 2130, 'colour': 880, 'besides': 468, 'comical': 894, 'suited': 4286, 'grey': 1973, 'welcome': 4842, 'disjointed': 1287, 'conceived': 929, 'commercial': 902, 'china': 795, 'christian': 808, 'information': 2288, 'university': 4667, 'students': 4239, 'woods': 4935, 'remain': 3609, 'website': 4834, 'unless': 4669, 'punk': 3468, 'ramones': 3512, 'appear': 273, 'band': 391, 'antics': 255, 'brand': 565, 'principal': 3398, 'ms': 2931, 'report': 3635, 'kudos': 2497, 'legendary': 2565, 'clint': 850, 'howard': 2182, 'terrific': 4409, 'topic': 4526, 'quote': 3496, 'lynch': 2691, 'artificial': 306, 'grab': 1949, 'anthony': 253, 'edge': 1418, 'creativity': 1042, 'spoof': 4127, 'promises': 3432, '30': 42, 'length': 2569, 'madness': 2698, 'fired': 1735, 'below': 462, 'beach': 419, 'competition': 918, 'hot': 2174, 'pink': 3277, 'mom': 2885, 'lifetime': 2594, 'australia': 356, 'gonna': 1936, 'storm': 4206, 'nasty': 2968, 'apparent': 269, 'guessed': 1990, 'worthy': 4956, 'sacrifice': 3766, 'massive': 2756, 'seasons': 3844, 'capture': 676, 'relief': 3605, 'animated': 241, 'mini': 2854, 'required': 3641, 'ultimate': 4627, 'lord': 2652, 'russell': 3761, 'davies': 1125, 'brilliance': 582, 'rose': 3739, 'london': 2641, 'attacked': 338, 'creatures': 1046, 'stranger': 4213, 'introduces': 2338, 'christopher': 811, 'box': 555, '45': 50, 'endearing': 1469, 'blend': 504, 'conversations': 981, 'speaking': 4095, 'basis': 408, 'triumph': 4590, 'theory': 4437, 'teens': 4392, 'ordinary': 3128, 'universe': 4666, 'represents': 3639, 'generations': 1884, 'icon': 2211, 'instantly': 2306, 'forms': 1801, 'summer': 4291, 'youth': 4994, 'quiet': 3492, 'hype': 2207, 'praise': 3364, 'diane': 1238, 'craven': 1034, 'alan': 171, 'covers': 1024, 'suggest': 4280, 'mundane': 2938, 'catching': 716, 'breath': 573, 'excitement': 1562, 'margaret': 2735, 'sports': 4130, 'frank': 1821, 'winning': 4898, 'wizard': 4919, 'oz': 3160, 'christmas': 810, 'gritty': 1977, 'unusual': 4681, 'widmark': 4882, 'peters': 3248, 'agents': 151, 'theyll': 4444, 'succeed': 4262, 'link': 2613, 'card': 681, 'thinks': 4454, 'trail': 4553, 'exceptional': 1558, 'gripping': 1976, 'ability': 65, 'tough': 4537, 'overlooked': 3154, 'garden': 1872, 'prime': 3395, 'womens': 4924, 'exotic': 1574, 'bite': 489, 'jane': 2380, 'eyre': 1614, 'castle': 712, 'burned': 626, 'marriage': 2743, 'religious': 3608, 'relies': 3606, 'express': 1600, 'logic': 2638, 'reduced': 3579, 'standards': 4145, 'monk': 2889, 'naive': 2958, 'passion': 3205, 'clean': 838, 'sophisticated': 4075, 'novel': 3052, 'intention': 2319, 'thankfully': 4422, 'enormous': 1490, 'talents': 4356, 'wet': 4855, 'dream': 1354, 'max': 2774, 'composed': 926, 'ironically': 2356, 'splendid': 4119, 'spot': 4131, 'mgm': 2828, 'presentation': 3375, 'rate': 3526, 'cynical': 1093, 'grow': 1982, 'scott': 3824, 'smith': 4038, 'calls': 654, 'roger': 3724, 'jonathan': 2417, 'harris': 2038, 'successful': 4266, 'wind': 4893, 'sister': 4001, 'manipulative': 2727, 'melodrama': 2797, 'bacall': 377, 'domestic': 1318, 'oil': 3097, 'primary': 3394, 'players': 3299, 'impressive': 2253, 'authority': 360, 'understanding': 4645, 'color': 877, 'striking': 4226, 'burton': 630, 'motivations': 2915, 'unsettling': 4679, 'environment': 1505, 'question': 3487, 'surface': 4310, 'included': 2262, 'reasonably': 3559, 'prepared': 3371, 'treats': 4575, 'trick': 4582, 'outstanding': 3147, 'selfish': 3870, 'performed': 3230, 'liking': 2604, 'flash': 1745, 'surprising': 4315, 'friday': 1834, 'gary': 1873, 'winds': 4895, 'rotten': 3740, 'terrorists': 4414, 'cardboard': 682, 'trademark': 4548, 'leader': 2546, 'lincoln': 2608, 'add': 115, 'pick': 3265, 'task': 4368, 'canada': 666, 'touches': 4535, 'relatively': 3600, 'leonard': 2572, 'disagree': 1269, 'explain': 1586, 'spoiled': 4122, 'lonely': 2643, 'radio': 3504, 'proceedings': 3410, 'met': 2822, 'unforgettable': 4652, 'canadian': 667, 'dubbed': 1379, 'descent': 1193, 'knowledge': 2491, 'remarkably': 3614, 'merits': 2817, 'unconvincing': 4638, 'importance': 2246, 'arguably': 289, 'ad': 110, 'cruise': 1071, 'interpretation': 2328, 'insight': 2298, 'doom': 1326, 'references': 3583, 'panic': 3181, 'grace': 1950, 'chases': 771, 'starting': 4158, 'ironic': 2355, 'medium': 2792, 'jack': 2373, 'pie': 3271, 'letting': 2583, 'carries': 699, 'focusing': 1769, 'sport': 4129, 'videos': 4734, 'images': 2235, 'scope': 3821, 'perspective': 3245, 'aspect': 321, 'details': 1219, 'heres': 2087, 'nor': 3032, 'rolling': 3730, 'lower': 2677, 'portion': 3338, 'upper': 4685, 'pack': 3165, 'sidney': 3968, 'celebrity': 729, 'miracle': 2860, 'phone': 3255, 'call': 651, 'office': 3091, 'interviews': 2330, 'asking': 318, 'broadway': 592, 'luck': 2681, 'sides': 3967, 'engaging': 1481, 'conversation': 980, 'attempting': 342, 'existence': 1571, 'hotel': 2175, 'wounded': 4961, 'longer': 2645, 'deadly': 1133, 'poverty': 3357, 'row': 3744, 'studios': 4241, 'respected': 3653, 'stealing': 4171, 'bodies': 526, 'ultra': 4629, 'scheme': 3812, 'dear': 1140, 'damn': 1100, 'spoken': 4126, 'barry': 401, 'dreadful': 1353, 'inappropriate': 2259, 'visits': 4756, 'showed': 3956, 'crying': 1074, 'throws': 4482, 'piano': 3264, 'strength': 4219, 'feet': 1688, 'greatest': 1966, 'related': 3594, 'projects': 3428, 'dracula': 1341, 'sleep': 4024, 'burning': 627, 'hits': 2125, 'ground': 1979, 'send': 3875, 'threw': 4470, 'christ': 807, 'bible': 477, 'steel': 4173, 'singers': 3994, 'comics': 895, 'destroy': 1213, 'charge': 761, 'wreck': 4965, 'theatrical': 4430, 'slightest': 4028, 'unbearable': 4633, 'batman': 413, 'focuses': 1768, 'reviews': 3679, 'struggle': 4234, 'shadow': 3912, 'santa': 3783, 'fred': 1825, 'energy': 1478, 'portray': 3340, 'financial': 1725, 'elizabeth': 1445, 'highlight': 2103, 'stinker': 4191, 'support': 4303, 'specific': 4099, 'guarantee': 1987, 'match': 2762, 'matches': 2764, 'carried': 698, 'wrestling': 4966, 'excited': 1561, 'hardy': 2037, 'matt': 2768, 'kennedy': 2454, 'ring': 3698, 'confused': 941, 'mysteries': 2954, 'curiosity': 1082, 'contained': 963, 'curtis': 1087, 'stood': 4199, 'hat': 2045, 'anger': 235, 'shed': 3924, 'ships': 3935, 'murdered': 2940, 'da': 1094, 'phantom': 3251, 'disappeared': 1271, 'dig': 1250, 'inspector': 2299, 'secretary': 3850, 'closed': 854, 'ignorant': 2223, 'murderer': 2941, 'intense': 2316, 'artistic': 308, 'belongs': 460, 'sensitive': 3879, 'shadows': 3913, 'nuclear': 3057, 'weapons': 4829, 'illness': 2230, 'credibility': 1047, 'hollow': 2135, 'minimum': 2856, 'previously': 3388, 'steps': 4177, 'queen': 3485, 'dust': 1388, 'commit': 904, 'ship': 3934, 'placed': 3283, 'weve': 4856, 'remains': 3611, 'screening': 3830, '2005': 35, 'punch': 3466, 'notch': 3043, 'provide': 3448, 'editing': 1421, 'visual': 4757, 'fx': 1858, 'itll': 2369, 'current': 1084, 'regret': 3591, 'crisis': 1060, 'choices': 798, 'michelle': 2830, 'growing': 1983, 'danny': 1112, 'joey': 2408, 'uncle': 4636, 'bleak': 503, '1933': 12, 'showcase': 3954, 'chorus': 803, 'limits': 2607, 'realism': 3549, 'sidekick': 3966, 'smile': 4036, 'yelling': 4980, 'spoke': 4125, 'liners': 2611, 'murders': 2943, 'aside': 315, 'builds': 617, 'mtv': 2933, 'gangster': 1868, 'van': 4713, 'hood': 2151, 'unlikely': 4671, 'friendship': 1838, 'quest': 3486, 'rival': 3706, 'ruthless': 3764, 'neat': 2982, 'constant': 957, 'considerable': 950, 'rip': 3700, 'shower': 3957, 'thrilling': 4474, 'display': 1291, 'alas': 172, 'appreciated': 280, 'nude': 3058, 'polished': 3323, 'likewise': 2603, 'winner': 4897, 'april': 284, 'marty': 2749, 'bigger': 479, 'par': 3184, 'slasher': 4020, 'sake': 3775, 'members': 2801, 'reunion': 3669, 'holmes': 2139, 'rage': 3505, 'laws': 2540, 'scenario': 3808, 'haunted': 2050, 'ghosts': 1903, 'pushed': 3478, 'nurse': 3063, 'nature': 2975, 'atrocious': 335, 'accents': 79, 'leo': 2571, 'veteran': 4724, 'parody': 3192, 'virtually': 4751, 'intentions': 2321, 'maintain': 2710, 'cusack': 1088, 'existed': 1570, 'learning': 2552, '1996': 26, 'demon': 1177, 'freddy': 1826, 'memory': 2804, 'maggie': 2702, 'cutting': 1092, 'elm': 1447, 'franchise': 1817, 'childish': 791, 'million': 2847, 'wes': 4851, 'trapped': 4564, 'treated': 4573, 'wall': 4781, 'floor': 1759, 'noise': 3024, 'believing': 457, 'unintentional': 4658, 'deaths': 1142, 'twenty': 4612, 'presented': 3376, 'gags': 1862, 'alice': 182, 'cooper': 990, 'defend': 1158, 'followed': 1773, 'bin': 483, 'mildly': 2840, 'raised': 3508, 'ultimately': 4628, 'favourite': 1673, 'terribly': 4408, 'clichéd': 845, 'expectations': 1576, 'coffee': 870, 'bargain': 400, 'props': 3439, 'notion': 3050, 'fill': 1714, 'possibility': 3349, 'draw': 1349, 'bullet': 620, 'survive': 4321, 'scripted': 3835, 'edited': 1420, 'artists': 309, 'historically': 2120, 'ratings': 3530, 'purpose': 3474, 'eva': 1531, 'grows': 1985, 'angry': 238, 'network': 3000, 'neither': 2996, 'handful': 2017, 'quotes': 3497, 'beer': 439, 'documentaries': 1306, 'definition': 1163, 'regard': 3588, 'brenda': 575, 'sword': 4340, 'supernatural': 4302, 'walks': 4780, 'merely': 2815, 'holds': 2131, 'drivel': 1364, 'international': 2326, 'baseball': 403, 'disney': 1289, 'dollar': 1314, 'picked': 3266, 'lengthy': 2570, 'cameo': 657, 'cameras': 660, 'imagery': 2234, 'fix': 1744, 'listen': 2619, 'chased': 770, '2001': 31, 'image': 2233, '70': 55, 'drawing': 1350, 'diana': 1237, 'mark': 2739, 'trash': 4565, 'junk': 2436, 'food': 1778, 'attempts': 343, 'ie': 2221, 'basement': 405, 'lights': 2597, 'understood': 4647, 'mixture': 2878, 'improvement': 2256, 'jackie': 2374, 'kung': 2498, 'fu': 1844, 'urban': 4688, 'chan': 746, 'protect': 3443, 'subsequent': 4257, 'sharp': 3922, 'bus': 631, 'stopped': 4202, 'flight': 1757, 'fortunately': 1805, 'imaginative': 2237, 'mall': 2720, 'instance': 2304, 'negative': 2991, 'errors': 1516, 'amateurish': 207, 'faces': 1618, 'acts': 107, 'drunken': 1376, 'clown': 862, 'thoughts': 4464, 'speed': 4103, 'walls': 4783, 'classics': 837, 'andy': 230, 'mistakes': 2873, 'rendition': 3625, 'relevant': 3604, 'contemporary': 965, 'succeeds': 4264, 'charm': 767, 'hire': 2116, 'discovery': 1282, 'fathers': 1667, 'resulting': 3661, 'europe': 1529, 'billy': 482, 'forgotten': 1797, 'todd': 4510, 'letters': 2582, 'alert': 178, 'repeat': 3630, 'reach': 3536, 'shoots': 3944, 'surrounded': 4318, 'forty': 1807, 'arms': 294, 'crowd': 1067, 'montana': 2895, 'drug': 1373, 'recorded': 3574, 'abusive': 75, 'amanda': 205, 'ward': 4793, 'secretly': 3851, 'neighbor': 2992, 'dutch': 1389, 'identify': 2216, 'shine': 3931, 'waves': 4819, 'painful': 3171, 'tiny': 4500, 'nights': 3016, 'amy': 222, 'shorts': 3948, 'businessman': 634, 'ghost': 1902, 'eve': 1532, 'warned': 4798, 'spirits': 4115, 'dickens': 1240, 'bridge': 578, 'uk': 4626, 'segment': 3867, 'versions': 4721, 'adapted': 114, 'faithful': 1634, 'scrooge': 3837, 'hidden': 2096, 'youd': 4987, 'represent': 3637, 'trained': 4557, 'patrick': 3213, 'alongside': 196, 'lesson': 2577, 'albeit': 173, 'warming': 4795, 'snow': 4045, 'dressed': 1358, 'holiday': 2134, 'spielberg': 4110, '24': 39, 'roy': 3745, 'emotionally': 1460, 'visually': 4758, 'unlike': 4670, 'creators': 1044, 'created': 1037, 'columbo': 881, 'falk': 1636, 'experienced': 1581, 'agreed': 156, 'martin': 2748, 'combat': 882, 'commentary': 899, 'technique': 4383, 'serves': 3895, 'harry': 2039, 'refuses': 3587, 'purely': 3472, 'museum': 2945, 'strangers': 4214, 'narrative': 2966, 'embarrassment': 1455, 'wonderfully': 4929, 'carrie': 697, 'blond': 510, 'blade': 495, 'mirror': 2861, 'sleazy': 4023, 'passes': 3203, 'deceased': 1146, 'investigation': 2343, 'reveals': 3673, 'attorney': 348, 'goodness': 1938, 'correct': 1000, 'routine': 3743, 'arm': 292, 'ups': 4686, 'argument': 291, 'moral': 2902, 'described': 1195, 'structure': 4233, 'anybody': 257, 'hardcore': 2034, 'terror': 4412, 'ensues': 1493, 'bet': 470, 'granted': 1957, 'legal': 2563, 'poem': 3312, 'india': 2273, 'cary': 706, 'knock': 2488, 'blows': 517, 'indians': 2275, 'tea': 4373, 'stevens': 4183, 'spirit': 4113, 'grand': 1953, 'joseph': 2419, 'nomination': 3026, 'ego': 1435, 'elvira': 1450, 'aunt': 355, 'vegas': 4717, 'spell': 4104, 'lust': 2689, 'vincent': 4746, 'edie': 1419, 'theyve': 4446, 'pages': 3168, 'disappear': 1270, 'drugs': 1374, 'topless': 4527, 'pulled': 3462, 'mere': 2814, 'summary': 4290, 'button': 639, 'notorious': 3051, 'dreary': 1356, 'mature': 2773, 'funniest': 1851, 'currently': 1085, 'favorites': 1672, 'innovative': 2295, 'heat': 2067, 'ford': 1789, 'cup': 1080, 'cheese': 780, 'accomplished': 87, 'directions': 1262, 'health': 2060, 'calling': 653, 'psychological': 3458, 'empathy': 1462, 'account': 89, 'von': 4765, 'needless': 2989, 'produce': 3413, 'troops': 4591, 'values': 4710, 'pat': 3208, 'competent': 917, 'ryan': 3765, 'crafted': 1029, 'satisfying': 3791, 'nuts': 3064, 'airplane': 166, 'lovers': 2673, 'kim': 2475, 'traveling': 4568, 'eating': 1413, 'provoking': 3452, 'bone': 533, 'subtle': 4260, 'handled': 2019, 'effectively': 1430, 'entirely': 1503, 'tender': 4401, 'marvelous': 2750, 'hanks': 2025, 'vehicle': 4718, 'successfully': 4267, 'butt': 638, 'press': 3379, 'hamilton': 2012, 'connection': 946, 'survivors': 4325, 'harder': 2035, 'points': 3319, 'passed': 3202, 'wholly': 4874, 'ignore': 2224, 'neighborhood': 2993, 'grew': 1972, 'poetic': 3313, 'greatly': 1967, 'extreme': 1609, 'satisfy': 3790, 'chess': 783, 'bucks': 606, 'swear': 4334, 'compare': 911, 'tomatoes': 4515, 'elderly': 1440, 'catchy': 717, 'trailer': 4554, 'desperately': 1209, 'villains': 4745, 'wicked': 4879, 'danes': 1108, 'appropriate': 283, 'scream': 3826, 'blake': 498, 'jerry': 2396, 'decades': 1145, 'enjoyment': 1488, 'fond': 1776, 'toy': 4542, 'tape': 4365, 'voiced': 4762, 'brad': 560, 'hyde': 2206, 'bird': 484, 'intentionally': 2320, 'toilet': 4512, 'sink': 3999, 'kinds': 2478, 'groups': 1981, 'fear': 1676, 'shining': 3933, 'mexican': 2826, 'flynn': 1765, 'hugh': 2186, 'mistake': 2871, 'proved': 3446, 'sing': 3992, 'helped': 2080, 'games': 1865, 'capturing': 679, 'skip': 4016, 'lone': 2642, 'favor': 1670, 'installment': 2303, 'jay': 2386, 'strike': 4224, 'rented': 3628, 'trashy': 4566, 'teen': 4388, 'carpenter': 694, 'visuals': 4759, 'guilty': 1995, 'tame': 4363, 'puts': 3481, 'cost': 1003, 'paltrow': 3178, 'requires': 3642, 'distance': 1294, 'actions': 101, 'warmth': 4796, 'seeks': 3860, 'menacing': 2807, 'thugs': 4484, 'belong': 459, 'trailers': 4555, 'psychic': 3456, 'eaten': 1412, 'comedian': 887, 'sandler': 3781, 'encounters': 1467, 'engaged': 1480, 'cannibal': 669, 'daddy': 1096, '2003': 33, 'global': 1920, 'secondly': 3847, 'choreography': 802, 'forgot': 1796, 'legs': 2566, 'convince': 983, 'household': 2179, 'splatter': 4118, 'pitch': 3279, 'niro': 3019, '60': 53, 'hunter': 2199, 'field': 1704, 'stereotype': 4178, 'bruce': 602, 'compelled': 915, 'unrealistic': 4677, 'continued': 970, 'disappoint': 1272, 'tour': 4538, 'iraq': 2351, 'solo': 4058, 'staff': 4138, 'continue': 969, 'unnecessary': 4672, 'treasure': 4571, 'hunters': 2200, 'shape': 3919, 'wore': 4939, 'condition': 937, '75': 57, 'influence': 2286, 'purple': 3473, 'rain': 3506, 'taught': 4370, 'estate': 1525, 'losers': 2656, 'string': 4227, 'restaurant': 3658, 'rising': 3703, 'awake': 365, 'originally': 3131, 'format': 1799, 'carol': 693, 'guard': 1988, 'joined': 2413, 'hearts': 2066, 'desire': 1205, 'mate': 2765, 'hideous': 2098, 'sings': 3997, 'randomly': 3515, 'blow': 514, 'hold': 2129, 'wondered': 4927, 'hooked': 2153, 'sympathy': 4343, 'answers': 252, 'yesterday': 4983, 'rex': 3683, 'goldberg': 1933, 'dinosaur': 1255, 'deliberately': 1166, 'gross': 1978, 'birthday': 487, 'stole': 4194, 'challenging': 744, 'graphics': 1959, 'jeffrey': 2391, 'crush': 1072, 'homeless': 2143, 'angels': 234, 'hall': 2009, 'manhattan': 2726, 'web': 4833, 'intrigue': 2333, 'vision': 4754, 'threat': 4467, 'ted': 4386, 'private': 3404, 'staged': 4140, 'substance': 4258, 'delivered': 1170, 'hundreds': 2196, 'horrendous': 2162, 'began': 441, 'martial': 2747, 'arts': 310, 'humble': 2191, 'traditional': 4550, 'snake': 4042, 'charismatic': 763, 'insulting': 2310, 'emotions': 1461, 'per': 3223, 'range': 3516, 'extended': 1604, 'flying': 1764, 'uninspired': 4657, 'crack': 1027, 'magnificent': 2705, 'moon': 2900, 'winters': 4901, 'chief': 788, 'noticed': 3049, 'prostitute': 3440, 'switch': 4339, 'cia': 814, 'separate': 3883, 'grandmother': 1955, 'screenwriter': 3833, 'surreal': 4317, 'tragedy': 4551, 'strikes': 4225, 'september': 3884, 'documentary': 1307, 'contain': 962, 'center': 732, 'twin': 4615, 'expressions': 1603, 'amongst': 218, 'jobs': 2406, 'safety': 3772, 'emma': 1457, 'creation': 1040, 'spiritual': 4116, 'raymond': 3534, 'andrew': 228, 'minor': 2857, 'makeup': 2717, 'assistant': 326, 'portraying': 3343, 'attractive': 351, 'adequate': 120, 'tends': 4402, 'flashbacks': 1747, 'lacking': 2504, 'gas': 1874, 'station': 4164, 'africa': 141, 'attitude': 346, 'lion': 2614, 'royal': 3746, 'championship': 745, 'slaughter': 4021, 'tag': 4348, 'ken': 2453, 'jennifer': 2392, 'terry': 4415, 'titles': 4506, 'table': 4346, 'defeat': 1157, '3rd': 47, 'pops': 3332, 'concert': 935, 'teach': 4374, 'singing': 3995, 'fears': 1677, 'morality': 2903, 'trip': 4588, 'tight': 4492, 'mentally': 2809, 'porno': 3337, 'exceptionally': 1559, 'discovered': 1280, 'commercials': 903, 'broke': 593, 'poster': 3353, 'opinions': 3119, 'lol': 2640, 'paced': 3162, 'courage': 1018, 'wears': 4832, 'wear': 4830, 'advice': 133, 'shakespeare': 3915, 'corny': 997, 'wound': 4960, 'blair': 497, 'proper': 3436, 'judging': 2425, 'battles': 415, 'explosions': 1597, 'kingdom': 2480, 'receives': 3565, 'loyal': 2679, 'destruction': 1216, 'saga': 3773, 'vote': 4766, 'brazil': 568, 'branagh': 564, 'hamlet': 2013, 'meeting': 2794, 'honesty': 2148, 'stated': 4161, 'higher': 2101, 'reference': 3582, 'reactions': 3542, 'walken': 4777, 'involvement': 2347, 'situation': 4008, 'cinematographer': 819, 'depicts': 1186, 'achieve': 92, 'woody': 4936, 'duo': 1386, 'reporter': 3636, 'eastwood': 1409, 'smoking': 4040, 'rise': 3702, 'clothing': 861, 'dubbing': 1380, 'attend': 344, 'helen': 2075, 'offensive': 3086, 'intensity': 2317, 'refreshing': 3586, 'tradition': 4549, 'intrigued': 2334, 'superbly': 4297, 'language': 2516, 'nations': 2971, 'robots': 3718, 'duke': 1383, 'climactic': 848, 'hitting': 2126, 'sticks': 4186, 'demons': 1178, 'useful': 4694, 'resembles': 3646, 'nightmares': 3015, 'virginia': 4750, 'namely': 2962, 'careful': 688, 'simon': 3982, 'lesser': 2576, 'evident': 1547, 'hitler': 2124, 'ran': 3513, 'stanwyck': 4149, 'workers': 4943, 'shut': 3961, 'explosion': 1596, 'priceless': 3390, 'corporate': 998, 'happily': 2030, 'plant': 3293, 'fits': 1741, 'pre': 3365, 'helicopter': 2076, 'failure': 1629, 'precious': 3366, 'wasting': 4810, 'species': 4098, 'rick': 3689, 'gory': 1943, 'graphic': 1958, 'complexity': 924, 'path': 3209, 'construction': 960, 'draws': 1352, 'claim': 828, 'dialogs': 1233, 'thoughtful': 4463, 'oliver': 3102, 'experiment': 1583, 'cheating': 776, 'souls': 4080, 'allowing': 191, 'trite': 4589, 'anderson': 227, 'confidence': 938, 'drunk': 1375, 'dentist': 1180, 'trade': 4547, 'hanging': 2023, 'nicely': 3009, 'everywhere': 1545, 'annoyed': 248, 'inferior': 2285, 'eddie': 1416, 'incident': 2260, 'underlying': 4641, 'sentimental': 3882, 'gene': 1879, 'fiction': 1702, 'wells': 4845, 'bold': 528, 'cameron': 661, 'recognized': 3570, 'homage': 2141, 'detailed': 1218, 'models': 2881, 'richardson': 3688, 'toys': 4543, 'wanting': 4790, 'plague': 3285, 'exists': 1573, 'carry': 700, 'futuristic': 1857, 'screens': 3832, 'masses': 2755, 'abilities': 64, 'pile': 3275, 'react': 3540, 'urge': 4689, 'talked': 4359, 'wished': 4905, 'godfather': 1927, 'titanic': 4503, 'rings': 3699, 'tim': 4494, 'comparing': 913, 'gods': 1928, '1973': 19, 'appreciation': 281, 'families': 1644, 'cultural': 1078, 'importantly': 2248, 'church': 813, 'planning': 3291, 'gandhi': 1866, 'journalist': 2420, 'blacks': 494, 'cities': 823, 'frequent': 1831, 'armed': 293, 'beating': 425, 'introduced': 2337, 'horrors': 2169, 'daring': 1114, 'dedicated': 1153, 'sounded': 4082, 'earned': 1401, 'massacre': 2754, 'racial': 3501, 'bonus': 534, 'whereas': 4865, 'hysterical': 2208, 'infamous': 2284, 'lees': 2560, 'recognize': 3569, 'buck': 605, 'sell': 3871, 'photo': 3257, 'lena': 2568, 'stupidity': 4248, 'swedish': 4335, 'pitt': 3280, 'brains': 563, 'remind': 3618, 'boot': 538, '20th': 38, 'established': 1524, 'beliefs': 452, 'opened': 3113, 'whilst': 4869, 'beast': 422, '16': 8, 'foster': 1809, 'questionable': 3488, 'cared': 685, 'miserable': 2863, 'idiots': 2220, 'distribution': 1298, 'viewings': 4741, 'ruined': 3751, 'doc': 1303, 'protagonist': 3441, 'measure': 2786, 'notable': 3041, 'psychotic': 3459, 'core': 995, 'streets': 4217, 'unfolds': 4651, 'understated': 4646, 'simplicity': 3984, 'generation': 1883, 'revolution': 3680, 'seeking': 3859, 'sin': 3988, 'bedroom': 437, 'awards': 367, 'torture': 4529, 'rape': 3521, 'abuse': 74, 'ashamed': 312, 'failing': 1627, 'invasion': 2340, 'exploration': 1593, 'suffering': 4277, 'evidence': 1546, 'promised': 3431, 'develops': 1226, 'chooses': 800, 'bath': 411, 'blowing': 515, 'primarily': 3393, 'uninteresting': 4660, 'bears': 421, 'freeman': 1829, 'subplot': 4255, 'stronger': 4230, 'amateur': 206, 'lying': 2690, 'irrelevant': 2358, 'embarrassing': 1454, 'revolves': 3682, 'adventures': 131, 'picking': 3267, 'laurel': 2537, 'busy': 635, 'halfway': 2008, 'twilight': 4614, '50s': 52, 'blob': 507, 'halloween': 2010, 'believes': 456, 'julie': 2428, 'thumbs': 4485, 'checking': 778, 'wake': 4774, 'forces': 1788, 'bell': 458, 'sits': 4006, 'lemmon': 2567, 'legend': 2564, 'warrior': 4802, 'warriors': 4803, 'claimed': 829, 'fitting': 1742, 'mountains': 2918, 'authentic': 358, 'scottish': 3825, 'eastern': 1408, 'walter': 4784, 'robinson': 3716, 'crucial': 1068, 'context': 968, 'politically': 3325, 'uneven': 4649, 'arrival': 299, 'rubber': 3747, 'cheated': 775, 'lie': 2590, 'treatment': 4574, 'feminist': 1695, 'horses': 2171, 'con': 928, 'picks': 3268, 'greater': 1965, 'nicholson': 3011, 'sellers': 3872, 'ellen': 1446, 'dare': 1113, 'throwing': 4480, 'parker': 3191, 'neck': 2985, 'frustration': 1843, 'storytelling': 4209, 'drives': 1367, 'patient': 3211, 'suspects': 4328, 'spread': 4133, 'altogether': 202, 'everyones': 1543, 'gruesome': 1986, 'nostalgic': 3039, 'football': 1783, 'unreal': 4676, 'irritating': 2359, 'chuck': 812, 'cure': 1081, 'stone': 4197, 'loss': 2659, 'revelation': 3674, 'directly': 1263, 'testament': 4417, 'simplistic': 3985, 'rid': 3690, 'orange': 3125, 'wishes': 4906, 'skin': 4015, 'encounter': 1466, 'mafia': 2700, 'via': 4726, 'formulaic': 1803, 'poignant': 3315, 'unwatchable': 4682, 'disc': 1278, 'pity': 3281, 'strangely': 4212, 'comfortable': 892, 'broadcast': 591, 'homosexual': 2145, 'ron': 3734, 'model': 2880, 'hole': 2132, 'proud': 3444, 'doors': 1329, 'transition': 4561, 'ease': 1404, 'chicks': 787, 'valley': 4707, 'dolls': 1316, 'hilariously': 2107, 'mighty': 2836, 'glorious': 1921, 'blues': 519, 'suit': 4284, 'bathroom': 412, 'twins': 4616, 'monkey': 2890, 'cowboy': 1025, 'obscure': 3068, 'mothers': 2912, 'babe': 375, 'credible': 1048, 'arrogant': 303, 'seed': 3856, 'thick': 4447, 'buff': 611, 'thief': 4448, 'campy': 664, 'mine': 2853, 'devoid': 1230, 'lyrics': 2692, 'unaware': 4632, 'silence': 3974, 'claire': 831, 'methods': 2825, 'conflicts': 940, 'worried': 4949, 'push': 3477, 'uncomfortable': 4637, 'peace': 3219, 'headed': 2058, 'judy': 2426, 'pays': 3218, 'cash': 709, 'sid': 3964, 'elvis': 1451, 'pants': 3182, 'curse': 1086, 'sixties': 4011, 'admittedly': 123, 'tribute': 4581, 'kenneth': 2455, 'ourselves': 3140, 'persona': 3239, 'ian': 2209, 'nyc': 3065, 'riveting': 3708, 'worn': 4948, 'hung': 2197, 'largely': 2518, 'defined': 1160, 'inner': 2292, 'convinced': 984, 'gotta': 1946, 'admire': 121, 'intellectual': 2312, 'sleeping': 4025, 'cuba': 1075, 'jungle': 2434, 'areas': 287, 'che': 773, 'soviet': 4089, 'union': 4661, 'rebel': 3561, 'horrifying': 2167, 'deeper': 1155, 'thank': 4421, 'solely': 4056, 'lane': 2515, 'dating': 1120, 'jet': 2400, 'companion': 909, 'contest': 967, 'gray': 1963, 'wood': 4933, 'purchased': 3470, 'gifted': 1907, 'spirited': 4114, 'segments': 3868, 'progresses': 3426, 'brady': 561, 'inevitably': 2283, 'sarah': 3785, 'lesbian': 2573, 'anna': 245, 'shelley': 3928, 'widow': 4883, 'performs': 3234, 'philip': 3252, 'intent': 2318, 'plight': 3308, 'assault': 324, 'claims': 830, 'sandra': 3782, 'matthew': 2772, 'remarks': 3615, 'endure': 1475, 'photos': 3261, 'photographed': 3258, 'tonight': 4519, 'preview': 3386, 'raising': 3509, 'quit': 3494, '2002': 32, 'aired': 165, 'kings': 2481, 'dolph': 1317, 'individual': 2277, 'directs': 1267, 'integrity': 2311, 'transfer': 4559, 'channels': 754, 'berlin': 467, 'messages': 2820, 'writes': 4970, 'safe': 3771, 'danger': 1109, 'argue': 290, 'eager': 1396, 'lacked': 2503, 'resources': 3651, 'dealt': 1138, 'glover': 1923, 'blew': 505, 'chair': 742, 'spots': 4132, 'devils': 1229, 'slap': 4018, 'purposes': 3475, 'guts': 1999, 'merit': 2816, 'kapoor': 2443, 'khan': 2459, 'abraham': 69, 'shark': 3921, 'luckily': 2682, 'novels': 3053, 'emotion': 1458, 'imitation': 2241, 'miserably': 2864, 'ho': 2127, 'suitable': 4285, 'samurai': 3779, 'lovable': 2668, 'childrens': 793, 'rap': 3520, 'marketing': 2741, 'producing': 3417, 'masterful': 2758, 'mild': 2839, 'pulp': 3465, 'imagined': 2239, 'insult': 2309, 'aimed': 162, 'racist': 3503, 'flop': 1760, 'paulie': 3215, 'research': 3644, 'ireland': 2352, 'gothic': 1945, 'attacks': 339, 'mentions': 2813, 'repetitive': 3633, 'prefer': 3368, 'inducing': 2279, 'golden': 1934, 'reed': 3580, 'suffice': 4279, 'unexpected': 4650, 'sole': 4055, 'ears': 1402, 'kidding': 2465, 'destroyed': 1214, 'majority': 2712, 'montage': 2894, 'clips': 852, 'ocean': 3079, 'clip': 851, 'obnoxious': 3067, 'captivating': 675, 'laid': 2508, '3d': 46, 'basketball': 409, 'gadget': 1860, 'parent': 3187, 'initially': 2291, 'consistent': 953, 'dub': 1378, 'ha': 2002, 'fallen': 1638, 'amitabh': 216, 'instant': 2305, 'subjects': 4254, 'daniel': 1111, 'alfred': 181, 'presents': 3377, 'southern': 4088, 'painting': 3175, 'discuss': 1283, 'internet': 2327, 'audio': 354, 'depicted': 1183, 'root': 3737, 'francisco': 1819, 'vacation': 4704, 'understandable': 4644, 'wwii': 4975, 'japanese': 2382, 'despair': 1207, 'beaten': 424, 'explored': 1595, 'homer': 2144, 'teacher': 4375, 'gender': 1878, 'transformation': 4560, 'rough': 3741, 'couldve': 1009, 'march': 2734, 'robbins': 3712, 'demand': 1174, 'causes': 725, 'hints': 2113, 'suits': 4287, 'page': 3167, 'myers': 2952, 'behave': 445, 'goofy': 1939, 'snl': 4044, 'hook': 2152, 'accepted': 82, 'pursuit': 3476, 'stinks': 4192, 'ruins': 3752, 'mummy': 2937, 'kicks': 2463, 'rocks': 3722, 'split': 4120, 'juvenile': 2441, 'willis': 4890, 'pot': 3354, 'demands': 1175, 'intimate': 2331, 'doubts': 1333, 'sunshine': 4294, 'facing': 1620, 'hang': 2022, 'views': 4742, 'alexander': 180, 'yellow': 4981, 'clues': 865, 'interaction': 2322, 'theyd': 4443, 'pretending': 3382, 'plausible': 3295, 'subtitles': 4259, 'rushed': 3760, 'carl': 692, 'cake': 648, 'amounts': 220, 'abc': 63, 'disneys': 1290, 'forgive': 1795, 'serving': 3897, 'timothy': 4499, 'dressing': 1359, 'somebody': 4062, 'stereotypes': 4179, 'mentioning': 2812, 'factor': 1622, 'muslim': 2949, 'christians': 809, 'bride': 577, 'stanley': 4148, 'physically': 3263, 'orders': 3127, 'tortured': 4530, 'pamela': 3179, 'overdone': 3152, 'product': 3418, 'album': 175, 'nonsensical': 3031, 'feed': 1683, 'challenge': 743, 'user': 4696, 'roberts': 3714, 'minded': 2850, 'streep': 4215, 'defense': 1159, 'titled': 4505, 'target': 4366, 'fest': 1696, 'seventies': 3904, 'sue': 4274, 'sally': 3776, 'bergman': 466, 'minimal': 2855, 'instinct': 2308, 'alike': 185, 'useless': 4695, 'illegal': 2229, 'womans': 4922, 'moore': 2901, 'religion': 3607, 'kelly': 2452, 'staying': 4168, 'gift': 1906, 'rochester': 3719, 'charlotte': 766, 'sadistic': 3768, 'essence': 1521, 'constructed': 959, 'calm': 655, 'grandfather': 1954, 'displays': 1293, 'machines': 2694, 'speech': 4102, 'ps': 3453, 'uwe': 4703, 'boll': 529, 'flaw': 1749, 'thrill': 4471, 'smooth': 4041, 'spike': 4111, 'swim': 4337, 'phony': 3256, 'locked': 2637, 'germans': 1897, 'kitchen': 2485, 'sloppy': 4030, 'jealous': 2388, 'burns': 628, 'mann': 2728, 'boom': 537, '1999': 27, 'scripts': 3836, 'enjoys': 1489, 'fever': 1699, 'sum': 4289, 'unit': 4663, 'wealth': 4826, 'un': 4630, 'regardless': 3590, 'nostalgia': 3038, 'terrorist': 4413, 'parallel': 3185, 'tons': 4520, '40s': 49, 'boxing': 556, 'educational': 1425, 'developing': 1224, 'philosophy': 3254, 'bollywood': 530, 'multi': 2935, 'warner': 4799, 'fulci': 1845, 'devoted': 1231, 'rob': 3710, 'occurred': 3077, 'spite': 4117, 'distracting': 1297, 'translation': 4562, 'hippie': 2115, 'gundam': 1997, 'domino': 1319, 'shirley': 3936, 'temple': 4398, 'warm': 4794, 'critic': 1061, 'window': 4894, 'britain': 588, 'fields': 1705, 'represented': 3638, 'sinatra': 3989, 'kiss': 2483, 'latin': 2527, 'flawed': 1750, 'blatant': 502, 'mel': 2796, 'cruel': 1070, 'proceeds': 3411, 'noble': 3021, 'brosnan': 597, 'fed': 1682, 'closer': 856, 'morris': 2908, 'concerns': 934, 'stilted': 4190, 'knife': 2487, 'leg': 2562, 'scores': 3823, 'pal': 3177, '1980': 20, 'similarities': 3979, 'stan': 4142, 'sea': 3838, 'vicious': 4728, 'factory': 1623, 'closely': 855, 'le': 2544, 'hopeless': 2158, 'walker': 4778, 'witnessed': 4915, 'outcome': 3142, 'seagal': 3839, 'forbidden': 1785, 'tarzan': 4367, 'elephant': 1444, 'floating': 1758, 'apes': 267, 'suspend': 4329, 'fancy': 1649, 'costume': 1005, 'doll': 1313, 'empire': 1464, 'creator': 1043, 'harsh': 2040, 'revealing': 3672, 'hed': 2072, 'sounding': 4083, 'blah': 496, 'overlook': 3153, 'relations': 3596, 'laura': 2536, 'destiny': 1212, 'describes': 1196, 'spain': 4091, 'kissing': 2484, '35': 45, 'dramas': 1347, 'narrator': 2967, 'jesus': 2399, 'hammer': 2014, 'versus': 4722, 'bothered': 549, 'load': 2631, 'bourne': 554, 'prequel': 3372, 'countless': 1012, 'witches': 4910, 'angela': 232, 'polanski': 3321, 'jumping': 2431, 'matrix': 2767, 'conservative': 948, 'map': 2733, 'restored': 3659, 'property': 3438, 'pretend': 3381, 'ignored': 2225, 'tiresome': 4502, 'racism': 3502, 'notes': 3046, 'resident': 3647, 'truck': 4595, 'bat': 410, 'wisdom': 4902, 'karen': 2444, 'funnier': 1850, 'waited': 4771, 'chapter': 757, 'betty': 474, 'occur': 3076, 'vivid': 4760, 'chaplin': 756, 'midnight': 2834, 'contract': 973, 'doo': 1325, 'virgin': 4749, 'beneath': 464, 'funeral': 1849, 'akshay': 169, 'incoherent': 2265, 'scooby': 3820, 'designs': 1204, 'achieved': 93, 'jumped': 2430, 'fooled': 1780, 'generated': 1882, 'vulnerable': 4768, 'ballet': 389, 'kirk': 2482, 'wallace': 4782, 'neil': 2995, 'whale': 4857, 'bear': 420, 'convey': 982, '2007': 37, 'sincere': 3991, 'iran': 2350, 'crude': 1069, 'reflection': 3585, 'diamond': 1236, 'neo': 2998, 'dignity': 1252, 'chest': 784, 'conspiracy': 956, 'choreographed': 801, 'universal': 4665, 'frankenstein': 1822, 'grasp': 1960, 'oddly': 3081, 'changing': 752, 'equal': 1509, 'twelve': 4611, 'drops': 1372, 'wandering': 4785, 'boredom': 542, 'cube': 1076, 'werewolf': 4850, 'virus': 4752, 'bottle': 550, 'stellar': 4174, 'catches': 715, 'advise': 134, 'lucas': 2680, 'kicked': 2461, 'fifteen': 1706, 'fighter': 1708, 'damage': 1099, 'melting': 2799, 'prize': 3405, 'carter': 703, 'centers': 734, 'survivor': 4324, 'matthau': 2771, 'felix': 1689, '13th': 5, 'offering': 3089, 'victoria': 4732, 'loaded': 2632, 'petty': 3249, 'wives': 4918, 'civilization': 827, 'talks': 4361, 'gerard': 1895, 'spider': 4109, 'passionate': 3206, 'individuals': 2278, 'recording': 3575, 'stones': 4198, 'tad': 4347, 'decisions': 1152, 'giallo': 1904, '1940s': 13, 'robbery': 3711, 'norman': 3035, 'serve': 3893, 'greedy': 1969, 'downhill': 1336, 'mill': 2845, 'marie': 2737, 'saves': 3796, 'andrews': 229, 'craig': 1030, 'dimensional': 1253, 'suggested': 4281, 'mickey': 2831, 'slave': 4022, 'flies': 1756, 'conventional': 979, 'revolutionary': 3681, 'pseudo': 3454, 'hop': 2154, 'closet': 858, 'senseless': 3878, 'japan': 2381, 'lips': 2615, 'worker': 4942, 'donna': 1323, 'spring': 4134, 'nose': 3037, 'garbo': 1871, 'cried': 1054, 'caliber': 649, 'backgrounds': 381, 'emily': 1456, 'blunt': 520, 'borrowed': 545, 'zone': 4999, 'opportunities': 3120, 'los': 2653, 'angeles': 233, 'bud': 607, 'francis': 1818, 'georges': 1894, 'linda': 2609, 'nicholas': 3010, 'streisand': 4218, 'sappy': 3784, 'stretched': 4222, 'familys': 1646, 'struggling': 4236, 'florida': 1761, 'cards': 683, 'teaching': 4377, 'depressed': 1187, 'cole': 873, '1990': 24, 'jumps': 2432, 'bull': 619, 'resort': 3650, 'omen': 3104, 'endings': 1472, 'lily': 2605, 'charisma': 762, 'ruth': 3763, 'performers': 3232, 'executive': 1567, 'noted': 3045, 'repeatedly': 3632, 'bakshi': 386, 'kubrick': 2496, 'misses': 2868, 'aids': 161, 'simmons': 3981, 'coherent': 871, 'ties': 4490, 'nearby': 2980, 'jaws': 2385, 'matched': 2763, 'valuable': 4708, 'bettie': 473, 'vampires': 4712, 'brooklyn': 595, 'bands': 392, 'worthless': 4954, 'illogical': 2231, 'dinosaurs': 1256, 'hopper': 2161, 'earl': 1398, 'astaire': 330, 'jenny': 2393, 'classes': 834, 'prom': 3429, 'nelson': 2997, 'size': 4012, 'hollywoods': 2138, 'crocodile': 1065, 'mountain': 2917, 'misery': 2865, 'tiger': 4491, 'couples': 1017, 'aid': 160, 'coach': 868, 'resist': 3648, 'soccer': 4048, 'ideal': 2214, 'tooth': 4524, 'suspicious': 4332, 'waitress': 4773, 'holly': 2136, 'genres': 1889, 'scarecrow': 3804, 'annie': 247, 'briefly': 580, 'gabriel': 1859, 'dalton': 1098, 'scientific': 3817, 'savage': 3793, 'ethan': 1528, 'firstly': 1737, 'carradine': 695, 'command': 897, '2004': 34, 'justin': 2440, 'tap': 4364, 'keaton': 2448, 'library': 2589, 'modesty': 2883, 'online': 3109, 'atlantis': 332, 'rangers': 3517, 'satan': 3787, 'unoriginal': 4673, 'progress': 3425, 'fury': 1855, 'olivier': 3103, 'miike': 2837, 'lumet': 2688, 'karloff': 2445, 'franco': 1820, 'stargate': 4151, 'mayor': 2777, 'brando': 566, 'thru': 4483, 'li': 2587, 'enthusiasm': 1501, 'edgar': 1417, 'perry': 3237, 'mildred': 2841, 'enterprise': 1495, 'molly': 2884, 'pokemon': 3320}\n"
     ]
    }
   ],
   "source": [
    "print(str(vocabulary))"
   ]
  },
  {
   "cell_type": "markdown",
   "metadata": {},
   "source": [
    "Once you have added the endpoint name to the Lambda function, click on **Save**. Your Lambda function is now up and running. Next we need to create a way for our web app to execute the Lambda function."
   ]
  },
  {
   "cell_type": "markdown",
   "metadata": {},
   "source": [
    "### Setting up API Gateway\n",
    "\n",
    "Now that our Lambda function is set up, it is time to create a new API using API Gateway that will trigger the Lambda function we have just created.\n",
    "\n",
    "Using AWS Console, navigate to **Amazon API Gateway** and then click on **Get started**.\n",
    "\n",
    "On the next page, make sure that **New API** is selected and give the new api a name, for example, `sentiment_analysis_web_app`. Then, click on **Create API**.\n",
    "\n",
    "Now we have created an API, however it doesn't currently do anything. What we want it to do is to trigger the Lambda function that we created earlier.\n",
    "\n",
    "Select the **Actions** dropdown menu and click **Create Method**. A new blank method will be created, select its dropdown menu and select **POST**, then click on the check mark beside it.\n",
    "\n",
    "For the integration point, make sure that **Lambda Function** is selected and click on the **Use Lambda Proxy integration**. This option makes sure that the data that is sent to the API is then sent directly to the Lambda function with no processing. It also means that the return value must be a proper response object as it will also not be processed by API Gateway.\n",
    "\n",
    "Type the name of the Lambda function you created earlier into the **Lambda Function** text entry box and then click on **Save**. Click on **OK** in the pop-up box that then appears, giving permission to API Gateway to invoke the Lambda function you created.\n",
    "\n",
    "The last step in creating the API Gateway is to select the **Actions** dropdown and click on **Deploy API**. You will need to create a new Deployment stage and name it anything you like, for example `prod`.\n",
    "\n",
    "You have now successfully set up a public API to access your SageMaker model. Make sure to copy or write down the URL provided to invoke your newly created public API as this will be needed in the next step. This URL can be found at the top of the page, highlighted in blue next to the text **Invoke URL**."
   ]
  },
  {
   "cell_type": "markdown",
   "metadata": {},
   "source": [
    "## Step 7: Deploying our web app\n",
    "\n",
    "Now that we have a publicly available API, we can start using it in a web app. For our purposes, we have provided a simple static html file which can make use of the public api you created earlier.\n",
    "\n",
    "In the `website` folder there should be a file called `index.html`. Download the file to your computer and open that file up in a text editor of your choice. There should be a line which contains **\\*\\*REPLACE WITH PUBLIC API URL\\*\\***. Replace this string with the url that you wrote down in the last step and then save the file.\n",
    "\n",
    "Now, if you open `index.html` on your local computer, your browser will behave as a local web server and you can use the provided site to interact with your SageMaker model.\n",
    "\n",
    "If you'd like to go further, you can host this html file anywhere you'd like, for example using github or hosting a static site on Amazon's S3. Once you have done this you can share the link with anyone you'd like and have them play with it too!\n",
    "\n",
    "> **Important Note** In order for the web app to communicate with the SageMaker endpoint, the endpoint has to actually be deployed and running. This means that you are paying for it. Make sure that the endpoint is running when you want to use the web app but that you shut it down when you don't need it, otherwise you will end up with a surprisingly large AWS bill."
   ]
  },
  {
   "cell_type": "markdown",
   "metadata": {},
   "source": [
    "### Delete the endpoint\n",
    "\n",
    "Remember to always shut down your endpoint if you are no longer using it. You are charged for the length of time that the endpoint is running so if you forget and leave it on you could end up with an unexpectedly large bill."
   ]
  },
  {
   "cell_type": "code",
   "execution_count": 53,
   "metadata": {},
   "outputs": [],
   "source": [
    "xgb_predictor.delete_endpoint()"
   ]
  },
  {
   "cell_type": "markdown",
   "metadata": {},
   "source": [
    "## Optional: Clean up\n",
    "\n",
    "The default notebook instance on SageMaker doesn't have a lot of excess disk space available. As you continue to complete and execute notebooks you will eventually fill up this disk space, leading to errors which can be difficult to diagnose. Once you are completely finished using a notebook it is a good idea to remove the files that you created along the way. Of course, you can do this from the terminal or from the notebook hub if you would like. The cell below contains some commands to clean up the created files from within the notebook."
   ]
  },
  {
   "cell_type": "code",
   "execution_count": null,
   "metadata": {},
   "outputs": [],
   "source": [
    "# First we will remove all of the files contained in the data_dir directory\n",
    "!rm $data_dir/*\n",
    "\n",
    "# And then we delete the directory itself\n",
    "!rmdir $data_dir\n",
    "\n",
    "# Similarly we remove the files in the cache_dir directory and the directory itself\n",
    "!rm $cache_dir/*\n",
    "!rmdir $cache_dir"
   ]
  },
  {
   "cell_type": "code",
   "execution_count": null,
   "metadata": {},
   "outputs": [],
   "source": []
  }
 ],
 "metadata": {
  "kernelspec": {
   "display_name": "conda_python3",
   "language": "python",
   "name": "conda_python3"
  },
  "language_info": {
   "codemirror_mode": {
    "name": "ipython",
    "version": 3
   },
   "file_extension": ".py",
   "mimetype": "text/x-python",
   "name": "python",
   "nbconvert_exporter": "python",
   "pygments_lexer": "ipython3",
   "version": "3.6.13"
  }
 },
 "nbformat": 4,
 "nbformat_minor": 2
}
