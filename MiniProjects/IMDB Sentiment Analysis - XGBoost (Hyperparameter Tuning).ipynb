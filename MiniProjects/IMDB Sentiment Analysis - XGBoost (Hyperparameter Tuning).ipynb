{
 "cells": [
  {
   "cell_type": "markdown",
   "metadata": {},
   "source": [
    "# Sentiment Analysis\n",
    "\n",
    "## Using XGBoost in SageMaker\n",
    "\n",
    "_Deep Learning Nanodegree Program | Deployment_\n",
    "\n",
    "---\n",
    "\n",
    "In this example of using Amazon's SageMaker service we will construct a random tree model to predict the sentiment of a movie review. You may have seen a version of this example in a pervious lesson although it would have been done using the sklearn package. Instead, we will be using the XGBoost package as it is provided to us by Amazon.\n",
    "\n",
    "## Instructions\n",
    "\n",
    "Some template code has already been provided for you, and you will need to implement additional functionality to successfully complete this notebook. You will not need to modify the included code beyond what is requested. Sections that begin with '**TODO**' in the header indicate that you need to complete or implement some portion within them. Instructions will be provided for each section and the specifics of the implementation are marked in the code block with a `# TODO: ...` comment. Please be sure to read the instructions carefully!\n",
    "\n",
    "In addition to implementing code, there will be questions for you to answer which relate to the task and your implementation. Each section where you will answer a question is preceded by a '**Question:**' header. Carefully read each question and provide your answer below the '**Answer:**' header by editing the Markdown cell.\n",
    "\n",
    "> **Note**: Code and Markdown cells can be executed using the **Shift+Enter** keyboard shortcut. In addition, a cell can be edited by typically clicking it (double-click for Markdown cells) or by pressing **Enter** while it is highlighted."
   ]
  },
  {
   "cell_type": "code",
   "execution_count": 1,
   "metadata": {},
   "outputs": [
    {
     "name": "stdout",
     "output_type": "stream",
     "text": [
      "Collecting sagemaker==1.72.0\n",
      "  Downloading sagemaker-1.72.0.tar.gz (297 kB)\n",
      "\u001b[K     |████████████████████████████████| 297 kB 5.7 MB/s eta 0:00:01\n",
      "\u001b[?25hRequirement already satisfied: boto3>=1.14.12 in /home/ec2-user/anaconda3/envs/python3/lib/python3.6/site-packages (from sagemaker==1.72.0) (1.17.100)\n",
      "Requirement already satisfied: numpy>=1.9.0 in /home/ec2-user/anaconda3/envs/python3/lib/python3.6/site-packages (from sagemaker==1.72.0) (1.19.5)\n",
      "Requirement already satisfied: protobuf>=3.1 in /home/ec2-user/anaconda3/envs/python3/lib/python3.6/site-packages (from sagemaker==1.72.0) (3.15.2)\n",
      "Requirement already satisfied: scipy>=0.19.0 in /home/ec2-user/anaconda3/envs/python3/lib/python3.6/site-packages (from sagemaker==1.72.0) (1.5.3)\n",
      "Requirement already satisfied: protobuf3-to-dict>=0.1.5 in /home/ec2-user/anaconda3/envs/python3/lib/python3.6/site-packages (from sagemaker==1.72.0) (0.1.5)\n",
      "Collecting smdebug-rulesconfig==0.1.4\n",
      "  Downloading smdebug_rulesconfig-0.1.4-py2.py3-none-any.whl (10 kB)\n",
      "Requirement already satisfied: importlib-metadata>=1.4.0 in /home/ec2-user/anaconda3/envs/python3/lib/python3.6/site-packages (from sagemaker==1.72.0) (3.7.0)\n",
      "Requirement already satisfied: packaging>=20.0 in /home/ec2-user/anaconda3/envs/python3/lib/python3.6/site-packages (from sagemaker==1.72.0) (20.9)\n",
      "Requirement already satisfied: s3transfer<0.5.0,>=0.4.0 in /home/ec2-user/anaconda3/envs/python3/lib/python3.6/site-packages (from boto3>=1.14.12->sagemaker==1.72.0) (0.4.2)\n",
      "Requirement already satisfied: botocore<1.21.0,>=1.20.100 in /home/ec2-user/anaconda3/envs/python3/lib/python3.6/site-packages (from boto3>=1.14.12->sagemaker==1.72.0) (1.20.100)\n",
      "Requirement already satisfied: jmespath<1.0.0,>=0.7.1 in /home/ec2-user/anaconda3/envs/python3/lib/python3.6/site-packages (from boto3>=1.14.12->sagemaker==1.72.0) (0.10.0)\n",
      "Requirement already satisfied: python-dateutil<3.0.0,>=2.1 in /home/ec2-user/anaconda3/envs/python3/lib/python3.6/site-packages (from botocore<1.21.0,>=1.20.100->boto3>=1.14.12->sagemaker==1.72.0) (2.8.1)\n",
      "Requirement already satisfied: urllib3<1.27,>=1.25.4 in /home/ec2-user/anaconda3/envs/python3/lib/python3.6/site-packages (from botocore<1.21.0,>=1.20.100->boto3>=1.14.12->sagemaker==1.72.0) (1.26.5)\n",
      "Requirement already satisfied: typing-extensions>=3.6.4 in /home/ec2-user/anaconda3/envs/python3/lib/python3.6/site-packages (from importlib-metadata>=1.4.0->sagemaker==1.72.0) (3.7.4.3)\n",
      "Requirement already satisfied: zipp>=0.5 in /home/ec2-user/anaconda3/envs/python3/lib/python3.6/site-packages (from importlib-metadata>=1.4.0->sagemaker==1.72.0) (3.4.0)\n",
      "Requirement already satisfied: pyparsing>=2.0.2 in /home/ec2-user/anaconda3/envs/python3/lib/python3.6/site-packages (from packaging>=20.0->sagemaker==1.72.0) (2.4.7)\n",
      "Requirement already satisfied: six>=1.9 in /home/ec2-user/anaconda3/envs/python3/lib/python3.6/site-packages (from protobuf>=3.1->sagemaker==1.72.0) (1.15.0)\n",
      "Building wheels for collected packages: sagemaker\n",
      "  Building wheel for sagemaker (setup.py) ... \u001b[?25ldone\n",
      "\u001b[?25h  Created wheel for sagemaker: filename=sagemaker-1.72.0-py2.py3-none-any.whl size=386358 sha256=ef60163a663b037e3d7023ca1b83876bed0e427e67a9cd0b50656f43852c89b5\n",
      "  Stored in directory: /home/ec2-user/.cache/pip/wheels/c3/58/70/85faf4437568bfaa4c419937569ba1fe54d44c5db42406bbd7\n",
      "Successfully built sagemaker\n",
      "Installing collected packages: smdebug-rulesconfig, sagemaker\n",
      "  Attempting uninstall: smdebug-rulesconfig\n",
      "    Found existing installation: smdebug-rulesconfig 1.0.1\n",
      "    Uninstalling smdebug-rulesconfig-1.0.1:\n",
      "      Successfully uninstalled smdebug-rulesconfig-1.0.1\n",
      "  Attempting uninstall: sagemaker\n",
      "    Found existing installation: sagemaker 2.45.0\n",
      "    Uninstalling sagemaker-2.45.0:\n",
      "      Successfully uninstalled sagemaker-2.45.0\n",
      "Successfully installed sagemaker-1.72.0 smdebug-rulesconfig-0.1.4\n",
      "\u001b[33mWARNING: You are using pip version 21.1.2; however, version 21.1.3 is available.\n",
      "You should consider upgrading via the '/home/ec2-user/anaconda3/envs/python3/bin/python -m pip install --upgrade pip' command.\u001b[0m\n"
     ]
    }
   ],
   "source": [
    "# Make sure that we use SageMaker 1.x\n",
    "!pip install sagemaker==1.72.0"
   ]
  },
  {
   "cell_type": "markdown",
   "metadata": {},
   "source": [
    "## Step 1: Downloading the data\n",
    "\n",
    "The dataset we are going to use is very popular among researchers in Natural Language Processing, usually referred to as the [IMDb dataset](http://ai.stanford.edu/~amaas/data/sentiment/). It consists of movie reviews from the website [imdb.com](http://www.imdb.com/), each labeled as either '**pos**itive', if the reviewer enjoyed the film, or '**neg**ative' otherwise.\n",
    "\n",
    "> Maas, Andrew L., et al. [Learning Word Vectors for Sentiment Analysis](http://ai.stanford.edu/~amaas/data/sentiment/). In _Proceedings of the 49th Annual Meeting of the Association for Computational Linguistics: Human Language Technologies_. Association for Computational Linguistics, 2011.\n",
    "\n",
    "We begin by using some Jupyter Notebook magic to download and extract the dataset."
   ]
  },
  {
   "cell_type": "code",
   "execution_count": 2,
   "metadata": {},
   "outputs": [
    {
     "name": "stdout",
     "output_type": "stream",
     "text": [
      "mkdir: cannot create directory ‘../data’: File exists\n",
      "--2021-07-14 08:41:18--  http://ai.stanford.edu/~amaas/data/sentiment/aclImdb_v1.tar.gz\n",
      "Resolving ai.stanford.edu (ai.stanford.edu)... 171.64.68.10\n",
      "Connecting to ai.stanford.edu (ai.stanford.edu)|171.64.68.10|:80... connected.\n",
      "HTTP request sent, awaiting response... 200 OK\n",
      "Length: 84125825 (80M) [application/x-gzip]\n",
      "Saving to: ‘../data/aclImdb_v1.tar.gz’\n",
      "\n",
      "../data/aclImdb_v1. 100%[===================>]  80.23M  25.3MB/s    in 3.9s    \n",
      "\n",
      "2021-07-14 08:41:22 (20.4 MB/s) - ‘../data/aclImdb_v1.tar.gz’ saved [84125825/84125825]\n",
      "\n"
     ]
    }
   ],
   "source": [
    "%mkdir ../data\n",
    "!wget -O ../data/aclImdb_v1.tar.gz http://ai.stanford.edu/~amaas/data/sentiment/aclImdb_v1.tar.gz\n",
    "!tar -zxf ../data/aclImdb_v1.tar.gz -C ../data"
   ]
  },
  {
   "cell_type": "markdown",
   "metadata": {},
   "source": [
    "## Step 2: Preparing the data\n",
    "\n",
    "The data we have downloaded is split into various files, each of which contains a single review. It will be much easier going forward if we combine these individual files into two large files, one for training and one for testing."
   ]
  },
  {
   "cell_type": "code",
   "execution_count": 3,
   "metadata": {},
   "outputs": [],
   "source": [
    "import os\n",
    "import glob\n",
    "\n",
    "def read_imdb_data(data_dir='../data/aclImdb'):\n",
    "    data = {}\n",
    "    labels = {}\n",
    "    \n",
    "    for data_type in ['train', 'test']:\n",
    "        data[data_type] = {}\n",
    "        labels[data_type] = {}\n",
    "        \n",
    "        for sentiment in ['pos', 'neg']:\n",
    "            data[data_type][sentiment] = []\n",
    "            labels[data_type][sentiment] = []\n",
    "            \n",
    "            path = os.path.join(data_dir, data_type, sentiment, '*.txt')\n",
    "            files = glob.glob(path)\n",
    "            \n",
    "            for f in files:\n",
    "                with open(f) as review:\n",
    "                    data[data_type][sentiment].append(review.read())\n",
    "                    # Here we represent a positive review by '1' and a negative review by '0'\n",
    "                    labels[data_type][sentiment].append(1 if sentiment == 'pos' else 0)\n",
    "                    \n",
    "            assert len(data[data_type][sentiment]) == len(labels[data_type][sentiment]), \\\n",
    "                    \"{}/{} data size does not match labels size\".format(data_type, sentiment)\n",
    "                \n",
    "    return data, labels"
   ]
  },
  {
   "cell_type": "code",
   "execution_count": 4,
   "metadata": {},
   "outputs": [
    {
     "name": "stdout",
     "output_type": "stream",
     "text": [
      "IMDB reviews: train = 12500 pos / 12500 neg, test = 12500 pos / 12500 neg\n"
     ]
    }
   ],
   "source": [
    "data, labels = read_imdb_data()\n",
    "print(\"IMDB reviews: train = {} pos / {} neg, test = {} pos / {} neg\".format(\n",
    "            len(data['train']['pos']), len(data['train']['neg']),\n",
    "            len(data['test']['pos']), len(data['test']['neg'])))"
   ]
  },
  {
   "cell_type": "code",
   "execution_count": 5,
   "metadata": {},
   "outputs": [],
   "source": [
    "from sklearn.utils import shuffle\n",
    "\n",
    "def prepare_imdb_data(data, labels):\n",
    "    \"\"\"Prepare training and test sets from IMDb movie reviews.\"\"\"\n",
    "    \n",
    "    #Combine positive and negative reviews and labels\n",
    "    data_train = data['train']['pos'] + data['train']['neg']\n",
    "    data_test = data['test']['pos'] + data['test']['neg']\n",
    "    labels_train = labels['train']['pos'] + labels['train']['neg']\n",
    "    labels_test = labels['test']['pos'] + labels['test']['neg']\n",
    "    \n",
    "    #Shuffle reviews and corresponding labels within training and test sets\n",
    "    data_train, labels_train = shuffle(data_train, labels_train)\n",
    "    data_test, labels_test = shuffle(data_test, labels_test)\n",
    "    \n",
    "    # Return a unified training data, test data, training labels, test labets\n",
    "    return data_train, data_test, labels_train, labels_test"
   ]
  },
  {
   "cell_type": "code",
   "execution_count": 6,
   "metadata": {},
   "outputs": [
    {
     "name": "stdout",
     "output_type": "stream",
     "text": [
      "IMDb reviews (combined): train = 25000, test = 25000\n"
     ]
    }
   ],
   "source": [
    "train_X, test_X, train_y, test_y = prepare_imdb_data(data, labels)\n",
    "print(\"IMDb reviews (combined): train = {}, test = {}\".format(len(train_X), len(test_X)))"
   ]
  },
  {
   "cell_type": "code",
   "execution_count": 7,
   "metadata": {},
   "outputs": [
    {
     "data": {
      "text/plain": [
       "'This is your typical cheerful and colorful MGM musical from the early \\'50\\'s and it\\'s definitely on of the better ones to watch out there.<br /><br />The movie got directed by the genre expert Vincente Minnelli and stars Gene Kelly in the main lead. Both did quite a few movies together back in those days, of which this one is probably their best known one. <br /><br />The movie itself actually managed to win the best picture Oscar over the year, which meant it beat out movies such as \"A Place in the Sun\", \"A Streetcar Named Desire\", \"The African Queen\", \"Quo Vadis\", \"The Blue Veil\", \"Death of a Salesman\" that year. A real accomplishment of course but at the same time also a bit too much credit for this delightful, bright and entertaining movie.<br /><br />When you watch this movie you surely will be entertained by it all, which is also thanks to the movie its beautiful color look and the many nice characters within this movie. The musical numbers are also all nicely done, which is no big surprise when you have people such as Vincente Minnelli and Gene Kelly at work. <br /><br />But really, couldn\\'t had everything that got told in this movie been done in halve an hour less or so? I mean, we already know where the movie is heading to but yet it manages to stretch it out all for as long as possible. Not that it makes the movie drag in any parts, it just makes it a bit overlong. The movie could had also definitely been done with a few less musical numbers in it.<br /><br />One of the better MGM musicals, that is not without its flaws though.<br /><br />8/10'"
      ]
     },
     "execution_count": 7,
     "metadata": {},
     "output_type": "execute_result"
    }
   ],
   "source": [
    "train_X[100]"
   ]
  },
  {
   "cell_type": "markdown",
   "metadata": {},
   "source": [
    "## Step 3: Processing the data\n",
    "\n",
    "Now that we have our training and testing datasets merged and ready to use, we need to start processing the raw data into something that will be useable by our machine learning algorithm. To begin with, we remove any html formatting that may appear in the reviews and perform some standard natural language processing in order to homogenize the data."
   ]
  },
  {
   "cell_type": "code",
   "execution_count": 8,
   "metadata": {},
   "outputs": [
    {
     "name": "stderr",
     "output_type": "stream",
     "text": [
      "[nltk_data] Downloading package stopwords to\n",
      "[nltk_data]     /home/ec2-user/nltk_data...\n",
      "[nltk_data]   Unzipping corpora/stopwords.zip.\n"
     ]
    }
   ],
   "source": [
    "import nltk\n",
    "nltk.download(\"stopwords\")\n",
    "from nltk.corpus import stopwords\n",
    "from nltk.stem.porter import *\n",
    "stemmer = PorterStemmer()"
   ]
  },
  {
   "cell_type": "code",
   "execution_count": 9,
   "metadata": {},
   "outputs": [],
   "source": [
    "import re\n",
    "from bs4 import BeautifulSoup\n",
    "\n",
    "def review_to_words(review):\n",
    "    text = BeautifulSoup(review, \"html.parser\").get_text() # Remove HTML tags\n",
    "    text = re.sub(r\"[^a-zA-Z0-9]\", \" \", text.lower()) # Convert to lower case\n",
    "    words = text.split() # Split string into words\n",
    "    words = [w for w in words if w not in stopwords.words(\"english\")] # Remove stopwords\n",
    "    words = [PorterStemmer().stem(w) for w in words] # stem\n",
    "    \n",
    "    return words"
   ]
  },
  {
   "cell_type": "code",
   "execution_count": 10,
   "metadata": {},
   "outputs": [],
   "source": [
    "import pickle\n",
    "\n",
    "cache_dir = os.path.join(\"../cache\", \"sentiment_analysis\")  # where to store cache files\n",
    "os.makedirs(cache_dir, exist_ok=True)  # ensure cache directory exists\n",
    "\n",
    "def preprocess_data(data_train, data_test, labels_train, labels_test,\n",
    "                    cache_dir=cache_dir, cache_file=\"preprocessed_data.pkl\"):\n",
    "    \"\"\"Convert each review to words; read from cache if available.\"\"\"\n",
    "\n",
    "    # If cache_file is not None, try to read from it first\n",
    "    cache_data = None\n",
    "    if cache_file is not None:\n",
    "        try:\n",
    "            with open(os.path.join(cache_dir, cache_file), \"rb\") as f:\n",
    "                cache_data = pickle.load(f)\n",
    "            print(\"Read preprocessed data from cache file:\", cache_file)\n",
    "        except:\n",
    "            pass  # unable to read from cache, but that's okay\n",
    "    \n",
    "    # If cache is missing, then do the heavy lifting\n",
    "    if cache_data is None:\n",
    "        # Preprocess training and test data to obtain words for each review\n",
    "        #words_train = list(map(review_to_words, data_train))\n",
    "        #words_test = list(map(review_to_words, data_test))\n",
    "        words_train = [review_to_words(review) for review in data_train]\n",
    "        words_test = [review_to_words(review) for review in data_test]\n",
    "        \n",
    "        # Write to cache file for future runs\n",
    "        if cache_file is not None:\n",
    "            cache_data = dict(words_train=words_train, words_test=words_test,\n",
    "                              labels_train=labels_train, labels_test=labels_test)\n",
    "            with open(os.path.join(cache_dir, cache_file), \"wb\") as f:\n",
    "                pickle.dump(cache_data, f)\n",
    "            print(\"Wrote preprocessed data to cache file:\", cache_file)\n",
    "    else:\n",
    "        # Unpack data loaded from cache file\n",
    "        words_train, words_test, labels_train, labels_test = (cache_data['words_train'],\n",
    "                cache_data['words_test'], cache_data['labels_train'], cache_data['labels_test'])\n",
    "    \n",
    "    return words_train, words_test, labels_train, labels_test"
   ]
  },
  {
   "cell_type": "code",
   "execution_count": 11,
   "metadata": {},
   "outputs": [
    {
     "name": "stdout",
     "output_type": "stream",
     "text": [
      "Wrote preprocessed data to cache file: preprocessed_data.pkl\n"
     ]
    }
   ],
   "source": [
    "# Preprocess data\n",
    "train_X, test_X, train_y, test_y = preprocess_data(train_X, test_X, train_y, test_y)"
   ]
  },
  {
   "cell_type": "markdown",
   "metadata": {},
   "source": [
    "### Extract Bag-of-Words features\n",
    "\n",
    "For the model we will be implementing, rather than using the reviews directly, we are going to transform each review into a Bag-of-Words feature representation. Keep in mind that 'in the wild' we will only have access to the training set so our transformer can only use the training set to construct a representation."
   ]
  },
  {
   "cell_type": "code",
   "execution_count": 12,
   "metadata": {},
   "outputs": [],
   "source": [
    "import numpy as np\n",
    "from sklearn.feature_extraction.text import CountVectorizer\n",
    "#from sklearn.externals import joblib\n",
    "import joblib\n",
    "# joblib is an enhanced version of pickle that is more efficient for storing NumPy arrays\n",
    "\n",
    "def extract_BoW_features(words_train, words_test, vocabulary_size=5000,\n",
    "                         cache_dir=cache_dir, cache_file=\"bow_features.pkl\"):\n",
    "    \"\"\"Extract Bag-of-Words for a given set of documents, already preprocessed into words.\"\"\"\n",
    "    \n",
    "    # If cache_file is not None, try to read from it first\n",
    "    cache_data = None\n",
    "    if cache_file is not None:\n",
    "        try:\n",
    "            with open(os.path.join(cache_dir, cache_file), \"rb\") as f:\n",
    "                cache_data = joblib.load(f)\n",
    "            print(\"Read features from cache file:\", cache_file)\n",
    "        except:\n",
    "            pass  # unable to read from cache, but that's okay\n",
    "    \n",
    "    # If cache is missing, then do the heavy lifting\n",
    "    if cache_data is None:\n",
    "        # Fit a vectorizer to training documents and use it to transform them\n",
    "        # NOTE: Training documents have already been preprocessed and tokenized into words;\n",
    "        #       pass in dummy functions to skip those steps, e.g. preprocessor=lambda x: x\n",
    "        vectorizer = CountVectorizer(max_features=vocabulary_size,\n",
    "                preprocessor=lambda x: x, tokenizer=lambda x: x)  # already preprocessed\n",
    "        features_train = vectorizer.fit_transform(words_train).toarray()\n",
    "\n",
    "        # Apply the same vectorizer to transform the test documents (ignore unknown words)\n",
    "        features_test = vectorizer.transform(words_test).toarray()\n",
    "        \n",
    "        # NOTE: Remember to convert the features using .toarray() for a compact representation\n",
    "        \n",
    "        # Write to cache file for future runs (store vocabulary as well)\n",
    "        if cache_file is not None:\n",
    "            vocabulary = vectorizer.vocabulary_\n",
    "            cache_data = dict(features_train=features_train, features_test=features_test,\n",
    "                             vocabulary=vocabulary)\n",
    "            with open(os.path.join(cache_dir, cache_file), \"wb\") as f:\n",
    "                joblib.dump(cache_data, f)\n",
    "            print(\"Wrote features to cache file:\", cache_file)\n",
    "    else:\n",
    "        # Unpack data loaded from cache file\n",
    "        features_train, features_test, vocabulary = (cache_data['features_train'],\n",
    "                cache_data['features_test'], cache_data['vocabulary'])\n",
    "    \n",
    "    # Return both the extracted features as well as the vocabulary\n",
    "    return features_train, features_test, vocabulary"
   ]
  },
  {
   "cell_type": "code",
   "execution_count": 13,
   "metadata": {},
   "outputs": [
    {
     "name": "stdout",
     "output_type": "stream",
     "text": [
      "Wrote features to cache file: bow_features.pkl\n"
     ]
    }
   ],
   "source": [
    "# Extract Bag of Words features for both training and test datasets\n",
    "train_X, test_X, vocabulary = extract_BoW_features(train_X, test_X)"
   ]
  },
  {
   "cell_type": "markdown",
   "metadata": {},
   "source": [
    "## Step 4: Classification using XGBoost\n",
    "\n",
    "Now that we have created the feature representation of our training (and testing) data, it is time to start setting up and using the XGBoost classifier provided by SageMaker.\n",
    "\n",
    "### Writing the dataset\n",
    "\n",
    "The XGBoost classifier that we will be using requires the dataset to be written to a file and stored using Amazon S3. To do this, we will start by splitting the training dataset into two parts, the data we will train the model with and a validation set. Then, we will write those datasets to a file and upload the files to S3. In addition, we will write the test set input to a file and upload the file to S3. This is so that we can use SageMakers Batch Transform functionality to test our model once we've fit it."
   ]
  },
  {
   "cell_type": "code",
   "execution_count": 14,
   "metadata": {},
   "outputs": [],
   "source": [
    "import pandas as pd\n",
    "\n",
    "val_X = pd.DataFrame(train_X[:10000])\n",
    "train_X = pd.DataFrame(train_X[10000:])\n",
    "\n",
    "val_y = pd.DataFrame(train_y[:10000])\n",
    "train_y = pd.DataFrame(train_y[10000:])\n",
    "\n",
    "test_y = pd.DataFrame(test_y)\n",
    "test_X = pd.DataFrame(test_X)"
   ]
  },
  {
   "cell_type": "markdown",
   "metadata": {},
   "source": [
    "The documentation for the XGBoost algorithm in SageMaker requires that the saved datasets should contain no headers or index and that for the training and validation data, the label should occur first for each sample.\n",
    "\n",
    "For more information about this and other algorithms, the SageMaker developer documentation can be found on __[Amazon's website.](https://docs.aws.amazon.com/sagemaker/latest/dg/)__"
   ]
  },
  {
   "cell_type": "code",
   "execution_count": 15,
   "metadata": {},
   "outputs": [],
   "source": [
    "# First we make sure that the local directory in which we'd like to store the training and validation csv files exists.\n",
    "data_dir = '../data/xgboost'\n",
    "if not os.path.exists(data_dir):\n",
    "    os.makedirs(data_dir)"
   ]
  },
  {
   "cell_type": "code",
   "execution_count": 16,
   "metadata": {},
   "outputs": [],
   "source": [
    "# First, save the test data to test.csv in the data_dir directory. Note that we do not save the associated ground truth\n",
    "# labels, instead we will use them later to compare with our model output.\n",
    "\n",
    "test_X.to_csv(os.path.join(data_dir, 'test.csv'), header=False, index=False)\n",
    "pd.concat([val_y, val_X], axis=1).to_csv(os.path.join(data_dir, 'validation.csv'), header=False, index=False)\n",
    "pd.concat([train_y, train_X], axis=1).to_csv(os.path.join(data_dir, 'train.csv'), header=False, index=False)"
   ]
  },
  {
   "cell_type": "code",
   "execution_count": 17,
   "metadata": {},
   "outputs": [],
   "source": [
    "# To save a bit of memory we can set text_X, train_X, val_X, train_y and val_y to None.\n",
    "\n",
    "train_X = val_X = train_y = val_y = None"
   ]
  },
  {
   "cell_type": "markdown",
   "metadata": {},
   "source": [
    "### Uploading Training / Validation files to S3\n",
    "\n",
    "Amazon's S3 service allows us to store files that can be access by both the built-in training models such as the XGBoost model we will be using as well as custom models such as the one we will see a little later.\n",
    "\n",
    "For this, and most other tasks we will be doing using SageMaker, there are two methods we could use. The first is to use the low level functionality of SageMaker which requires knowing each of the objects involved in the SageMaker environment. The second is to use the high level functionality in which certain choices have been made on the user's behalf. The low level approach benefits from allowing the user a great deal of flexibility while the high level approach makes development much quicker. For our purposes we will opt to use the high level approach although using the low-level approach is certainly an option.\n",
    "\n",
    "Recall the method `upload_data()` which is a member of object representing our current SageMaker session. What this method does is upload the data to the default bucket (which is created if it does not exist) into the path described by the key_prefix variable. To see this for yourself, once you have uploaded the data files, go to the S3 console and look to see where the files have been uploaded.\n",
    "\n",
    "For additional resources, see the __[SageMaker API documentation](http://sagemaker.readthedocs.io/en/latest/)__ and in addition the __[SageMaker Developer Guide.](https://docs.aws.amazon.com/sagemaker/latest/dg/)__"
   ]
  },
  {
   "cell_type": "code",
   "execution_count": 18,
   "metadata": {},
   "outputs": [],
   "source": [
    "import sagemaker\n",
    "\n",
    "session = sagemaker.Session() # Store the current SageMaker session\n",
    "\n",
    "# S3 prefix (which folder will we use)\n",
    "prefix = 'sentiment-xgboost'\n",
    "\n",
    "test_location = session.upload_data(os.path.join(data_dir, 'test.csv'), key_prefix=prefix)\n",
    "val_location = session.upload_data(os.path.join(data_dir, 'validation.csv'), key_prefix=prefix)\n",
    "train_location = session.upload_data(os.path.join(data_dir, 'train.csv'), key_prefix=prefix)"
   ]
  },
  {
   "cell_type": "markdown",
   "metadata": {},
   "source": [
    "### (TODO) Creating a hypertuned XGBoost model\n",
    "\n",
    "Now that the data has been uploaded it is time to create the XGBoost model. As in the Boston Housing notebook, the first step is to create an estimator object which will be used as the *base* of your hyperparameter tuning job."
   ]
  },
  {
   "cell_type": "code",
   "execution_count": 19,
   "metadata": {},
   "outputs": [],
   "source": [
    "from sagemaker import get_execution_role\n",
    "\n",
    "# Our current execution role is require when creating the model as the training\n",
    "# and inference code will need to access the model artifacts.\n",
    "role = get_execution_role()"
   ]
  },
  {
   "cell_type": "code",
   "execution_count": 20,
   "metadata": {},
   "outputs": [
    {
     "name": "stderr",
     "output_type": "stream",
     "text": [
      "'get_image_uri' method will be deprecated in favor of 'ImageURIProvider' class in SageMaker Python SDK v2.\n",
      "There is a more up to date SageMaker XGBoost image. To use the newer image, please set 'repo_version'='1.0-1'. For example:\n",
      "\tget_image_uri(region, 'xgboost', '1.0-1').\n"
     ]
    }
   ],
   "source": [
    "# We need to retrieve the location of the container which is provided by Amazon for using XGBoost.\n",
    "# As a matter of convenience, the training and inference code both use the same container.\n",
    "from sagemaker.amazon.amazon_estimator import get_image_uri\n",
    "\n",
    "container = get_image_uri(session.boto_region_name, 'xgboost')"
   ]
  },
  {
   "cell_type": "code",
   "execution_count": 32,
   "metadata": {},
   "outputs": [
    {
     "name": "stderr",
     "output_type": "stream",
     "text": [
      "Parameter image_name will be renamed to image_uri in SageMaker Python SDK v2.\n"
     ]
    }
   ],
   "source": [
    "# TODO: Create a SageMaker estimator using the container location determined in the previous cell.\n",
    "#       It is recommended that you use a single training instance of type ml.m4.xlarge. It is also\n",
    "#       recommended that you use 's3://{}/{}/output'.format(session.default_bucket(), prefix) as the\n",
    "#       output path.\n",
    "\n",
    "xgb = sagemaker.estimator.Estimator(container,\n",
    "                                   role,\n",
    "                                   train_instance_count=1,\n",
    "                                   train_instance_type='ml.m4.xlarge',\n",
    "                                   output_path='s3://{}/{}/output'.format(session.default_bucket(), prefix),\n",
    "                                   sagemaker_session=session)\n",
    "\n",
    "# TODO: Set the XGBoost hyperparameters in the xgb object. Don't forget that in this case we have a binary\n",
    "#       label so we should be using the 'binary:logistic' objective.\n",
    "\n",
    "xgb.set_hyperparameters(max_depth=5,\n",
    "                       eta=0.2,\n",
    "                       gamma=4,\n",
    "                       min_child_weight=6,\n",
    "                       subsample=0.8,\n",
    "                       objective='binary:logistic',\n",
    "                       early_stopping_rounds=10,\n",
    "                       num_round=200)"
   ]
  },
  {
   "cell_type": "markdown",
   "metadata": {},
   "source": [
    "### (TODO) Create the hyperparameter tuner\n",
    "\n",
    "Now that the base estimator has been set up we need to construct a hyperparameter tuner object which we will use to request SageMaker construct a hyperparameter tuning job.\n",
    "\n",
    "**Note:** Training a single sentiment analysis XGBoost model takes longer than training a Boston Housing XGBoost model so if you don't want the hyperparameter tuning job to take too long, make sure to not set the total number of models (jobs) too high."
   ]
  },
  {
   "cell_type": "code",
   "execution_count": 33,
   "metadata": {},
   "outputs": [],
   "source": [
    "# First, make sure to import the relevant objects used to construct the tuner\n",
    "from sagemaker.tuner import IntegerParameter, ContinuousParameter, HyperparameterTuner\n",
    "\n",
    "# TODO: Create the hyperparameter tuner object\n",
    "\n",
    "xgb_hyperparameter_tuner = HyperparameterTuner(estimator=xgb,\n",
    "                                               objective_metric_name='validation:rmse',\n",
    "                                               objective_type='Minimize',\n",
    "                                              max_jobs=10,\n",
    "                                              max_parallel_jobs=4,\n",
    "                                              hyperparameter_ranges={\n",
    "                                                  'max_depth': IntegerParameter(3, 12),\n",
    "                                                  'eta' : ContinuousParameter(0.05, 0.5),\n",
    "                                                  'gamma' : ContinuousParameter(0, 10),\n",
    "                                                  'min_child_weight' : IntegerParameter(2, 8),\n",
    "                                                  'subsample' : ContinuousParameter(0.5, 0.9)\n",
    "                                              })\n",
    "\n"
   ]
  },
  {
   "cell_type": "markdown",
   "metadata": {},
   "source": [
    "### Fit the hyperparameter tuner\n",
    "\n",
    "Now that the hyperparameter tuner object has been constructed, it is time to fit the various models and find the best performing model."
   ]
  },
  {
   "cell_type": "code",
   "execution_count": 34,
   "metadata": {},
   "outputs": [
    {
     "name": "stderr",
     "output_type": "stream",
     "text": [
      "'s3_input' class will be renamed to 'TrainingInput' in SageMaker Python SDK v2.\n",
      "'s3_input' class will be renamed to 'TrainingInput' in SageMaker Python SDK v2.\n"
     ]
    }
   ],
   "source": [
    "s3_input_train = sagemaker.s3_input(s3_data=train_location, content_type='csv')\n",
    "s3_input_validation = sagemaker.s3_input(s3_data=val_location, content_type='csv')"
   ]
  },
  {
   "cell_type": "code",
   "execution_count": 35,
   "metadata": {},
   "outputs": [],
   "source": [
    "xgb_hyperparameter_tuner.fit({'train': s3_input_train, 'validation': s3_input_validation})"
   ]
  },
  {
   "cell_type": "markdown",
   "metadata": {},
   "source": [
    "Remember that the tuning job is constructed and run in the background so if we want to see the progress of our training job we need to call the `wait()` method."
   ]
  },
  {
   "cell_type": "code",
   "execution_count": 36,
   "metadata": {},
   "outputs": [
    {
     "name": "stdout",
     "output_type": "stream",
     "text": [
      "..............................................................................................................................................................................................................................................................................................!\n"
     ]
    }
   ],
   "source": [
    "xgb_hyperparameter_tuner.wait()"
   ]
  },
  {
   "cell_type": "markdown",
   "metadata": {},
   "source": [
    "### (TODO) Testing the model\n",
    "\n",
    "Now that we've run our hyperparameter tuning job, it's time to see how well the best performing model actually performs. To do this we will use SageMaker's Batch Transform functionality. Batch Transform is a convenient way to perform inference on a large dataset in a way that is not realtime. That is, we don't necessarily need to use our model's results immediately and instead we can peform inference on a large number of samples. An example of this in industry might be peforming an end of month report. This method of inference can also be useful to us as it means to can perform inference on our entire test set. \n",
    "\n",
    "Remember that in order to create a transformer object to perform the batch transform job, we need a trained estimator object. We can do that using the `attach()` method, creating an estimator object which is attached to the best trained job."
   ]
  },
  {
   "cell_type": "code",
   "execution_count": 37,
   "metadata": {},
   "outputs": [
    {
     "name": "stderr",
     "output_type": "stream",
     "text": [
      "Parameter image_name will be renamed to image_uri in SageMaker Python SDK v2.\n"
     ]
    },
    {
     "name": "stdout",
     "output_type": "stream",
     "text": [
      "2021-07-14 10:26:50 Starting - Preparing the instances for training\n",
      "2021-07-14 10:26:50 Downloading - Downloading input data\n",
      "2021-07-14 10:26:50 Training - Training image download completed. Training in progress.\n",
      "2021-07-14 10:26:50 Uploading - Uploading generated training model\n",
      "2021-07-14 10:26:50 Completed - Training job completed\u001b[34mArguments: train\u001b[0m\n",
      "\u001b[34m[2021-07-14:10:19:05:INFO] Running standalone xgboost training.\u001b[0m\n",
      "\u001b[34m[2021-07-14:10:19:05:INFO] Setting up HPO optimized metric to be : rmse\u001b[0m\n",
      "\u001b[34m[2021-07-14:10:19:05:INFO] File size need to be processed in the node: 238.47mb. Available memory size in the node: 8398.88mb\u001b[0m\n",
      "\u001b[34m[2021-07-14:10:19:05:INFO] Determined delimiter of CSV input is ','\u001b[0m\n",
      "\u001b[34m[10:19:05] S3DistributionType set as FullyReplicated\u001b[0m\n",
      "\u001b[34m[10:19:07] 15000x5000 matrix with 75000000 entries loaded from /opt/ml/input/data/train?format=csv&label_column=0&delimiter=,\u001b[0m\n",
      "\u001b[34m[2021-07-14:10:19:07:INFO] Determined delimiter of CSV input is ','\u001b[0m\n",
      "\u001b[34m[10:19:07] S3DistributionType set as FullyReplicated\u001b[0m\n",
      "\u001b[34m[10:19:08] 10000x5000 matrix with 50000000 entries loaded from /opt/ml/input/data/validation?format=csv&label_column=0&delimiter=,\u001b[0m\n",
      "\u001b[34m[10:19:13] src/tree/updater_prune.cc:74: tree pruning end, 1 roots, 188 extra nodes, 28 pruned nodes, max_depth=9\u001b[0m\n",
      "\u001b[34m[0]#011train-rmse:0.46147#011validation-rmse:0.467726\u001b[0m\n",
      "\u001b[34mMultiple eval metrics have been passed: 'validation-rmse' will be used for early stopping.\n",
      "\u001b[0m\n",
      "\u001b[34mWill train until validation-rmse hasn't improved in 10 rounds.\u001b[0m\n",
      "\u001b[34m[10:19:16] src/tree/updater_prune.cc:74: tree pruning end, 1 roots, 160 extra nodes, 36 pruned nodes, max_depth=9\u001b[0m\n",
      "\u001b[34m[1]#011train-rmse:0.436605#011validation-rmse:0.447902\u001b[0m\n",
      "\u001b[34m[10:19:18] src/tree/updater_prune.cc:74: tree pruning end, 1 roots, 162 extra nodes, 54 pruned nodes, max_depth=9\u001b[0m\n",
      "\u001b[34m[2]#011train-rmse:0.418837#011validation-rmse:0.435003\u001b[0m\n",
      "\u001b[34m[10:19:20] src/tree/updater_prune.cc:74: tree pruning end, 1 roots, 118 extra nodes, 16 pruned nodes, max_depth=9\u001b[0m\n",
      "\u001b[34m[3]#011train-rmse:0.406444#011validation-rmse:0.425745\u001b[0m\n",
      "\u001b[34m[10:19:22] src/tree/updater_prune.cc:74: tree pruning end, 1 roots, 196 extra nodes, 36 pruned nodes, max_depth=9\u001b[0m\n",
      "\u001b[34m[4]#011train-rmse:0.392918#011validation-rmse:0.416742\u001b[0m\n",
      "\u001b[34m[10:19:25] src/tree/updater_prune.cc:74: tree pruning end, 1 roots, 116 extra nodes, 54 pruned nodes, max_depth=9\u001b[0m\n",
      "\u001b[34m[5]#011train-rmse:0.382743#011validation-rmse:0.409194\u001b[0m\n",
      "\u001b[34m[10:19:27] src/tree/updater_prune.cc:74: tree pruning end, 1 roots, 144 extra nodes, 30 pruned nodes, max_depth=9\u001b[0m\n",
      "\u001b[34m[6]#011train-rmse:0.373955#011validation-rmse:0.403574\u001b[0m\n",
      "\u001b[34m[10:19:29] src/tree/updater_prune.cc:74: tree pruning end, 1 roots, 228 extra nodes, 86 pruned nodes, max_depth=9\u001b[0m\n",
      "\u001b[34m[7]#011train-rmse:0.363207#011validation-rmse:0.39879\u001b[0m\n",
      "\u001b[34m[10:19:31] src/tree/updater_prune.cc:74: tree pruning end, 1 roots, 108 extra nodes, 46 pruned nodes, max_depth=9\u001b[0m\n",
      "\u001b[34m[8]#011train-rmse:0.356586#011validation-rmse:0.394693\u001b[0m\n",
      "\u001b[34m[10:19:33] src/tree/updater_prune.cc:74: tree pruning end, 1 roots, 102 extra nodes, 60 pruned nodes, max_depth=9\u001b[0m\n",
      "\u001b[34m[9]#011train-rmse:0.35008#011validation-rmse:0.390072\u001b[0m\n",
      "\u001b[34m[10:19:36] src/tree/updater_prune.cc:74: tree pruning end, 1 roots, 130 extra nodes, 50 pruned nodes, max_depth=9\u001b[0m\n",
      "\u001b[34m[10]#011train-rmse:0.34367#011validation-rmse:0.386084\u001b[0m\n",
      "\u001b[34m[10:19:38] src/tree/updater_prune.cc:74: tree pruning end, 1 roots, 106 extra nodes, 38 pruned nodes, max_depth=9\u001b[0m\n",
      "\u001b[34m[11]#011train-rmse:0.338392#011validation-rmse:0.382141\u001b[0m\n",
      "\u001b[34m[10:19:40] src/tree/updater_prune.cc:74: tree pruning end, 1 roots, 68 extra nodes, 62 pruned nodes, max_depth=9\u001b[0m\n",
      "\u001b[34m[12]#011train-rmse:0.333997#011validation-rmse:0.378943\u001b[0m\n",
      "\u001b[34m[10:19:42] src/tree/updater_prune.cc:74: tree pruning end, 1 roots, 66 extra nodes, 44 pruned nodes, max_depth=9\u001b[0m\n",
      "\u001b[34m[13]#011train-rmse:0.330201#011validation-rmse:0.376429\u001b[0m\n",
      "\u001b[34m[10:19:44] src/tree/updater_prune.cc:74: tree pruning end, 1 roots, 124 extra nodes, 60 pruned nodes, max_depth=9\u001b[0m\n",
      "\u001b[34m[14]#011train-rmse:0.324588#011validation-rmse:0.374337\u001b[0m\n",
      "\u001b[34m[10:19:46] src/tree/updater_prune.cc:74: tree pruning end, 1 roots, 94 extra nodes, 46 pruned nodes, max_depth=9\u001b[0m\n",
      "\u001b[34m[15]#011train-rmse:0.320465#011validation-rmse:0.371681\u001b[0m\n",
      "\u001b[34m[10:19:49] src/tree/updater_prune.cc:74: tree pruning end, 1 roots, 82 extra nodes, 56 pruned nodes, max_depth=9\u001b[0m\n",
      "\u001b[34m[16]#011train-rmse:0.316938#011validation-rmse:0.369613\u001b[0m\n",
      "\u001b[34m[10:19:51] src/tree/updater_prune.cc:74: tree pruning end, 1 roots, 100 extra nodes, 20 pruned nodes, max_depth=9\u001b[0m\n",
      "\u001b[34m[17]#011train-rmse:0.31331#011validation-rmse:0.367718\u001b[0m\n",
      "\u001b[34m[10:19:53] src/tree/updater_prune.cc:74: tree pruning end, 1 roots, 74 extra nodes, 52 pruned nodes, max_depth=9\u001b[0m\n",
      "\u001b[34m[18]#011train-rmse:0.309804#011validation-rmse:0.365474\u001b[0m\n",
      "\u001b[34m[10:19:55] src/tree/updater_prune.cc:74: tree pruning end, 1 roots, 116 extra nodes, 64 pruned nodes, max_depth=9\u001b[0m\n",
      "\u001b[34m[19]#011train-rmse:0.305359#011validation-rmse:0.364543\u001b[0m\n",
      "\u001b[34m[10:19:58] src/tree/updater_prune.cc:74: tree pruning end, 1 roots, 84 extra nodes, 42 pruned nodes, max_depth=9\u001b[0m\n",
      "\u001b[34m[20]#011train-rmse:0.301991#011validation-rmse:0.363019\u001b[0m\n",
      "\u001b[34m[10:20:00] src/tree/updater_prune.cc:74: tree pruning end, 1 roots, 108 extra nodes, 46 pruned nodes, max_depth=9\u001b[0m\n",
      "\u001b[34m[21]#011train-rmse:0.298291#011validation-rmse:0.361362\u001b[0m\n",
      "\u001b[34m[10:20:02] src/tree/updater_prune.cc:74: tree pruning end, 1 roots, 66 extra nodes, 56 pruned nodes, max_depth=9\u001b[0m\n",
      "\u001b[34m[22]#011train-rmse:0.295547#011validation-rmse:0.359758\u001b[0m\n",
      "\u001b[34m[10:20:04] src/tree/updater_prune.cc:74: tree pruning end, 1 roots, 104 extra nodes, 52 pruned nodes, max_depth=9\u001b[0m\n",
      "\u001b[34m[23]#011train-rmse:0.292217#011validation-rmse:0.358022\u001b[0m\n",
      "\u001b[34m[10:20:07] src/tree/updater_prune.cc:74: tree pruning end, 1 roots, 64 extra nodes, 36 pruned nodes, max_depth=9\u001b[0m\n",
      "\u001b[34m[24]#011train-rmse:0.289992#011validation-rmse:0.356954\u001b[0m\n",
      "\u001b[34m[10:20:10] src/tree/updater_prune.cc:74: tree pruning end, 1 roots, 94 extra nodes, 56 pruned nodes, max_depth=9\u001b[0m\n",
      "\u001b[34m[25]#011train-rmse:0.286901#011validation-rmse:0.355904\u001b[0m\n",
      "\u001b[34m[10:20:12] src/tree/updater_prune.cc:74: tree pruning end, 1 roots, 62 extra nodes, 46 pruned nodes, max_depth=9\u001b[0m\n",
      "\u001b[34m[26]#011train-rmse:0.284616#011validation-rmse:0.35489\u001b[0m\n",
      "\u001b[34m[10:20:14] src/tree/updater_prune.cc:74: tree pruning end, 1 roots, 68 extra nodes, 38 pruned nodes, max_depth=9\u001b[0m\n",
      "\u001b[34m[27]#011train-rmse:0.282522#011validation-rmse:0.353905\u001b[0m\n",
      "\u001b[34m[10:20:16] src/tree/updater_prune.cc:74: tree pruning end, 1 roots, 80 extra nodes, 50 pruned nodes, max_depth=9\u001b[0m\n",
      "\u001b[34m[28]#011train-rmse:0.280063#011validation-rmse:0.352352\u001b[0m\n",
      "\u001b[34m[10:20:18] src/tree/updater_prune.cc:74: tree pruning end, 1 roots, 98 extra nodes, 94 pruned nodes, max_depth=9\u001b[0m\n",
      "\u001b[34m[29]#011train-rmse:0.276836#011validation-rmse:0.350841\u001b[0m\n",
      "\u001b[34m[10:20:20] src/tree/updater_prune.cc:74: tree pruning end, 1 roots, 106 extra nodes, 24 pruned nodes, max_depth=9\u001b[0m\n",
      "\u001b[34m[30]#011train-rmse:0.273772#011validation-rmse:0.349771\u001b[0m\n",
      "\u001b[34m[10:20:23] src/tree/updater_prune.cc:74: tree pruning end, 1 roots, 70 extra nodes, 66 pruned nodes, max_depth=9\u001b[0m\n",
      "\u001b[34m[31]#011train-rmse:0.27132#011validation-rmse:0.348606\u001b[0m\n",
      "\u001b[34m[10:20:25] src/tree/updater_prune.cc:74: tree pruning end, 1 roots, 74 extra nodes, 54 pruned nodes, max_depth=9\u001b[0m\n",
      "\u001b[34m[32]#011train-rmse:0.268877#011validation-rmse:0.34758\u001b[0m\n",
      "\u001b[34m[10:20:27] src/tree/updater_prune.cc:74: tree pruning end, 1 roots, 88 extra nodes, 64 pruned nodes, max_depth=9\u001b[0m\n",
      "\u001b[34m[33]#011train-rmse:0.266341#011validation-rmse:0.346642\u001b[0m\n",
      "\u001b[34m[10:20:29] src/tree/updater_prune.cc:74: tree pruning end, 1 roots, 82 extra nodes, 46 pruned nodes, max_depth=9\u001b[0m\n",
      "\u001b[34m[34]#011train-rmse:0.263884#011validation-rmse:0.345909\u001b[0m\n",
      "\u001b[34m[10:20:32] src/tree/updater_prune.cc:74: tree pruning end, 1 roots, 58 extra nodes, 36 pruned nodes, max_depth=9\u001b[0m\n",
      "\u001b[34m[35]#011train-rmse:0.261947#011validation-rmse:0.344991\u001b[0m\n",
      "\u001b[34m[10:20:34] src/tree/updater_prune.cc:74: tree pruning end, 1 roots, 68 extra nodes, 52 pruned nodes, max_depth=9\u001b[0m\n",
      "\u001b[34m[36]#011train-rmse:0.259697#011validation-rmse:0.344272\u001b[0m\n",
      "\u001b[34m[10:20:36] src/tree/updater_prune.cc:74: tree pruning end, 1 roots, 60 extra nodes, 26 pruned nodes, max_depth=9\u001b[0m\n",
      "\u001b[34m[37]#011train-rmse:0.257933#011validation-rmse:0.343073\u001b[0m\n",
      "\u001b[34m[10:20:38] src/tree/updater_prune.cc:74: tree pruning end, 1 roots, 54 extra nodes, 42 pruned nodes, max_depth=9\u001b[0m\n",
      "\u001b[34m[38]#011train-rmse:0.256509#011validation-rmse:0.342093\u001b[0m\n",
      "\u001b[34m[10:20:40] src/tree/updater_prune.cc:74: tree pruning end, 1 roots, 40 extra nodes, 36 pruned nodes, max_depth=9\u001b[0m\n",
      "\u001b[34m[39]#011train-rmse:0.255205#011validation-rmse:0.341597\u001b[0m\n",
      "\u001b[34m[10:20:42] src/tree/updater_prune.cc:74: tree pruning end, 1 roots, 48 extra nodes, 50 pruned nodes, max_depth=9\u001b[0m\n",
      "\u001b[34m[40]#011train-rmse:0.253663#011validation-rmse:0.340945\u001b[0m\n",
      "\u001b[34m[10:20:45] src/tree/updater_prune.cc:74: tree pruning end, 1 roots, 40 extra nodes, 32 pruned nodes, max_depth=9\u001b[0m\n",
      "\u001b[34m[41]#011train-rmse:0.252447#011validation-rmse:0.340243\u001b[0m\n",
      "\u001b[34m[10:20:47] src/tree/updater_prune.cc:74: tree pruning end, 1 roots, 68 extra nodes, 44 pruned nodes, max_depth=9\u001b[0m\n",
      "\u001b[34m[42]#011train-rmse:0.250646#011validation-rmse:0.340061\u001b[0m\n",
      "\u001b[34m[10:20:49] src/tree/updater_prune.cc:74: tree pruning end, 1 roots, 34 extra nodes, 26 pruned nodes, max_depth=9\u001b[0m\n",
      "\u001b[34m[43]#011train-rmse:0.249586#011validation-rmse:0.339479\u001b[0m\n",
      "\u001b[34m[10:20:51] src/tree/updater_prune.cc:74: tree pruning end, 1 roots, 34 extra nodes, 16 pruned nodes, max_depth=9\u001b[0m\n",
      "\u001b[34m[44]#011train-rmse:0.248689#011validation-rmse:0.338897\u001b[0m\n",
      "\u001b[34m[10:20:53] src/tree/updater_prune.cc:74: tree pruning end, 1 roots, 50 extra nodes, 62 pruned nodes, max_depth=9\u001b[0m\n",
      "\u001b[34m[45]#011train-rmse:0.247113#011validation-rmse:0.338318\u001b[0m\n",
      "\u001b[34m[10:20:56] src/tree/updater_prune.cc:74: tree pruning end, 1 roots, 58 extra nodes, 36 pruned nodes, max_depth=9\u001b[0m\n",
      "\u001b[34m[46]#011train-rmse:0.245463#011validation-rmse:0.337981\u001b[0m\n",
      "\u001b[34m[10:20:58] src/tree/updater_prune.cc:74: tree pruning end, 1 roots, 64 extra nodes, 44 pruned nodes, max_depth=9\u001b[0m\n",
      "\u001b[34m[47]#011train-rmse:0.243789#011validation-rmse:0.337989\u001b[0m\n",
      "\u001b[34m[10:21:00] src/tree/updater_prune.cc:74: tree pruning end, 1 roots, 58 extra nodes, 36 pruned nodes, max_depth=9\u001b[0m\n",
      "\u001b[34m[48]#011train-rmse:0.242328#011validation-rmse:0.337494\u001b[0m\n",
      "\u001b[34m[10:21:02] src/tree/updater_prune.cc:74: tree pruning end, 1 roots, 78 extra nodes, 54 pruned nodes, max_depth=9\u001b[0m\n",
      "\u001b[34m[49]#011train-rmse:0.240126#011validation-rmse:0.337235\u001b[0m\n",
      "\u001b[34m[10:21:05] src/tree/updater_prune.cc:74: tree pruning end, 1 roots, 58 extra nodes, 54 pruned nodes, max_depth=9\u001b[0m\n",
      "\u001b[34m[50]#011train-rmse:0.238586#011validation-rmse:0.336684\u001b[0m\n",
      "\u001b[34m[10:21:08] src/tree/updater_prune.cc:74: tree pruning end, 1 roots, 38 extra nodes, 54 pruned nodes, max_depth=9\u001b[0m\n",
      "\u001b[34m[51]#011train-rmse:0.237551#011validation-rmse:0.335928\u001b[0m\n",
      "\u001b[34m[10:21:10] src/tree/updater_prune.cc:74: tree pruning end, 1 roots, 46 extra nodes, 70 pruned nodes, max_depth=9\u001b[0m\n",
      "\u001b[34m[52]#011train-rmse:0.236252#011validation-rmse:0.335568\u001b[0m\n",
      "\u001b[34m[10:21:12] src/tree/updater_prune.cc:74: tree pruning end, 1 roots, 52 extra nodes, 66 pruned nodes, max_depth=9\u001b[0m\n",
      "\u001b[34m[53]#011train-rmse:0.234921#011validation-rmse:0.335281\u001b[0m\n",
      "\u001b[34m[10:21:14] src/tree/updater_prune.cc:74: tree pruning end, 1 roots, 30 extra nodes, 40 pruned nodes, max_depth=9\u001b[0m\n",
      "\u001b[34m[54]#011train-rmse:0.233951#011validation-rmse:0.334891\u001b[0m\n",
      "\u001b[34m[10:21:16] src/tree/updater_prune.cc:74: tree pruning end, 1 roots, 20 extra nodes, 14 pruned nodes, max_depth=9\u001b[0m\n",
      "\u001b[34m[55]#011train-rmse:0.233336#011validation-rmse:0.33455\u001b[0m\n",
      "\u001b[34m[10:21:18] src/tree/updater_prune.cc:74: tree pruning end, 1 roots, 32 extra nodes, 28 pruned nodes, max_depth=9\u001b[0m\n",
      "\u001b[34m[56]#011train-rmse:0.232481#011validation-rmse:0.334169\u001b[0m\n",
      "\u001b[34m[10:21:21] src/tree/updater_prune.cc:74: tree pruning end, 1 roots, 70 extra nodes, 54 pruned nodes, max_depth=9\u001b[0m\n",
      "\u001b[34m[57]#011train-rmse:0.230888#011validation-rmse:0.333535\u001b[0m\n",
      "\u001b[34m[10:21:23] src/tree/updater_prune.cc:74: tree pruning end, 1 roots, 46 extra nodes, 28 pruned nodes, max_depth=9\u001b[0m\n",
      "\u001b[34m[58]#011train-rmse:0.229793#011validation-rmse:0.333156\u001b[0m\n",
      "\u001b[34m[10:21:25] src/tree/updater_prune.cc:74: tree pruning end, 1 roots, 32 extra nodes, 40 pruned nodes, max_depth=9\u001b[0m\n",
      "\u001b[34m[59]#011train-rmse:0.228941#011validation-rmse:0.332794\u001b[0m\n",
      "\u001b[34m[10:21:27] src/tree/updater_prune.cc:74: tree pruning end, 1 roots, 46 extra nodes, 50 pruned nodes, max_depth=9\u001b[0m\n",
      "\u001b[34m[60]#011train-rmse:0.227906#011validation-rmse:0.332562\u001b[0m\n",
      "\u001b[34m[10:21:30] src/tree/updater_prune.cc:74: tree pruning end, 1 roots, 48 extra nodes, 60 pruned nodes, max_depth=9\u001b[0m\n",
      "\u001b[34m[61]#011train-rmse:0.226762#011validation-rmse:0.332164\u001b[0m\n",
      "\u001b[34m[10:21:32] src/tree/updater_prune.cc:74: tree pruning end, 1 roots, 24 extra nodes, 26 pruned nodes, max_depth=9\u001b[0m\n",
      "\u001b[34m[62]#011train-rmse:0.226132#011validation-rmse:0.331889\u001b[0m\n",
      "\u001b[34m[10:21:34] src/tree/updater_prune.cc:74: tree pruning end, 1 roots, 54 extra nodes, 44 pruned nodes, max_depth=9\u001b[0m\n",
      "\u001b[34m[63]#011train-rmse:0.224704#011validation-rmse:0.331485\u001b[0m\n",
      "\u001b[34m[10:21:36] src/tree/updater_prune.cc:74: tree pruning end, 1 roots, 42 extra nodes, 48 pruned nodes, max_depth=9\u001b[0m\n",
      "\u001b[34m[64]#011train-rmse:0.223647#011validation-rmse:0.331079\u001b[0m\n",
      "\u001b[34m[10:21:38] src/tree/updater_prune.cc:74: tree pruning end, 1 roots, 66 extra nodes, 80 pruned nodes, max_depth=9\u001b[0m\n",
      "\u001b[34m[65]#011train-rmse:0.221994#011validation-rmse:0.330959\u001b[0m\n",
      "\u001b[34m[10:21:40] src/tree/updater_prune.cc:74: tree pruning end, 1 roots, 34 extra nodes, 16 pruned nodes, max_depth=9\u001b[0m\n",
      "\u001b[34m[66]#011train-rmse:0.221173#011validation-rmse:0.330544\u001b[0m\n",
      "\u001b[34m[10:21:43] src/tree/updater_prune.cc:74: tree pruning end, 1 roots, 66 extra nodes, 46 pruned nodes, max_depth=9\u001b[0m\n",
      "\u001b[34m[67]#011train-rmse:0.219563#011validation-rmse:0.329807\u001b[0m\n",
      "\u001b[34m[10:21:45] src/tree/updater_prune.cc:74: tree pruning end, 1 roots, 34 extra nodes, 44 pruned nodes, max_depth=9\u001b[0m\n",
      "\u001b[34m[68]#011train-rmse:0.218862#011validation-rmse:0.329531\u001b[0m\n",
      "\u001b[34m[10:21:47] src/tree/updater_prune.cc:74: tree pruning end, 1 roots, 52 extra nodes, 46 pruned nodes, max_depth=9\u001b[0m\n",
      "\u001b[34m[69]#011train-rmse:0.217617#011validation-rmse:0.329331\u001b[0m\n",
      "\u001b[34m[10:21:49] src/tree/updater_prune.cc:74: tree pruning end, 1 roots, 20 extra nodes, 32 pruned nodes, max_depth=9\u001b[0m\n",
      "\u001b[34m[70]#011train-rmse:0.21714#011validation-rmse:0.328849\u001b[0m\n",
      "\u001b[34m[10:21:51] src/tree/updater_prune.cc:74: tree pruning end, 1 roots, 68 extra nodes, 60 pruned nodes, max_depth=9\u001b[0m\n",
      "\u001b[34m[71]#011train-rmse:0.215484#011validation-rmse:0.328653\u001b[0m\n",
      "\u001b[34m[10:21:54] src/tree/updater_prune.cc:74: tree pruning end, 1 roots, 58 extra nodes, 34 pruned nodes, max_depth=9\u001b[0m\n",
      "\u001b[34m[72]#011train-rmse:0.214229#011validation-rmse:0.328523\u001b[0m\n",
      "\u001b[34m[10:21:56] src/tree/updater_prune.cc:74: tree pruning end, 1 roots, 36 extra nodes, 40 pruned nodes, max_depth=9\u001b[0m\n",
      "\u001b[34m[73]#011train-rmse:0.213211#011validation-rmse:0.328192\u001b[0m\n",
      "\u001b[34m[10:21:58] src/tree/updater_prune.cc:74: tree pruning end, 1 roots, 26 extra nodes, 64 pruned nodes, max_depth=9\u001b[0m\n",
      "\u001b[34m[74]#011train-rmse:0.212534#011validation-rmse:0.327889\u001b[0m\n",
      "\u001b[34m[10:22:00] src/tree/updater_prune.cc:74: tree pruning end, 1 roots, 30 extra nodes, 30 pruned nodes, max_depth=9\u001b[0m\n",
      "\u001b[34m[75]#011train-rmse:0.211803#011validation-rmse:0.327629\u001b[0m\n",
      "\u001b[34m[10:22:03] src/tree/updater_prune.cc:74: tree pruning end, 1 roots, 32 extra nodes, 26 pruned nodes, max_depth=9\u001b[0m\n",
      "\u001b[34m[76]#011train-rmse:0.211028#011validation-rmse:0.32725\u001b[0m\n",
      "\u001b[34m[10:22:05] src/tree/updater_prune.cc:74: tree pruning end, 1 roots, 26 extra nodes, 42 pruned nodes, max_depth=9\u001b[0m\n",
      "\u001b[34m[77]#011train-rmse:0.21051#011validation-rmse:0.326885\u001b[0m\n",
      "\u001b[34m[10:22:08] src/tree/updater_prune.cc:74: tree pruning end, 1 roots, 26 extra nodes, 56 pruned nodes, max_depth=9\u001b[0m\n",
      "\u001b[34m[78]#011train-rmse:0.209921#011validation-rmse:0.326641\u001b[0m\n",
      "\u001b[34m[10:22:10] src/tree/updater_prune.cc:74: tree pruning end, 1 roots, 36 extra nodes, 36 pruned nodes, max_depth=9\u001b[0m\n",
      "\u001b[34m[79]#011train-rmse:0.209126#011validation-rmse:0.326305\u001b[0m\n",
      "\u001b[34m[10:22:12] src/tree/updater_prune.cc:74: tree pruning end, 1 roots, 42 extra nodes, 40 pruned nodes, max_depth=9\u001b[0m\n",
      "\u001b[34m[80]#011train-rmse:0.208122#011validation-rmse:0.325968\u001b[0m\n",
      "\u001b[34m[10:22:14] src/tree/updater_prune.cc:74: tree pruning end, 1 roots, 32 extra nodes, 42 pruned nodes, max_depth=9\u001b[0m\n",
      "\u001b[34m[81]#011train-rmse:0.207384#011validation-rmse:0.325899\u001b[0m\n",
      "\u001b[34m[10:22:17] src/tree/updater_prune.cc:74: tree pruning end, 1 roots, 22 extra nodes, 44 pruned nodes, max_depth=9\u001b[0m\n",
      "\u001b[34m[82]#011train-rmse:0.206899#011validation-rmse:0.325764\u001b[0m\n",
      "\u001b[34m[10:22:19] src/tree/updater_prune.cc:74: tree pruning end, 1 roots, 24 extra nodes, 42 pruned nodes, max_depth=9\u001b[0m\n",
      "\u001b[34m[83]#011train-rmse:0.206498#011validation-rmse:0.325453\u001b[0m\n",
      "\u001b[34m[10:22:21] src/tree/updater_prune.cc:74: tree pruning end, 1 roots, 34 extra nodes, 38 pruned nodes, max_depth=9\u001b[0m\n",
      "\u001b[34m[84]#011train-rmse:0.205861#011validation-rmse:0.325273\u001b[0m\n",
      "\u001b[34m[10:22:23] src/tree/updater_prune.cc:74: tree pruning end, 1 roots, 20 extra nodes, 38 pruned nodes, max_depth=9\u001b[0m\n",
      "\u001b[34m[85]#011train-rmse:0.205396#011validation-rmse:0.325086\u001b[0m\n",
      "\u001b[34m[10:22:26] src/tree/updater_prune.cc:74: tree pruning end, 1 roots, 24 extra nodes, 42 pruned nodes, max_depth=9\u001b[0m\n",
      "\u001b[34m[86]#011train-rmse:0.204932#011validation-rmse:0.324914\u001b[0m\n",
      "\u001b[34m[10:22:28] src/tree/updater_prune.cc:74: tree pruning end, 1 roots, 28 extra nodes, 26 pruned nodes, max_depth=9\u001b[0m\n",
      "\u001b[34m[87]#011train-rmse:0.204355#011validation-rmse:0.32485\u001b[0m\n",
      "\u001b[34m[10:22:30] src/tree/updater_prune.cc:74: tree pruning end, 1 roots, 20 extra nodes, 62 pruned nodes, max_depth=9\u001b[0m\n",
      "\u001b[34m[88]#011train-rmse:0.204031#011validation-rmse:0.324581\u001b[0m\n",
      "\u001b[34m[10:22:32] src/tree/updater_prune.cc:74: tree pruning end, 1 roots, 28 extra nodes, 42 pruned nodes, max_depth=9\u001b[0m\n",
      "\u001b[34m[89]#011train-rmse:0.203417#011validation-rmse:0.324201\u001b[0m\n",
      "\u001b[34m[10:22:34] src/tree/updater_prune.cc:74: tree pruning end, 1 roots, 26 extra nodes, 40 pruned nodes, max_depth=9\u001b[0m\n",
      "\u001b[34m[90]#011train-rmse:0.202864#011validation-rmse:0.323925\u001b[0m\n",
      "\u001b[34m[10:22:36] src/tree/updater_prune.cc:74: tree pruning end, 1 roots, 26 extra nodes, 18 pruned nodes, max_depth=9\u001b[0m\n",
      "\u001b[34m[91]#011train-rmse:0.202329#011validation-rmse:0.323776\u001b[0m\n",
      "\u001b[34m[10:22:39] src/tree/updater_prune.cc:74: tree pruning end, 1 roots, 26 extra nodes, 42 pruned nodes, max_depth=9\u001b[0m\n",
      "\u001b[34m[92]#011train-rmse:0.201826#011validation-rmse:0.323453\u001b[0m\n",
      "\u001b[34m[10:22:41] src/tree/updater_prune.cc:74: tree pruning end, 1 roots, 18 extra nodes, 30 pruned nodes, max_depth=9\u001b[0m\n",
      "\u001b[34m[93]#011train-rmse:0.201512#011validation-rmse:0.323037\u001b[0m\n",
      "\u001b[34m[10:22:43] src/tree/updater_prune.cc:74: tree pruning end, 1 roots, 28 extra nodes, 46 pruned nodes, max_depth=9\u001b[0m\n",
      "\u001b[34m[94]#011train-rmse:0.200924#011validation-rmse:0.322924\u001b[0m\n",
      "\u001b[34m[10:22:45] src/tree/updater_prune.cc:74: tree pruning end, 1 roots, 38 extra nodes, 56 pruned nodes, max_depth=9\u001b[0m\n",
      "\u001b[34m[95]#011train-rmse:0.200077#011validation-rmse:0.322574\u001b[0m\n",
      "\u001b[34m[10:22:47] src/tree/updater_prune.cc:74: tree pruning end, 1 roots, 30 extra nodes, 40 pruned nodes, max_depth=9\u001b[0m\n",
      "\u001b[34m[96]#011train-rmse:0.19945#011validation-rmse:0.322506\u001b[0m\n",
      "\u001b[34m[10:22:50] src/tree/updater_prune.cc:74: tree pruning end, 1 roots, 48 extra nodes, 78 pruned nodes, max_depth=9\u001b[0m\n",
      "\u001b[34m[97]#011train-rmse:0.198495#011validation-rmse:0.322222\u001b[0m\n",
      "\u001b[34m[10:22:52] src/tree/updater_prune.cc:74: tree pruning end, 1 roots, 42 extra nodes, 48 pruned nodes, max_depth=9\u001b[0m\n",
      "\u001b[34m[98]#011train-rmse:0.197783#011validation-rmse:0.322094\u001b[0m\n",
      "\u001b[34m[10:22:54] src/tree/updater_prune.cc:74: tree pruning end, 1 roots, 24 extra nodes, 32 pruned nodes, max_depth=9\u001b[0m\n",
      "\u001b[34m[99]#011train-rmse:0.197401#011validation-rmse:0.321947\u001b[0m\n",
      "\u001b[34m[10:22:56] src/tree/updater_prune.cc:74: tree pruning end, 1 roots, 42 extra nodes, 36 pruned nodes, max_depth=9\u001b[0m\n",
      "\u001b[34m[100]#011train-rmse:0.196474#011validation-rmse:0.321974\u001b[0m\n",
      "\u001b[34m[10:22:58] src/tree/updater_prune.cc:74: tree pruning end, 1 roots, 24 extra nodes, 28 pruned nodes, max_depth=9\u001b[0m\n",
      "\u001b[34m[101]#011train-rmse:0.195976#011validation-rmse:0.32167\u001b[0m\n",
      "\u001b[34m[10:23:01] src/tree/updater_prune.cc:74: tree pruning end, 1 roots, 40 extra nodes, 66 pruned nodes, max_depth=9\u001b[0m\n",
      "\u001b[34m[102]#011train-rmse:0.195148#011validation-rmse:0.32147\u001b[0m\n",
      "\u001b[34m[10:23:03] src/tree/updater_prune.cc:74: tree pruning end, 1 roots, 24 extra nodes, 16 pruned nodes, max_depth=9\u001b[0m\n",
      "\u001b[34m[103]#011train-rmse:0.194661#011validation-rmse:0.32151\u001b[0m\n",
      "\u001b[34m[10:23:05] src/tree/updater_prune.cc:74: tree pruning end, 1 roots, 18 extra nodes, 22 pruned nodes, max_depth=9\u001b[0m\n",
      "\u001b[34m[104]#011train-rmse:0.194364#011validation-rmse:0.321415\u001b[0m\n",
      "\u001b[34m[10:23:08] src/tree/updater_prune.cc:74: tree pruning end, 1 roots, 28 extra nodes, 66 pruned nodes, max_depth=9\u001b[0m\n",
      "\u001b[34m[105]#011train-rmse:0.193792#011validation-rmse:0.321287\u001b[0m\n",
      "\u001b[34m[10:23:10] src/tree/updater_prune.cc:74: tree pruning end, 1 roots, 34 extra nodes, 42 pruned nodes, max_depth=9\u001b[0m\n",
      "\u001b[34m[106]#011train-rmse:0.193117#011validation-rmse:0.320988\u001b[0m\n",
      "\u001b[34m[10:23:12] src/tree/updater_prune.cc:74: tree pruning end, 1 roots, 20 extra nodes, 20 pruned nodes, max_depth=9\u001b[0m\n",
      "\u001b[34m[107]#011train-rmse:0.192735#011validation-rmse:0.321083\u001b[0m\n",
      "\u001b[34m[10:23:15] src/tree/updater_prune.cc:74: tree pruning end, 1 roots, 32 extra nodes, 50 pruned nodes, max_depth=9\u001b[0m\n",
      "\u001b[34m[108]#011train-rmse:0.192039#011validation-rmse:0.320848\u001b[0m\n",
      "\u001b[34m[10:23:17] src/tree/updater_prune.cc:74: tree pruning end, 1 roots, 32 extra nodes, 42 pruned nodes, max_depth=9\u001b[0m\n",
      "\u001b[34m[109]#011train-rmse:0.191447#011validation-rmse:0.320774\u001b[0m\n",
      "\u001b[34m[10:23:19] src/tree/updater_prune.cc:74: tree pruning end, 1 roots, 34 extra nodes, 36 pruned nodes, max_depth=9\u001b[0m\n",
      "\u001b[34m[110]#011train-rmse:0.190713#011validation-rmse:0.320635\u001b[0m\n",
      "\u001b[34m[10:23:21] src/tree/updater_prune.cc:74: tree pruning end, 1 roots, 20 extra nodes, 34 pruned nodes, max_depth=9\u001b[0m\n",
      "\u001b[34m[111]#011train-rmse:0.190377#011validation-rmse:0.320551\u001b[0m\n",
      "\u001b[34m[10:23:23] src/tree/updater_prune.cc:74: tree pruning end, 1 roots, 24 extra nodes, 26 pruned nodes, max_depth=9\u001b[0m\n",
      "\u001b[34m[112]#011train-rmse:0.189938#011validation-rmse:0.320326\u001b[0m\n",
      "\u001b[34m[10:23:25] src/tree/updater_prune.cc:74: tree pruning end, 1 roots, 18 extra nodes, 40 pruned nodes, max_depth=9\u001b[0m\n",
      "\u001b[34m[113]#011train-rmse:0.189666#011validation-rmse:0.320298\u001b[0m\n",
      "\u001b[34m[10:23:28] src/tree/updater_prune.cc:74: tree pruning end, 1 roots, 34 extra nodes, 64 pruned nodes, max_depth=9\u001b[0m\n",
      "\u001b[34m[114]#011train-rmse:0.189031#011validation-rmse:0.320321\u001b[0m\n",
      "\u001b[34m[10:23:30] src/tree/updater_prune.cc:74: tree pruning end, 1 roots, 24 extra nodes, 52 pruned nodes, max_depth=9\u001b[0m\n",
      "\u001b[34m[115]#011train-rmse:0.188512#011validation-rmse:0.32033\u001b[0m\n",
      "\u001b[34m[10:23:32] src/tree/updater_prune.cc:74: tree pruning end, 1 roots, 28 extra nodes, 44 pruned nodes, max_depth=9\u001b[0m\n",
      "\u001b[34m[116]#011train-rmse:0.188086#011validation-rmse:0.320194\u001b[0m\n",
      "\u001b[34m[10:23:34] src/tree/updater_prune.cc:74: tree pruning end, 1 roots, 26 extra nodes, 62 pruned nodes, max_depth=9\u001b[0m\n",
      "\u001b[34m[117]#011train-rmse:0.187638#011validation-rmse:0.320138\u001b[0m\n",
      "\u001b[34m[10:23:37] src/tree/updater_prune.cc:74: tree pruning end, 1 roots, 30 extra nodes, 42 pruned nodes, max_depth=9\u001b[0m\n",
      "\u001b[34m[118]#011train-rmse:0.187103#011validation-rmse:0.320044\u001b[0m\n",
      "\u001b[34m[10:23:39] src/tree/updater_prune.cc:74: tree pruning end, 1 roots, 18 extra nodes, 20 pruned nodes, max_depth=9\u001b[0m\n",
      "\u001b[34m[119]#011train-rmse:0.186891#011validation-rmse:0.319805\u001b[0m\n",
      "\u001b[34m[10:23:41] src/tree/updater_prune.cc:74: tree pruning end, 1 roots, 40 extra nodes, 58 pruned nodes, max_depth=9\u001b[0m\n",
      "\u001b[34m[120]#011train-rmse:0.186065#011validation-rmse:0.319849\u001b[0m\n",
      "\u001b[34m[10:23:43] src/tree/updater_prune.cc:74: tree pruning end, 1 roots, 20 extra nodes, 40 pruned nodes, max_depth=9\u001b[0m\n",
      "\u001b[34m[121]#011train-rmse:0.185798#011validation-rmse:0.319701\u001b[0m\n",
      "\u001b[34m[10:23:45] src/tree/updater_prune.cc:74: tree pruning end, 1 roots, 24 extra nodes, 14 pruned nodes, max_depth=9\u001b[0m\n",
      "\u001b[34m[122]#011train-rmse:0.185431#011validation-rmse:0.319468\u001b[0m\n",
      "\u001b[34m[10:23:47] src/tree/updater_prune.cc:74: tree pruning end, 1 roots, 24 extra nodes, 36 pruned nodes, max_depth=9\u001b[0m\n",
      "\u001b[34m[123]#011train-rmse:0.184968#011validation-rmse:0.31916\u001b[0m\n",
      "\u001b[34m[10:23:50] src/tree/updater_prune.cc:74: tree pruning end, 1 roots, 30 extra nodes, 34 pruned nodes, max_depth=9\u001b[0m\n",
      "\u001b[34m[124]#011train-rmse:0.184363#011validation-rmse:0.319115\u001b[0m\n",
      "\u001b[34m[10:23:52] src/tree/updater_prune.cc:74: tree pruning end, 1 roots, 20 extra nodes, 74 pruned nodes, max_depth=9\u001b[0m\n",
      "\u001b[34m[125]#011train-rmse:0.184032#011validation-rmse:0.31895\u001b[0m\n",
      "\u001b[34m[10:23:54] src/tree/updater_prune.cc:74: tree pruning end, 1 roots, 20 extra nodes, 30 pruned nodes, max_depth=9\u001b[0m\n",
      "\u001b[34m[126]#011train-rmse:0.183695#011validation-rmse:0.3189\u001b[0m\n",
      "\u001b[34m[10:23:56] src/tree/updater_prune.cc:74: tree pruning end, 1 roots, 18 extra nodes, 34 pruned nodes, max_depth=9\u001b[0m\n",
      "\u001b[34m[127]#011train-rmse:0.183491#011validation-rmse:0.318861\u001b[0m\n",
      "\u001b[34m[10:23:58] src/tree/updater_prune.cc:74: tree pruning end, 1 roots, 12 extra nodes, 26 pruned nodes, max_depth=6\u001b[0m\n",
      "\u001b[34m[128]#011train-rmse:0.183311#011validation-rmse:0.318888\u001b[0m\n",
      "\u001b[34m[10:24:01] src/tree/updater_prune.cc:74: tree pruning end, 1 roots, 26 extra nodes, 58 pruned nodes, max_depth=9\u001b[0m\n",
      "\u001b[34m[129]#011train-rmse:0.182831#011validation-rmse:0.31859\u001b[0m\n",
      "\u001b[34m[10:24:03] src/tree/updater_prune.cc:74: tree pruning end, 1 roots, 20 extra nodes, 34 pruned nodes, max_depth=9\u001b[0m\n",
      "\u001b[34m[130]#011train-rmse:0.182514#011validation-rmse:0.318198\u001b[0m\n",
      "\u001b[34m[10:24:05] src/tree/updater_prune.cc:74: tree pruning end, 1 roots, 20 extra nodes, 52 pruned nodes, max_depth=9\u001b[0m\n",
      "\u001b[34m[131]#011train-rmse:0.182179#011validation-rmse:0.317995\u001b[0m\n",
      "\u001b[34m[10:24:08] src/tree/updater_prune.cc:74: tree pruning end, 1 roots, 16 extra nodes, 24 pruned nodes, max_depth=8\u001b[0m\n",
      "\u001b[34m[132]#011train-rmse:0.181936#011validation-rmse:0.317871\u001b[0m\n",
      "\u001b[34m[10:24:10] src/tree/updater_prune.cc:74: tree pruning end, 1 roots, 38 extra nodes, 36 pruned nodes, max_depth=9\u001b[0m\n",
      "\u001b[34m[133]#011train-rmse:0.181269#011validation-rmse:0.317495\u001b[0m\n",
      "\u001b[34m[10:24:12] src/tree/updater_prune.cc:74: tree pruning end, 1 roots, 18 extra nodes, 44 pruned nodes, max_depth=8\u001b[0m\n",
      "\u001b[34m[134]#011train-rmse:0.181063#011validation-rmse:0.317528\u001b[0m\n",
      "\u001b[34m[10:24:15] src/tree/updater_prune.cc:74: tree pruning end, 1 roots, 18 extra nodes, 26 pruned nodes, max_depth=8\u001b[0m\n",
      "\u001b[34m[135]#011train-rmse:0.180771#011validation-rmse:0.317346\u001b[0m\n",
      "\u001b[34m[10:24:17] src/tree/updater_prune.cc:74: tree pruning end, 1 roots, 30 extra nodes, 46 pruned nodes, max_depth=8\u001b[0m\n",
      "\u001b[34m[136]#011train-rmse:0.180247#011validation-rmse:0.317261\u001b[0m\n",
      "\u001b[34m[10:24:19] src/tree/updater_prune.cc:74: tree pruning end, 1 roots, 6 extra nodes, 58 pruned nodes, max_depth=3\u001b[0m\n",
      "\u001b[34m[137]#011train-rmse:0.180151#011validation-rmse:0.317256\u001b[0m\n",
      "\u001b[34m[10:24:21] src/tree/updater_prune.cc:74: tree pruning end, 1 roots, 18 extra nodes, 26 pruned nodes, max_depth=9\u001b[0m\n",
      "\u001b[34m[138]#011train-rmse:0.179944#011validation-rmse:0.317073\u001b[0m\n",
      "\u001b[34m[10:24:23] src/tree/updater_prune.cc:74: tree pruning end, 1 roots, 28 extra nodes, 50 pruned nodes, max_depth=9\u001b[0m\n",
      "\u001b[34m[139]#011train-rmse:0.179469#011validation-rmse:0.316926\u001b[0m\n",
      "\u001b[34m[10:24:26] src/tree/updater_prune.cc:74: tree pruning end, 1 roots, 18 extra nodes, 30 pruned nodes, max_depth=9\u001b[0m\n",
      "\u001b[34m[140]#011train-rmse:0.179245#011validation-rmse:0.31698\u001b[0m\n",
      "\u001b[34m[10:24:28] src/tree/updater_prune.cc:74: tree pruning end, 1 roots, 20 extra nodes, 52 pruned nodes, max_depth=9\u001b[0m\n",
      "\u001b[34m[141]#011train-rmse:0.178868#011validation-rmse:0.316941\u001b[0m\n",
      "\u001b[34m[10:24:30] src/tree/updater_prune.cc:74: tree pruning end, 1 roots, 40 extra nodes, 50 pruned nodes, max_depth=9\u001b[0m\n",
      "\u001b[34m[142]#011train-rmse:0.178112#011validation-rmse:0.316733\u001b[0m\n",
      "\u001b[34m[10:24:32] src/tree/updater_prune.cc:74: tree pruning end, 1 roots, 10 extra nodes, 30 pruned nodes, max_depth=5\u001b[0m\n",
      "\u001b[34m[143]#011train-rmse:0.177954#011validation-rmse:0.316737\u001b[0m\n",
      "\u001b[34m[10:24:34] src/tree/updater_prune.cc:74: tree pruning end, 1 roots, 18 extra nodes, 36 pruned nodes, max_depth=7\u001b[0m\n",
      "\u001b[34m[144]#011train-rmse:0.177699#011validation-rmse:0.316702\u001b[0m\n",
      "\u001b[34m[10:24:37] src/tree/updater_prune.cc:74: tree pruning end, 1 roots, 32 extra nodes, 40 pruned nodes, max_depth=9\u001b[0m\n",
      "\u001b[34m[145]#011train-rmse:0.177092#011validation-rmse:0.316648\u001b[0m\n",
      "\u001b[34m[10:24:39] src/tree/updater_prune.cc:74: tree pruning end, 1 roots, 26 extra nodes, 44 pruned nodes, max_depth=9\u001b[0m\n",
      "\u001b[34m[146]#011train-rmse:0.176609#011validation-rmse:0.316604\u001b[0m\n",
      "\u001b[34m[10:24:41] src/tree/updater_prune.cc:74: tree pruning end, 1 roots, 0 extra nodes, 32 pruned nodes, max_depth=0\u001b[0m\n",
      "\u001b[34m[147]#011train-rmse:0.176602#011validation-rmse:0.316604\u001b[0m\n",
      "\u001b[34m[10:24:43] src/tree/updater_prune.cc:74: tree pruning end, 1 roots, 18 extra nodes, 36 pruned nodes, max_depth=8\u001b[0m\n",
      "\u001b[34m[148]#011train-rmse:0.176359#011validation-rmse:0.316592\u001b[0m\n",
      "\u001b[34m[10:24:46] src/tree/updater_prune.cc:74: tree pruning end, 1 roots, 20 extra nodes, 50 pruned nodes, max_depth=8\u001b[0m\n",
      "\u001b[34m[149]#011train-rmse:0.176053#011validation-rmse:0.316663\u001b[0m\n",
      "\u001b[34m[10:24:48] src/tree/updater_prune.cc:74: tree pruning end, 1 roots, 26 extra nodes, 82 pruned nodes, max_depth=9\u001b[0m\n",
      "\u001b[34m[150]#011train-rmse:0.17557#011validation-rmse:0.316537\u001b[0m\n",
      "\u001b[34m[10:24:50] src/tree/updater_prune.cc:74: tree pruning end, 1 roots, 20 extra nodes, 38 pruned nodes, max_depth=9\u001b[0m\n",
      "\u001b[34m[151]#011train-rmse:0.175293#011validation-rmse:0.316365\u001b[0m\n",
      "\u001b[34m[10:24:52] src/tree/updater_prune.cc:74: tree pruning end, 1 roots, 36 extra nodes, 54 pruned nodes, max_depth=9\u001b[0m\n",
      "\u001b[34m[152]#011train-rmse:0.174557#011validation-rmse:0.316289\u001b[0m\n",
      "\u001b[34m[10:24:54] src/tree/updater_prune.cc:74: tree pruning end, 1 roots, 14 extra nodes, 26 pruned nodes, max_depth=7\u001b[0m\n",
      "\u001b[34m[153]#011train-rmse:0.174279#011validation-rmse:0.316193\u001b[0m\n",
      "\u001b[34m[10:24:56] src/tree/updater_prune.cc:74: tree pruning end, 1 roots, 18 extra nodes, 28 pruned nodes, max_depth=9\u001b[0m\n",
      "\u001b[34m[154]#011train-rmse:0.174002#011validation-rmse:0.315941\u001b[0m\n",
      "\u001b[34m[10:24:59] src/tree/updater_prune.cc:74: tree pruning end, 1 roots, 22 extra nodes, 18 pruned nodes, max_depth=8\u001b[0m\n",
      "\u001b[34m[155]#011train-rmse:0.173669#011validation-rmse:0.315872\u001b[0m\n",
      "\u001b[34m[10:25:01] src/tree/updater_prune.cc:74: tree pruning end, 1 roots, 4 extra nodes, 36 pruned nodes, max_depth=2\u001b[0m\n",
      "\u001b[34m[156]#011train-rmse:0.173659#011validation-rmse:0.315839\u001b[0m\n",
      "\u001b[34m[10:25:03] src/tree/updater_prune.cc:74: tree pruning end, 1 roots, 26 extra nodes, 64 pruned nodes, max_depth=9\u001b[0m\n",
      "\u001b[34m[157]#011train-rmse:0.173129#011validation-rmse:0.315602\u001b[0m\n",
      "\u001b[34m[10:25:06] src/tree/updater_prune.cc:74: tree pruning end, 1 roots, 16 extra nodes, 54 pruned nodes, max_depth=8\u001b[0m\n",
      "\u001b[34m[158]#011train-rmse:0.17289#011validation-rmse:0.315389\u001b[0m\n",
      "\u001b[34m[10:25:09] src/tree/updater_prune.cc:74: tree pruning end, 1 roots, 12 extra nodes, 30 pruned nodes, max_depth=5\u001b[0m\n",
      "\u001b[34m[159]#011train-rmse:0.172716#011validation-rmse:0.315323\u001b[0m\n",
      "\u001b[34m[10:25:11] src/tree/updater_prune.cc:74: tree pruning end, 1 roots, 0 extra nodes, 28 pruned nodes, max_depth=0\u001b[0m\n",
      "\u001b[34m[160]#011train-rmse:0.172716#011validation-rmse:0.315323\u001b[0m\n",
      "\u001b[34m[10:25:13] src/tree/updater_prune.cc:74: tree pruning end, 1 roots, 14 extra nodes, 58 pruned nodes, max_depth=6\u001b[0m\n",
      "\u001b[34m[161]#011train-rmse:0.172494#011validation-rmse:0.315268\u001b[0m\n",
      "\u001b[34m[10:25:15] src/tree/updater_prune.cc:74: tree pruning end, 1 roots, 32 extra nodes, 56 pruned nodes, max_depth=9\u001b[0m\n",
      "\u001b[34m[162]#011train-rmse:0.171891#011validation-rmse:0.315287\u001b[0m\n",
      "\u001b[34m[10:25:17] src/tree/updater_prune.cc:74: tree pruning end, 1 roots, 0 extra nodes, 54 pruned nodes, max_depth=0\u001b[0m\n",
      "\u001b[34m[163]#011train-rmse:0.171887#011validation-rmse:0.315288\u001b[0m\n",
      "\u001b[34m[10:25:19] src/tree/updater_prune.cc:74: tree pruning end, 1 roots, 22 extra nodes, 70 pruned nodes, max_depth=7\u001b[0m\n",
      "\u001b[34m[164]#011train-rmse:0.17152#011validation-rmse:0.315142\u001b[0m\n",
      "\u001b[34m[10:25:22] src/tree/updater_prune.cc:74: tree pruning end, 1 roots, 30 extra nodes, 60 pruned nodes, max_depth=9\u001b[0m\n",
      "\u001b[34m[165]#011train-rmse:0.170985#011validation-rmse:0.31501\u001b[0m\n",
      "\u001b[34m[10:25:24] src/tree/updater_prune.cc:74: tree pruning end, 1 roots, 0 extra nodes, 64 pruned nodes, max_depth=0\u001b[0m\n",
      "\u001b[34m[166]#011train-rmse:0.170976#011validation-rmse:0.315011\u001b[0m\n",
      "\u001b[34m[10:25:26] src/tree/updater_prune.cc:74: tree pruning end, 1 roots, 6 extra nodes, 44 pruned nodes, max_depth=3\u001b[0m\n",
      "\u001b[34m[167]#011train-rmse:0.170913#011validation-rmse:0.314908\u001b[0m\n",
      "\u001b[34m[10:25:28] src/tree/updater_prune.cc:74: tree pruning end, 1 roots, 0 extra nodes, 54 pruned nodes, max_depth=0\u001b[0m\n",
      "\u001b[34m[168]#011train-rmse:0.170912#011validation-rmse:0.314909\u001b[0m\n",
      "\u001b[34m[10:25:31] src/tree/updater_prune.cc:74: tree pruning end, 1 roots, 28 extra nodes, 38 pruned nodes, max_depth=9\u001b[0m\n",
      "\u001b[34m[169]#011train-rmse:0.170407#011validation-rmse:0.314749\u001b[0m\n",
      "\u001b[34m[10:25:33] src/tree/updater_prune.cc:74: tree pruning end, 1 roots, 10 extra nodes, 64 pruned nodes, max_depth=5\u001b[0m\n",
      "\u001b[34m[170]#011train-rmse:0.170283#011validation-rmse:0.314669\u001b[0m\n",
      "\u001b[34m[10:25:35] src/tree/updater_prune.cc:74: tree pruning end, 1 roots, 0 extra nodes, 66 pruned nodes, max_depth=0\u001b[0m\n",
      "\u001b[34m[171]#011train-rmse:0.170276#011validation-rmse:0.31467\u001b[0m\n",
      "\u001b[34m[10:25:37] src/tree/updater_prune.cc:74: tree pruning end, 1 roots, 0 extra nodes, 40 pruned nodes, max_depth=0\u001b[0m\n",
      "\u001b[34m[172]#011train-rmse:0.17028#011validation-rmse:0.31467\u001b[0m\n",
      "\u001b[34m[10:25:39] src/tree/updater_prune.cc:74: tree pruning end, 1 roots, 26 extra nodes, 26 pruned nodes, max_depth=9\u001b[0m\n",
      "\u001b[34m[173]#011train-rmse:0.169944#011validation-rmse:0.314636\u001b[0m\n",
      "\u001b[34m[10:25:42] src/tree/updater_prune.cc:74: tree pruning end, 1 roots, 0 extra nodes, 38 pruned nodes, max_depth=0\u001b[0m\n",
      "\u001b[34m[174]#011train-rmse:0.169946#011validation-rmse:0.314636\u001b[0m\n",
      "\u001b[34m[10:25:44] src/tree/updater_prune.cc:74: tree pruning end, 1 roots, 0 extra nodes, 54 pruned nodes, max_depth=0\u001b[0m\n",
      "\u001b[34m[175]#011train-rmse:0.16993#011validation-rmse:0.314637\u001b[0m\n",
      "\u001b[34m[10:25:46] src/tree/updater_prune.cc:74: tree pruning end, 1 roots, 0 extra nodes, 50 pruned nodes, max_depth=0\u001b[0m\n",
      "\u001b[34m[176]#011train-rmse:0.169936#011validation-rmse:0.314637\u001b[0m\n",
      "\u001b[34m[10:25:48] src/tree/updater_prune.cc:74: tree pruning end, 1 roots, 0 extra nodes, 24 pruned nodes, max_depth=0\u001b[0m\n",
      "\u001b[34m[177]#011train-rmse:0.169929#011validation-rmse:0.314638\u001b[0m\n",
      "\u001b[34m[10:25:50] src/tree/updater_prune.cc:74: tree pruning end, 1 roots, 18 extra nodes, 34 pruned nodes, max_depth=9\u001b[0m\n",
      "\u001b[34m[178]#011train-rmse:0.169738#011validation-rmse:0.314432\u001b[0m\n",
      "\u001b[34m[10:25:52] src/tree/updater_prune.cc:74: tree pruning end, 1 roots, 24 extra nodes, 16 pruned nodes, max_depth=9\u001b[0m\n",
      "\u001b[34m[179]#011train-rmse:0.16938#011validation-rmse:0.314423\u001b[0m\n",
      "\u001b[34m[10:25:55] src/tree/updater_prune.cc:74: tree pruning end, 1 roots, 0 extra nodes, 34 pruned nodes, max_depth=0\u001b[0m\n",
      "\u001b[34m[180]#011train-rmse:0.169374#011validation-rmse:0.314423\u001b[0m\n",
      "\u001b[34m[10:25:57] src/tree/updater_prune.cc:74: tree pruning end, 1 roots, 36 extra nodes, 58 pruned nodes, max_depth=9\u001b[0m\n",
      "\u001b[34m[181]#011train-rmse:0.168684#011validation-rmse:0.314469\u001b[0m\n",
      "\u001b[34m[10:25:59] src/tree/updater_prune.cc:74: tree pruning end, 1 roots, 0 extra nodes, 48 pruned nodes, max_depth=0\u001b[0m\n",
      "\u001b[34m[182]#011train-rmse:0.168672#011validation-rmse:0.314471\u001b[0m\n",
      "\u001b[34m[10:26:01] src/tree/updater_prune.cc:74: tree pruning end, 1 roots, 0 extra nodes, 64 pruned nodes, max_depth=0\u001b[0m\n",
      "\u001b[34m[183]#011train-rmse:0.168677#011validation-rmse:0.314471\u001b[0m\n",
      "\u001b[34m[10:26:04] src/tree/updater_prune.cc:74: tree pruning end, 1 roots, 4 extra nodes, 24 pruned nodes, max_depth=2\u001b[0m\n",
      "\u001b[34m[184]#011train-rmse:0.168637#011validation-rmse:0.314377\u001b[0m\n",
      "\u001b[34m[10:26:07] src/tree/updater_prune.cc:74: tree pruning end, 1 roots, 10 extra nodes, 72 pruned nodes, max_depth=5\u001b[0m\n",
      "\u001b[34m[185]#011train-rmse:0.168501#011validation-rmse:0.314372\u001b[0m\n",
      "\u001b[34m[10:26:09] src/tree/updater_prune.cc:74: tree pruning end, 1 roots, 22 extra nodes, 84 pruned nodes, max_depth=9\u001b[0m\n",
      "\u001b[34m[186]#011train-rmse:0.168149#011validation-rmse:0.314323\u001b[0m\n",
      "\u001b[34m[10:26:11] src/tree/updater_prune.cc:74: tree pruning end, 1 roots, 6 extra nodes, 44 pruned nodes, max_depth=3\u001b[0m\n",
      "\u001b[34m[187]#011train-rmse:0.168033#011validation-rmse:0.314316\u001b[0m\n",
      "\u001b[34m[10:26:13] src/tree/updater_prune.cc:74: tree pruning end, 1 roots, 0 extra nodes, 44 pruned nodes, max_depth=0\u001b[0m\n",
      "\u001b[34m[188]#011train-rmse:0.168032#011validation-rmse:0.314316\u001b[0m\n",
      "\u001b[34m[10:26:15] src/tree/updater_prune.cc:74: tree pruning end, 1 roots, 0 extra nodes, 36 pruned nodes, max_depth=0\u001b[0m\n",
      "\u001b[34m[189]#011train-rmse:0.168029#011validation-rmse:0.314316\u001b[0m\n",
      "\u001b[34m[10:26:18] src/tree/updater_prune.cc:74: tree pruning end, 1 roots, 0 extra nodes, 44 pruned nodes, max_depth=0\u001b[0m\n",
      "\u001b[34m[190]#011train-rmse:0.168038#011validation-rmse:0.314315\u001b[0m\n",
      "\u001b[34m[10:26:20] src/tree/updater_prune.cc:74: tree pruning end, 1 roots, 16 extra nodes, 64 pruned nodes, max_depth=8\u001b[0m\n",
      "\u001b[34m[191]#011train-rmse:0.167845#011validation-rmse:0.314322\u001b[0m\n",
      "\u001b[34m[10:26:22] src/tree/updater_prune.cc:74: tree pruning end, 1 roots, 0 extra nodes, 38 pruned nodes, max_depth=0\u001b[0m\n",
      "\u001b[34m[192]#011train-rmse:0.167836#011validation-rmse:0.314324\u001b[0m\n",
      "\u001b[34m[10:26:24] src/tree/updater_prune.cc:74: tree pruning end, 1 roots, 0 extra nodes, 68 pruned nodes, max_depth=0\u001b[0m\n",
      "\u001b[34m[193]#011train-rmse:0.16783#011validation-rmse:0.314324\u001b[0m\n",
      "\u001b[34m[10:26:26] src/tree/updater_prune.cc:74: tree pruning end, 1 roots, 0 extra nodes, 30 pruned nodes, max_depth=0\u001b[0m\n",
      "\u001b[34m[194]#011train-rmse:0.167834#011validation-rmse:0.314324\u001b[0m\n",
      "\u001b[34m[10:26:29] src/tree/updater_prune.cc:74: tree pruning end, 1 roots, 12 extra nodes, 74 pruned nodes, max_depth=5\u001b[0m\n",
      "\u001b[34m[195]#011train-rmse:0.167594#011validation-rmse:0.314305\u001b[0m\n",
      "\u001b[34m[10:26:31] src/tree/updater_prune.cc:74: tree pruning end, 1 roots, 0 extra nodes, 34 pruned nodes, max_depth=0\u001b[0m\n",
      "\u001b[34m[196]#011train-rmse:0.16759#011validation-rmse:0.314306\u001b[0m\n",
      "\u001b[34m[10:26:33] src/tree/updater_prune.cc:74: tree pruning end, 1 roots, 0 extra nodes, 38 pruned nodes, max_depth=0\u001b[0m\n",
      "\u001b[34m[197]#011train-rmse:0.167592#011validation-rmse:0.314305\u001b[0m\n",
      "\u001b[34m[10:26:35] src/tree/updater_prune.cc:74: tree pruning end, 1 roots, 14 extra nodes, 40 pruned nodes, max_depth=7\u001b[0m\n",
      "\u001b[34m[198]#011train-rmse:0.167359#011validation-rmse:0.314199\u001b[0m\n",
      "\u001b[34m[10:26:37] src/tree/updater_prune.cc:74: tree pruning end, 1 roots, 0 extra nodes, 26 pruned nodes, max_depth=0\u001b[0m\n",
      "\u001b[34m[199]#011train-rmse:0.167367#011validation-rmse:0.314198\u001b[0m\n",
      "Training seconds: 503\n",
      "Billable seconds: 503\n"
     ]
    }
   ],
   "source": [
    "# TODO: Create a new estimator object attached to the best training job found during hyperparameter tuning\n",
    "\n",
    "xgb_attached = sagemaker.estimator.Estimator.attach(xgb_hyperparameter_tuner.best_training_job())\n"
   ]
  },
  {
   "cell_type": "markdown",
   "metadata": {},
   "source": [
    "Now that we have an estimator object attached to the correct training job, we can proceed as we normally would and create a transformer object."
   ]
  },
  {
   "cell_type": "code",
   "execution_count": 38,
   "metadata": {},
   "outputs": [
    {
     "name": "stderr",
     "output_type": "stream",
     "text": [
      "Parameter image will be renamed to image_uri in SageMaker Python SDK v2.\n"
     ]
    }
   ],
   "source": [
    "# TODO: Create a transformer object from the attached estimator. Using an instance count of 1 and an instance type of ml.m4.xlarge\n",
    "#       should be more than enough.\n",
    "\n",
    "xgb_transformer = xgb_attached.transformer(instance_count=1, instance_type='ml.m4.xlarge')\n"
   ]
  },
  {
   "cell_type": "markdown",
   "metadata": {},
   "source": [
    "Next we actually perform the transform job. When doing so we need to make sure to specify the type of data we are sending so that it is serialized correctly in the background. In our case we are providing our model with csv data so we specify `text/csv`. Also, if the test data that we have provided is too large to process all at once then we need to specify how the data file should be split up. Since each line is a single entry in our data set we tell SageMaker that it can split the input on each line."
   ]
  },
  {
   "cell_type": "code",
   "execution_count": 39,
   "metadata": {},
   "outputs": [],
   "source": [
    "# TODO: Start the transform job. Make sure to specify the content type and the split type of the test data.\n",
    "xgb_transformer.transform(test_location, content_type='text/csv', split_type='Line')"
   ]
  },
  {
   "cell_type": "markdown",
   "metadata": {},
   "source": [
    "Currently the transform job is running but it is doing so in the background. Since we wish to wait until the transform job is done and we would like a bit of feedback we can run the `wait()` method."
   ]
  },
  {
   "cell_type": "code",
   "execution_count": 40,
   "metadata": {},
   "outputs": [
    {
     "name": "stdout",
     "output_type": "stream",
     "text": [
      "..............................\u001b[34mArguments: serve\u001b[0m\n",
      "\u001b[34m[2021-07-14 10:34:17 +0000] [1] [INFO] Starting gunicorn 19.9.0\u001b[0m\n",
      "\u001b[35mArguments: serve\u001b[0m\n",
      "\u001b[35m[2021-07-14 10:34:17 +0000] [1] [INFO] Starting gunicorn 19.9.0\u001b[0m\n",
      "\u001b[34m[2021-07-14 10:34:17 +0000] [1] [INFO] Listening at: http://0.0.0.0:8080 (1)\u001b[0m\n",
      "\u001b[34m[2021-07-14 10:34:17 +0000] [1] [INFO] Using worker: gevent\u001b[0m\n",
      "\u001b[34m[2021-07-14 10:34:17 +0000] [20] [INFO] Booting worker with pid: 20\u001b[0m\n",
      "\u001b[34m[2021-07-14 10:34:17 +0000] [21] [INFO] Booting worker with pid: 21\u001b[0m\n",
      "\u001b[34m[2021-07-14 10:34:17 +0000] [22] [INFO] Booting worker with pid: 22\u001b[0m\n",
      "\u001b[34m/opt/amazon/lib/python3.7/site-packages/gunicorn/workers/ggevent.py:65: MonkeyPatchWarning: Monkey-patching ssl after ssl has already been imported may lead to errors, including RecursionError on Python 3.6. It may also silently lead to incorrect behaviour on Python 3.7. Please monkey-patch earlier. See https://github.com/gevent/gevent/issues/1016. Modules that had direct imports (NOT patched): ['urllib3.util (/opt/amazon/lib/python3.7/site-packages/urllib3/util/__init__.py)', 'urllib3.util.ssl_ (/opt/amazon/lib/python3.7/site-packages/urllib3/util/ssl_.py)']. \n",
      "  monkey.patch_all(subprocess=True)\u001b[0m\n",
      "\u001b[34m[2021-07-14:10:34:17:INFO] Model loaded successfully for worker : 20\u001b[0m\n",
      "\u001b[34m/opt/amazon/lib/python3.7/site-packages/gunicorn/workers/ggevent.py:65: MonkeyPatchWarning: Monkey-patching ssl after ssl has already been imported may lead to errors, including RecursionError on Python 3.6. It may also silently lead to incorrect behaviour on Python 3.7. Please monkey-patch earlier. See https://github.com/gevent/gevent/issues/1016. Modules that had direct imports (NOT patched): ['urllib3.util (/opt/amazon/lib/python3.7/site-packages/urllib3/util/__init__.py)', 'urllib3.util.ssl_ (/opt/amazon/lib/python3.7/site-packages/urllib3/util/ssl_.py)']. \n",
      "  monkey.patch_all(subprocess=True)\u001b[0m\n",
      "\u001b[34m[2021-07-14 10:34:17 +0000] [23] [INFO] Booting worker with pid: 23\u001b[0m\n",
      "\u001b[34m[2021-07-14:10:34:17:INFO] Model loaded successfully for worker : 21\u001b[0m\n",
      "\u001b[34m/opt/amazon/lib/python3.7/site-packages/gunicorn/workers/ggevent.py:65: MonkeyPatchWarning: Monkey-patching ssl after ssl has already been imported may lead to errors, including RecursionError on Python 3.6. It may also silently lead to incorrect behaviour on Python 3.7. Please monkey-patch earlier. See https://github.com/gevent/gevent/issues/1016. Modules that had direct imports (NOT patched): ['urllib3.util (/opt/amazon/lib/python3.7/site-packages/urllib3/util/__init__.py)', 'urllib3.util.ssl_ (/opt/amazon/lib/python3.7/site-packages/urllib3/util/ssl_.py)']. \n",
      "  monkey.patch_all(subprocess=True)\u001b[0m\n",
      "\u001b[34m[2021-07-14:10:34:17:INFO] Model loaded successfully for worker : 22\u001b[0m\n",
      "\u001b[34m/opt/amazon/lib/python3.7/site-packages/gunicorn/workers/ggevent.py:65: MonkeyPatchWarning: Monkey-patching ssl after ssl has already been imported may lead to errors, including RecursionError on Python 3.6. It may also silently lead to incorrect behaviour on Python 3.7. Please monkey-patch earlier. See https://github.com/gevent/gevent/issues/1016. Modules that had direct imports (NOT patched): ['urllib3.util (/opt/amazon/lib/python3.7/site-packages/urllib3/util/__init__.py)', 'urllib3.util.ssl_ (/opt/amazon/lib/python3.7/site-packages/urllib3/util/ssl_.py)']. \n",
      "  monkey.patch_all(subprocess=True)\u001b[0m\n",
      "\u001b[34m[2021-07-14:10:34:17:INFO] Model loaded successfully for worker : 23\u001b[0m\n",
      "\u001b[35m[2021-07-14 10:34:17 +0000] [1] [INFO] Listening at: http://0.0.0.0:8080 (1)\u001b[0m\n",
      "\u001b[35m[2021-07-14 10:34:17 +0000] [1] [INFO] Using worker: gevent\u001b[0m\n",
      "\u001b[35m[2021-07-14 10:34:17 +0000] [20] [INFO] Booting worker with pid: 20\u001b[0m\n",
      "\u001b[35m[2021-07-14 10:34:17 +0000] [21] [INFO] Booting worker with pid: 21\u001b[0m\n",
      "\u001b[35m[2021-07-14 10:34:17 +0000] [22] [INFO] Booting worker with pid: 22\u001b[0m\n",
      "\u001b[35m/opt/amazon/lib/python3.7/site-packages/gunicorn/workers/ggevent.py:65: MonkeyPatchWarning: Monkey-patching ssl after ssl has already been imported may lead to errors, including RecursionError on Python 3.6. It may also silently lead to incorrect behaviour on Python 3.7. Please monkey-patch earlier. See https://github.com/gevent/gevent/issues/1016. Modules that had direct imports (NOT patched): ['urllib3.util (/opt/amazon/lib/python3.7/site-packages/urllib3/util/__init__.py)', 'urllib3.util.ssl_ (/opt/amazon/lib/python3.7/site-packages/urllib3/util/ssl_.py)']. \n",
      "  monkey.patch_all(subprocess=True)\u001b[0m\n",
      "\u001b[35m[2021-07-14:10:34:17:INFO] Model loaded successfully for worker : 20\u001b[0m\n",
      "\u001b[35m/opt/amazon/lib/python3.7/site-packages/gunicorn/workers/ggevent.py:65: MonkeyPatchWarning: Monkey-patching ssl after ssl has already been imported may lead to errors, including RecursionError on Python 3.6. It may also silently lead to incorrect behaviour on Python 3.7. Please monkey-patch earlier. See https://github.com/gevent/gevent/issues/1016. Modules that had direct imports (NOT patched): ['urllib3.util (/opt/amazon/lib/python3.7/site-packages/urllib3/util/__init__.py)', 'urllib3.util.ssl_ (/opt/amazon/lib/python3.7/site-packages/urllib3/util/ssl_.py)']. \n",
      "  monkey.patch_all(subprocess=True)\u001b[0m\n",
      "\u001b[35m[2021-07-14 10:34:17 +0000] [23] [INFO] Booting worker with pid: 23\u001b[0m\n",
      "\u001b[35m[2021-07-14:10:34:17:INFO] Model loaded successfully for worker : 21\u001b[0m\n",
      "\u001b[35m/opt/amazon/lib/python3.7/site-packages/gunicorn/workers/ggevent.py:65: MonkeyPatchWarning: Monkey-patching ssl after ssl has already been imported may lead to errors, including RecursionError on Python 3.6. It may also silently lead to incorrect behaviour on Python 3.7. Please monkey-patch earlier. See https://github.com/gevent/gevent/issues/1016. Modules that had direct imports (NOT patched): ['urllib3.util (/opt/amazon/lib/python3.7/site-packages/urllib3/util/__init__.py)', 'urllib3.util.ssl_ (/opt/amazon/lib/python3.7/site-packages/urllib3/util/ssl_.py)']. \n",
      "  monkey.patch_all(subprocess=True)\u001b[0m\n",
      "\u001b[35m[2021-07-14:10:34:17:INFO] Model loaded successfully for worker : 22\u001b[0m\n",
      "\u001b[35m/opt/amazon/lib/python3.7/site-packages/gunicorn/workers/ggevent.py:65: MonkeyPatchWarning: Monkey-patching ssl after ssl has already been imported may lead to errors, including RecursionError on Python 3.6. It may also silently lead to incorrect behaviour on Python 3.7. Please monkey-patch earlier. See https://github.com/gevent/gevent/issues/1016. Modules that had direct imports (NOT patched): ['urllib3.util (/opt/amazon/lib/python3.7/site-packages/urllib3/util/__init__.py)', 'urllib3.util.ssl_ (/opt/amazon/lib/python3.7/site-packages/urllib3/util/ssl_.py)']. \n",
      "  monkey.patch_all(subprocess=True)\u001b[0m\n",
      "\u001b[35m[2021-07-14:10:34:17:INFO] Model loaded successfully for worker : 23\u001b[0m\n",
      "\u001b[34m[2021-07-14:10:34:25:INFO] Sniff delimiter as ','\u001b[0m\n",
      "\u001b[34m[2021-07-14:10:34:25:INFO] Determined delimiter of CSV input is ','\u001b[0m\n",
      "\u001b[34m[2021-07-14:10:34:25:INFO] Sniff delimiter as ','\u001b[0m\n",
      "\u001b[34m[2021-07-14:10:34:25:INFO] Determined delimiter of CSV input is ','\u001b[0m\n",
      "\u001b[34m[2021-07-14:10:34:25:INFO] Sniff delimiter as ','\u001b[0m\n",
      "\u001b[34m[2021-07-14:10:34:25:INFO] Determined delimiter of CSV input is ','\u001b[0m\n",
      "\u001b[34m[2021-07-14:10:34:25:INFO] Sniff delimiter as ','\u001b[0m\n",
      "\u001b[34m[2021-07-14:10:34:25:INFO] Determined delimiter of CSV input is ','\u001b[0m\n",
      "\u001b[35m[2021-07-14:10:34:25:INFO] Sniff delimiter as ','\u001b[0m\n",
      "\u001b[35m[2021-07-14:10:34:25:INFO] Determined delimiter of CSV input is ','\u001b[0m\n",
      "\u001b[35m[2021-07-14:10:34:25:INFO] Sniff delimiter as ','\u001b[0m\n",
      "\u001b[35m[2021-07-14:10:34:25:INFO] Determined delimiter of CSV input is ','\u001b[0m\n",
      "\u001b[35m[2021-07-14:10:34:25:INFO] Sniff delimiter as ','\u001b[0m\n",
      "\u001b[35m[2021-07-14:10:34:25:INFO] Determined delimiter of CSV input is ','\u001b[0m\n",
      "\u001b[35m[2021-07-14:10:34:25:INFO] Sniff delimiter as ','\u001b[0m\n",
      "\u001b[35m[2021-07-14:10:34:25:INFO] Determined delimiter of CSV input is ','\u001b[0m\n",
      "\u001b[32m2021-07-14T10:34:21.571:[sagemaker logs]: MaxConcurrentTransforms=4, MaxPayloadInMB=6, BatchStrategy=MULTI_RECORD\u001b[0m\n",
      "\u001b[34m[2021-07-14:10:34:29:INFO] Sniff delimiter as ','\u001b[0m\n",
      "\u001b[34m[2021-07-14:10:34:29:INFO] Determined delimiter of CSV input is ','\u001b[0m\n",
      "\u001b[34m[2021-07-14:10:34:29:INFO] Sniff delimiter as ','\u001b[0m\n",
      "\u001b[34m[2021-07-14:10:34:29:INFO] Determined delimiter of CSV input is ','\u001b[0m\n",
      "\u001b[34m[2021-07-14:10:34:29:INFO] Sniff delimiter as ','\u001b[0m\n",
      "\u001b[34m[2021-07-14:10:34:29:INFO] Determined delimiter of CSV input is ','\u001b[0m\n",
      "\u001b[34m[2021-07-14:10:34:29:INFO] Sniff delimiter as ','\u001b[0m\n",
      "\u001b[34m[2021-07-14:10:34:29:INFO] Determined delimiter of CSV input is ','\u001b[0m\n",
      "\u001b[35m[2021-07-14:10:34:29:INFO] Sniff delimiter as ','\u001b[0m\n",
      "\u001b[35m[2021-07-14:10:34:29:INFO] Determined delimiter of CSV input is ','\u001b[0m\n",
      "\u001b[35m[2021-07-14:10:34:29:INFO] Sniff delimiter as ','\u001b[0m\n",
      "\u001b[35m[2021-07-14:10:34:29:INFO] Determined delimiter of CSV input is ','\u001b[0m\n",
      "\u001b[35m[2021-07-14:10:34:29:INFO] Sniff delimiter as ','\u001b[0m\n",
      "\u001b[35m[2021-07-14:10:34:29:INFO] Determined delimiter of CSV input is ','\u001b[0m\n",
      "\u001b[35m[2021-07-14:10:34:29:INFO] Sniff delimiter as ','\u001b[0m\n",
      "\u001b[35m[2021-07-14:10:34:29:INFO] Determined delimiter of CSV input is ','\u001b[0m\n",
      "\u001b[34m[2021-07-14:10:34:36:INFO] Sniff delimiter as ','\u001b[0m\n",
      "\u001b[34m[2021-07-14:10:34:36:INFO] Determined delimiter of CSV input is ','\u001b[0m\n",
      "\u001b[35m[2021-07-14:10:34:36:INFO] Sniff delimiter as ','\u001b[0m\n",
      "\u001b[35m[2021-07-14:10:34:36:INFO] Determined delimiter of CSV input is ','\u001b[0m\n",
      "\u001b[34m[2021-07-14:10:34:37:INFO] Sniff delimiter as ','\u001b[0m\n",
      "\u001b[34m[2021-07-14:10:34:37:INFO] Determined delimiter of CSV input is ','\u001b[0m\n",
      "\u001b[34m[2021-07-14:10:34:37:INFO] Sniff delimiter as ','\u001b[0m\n",
      "\u001b[34m[2021-07-14:10:34:37:INFO] Determined delimiter of CSV input is ','\u001b[0m\n",
      "\u001b[35m[2021-07-14:10:34:37:INFO] Sniff delimiter as ','\u001b[0m\n",
      "\u001b[35m[2021-07-14:10:34:37:INFO] Determined delimiter of CSV input is ','\u001b[0m\n",
      "\u001b[35m[2021-07-14:10:34:37:INFO] Sniff delimiter as ','\u001b[0m\n",
      "\u001b[35m[2021-07-14:10:34:37:INFO] Determined delimiter of CSV input is ','\u001b[0m\n",
      "\u001b[34m[2021-07-14:10:34:37:INFO] Sniff delimiter as ','\u001b[0m\n",
      "\u001b[34m[2021-07-14:10:34:37:INFO] Determined delimiter of CSV input is ','\u001b[0m\n",
      "\u001b[35m[2021-07-14:10:34:37:INFO] Sniff delimiter as ','\u001b[0m\n",
      "\u001b[35m[2021-07-14:10:34:37:INFO] Determined delimiter of CSV input is ','\u001b[0m\n",
      "\u001b[34m[2021-07-14:10:34:40:INFO] Sniff delimiter as ','\u001b[0m\n",
      "\u001b[34m[2021-07-14:10:34:40:INFO] Determined delimiter of CSV input is ','\u001b[0m\n",
      "\u001b[35m[2021-07-14:10:34:40:INFO] Sniff delimiter as ','\u001b[0m\n",
      "\u001b[35m[2021-07-14:10:34:40:INFO] Determined delimiter of CSV input is ','\u001b[0m\n",
      "\u001b[34m[2021-07-14:10:34:41:INFO] Sniff delimiter as ','\u001b[0m\n",
      "\u001b[35m[2021-07-14:10:34:41:INFO] Sniff delimiter as ','\u001b[0m\n",
      "\u001b[34m[2021-07-14:10:34:41:INFO] Determined delimiter of CSV input is ','\u001b[0m\n",
      "\u001b[34m[2021-07-14:10:34:41:INFO] Sniff delimiter as ','\u001b[0m\n",
      "\u001b[34m[2021-07-14:10:34:41:INFO] Determined delimiter of CSV input is ','\u001b[0m\n",
      "\u001b[35m[2021-07-14:10:34:41:INFO] Determined delimiter of CSV input is ','\u001b[0m\n",
      "\u001b[35m[2021-07-14:10:34:41:INFO] Sniff delimiter as ','\u001b[0m\n",
      "\u001b[35m[2021-07-14:10:34:41:INFO] Determined delimiter of CSV input is ','\u001b[0m\n",
      "\u001b[34m[2021-07-14:10:34:44:INFO] Sniff delimiter as ','\u001b[0m\n",
      "\u001b[34m[2021-07-14:10:34:44:INFO] Determined delimiter of CSV input is ','\u001b[0m\n",
      "\u001b[34m[2021-07-14:10:34:44:INFO] Sniff delimiter as ','\u001b[0m\n",
      "\u001b[34m[2021-07-14:10:34:44:INFO] Determined delimiter of CSV input is ','\u001b[0m\n",
      "\u001b[34m[2021-07-14:10:34:44:INFO] Sniff delimiter as ','\u001b[0m\n",
      "\u001b[34m[2021-07-14:10:34:44:INFO] Determined delimiter of CSV input is ','\u001b[0m\n",
      "\u001b[35m[2021-07-14:10:34:44:INFO] Sniff delimiter as ','\u001b[0m\n",
      "\u001b[35m[2021-07-14:10:34:44:INFO] Determined delimiter of CSV input is ','\u001b[0m\n",
      "\u001b[35m[2021-07-14:10:34:44:INFO] Sniff delimiter as ','\u001b[0m\n",
      "\u001b[35m[2021-07-14:10:34:44:INFO] Determined delimiter of CSV input is ','\u001b[0m\n",
      "\u001b[35m[2021-07-14:10:34:44:INFO] Sniff delimiter as ','\u001b[0m\n",
      "\u001b[35m[2021-07-14:10:34:44:INFO] Determined delimiter of CSV input is ','\u001b[0m\n",
      "\u001b[34m[2021-07-14:10:34:45:INFO] Sniff delimiter as ','\u001b[0m\n",
      "\u001b[34m[2021-07-14:10:34:45:INFO] Determined delimiter of CSV input is ','\u001b[0m\n",
      "\u001b[35m[2021-07-14:10:34:45:INFO] Sniff delimiter as ','\u001b[0m\n",
      "\u001b[35m[2021-07-14:10:34:45:INFO] Determined delimiter of CSV input is ','\u001b[0m\n",
      "\u001b[34m[2021-07-14:10:34:48:INFO] Sniff delimiter as ','\u001b[0m\n",
      "\u001b[34m[2021-07-14:10:34:48:INFO] Determined delimiter of CSV input is ','\u001b[0m\n",
      "\u001b[34m[2021-07-14:10:34:48:INFO] Sniff delimiter as ','\u001b[0m\n",
      "\u001b[34m[2021-07-14:10:34:48:INFO] Determined delimiter of CSV input is ','\u001b[0m\n",
      "\u001b[34m[2021-07-14:10:34:48:INFO] Sniff delimiter as ','\u001b[0m\n",
      "\u001b[34m[2021-07-14:10:34:48:INFO] Determined delimiter of CSV input is ','\u001b[0m\n",
      "\u001b[35m[2021-07-14:10:34:48:INFO] Sniff delimiter as ','\u001b[0m\n",
      "\u001b[35m[2021-07-14:10:34:48:INFO] Determined delimiter of CSV input is ','\u001b[0m\n",
      "\u001b[35m[2021-07-14:10:34:48:INFO] Sniff delimiter as ','\u001b[0m\n",
      "\u001b[35m[2021-07-14:10:34:48:INFO] Determined delimiter of CSV input is ','\u001b[0m\n",
      "\u001b[35m[2021-07-14:10:34:48:INFO] Sniff delimiter as ','\u001b[0m\n",
      "\u001b[35m[2021-07-14:10:34:48:INFO] Determined delimiter of CSV input is ','\u001b[0m\n",
      "\u001b[34m[2021-07-14:10:34:49:INFO] Sniff delimiter as ','\u001b[0m\n",
      "\u001b[34m[2021-07-14:10:34:49:INFO] Determined delimiter of CSV input is ','\u001b[0m\n",
      "\u001b[35m[2021-07-14:10:34:49:INFO] Sniff delimiter as ','\u001b[0m\n",
      "\u001b[35m[2021-07-14:10:34:49:INFO] Determined delimiter of CSV input is ','\u001b[0m\n",
      "\n",
      "\u001b[34m[2021-07-14:10:34:52:INFO] Sniff delimiter as ','\u001b[0m\n",
      "\u001b[34m[2021-07-14:10:34:52:INFO] Determined delimiter of CSV input is ','\u001b[0m\n",
      "\u001b[34m[2021-07-14:10:34:52:INFO] Sniff delimiter as ','\u001b[0m\n",
      "\u001b[34m[2021-07-14:10:34:52:INFO] Determined delimiter of CSV input is ','\u001b[0m\n",
      "\u001b[34m[2021-07-14:10:34:52:INFO] Sniff delimiter as ','\u001b[0m\n",
      "\u001b[34m[2021-07-14:10:34:52:INFO] Determined delimiter of CSV input is ','\u001b[0m\n",
      "\u001b[35m[2021-07-14:10:34:52:INFO] Sniff delimiter as ','\u001b[0m\n",
      "\u001b[35m[2021-07-14:10:34:52:INFO] Determined delimiter of CSV input is ','\u001b[0m\n",
      "\u001b[35m[2021-07-14:10:34:52:INFO] Sniff delimiter as ','\u001b[0m\n",
      "\u001b[35m[2021-07-14:10:34:52:INFO] Determined delimiter of CSV input is ','\u001b[0m\n",
      "\u001b[35m[2021-07-14:10:34:52:INFO] Sniff delimiter as ','\u001b[0m\n",
      "\u001b[35m[2021-07-14:10:34:52:INFO] Determined delimiter of CSV input is ','\u001b[0m\n",
      "\u001b[34m[2021-07-14:10:34:56:INFO] Sniff delimiter as ','\u001b[0m\n",
      "\u001b[34m[2021-07-14:10:34:56:INFO] Determined delimiter of CSV input is ','\u001b[0m\n",
      "\u001b[35m[2021-07-14:10:34:56:INFO] Sniff delimiter as ','\u001b[0m\n",
      "\u001b[35m[2021-07-14:10:34:56:INFO] Determined delimiter of CSV input is ','\u001b[0m\n",
      "\u001b[34m[2021-07-14:10:34:56:INFO] Sniff delimiter as ','\u001b[0m\n",
      "\u001b[34m[2021-07-14:10:34:56:INFO] Determined delimiter of CSV input is ','\u001b[0m\n",
      "\u001b[34m[2021-07-14:10:34:56:INFO] Sniff delimiter as ','\u001b[0m\n",
      "\u001b[34m[2021-07-14:10:34:56:INFO] Determined delimiter of CSV input is ','\u001b[0m\n",
      "\u001b[34m[2021-07-14:10:34:56:INFO] Sniff delimiter as ','\u001b[0m\n",
      "\u001b[35m[2021-07-14:10:34:56:INFO] Sniff delimiter as ','\u001b[0m\n",
      "\u001b[35m[2021-07-14:10:34:56:INFO] Determined delimiter of CSV input is ','\u001b[0m\n",
      "\u001b[35m[2021-07-14:10:34:56:INFO] Sniff delimiter as ','\u001b[0m\n",
      "\u001b[35m[2021-07-14:10:34:56:INFO] Determined delimiter of CSV input is ','\u001b[0m\n",
      "\u001b[35m[2021-07-14:10:34:56:INFO] Sniff delimiter as ','\u001b[0m\n",
      "\u001b[34m[2021-07-14:10:34:56:INFO] Determined delimiter of CSV input is ','\u001b[0m\n",
      "\u001b[35m[2021-07-14:10:34:56:INFO] Determined delimiter of CSV input is ','\u001b[0m\n",
      "\u001b[34m[2021-07-14:10:34:59:INFO] Sniff delimiter as ','\u001b[0m\n",
      "\u001b[34m[2021-07-14:10:34:59:INFO] Determined delimiter of CSV input is ','\u001b[0m\n",
      "\u001b[34m[2021-07-14:10:35:00:INFO] Sniff delimiter as ','\u001b[0m\n",
      "\u001b[34m[2021-07-14:10:35:00:INFO] Determined delimiter of CSV input is ','\u001b[0m\n",
      "\u001b[35m[2021-07-14:10:34:59:INFO] Sniff delimiter as ','\u001b[0m\n",
      "\u001b[35m[2021-07-14:10:34:59:INFO] Determined delimiter of CSV input is ','\u001b[0m\n",
      "\u001b[35m[2021-07-14:10:35:00:INFO] Sniff delimiter as ','\u001b[0m\n",
      "\u001b[35m[2021-07-14:10:35:00:INFO] Determined delimiter of CSV input is ','\u001b[0m\n",
      "\u001b[34m[2021-07-14:10:35:00:INFO] Sniff delimiter as ','\u001b[0m\n",
      "\u001b[34m[2021-07-14:10:35:00:INFO] Determined delimiter of CSV input is ','\u001b[0m\n",
      "\u001b[34m[2021-07-14:10:35:00:INFO] Sniff delimiter as ','\u001b[0m\n",
      "\u001b[34m[2021-07-14:10:35:00:INFO] Determined delimiter of CSV input is ','\u001b[0m\n",
      "\u001b[35m[2021-07-14:10:35:00:INFO] Sniff delimiter as ','\u001b[0m\n",
      "\u001b[35m[2021-07-14:10:35:00:INFO] Determined delimiter of CSV input is ','\u001b[0m\n",
      "\u001b[35m[2021-07-14:10:35:00:INFO] Sniff delimiter as ','\u001b[0m\n",
      "\u001b[35m[2021-07-14:10:35:00:INFO] Determined delimiter of CSV input is ','\u001b[0m\n"
     ]
    }
   ],
   "source": [
    "xgb_transformer.wait()"
   ]
  },
  {
   "cell_type": "markdown",
   "metadata": {},
   "source": [
    "Now the transform job has executed and the result, the estimated sentiment of each review, has been saved on S3. Since we would rather work on this file locally we can perform a bit of notebook magic to copy the file to the `data_dir`."
   ]
  },
  {
   "cell_type": "code",
   "execution_count": 41,
   "metadata": {},
   "outputs": [
    {
     "name": "stdout",
     "output_type": "stream",
     "text": [
      "download: s3://sagemaker-us-east-2-300223538730/xgboost-210714-1003-008-7831be66-2021-07-14-10-29-30-164/test.csv.out to ../data/xgboost/test.csv.out\r\n"
     ]
    }
   ],
   "source": [
    "!aws s3 cp --recursive $xgb_transformer.output_path $data_dir"
   ]
  },
  {
   "cell_type": "markdown",
   "metadata": {},
   "source": [
    "The last step is now to read in the output from our model, convert the output to something a little more usable, in this case we want the sentiment to be either `1` (positive) or `0` (negative), and then compare to the ground truth labels."
   ]
  },
  {
   "cell_type": "code",
   "execution_count": 42,
   "metadata": {},
   "outputs": [],
   "source": [
    "predictions = pd.read_csv(os.path.join(data_dir, 'test.csv.out'), header=None)\n",
    "predictions = [round(num) for num in predictions.squeeze().values]"
   ]
  },
  {
   "cell_type": "code",
   "execution_count": 43,
   "metadata": {},
   "outputs": [
    {
     "data": {
      "text/plain": [
       "0.86372"
      ]
     },
     "execution_count": 43,
     "metadata": {},
     "output_type": "execute_result"
    }
   ],
   "source": [
    "from sklearn.metrics import accuracy_score\n",
    "accuracy_score(test_y, predictions)"
   ]
  },
  {
   "cell_type": "markdown",
   "metadata": {},
   "source": [
    "## Optional: Clean up\n",
    "\n",
    "The default notebook instance on SageMaker doesn't have a lot of excess disk space available. As you continue to complete and execute notebooks you will eventually fill up this disk space, leading to errors which can be difficult to diagnose. Once you are completely finished using a notebook it is a good idea to remove the files that you created along the way. Of course, you can do this from the terminal or from the notebook hub if you would like. The cell below contains some commands to clean up the created files from within the notebook."
   ]
  },
  {
   "cell_type": "code",
   "execution_count": 44,
   "metadata": {},
   "outputs": [],
   "source": [
    "# First we will remove all of the files contained in the data_dir directory\n",
    "!rm $data_dir/*\n",
    "\n",
    "# And then we delete the directory itself\n",
    "!rmdir $data_dir\n",
    "\n",
    "# Similarly we will remove the files in the cache_dir directory and the directory itself\n",
    "!rm $cache_dir/*\n",
    "!rmdir $cache_dir"
   ]
  },
  {
   "cell_type": "code",
   "execution_count": null,
   "metadata": {},
   "outputs": [],
   "source": []
  }
 ],
 "metadata": {
  "kernelspec": {
   "display_name": "conda_python3",
   "language": "python",
   "name": "conda_python3"
  },
  "language_info": {
   "codemirror_mode": {
    "name": "ipython",
    "version": 3
   },
   "file_extension": ".py",
   "mimetype": "text/x-python",
   "name": "python",
   "nbconvert_exporter": "python",
   "pygments_lexer": "ipython3",
   "version": "3.6.13"
  }
 },
 "nbformat": 4,
 "nbformat_minor": 2
}
